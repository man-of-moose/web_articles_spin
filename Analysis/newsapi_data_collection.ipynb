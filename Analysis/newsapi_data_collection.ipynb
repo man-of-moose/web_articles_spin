{
 "cells": [
  {
   "cell_type": "markdown",
   "metadata": {},
   "source": [
    "# Import Libraries"
   ]
  },
  {
   "cell_type": "code",
   "execution_count": 1,
   "metadata": {},
   "outputs": [
    {
     "name": "stderr",
     "output_type": "stream",
     "text": [
      "[nltk_data] Downloading package punkt to\n",
      "[nltk_data]     /Users/alecmccabe/nltk_data...\n",
      "[nltk_data]   Package punkt is already up-to-date!\n"
     ]
    },
    {
     "data": {
      "text/plain": [
       "True"
      ]
     },
     "execution_count": 1,
     "metadata": {},
     "output_type": "execute_result"
    }
   ],
   "source": [
    "from GoogleNews import GoogleNews\n",
    "from newspaper import Article\n",
    "from newspaper import Config\n",
    "import pandas as pd\n",
    "import nltk\n",
    "import pandas as pd\n",
    "import numpy as np\n",
    "import matplotlib.pyplot as plt\n",
    "import requests\n",
    "nltk.download('punkt')"
   ]
  },
  {
   "cell_type": "markdown",
   "metadata": {},
   "source": [
    "**Set Config**"
   ]
  },
  {
   "cell_type": "markdown",
   "metadata": {},
   "source": [
    "config will allow us to access the specified url for which we are #not authorized. Sometimes we may get 403 client error while parsing #the link to download the article."
   ]
  },
  {
   "cell_type": "code",
   "execution_count": 3,
   "metadata": {},
   "outputs": [],
   "source": [
    "user_agent = 'Mozilla/5.0 (Macintosh; Intel Mac OS X 10_11_5) AppleWebKit/537.36 (KHTML, like Gecko) Chrome/50.0.2661.102 Safari/537.36'\n",
    "config = Config()\n",
    "config.browser_user_agent = user_agent"
   ]
  },
  {
   "cell_type": "markdown",
   "metadata": {},
   "source": [
    "**Set Targets by Outlet**\n",
    "- outlets selected using allsides.com, a crowdsourced media political ranking system"
   ]
  },
  {
   "cell_type": "code",
   "execution_count": 4,
   "metadata": {},
   "outputs": [],
   "source": [
    "far_right = ['breitbart-news','national-review']\n",
    "\n",
    "right = ['fox-news','the-american-conservative','the-washington-times','the-wall-street-journal']\n",
    "\n",
    "center = ['associated-press','axios','bbc-news','national-geographic','reuters','business-insider','fortune','the-hill']\n",
    "\n",
    "left = ['abc-news','al-jazeera-english','bloomberg','business-insider','cbs-news','cnn','google-news','independent',\n",
    "       'nbc-news','politico','time']\n",
    "\n",
    "far_left = ['buzzfeed','mashable','msnbc','new-york-magazine','vice-news']"
   ]
  },
  {
   "cell_type": "code",
   "execution_count": 5,
   "metadata": {},
   "outputs": [],
   "source": [
    "master_key = 'a30b2d04fd3c4d6aa0863cffa772c05b'"
   ]
  },
  {
   "cell_type": "markdown",
   "metadata": {},
   "source": [
    "**NewsApi allows me to download URLs for above outlets**"
   ]
  },
  {
   "cell_type": "code",
   "execution_count": 6,
   "metadata": {},
   "outputs": [],
   "source": [
    "from newsapi import NewsApiClient\n",
    "\n",
    "# Init\n",
    "master = NewsApiClient(api_key=master_key)"
   ]
  },
  {
   "cell_type": "code",
   "execution_count": 8,
   "metadata": {},
   "outputs": [
    {
     "data": {
      "text/plain": [
       "[('abc-news', 'ABC News'),\n",
       " ('abc-news-au', 'ABC News (AU)'),\n",
       " ('aftenposten', 'Aftenposten'),\n",
       " ('al-jazeera-english', 'Al Jazeera English'),\n",
       " ('ansa', 'ANSA.it'),\n",
       " ('argaam', 'Argaam'),\n",
       " ('ars-technica', 'Ars Technica'),\n",
       " ('ary-news', 'Ary News'),\n",
       " ('associated-press', 'Associated Press'),\n",
       " ('australian-financial-review', 'Australian Financial Review'),\n",
       " ('axios', 'Axios'),\n",
       " ('bbc-news', 'BBC News'),\n",
       " ('bbc-sport', 'BBC Sport'),\n",
       " ('bild', 'Bild'),\n",
       " ('blasting-news-br', 'Blasting News (BR)'),\n",
       " ('bleacher-report', 'Bleacher Report'),\n",
       " ('bloomberg', 'Bloomberg'),\n",
       " ('breitbart-news', 'Breitbart News'),\n",
       " ('business-insider', 'Business Insider'),\n",
       " ('business-insider-uk', 'Business Insider (UK)'),\n",
       " ('buzzfeed', 'Buzzfeed'),\n",
       " ('cbc-news', 'CBC News'),\n",
       " ('cbs-news', 'CBS News'),\n",
       " ('cnn', 'CNN'),\n",
       " ('cnn-es', 'CNN Spanish'),\n",
       " ('crypto-coins-news', 'Crypto Coins News'),\n",
       " ('der-tagesspiegel', 'Der Tagesspiegel'),\n",
       " ('die-zeit', 'Die Zeit'),\n",
       " ('el-mundo', 'El Mundo'),\n",
       " ('engadget', 'Engadget'),\n",
       " ('entertainment-weekly', 'Entertainment Weekly'),\n",
       " ('espn', 'ESPN'),\n",
       " ('espn-cric-info', 'ESPN Cric Info'),\n",
       " ('financial-post', 'Financial Post'),\n",
       " ('focus', 'Focus'),\n",
       " ('football-italia', 'Football Italia'),\n",
       " ('fortune', 'Fortune'),\n",
       " ('four-four-two', 'FourFourTwo'),\n",
       " ('fox-news', 'Fox News'),\n",
       " ('fox-sports', 'Fox Sports'),\n",
       " ('globo', 'Globo'),\n",
       " ('google-news', 'Google News'),\n",
       " ('google-news-ar', 'Google News (Argentina)'),\n",
       " ('google-news-au', 'Google News (Australia)'),\n",
       " ('google-news-br', 'Google News (Brasil)'),\n",
       " ('google-news-ca', 'Google News (Canada)'),\n",
       " ('google-news-fr', 'Google News (France)'),\n",
       " ('google-news-in', 'Google News (India)'),\n",
       " ('google-news-is', 'Google News (Israel)'),\n",
       " ('google-news-it', 'Google News (Italy)'),\n",
       " ('google-news-ru', 'Google News (Russia)'),\n",
       " ('google-news-sa', 'Google News (Saudi Arabia)'),\n",
       " ('google-news-uk', 'Google News (UK)'),\n",
       " ('goteborgs-posten', 'Göteborgs-Posten'),\n",
       " ('gruenderszene', 'Gruenderszene'),\n",
       " ('hacker-news', 'Hacker News'),\n",
       " ('handelsblatt', 'Handelsblatt'),\n",
       " ('ign', 'IGN'),\n",
       " ('il-sole-24-ore', 'Il Sole 24 Ore'),\n",
       " ('independent', 'Independent'),\n",
       " ('infobae', 'Infobae'),\n",
       " ('info-money', 'InfoMoney'),\n",
       " ('la-gaceta', 'La Gaceta'),\n",
       " ('la-nacion', 'La Nacion'),\n",
       " ('la-repubblica', 'La Repubblica'),\n",
       " ('le-monde', 'Le Monde'),\n",
       " ('lenta', 'Lenta'),\n",
       " ('lequipe', \"L'equipe\"),\n",
       " ('les-echos', 'Les Echos'),\n",
       " ('liberation', 'Libération'),\n",
       " ('marca', 'Marca'),\n",
       " ('mashable', 'Mashable'),\n",
       " ('medical-news-today', 'Medical News Today'),\n",
       " ('msnbc', 'MSNBC'),\n",
       " ('mtv-news', 'MTV News'),\n",
       " ('mtv-news-uk', 'MTV News (UK)'),\n",
       " ('national-geographic', 'National Geographic'),\n",
       " ('national-review', 'National Review'),\n",
       " ('nbc-news', 'NBC News'),\n",
       " ('news24', 'News24'),\n",
       " ('new-scientist', 'New Scientist'),\n",
       " ('news-com-au', 'News.com.au'),\n",
       " ('newsweek', 'Newsweek'),\n",
       " ('new-york-magazine', 'New York Magazine'),\n",
       " ('next-big-future', 'Next Big Future'),\n",
       " ('nfl-news', 'NFL News'),\n",
       " ('nhl-news', 'NHL News'),\n",
       " ('nrk', 'NRK'),\n",
       " ('politico', 'Politico'),\n",
       " ('polygon', 'Polygon'),\n",
       " ('rbc', 'RBC'),\n",
       " ('recode', 'Recode'),\n",
       " ('reddit-r-all', 'Reddit /r/all'),\n",
       " ('reuters', 'Reuters'),\n",
       " ('rt', 'RT'),\n",
       " ('rte', 'RTE'),\n",
       " ('rtl-nieuws', 'RTL Nieuws'),\n",
       " ('sabq', 'SABQ'),\n",
       " ('spiegel-online', 'Spiegel Online'),\n",
       " ('svenska-dagbladet', 'Svenska Dagbladet'),\n",
       " ('t3n', 'T3n'),\n",
       " ('talksport', 'TalkSport'),\n",
       " ('techcrunch', 'TechCrunch'),\n",
       " ('techcrunch-cn', 'TechCrunch (CN)'),\n",
       " ('techradar', 'TechRadar'),\n",
       " ('the-american-conservative', 'The American Conservative'),\n",
       " ('the-globe-and-mail', 'The Globe And Mail'),\n",
       " ('the-hill', 'The Hill'),\n",
       " ('the-hindu', 'The Hindu'),\n",
       " ('the-huffington-post', 'The Huffington Post'),\n",
       " ('the-irish-times', 'The Irish Times'),\n",
       " ('the-jerusalem-post', 'The Jerusalem Post'),\n",
       " ('the-lad-bible', 'The Lad Bible'),\n",
       " ('the-next-web', 'The Next Web'),\n",
       " ('the-sport-bible', 'The Sport Bible'),\n",
       " ('the-times-of-india', 'The Times of India'),\n",
       " ('the-verge', 'The Verge'),\n",
       " ('the-wall-street-journal', 'The Wall Street Journal'),\n",
       " ('the-washington-post', 'The Washington Post'),\n",
       " ('the-washington-times', 'The Washington Times'),\n",
       " ('time', 'Time'),\n",
       " ('usa-today', 'USA Today'),\n",
       " ('vice-news', 'Vice News'),\n",
       " ('wired', 'Wired'),\n",
       " ('wired-de', 'Wired.de'),\n",
       " ('wirtschafts-woche', 'Wirtschafts Woche'),\n",
       " ('xinhua-net', 'Xinhua Net'),\n",
       " ('ynet', 'Ynet')]"
      ]
     },
     "execution_count": 8,
     "metadata": {},
     "output_type": "execute_result"
    }
   ],
   "source": [
    "[(source['id'], source['name']) for source in master.get_sources()['sources']]"
   ]
  },
  {
   "cell_type": "code",
   "execution_count": 93,
   "metadata": {},
   "outputs": [],
   "source": [
    "news_list = master.get_everything(q='coronavirus',\n",
    "                                    sources='fox-news',\n",
    "                                    language='en',\n",
    "                                    sort_by='relevancy',\n",
    "                                    from_param= '2020-09-01',\n",
    "                                    to = '2020-09-31',\n",
    "                                    page_size=2,\n",
    "                                    page=1)\n",
    "\n",
    "articles = news_list['articles']"
   ]
  },
  {
   "cell_type": "code",
   "execution_count": 96,
   "metadata": {},
   "outputs": [],
   "source": [
    "test = pd.DataFrame(articles)"
   ]
  },
  {
   "cell_type": "markdown",
   "metadata": {},
   "source": [
    "# Begin Collecting URLs"
   ]
  },
  {
   "cell_type": "code",
   "execution_count": 9,
   "metadata": {},
   "outputs": [],
   "source": [
    "def generate_news(sources, newsapi, from_date, to_date, leanings, dataframe=None):\n",
    "    if type(dataframe) != type(None):\n",
    "        data = dataframe\n",
    "        print('provided dataframe')\n",
    "    else:\n",
    "        data = pd.DataFrame(columns=['source','author','title','description','url','urlToImage',\n",
    "                                     'publishedAt','content','target'])\n",
    "        print('no provided dataframe')\n",
    "    \n",
    "    for source in sources:\n",
    "        try:\n",
    "            print('looking for {}'.format(source))\n",
    "            for i in range(1,25):\n",
    "                try:\n",
    "                    news_list = newsapi.get_everything(q='coronavirus',\n",
    "                                                       sources=source,\n",
    "                                                       language='en',\n",
    "                                                       sort_by='relevancy',\n",
    "                                                       from_param= from_date,\n",
    "                                                       to = to_date,\n",
    "                                                       page_size=100,\n",
    "                                                       page=i)\n",
    "\n",
    "                    articles = news_list['articles']\n",
    "                    temp = pd.DataFrame(articles)\n",
    "                    temp['target'] = leanings\n",
    "                    temp['source'] = temp['source'].map(lambda x: x['id'])\n",
    "                    temp['publishedAt'] = pd.to_datetime(temp['publishedAt'])\n",
    "                    temp['month'] = temp['publishedAt'].map(lambda x: x.month)\n",
    "                    data = pd.concat([data,temp])\n",
    "                except:\n",
    "                    pass\n",
    "        except:\n",
    "            pass\n",
    "    \n",
    "    data = data.reset_index(drop=True)\n",
    "    \n",
    "    return data"
   ]
  },
  {
   "cell_type": "code",
   "execution_count": 10,
   "metadata": {},
   "outputs": [
    {
     "name": "stdout",
     "output_type": "stream",
     "text": [
      "no provided dataframe\n",
      "looking for buzzfeed\n",
      "looking for mashable\n",
      "looking for msnbc\n",
      "looking for new-york-magazine\n",
      "looking for vice-news\n"
     ]
    }
   ],
   "source": [
    "add_far_left = generate_news(sources = far_left, newsapi = master, \n",
    "                            from_date = '2020-03-01', to_date = '2020-09-31',\n",
    "                            leanings = 'far_left', dataframe = None)"
   ]
  },
  {
   "cell_type": "code",
   "execution_count": 11,
   "metadata": {},
   "outputs": [
    {
     "name": "stdout",
     "output_type": "stream",
     "text": [
      "provided dataframe\n",
      "looking for abc-news\n",
      "looking for al-jazeera-english\n",
      "looking for bloomberg\n",
      "looking for business-insider\n",
      "looking for cbs-news\n",
      "looking for cnn\n",
      "looking for google-news\n",
      "looking for independent\n",
      "looking for nbc-news\n",
      "looking for politico\n",
      "looking for time\n"
     ]
    }
   ],
   "source": [
    "add_left = generate_news(sources = left, newsapi = master, \n",
    "                            from_date = '2020-03-01', to_date = '2020-09-31',\n",
    "                            leanings = 'left', dataframe = add_far_left)"
   ]
  },
  {
   "cell_type": "code",
   "execution_count": 12,
   "metadata": {},
   "outputs": [
    {
     "name": "stdout",
     "output_type": "stream",
     "text": [
      "provided dataframe\n",
      "looking for associated-press\n",
      "looking for axios\n",
      "looking for bbc-news\n",
      "looking for national-geographic\n",
      "looking for reuters\n",
      "looking for business-insider\n",
      "looking for fortune\n",
      "looking for the-hill\n"
     ]
    }
   ],
   "source": [
    "add_center = generate_news(sources = center, newsapi = master, \n",
    "                            from_date = '2020-03-01', to_date = '2020-09-31',\n",
    "                            leanings = 'center', dataframe = add_left)"
   ]
  },
  {
   "cell_type": "code",
   "execution_count": 13,
   "metadata": {
    "scrolled": true
   },
   "outputs": [
    {
     "name": "stdout",
     "output_type": "stream",
     "text": [
      "provided dataframe\n",
      "looking for fox-news\n",
      "looking for the-american-conservative\n",
      "looking for the-washington-times\n",
      "looking for the-wall-street-journal\n"
     ]
    }
   ],
   "source": [
    "add_right = generate_news(sources = right, newsapi = master, \n",
    "                            from_date = '2020-03-01', to_date = '2020-09-31',\n",
    "                            leanings = 'right', dataframe = add_center)"
   ]
  },
  {
   "cell_type": "code",
   "execution_count": 16,
   "metadata": {},
   "outputs": [
    {
     "name": "stdout",
     "output_type": "stream",
     "text": [
      "provided dataframe\n",
      "looking for breitbart-news\n",
      "looking for national-review\n"
     ]
    }
   ],
   "source": [
    "add_far_right = generate_news(sources = far_right, newsapi = master, \n",
    "                            from_date = '2020-03-01', to_date = '2020-09-31',\n",
    "                            leanings = 'far_right', dataframe = add_right)"
   ]
  },
  {
   "cell_type": "code",
   "execution_count": 18,
   "metadata": {},
   "outputs": [],
   "source": [
    "final_df = add_far_right"
   ]
  },
  {
   "cell_type": "code",
   "execution_count": 19,
   "metadata": {},
   "outputs": [
    {
     "data": {
      "text/plain": [
       "left         26400\n",
       "center       15942\n",
       "far_left      8770\n",
       "right         5272\n",
       "far_right     3491\n",
       "Name: target, dtype: int64"
      ]
     },
     "execution_count": 19,
     "metadata": {},
     "output_type": "execute_result"
    }
   ],
   "source": [
    "final_df.target.value_counts()"
   ]
  },
  {
   "cell_type": "code",
   "execution_count": 21,
   "metadata": {},
   "outputs": [],
   "source": [
    "final_df['publishedAt'] = pd.to_datetime(final_df['publishedAt'])"
   ]
  },
  {
   "cell_type": "code",
   "execution_count": 22,
   "metadata": {},
   "outputs": [],
   "source": [
    "final_df['month'] = final_df['publishedAt'].map(lambda x: x.month)"
   ]
  },
  {
   "cell_type": "code",
   "execution_count": 23,
   "metadata": {},
   "outputs": [
    {
     "data": {
      "text/plain": [
       "4     10521\n",
       "3      9727\n",
       "5      8418\n",
       "10     7979\n",
       "7      6115\n",
       "9      5882\n",
       "8      5518\n",
       "6      5029\n",
       "11      686\n",
       "Name: month, dtype: int64"
      ]
     },
     "execution_count": 23,
     "metadata": {},
     "output_type": "execute_result"
    }
   ],
   "source": [
    "final_df.month.value_counts()"
   ]
  },
  {
   "cell_type": "code",
   "execution_count": 24,
   "metadata": {},
   "outputs": [
    {
     "data": {
      "text/plain": [
       "business-insider             4800\n",
       "politico                     2400\n",
       "independent                  2400\n",
       "cbs-news                     2400\n",
       "abc-news                     2400\n",
       "bbc-news                     2400\n",
       "associated-press             2400\n",
       "fox-news                     2400\n",
       "breitbart-news               2400\n",
       "msnbc                        2400\n",
       "google-news                  2400\n",
       "the-hill                     2400\n",
       "vice-news                    2400\n",
       "the-wall-street-journal      2400\n",
       "nbc-news                     2400\n",
       "al-jazeera-english           2400\n",
       "time                         2400\n",
       "bloomberg                    2400\n",
       "cnn                          2400\n",
       "reuters                      2400\n",
       "axios                        2400\n",
       "mashable                     2090\n",
       "fortune                      1524\n",
       "new-york-magazine            1257\n",
       "national-review              1091\n",
       "buzzfeed                      623\n",
       "the-american-conservative     300\n",
       "the-washington-times          172\n",
       "national-geographic            18\n",
       "Name: source, dtype: int64"
      ]
     },
     "execution_count": 24,
     "metadata": {},
     "output_type": "execute_result"
    }
   ],
   "source": [
    "final_df.source.value_counts()"
   ]
  },
  {
   "cell_type": "code",
   "execution_count": 4,
   "metadata": {},
   "outputs": [],
   "source": [
    "def get_full_text(url):\n",
    "    try:\n",
    "        article = Article(url)\n",
    "        article.download()\n",
    "        article.parse()\n",
    "        article.nlp()\n",
    "\n",
    "        title = article.title\n",
    "        text = article.text\n",
    "        full_text = article.title + \" \" + article.text\n",
    "        \n",
    "        return full_text\n",
    "    \n",
    "    except:\n",
    "        return '401 Error'"
   ]
  },
  {
   "cell_type": "code",
   "execution_count": 5,
   "metadata": {},
   "outputs": [
    {
     "data": {
      "text/plain": [
       "'Covid vaccine: First \\'milestone\\' vaccine offers 90% protection Covid vaccine: First \\'milestone\\' vaccine offers 90% protection By James Gallagher\\n\\nHealth and science correspondent Published duration 1 day ago Related Topics Coronavirus pandemic\\n\\nimage copyright Getty Images\\n\\nThe first effective coronavirus vaccine can prevent more than 90% of people from getting Covid-19, a preliminary analysis shows.\\n\\nThe developers - Pfizer and BioNTech - described it as a \"great day for science and humanity\".\\n\\nTheir vaccine has been tested on 43,500 people in six countries and no safety concerns have been raised.\\n\\nThe companies plan to apply for emergency approval to use the vaccine by the end of the month.\\n\\nNo vaccine has gone from the drawing board to being proven highly effective in such a short period of time.\\n\\nThere are still huge challenges ahead, but the announcement has been warmly welcomed with scientists describing themselves smiling \"ear to ear\" and some suggesting life could be back to normal by spring.\\n\\n\"I am probably the first guy to say that, but I will say that with some confidence,\" said Sir John Bell, regius professor of medicine at Oxford University.\\n\\nHow effective could it be?\\n\\nA vaccine - alongside better treatments - is seen as the best way of getting out of the restrictions that have been imposed on all our lives.\\n\\nThe data shows that two doses, three weeks apart, are needed. The trials - in US, Germany, Brazil, Argentina, South Africa and Turkey - show 90% protection is achieved seven days after the second dose.\\n\\nHowever, the data presented is not the final analysis as it is based on only the first 94 volunteers to develop Covid so the precise effectiveness of the vaccine may change when the full results are analysed.\\n\\nDr Albert Bourla, the chairman of Pfizer, said: \"We are a significant step closer to providing people around the world with a much-needed breakthrough to help bring an end to this global health crisis.\"\\n\\nProf Ugur Sahin, one of the founders of BioNTech, described the results as a \"milestone\".\\n\\nmedia caption Sarah Montague reacted with excitement upon hearing Professor Bell\\'s views on the significance of today\\'s vaccine news\\n\\nWhen will the vaccine be available?\\n\\nA limited number of people may get the vaccine this year.\\n\\nPfizer and BioNTech say they will have enough safety data by the third week of November to take their vaccine to regulators.\\n\\nUntil it has been approved it will not be possible for countries to begin their vaccination campaigns.\\n\\nThe two companies say they will be able to supply 50 million doses by the end of this year and around 1.3 billion by the end of 2021. Each person needs two doses.\\n\\nThe UK should get 10 million doses by the end of the year, with a further 30 million doses already ordered.\\n\\nWho would get it?\\n\\nNot everyone will get the vaccine straight away and countries are each deciding who should be prioritised.\\n\\nHospital staff and care home workers will be near the top of every list because of the vulnerable people they work with, as will the elderly who are most at risk of severe disease.\\n\\nThe UK is likely to prioritise older resident in care homes and the people that work there.\\n\\nBut it says a final decision has not been made, saying it will depend on how well the vaccine works in different age-groups and how the virus is spreading.\\n\\nPeople under 50 and with no medical problems are likely to be last in the queue.\\n\\nAre there any potential problems?\\n\\nThere are still many unanswered questions as this is only interim data.\\n\\nWe do not know if the vaccine stops you spreading the virus or just from developing symptoms. Or if it works equally well in high-risk elderly people.\\n\\nThe biggest question - how long does immunity last - will take months or potentially years to answer.\\n\\nThere are also massive manufacturing and logistical challenges in immunising huge numbers of people, as the vaccine has to be kept in ultra-cold storage at below minus 80C.\\n\\nThe vaccine appears safe from the large trials so far but nothing, including paracetamol, is 100% safe.\\n\\nHow does it work?\\n\\nThere are around a dozen vaccines in the final stages of testing - known as a phase 3 trial - but this is the first to show any results.\\n\\nIt uses a completely experimental approach - that involves injecting part of the virus\\'s genetic code - in order to train the immune system.\\n\\nPrevious trials have shown the vaccine trains the body to make both antibodies - and another part of the immune system called T-cells to fight the coronavirus.\\n\\nWhat has the reaction been?\\n\\nThe UK\\'s chief medical advisor Prof Chris Whitty said the results showed the \"power of science\" and was a \"reason for optimism\" for 2021.\\n\\nPreliminary news that the Pfizer/BioNTech vaccine is effective demonstrates the power of science against COVID. We must see the final safety and efficacy data, but it is very encouraging.\\n\\n\\n\\nIt is essential we continue to suppress COVID, but it is a reason for optimism for 2021. — Professor Chris Whitty (@CMO_England) November 9, 2020\\n\\nThe US president-elect Joe Biden said it was \"excellent news\".\\n\\n\"It is also important to understand that the end of the battle against Covid-19 is still months away,\" he added.\\n\\nThe UK Prime Minister\\'s official spokesman said the results were \"promising\" and that \"the NHS stands ready to begin a vaccination programme for those most at risk once a Covid-19 vaccine is available\".\\n\\nProf Peter Horby, from the University of Oxford, said: \"This news made me smile from ear to ear.\\n\\n\"It is a relief... there is a long long way to go before vaccines will start to make a real difference, but this feels to me like a watershed moment.\"'"
      ]
     },
     "execution_count": 5,
     "metadata": {},
     "output_type": "execute_result"
    }
   ],
   "source": [
    "get_full_text('https://www.bbc.com/news/health-54873105')"
   ]
  },
  {
   "cell_type": "code",
   "execution_count": 26,
   "metadata": {},
   "outputs": [],
   "source": [
    "def get_full_text(url):\n",
    "    try:\n",
    "        article = Article(url)\n",
    "        article.download()\n",
    "        article.parse()\n",
    "        article.nlp()\n",
    "\n",
    "        return article.text\n",
    "    \n",
    "    except:\n",
    "        return '401 Error'"
   ]
  },
  {
   "cell_type": "code",
   "execution_count": 28,
   "metadata": {},
   "outputs": [
    {
     "name": "stderr",
     "output_type": "stream",
     "text": [
      "/Users/alecmccabe/opt/anaconda3/lib/python3.8/site-packages/tqdm/std.py:668: FutureWarning: The Panel class is removed from pandas. Accessing it from the top-level namespace will also be removed in the next version\n",
      "  from pandas import Panel\n"
     ]
    }
   ],
   "source": [
    "from tqdm import tqdm\n",
    "tqdm.pandas()"
   ]
  },
  {
   "cell_type": "code",
   "execution_count": 29,
   "metadata": {},
   "outputs": [
    {
     "data": {
      "text/plain": [
       "left         26400\n",
       "center       15942\n",
       "far_left      8770\n",
       "right         5272\n",
       "far_right     3491\n",
       "Name: target, dtype: int64"
      ]
     },
     "execution_count": 29,
     "metadata": {},
     "output_type": "execute_result"
    }
   ],
   "source": [
    "final_df.target.value_counts()"
   ]
  },
  {
   "cell_type": "markdown",
   "metadata": {},
   "source": [
    "**Using Newspaper3k library to scrape full article content from NewsApi URLs**\n",
    "- Please notice that this took over 14 hours to run"
   ]
  },
  {
   "cell_type": "code",
   "execution_count": 30,
   "metadata": {},
   "outputs": [
    {
     "name": "stderr",
     "output_type": "stream",
     "text": [
      " 42%|████▏     | 25179/59875 [6:20:28<20:23:19,  2.12s/it]/Users/alecmccabe/opt/anaconda3/lib/python3.8/site-packages/dateutil/parser/_parser.py:1213: UnknownTimezoneWarning: tzname IST identified but not understood.  Pass `tzinfos` argument in order to correctly return a timezone-aware datetime.  In a future version, this will raise an exception.\n",
      "  warnings.warn(\"tzname {tzname} identified but not understood.  \"\n",
      "100%|██████████| 59875/59875 [14:46:32<00:00,  1.13it/s]   \n"
     ]
    }
   ],
   "source": [
    "final_df['full_text'] = final_df['url'].progress_apply(get_full_text)"
   ]
  },
  {
   "cell_type": "code",
   "execution_count": 32,
   "metadata": {},
   "outputs": [],
   "source": [
    "final_df.to_csv('initial_data2.csv')"
   ]
  }
 ],
 "metadata": {
  "kernelspec": {
   "display_name": "Python 3",
   "language": "python",
   "name": "python3"
  },
  "language_info": {
   "codemirror_mode": {
    "name": "ipython",
    "version": 3
   },
   "file_extension": ".py",
   "mimetype": "text/x-python",
   "name": "python",
   "nbconvert_exporter": "python",
   "pygments_lexer": "ipython3",
   "version": "3.8.3"
  }
 },
 "nbformat": 4,
 "nbformat_minor": 4
}
