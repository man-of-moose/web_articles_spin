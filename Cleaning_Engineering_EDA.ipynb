{
 "cells": [
  {
   "cell_type": "code",
   "execution_count": 1,
   "metadata": {
    "scrolled": true
   },
   "outputs": [
    {
     "name": "stderr",
     "output_type": "stream",
     "text": [
      "[nltk_data] Downloading package stopwords to\n",
      "[nltk_data]     /Users/alecmccabe/nltk_data...\n",
      "[nltk_data]   Package stopwords is already up-to-date!\n",
      "[nltk_data] Downloading package punkt to\n",
      "[nltk_data]     /Users/alecmccabe/nltk_data...\n",
      "[nltk_data]   Package punkt is already up-to-date!\n",
      "[nltk_data] Downloading package wordnet to\n",
      "[nltk_data]     /Users/alecmccabe/nltk_data...\n",
      "[nltk_data]   Package wordnet is already up-to-date!\n"
     ]
    },
    {
     "data": {
      "text/plain": [
       "True"
      ]
     },
     "execution_count": 1,
     "metadata": {},
     "output_type": "execute_result"
    }
   ],
   "source": [
    "# Import some libraries that will be used\n",
    "import pandas as pd\n",
    "import numpy as np\n",
    "import matplotlib.pyplot as plt\n",
    "from matplotlib import cm\n",
    "import seaborn as sns\n",
    "\n",
    "pd.set_option('display.max_columns', 300)\n",
    "\n",
    "%matplotlib inline\n",
    "\n",
    "from sklearn.feature_extraction.text import CountVectorizer, TfidfVectorizer, TfidfTransformer\n",
    "from sklearn.metrics import confusion_matrix, accuracy_score, f1_score\n",
    "from sklearn.naive_bayes import MultinomialNB\n",
    "from sklearn.model_selection import train_test_split\n",
    "from sklearn.ensemble import RandomForestClassifier\n",
    "from sklearn.pipeline import Pipeline\n",
    "from sklearn.svm import LinearSVC\n",
    "from sklearn.linear_model import SGDClassifier\n",
    "\n",
    "import nltk\n",
    "from nltk import word_tokenize\n",
    "from nltk.probability import FreqDist\n",
    "from nltk.corpus import stopwords\n",
    "from nltk.stem import PorterStemmer\n",
    "\n",
    "import re\n",
    "import string\n",
    "\n",
    "import scipy\n",
    "from textblob import TextBlob\n",
    "\n",
    "nltk.download('stopwords')\n",
    "nltk.download('punkt')\n",
    "nltk.download('wordnet')"
   ]
  },
  {
   "cell_type": "code",
   "execution_count": 2,
   "metadata": {},
   "outputs": [
    {
     "name": "stderr",
     "output_type": "stream",
     "text": [
      "/Users/alecmccabe/opt/anaconda3/lib/python3.8/site-packages/tqdm/std.py:668: FutureWarning: The Panel class is removed from pandas. Accessing it from the top-level namespace will also be removed in the next version\n",
      "  from pandas import Panel\n"
     ]
    }
   ],
   "source": [
    "from tqdm import tqdm\n",
    "tqdm.pandas()"
   ]
  },
  {
   "cell_type": "code",
   "execution_count": 3,
   "metadata": {},
   "outputs": [],
   "source": [
    "import spacy\n",
    "import en_core_web_sm\n",
    "nlp = en_core_web_sm.load()"
   ]
  },
  {
   "cell_type": "code",
   "execution_count": 4,
   "metadata": {},
   "outputs": [],
   "source": [
    "from nltk.stem import WordNetLemmatizer \n",
    "  \n",
    "lemmatizer = WordNetLemmatizer()"
   ]
  },
  {
   "cell_type": "code",
   "execution_count": 5,
   "metadata": {},
   "outputs": [],
   "source": [
    "#set stopwords and punctuations\n",
    "stopwords = stopwords.words('english')\n",
    "stopwords += list(string.punctuation)\n",
    "stopwords += [\"n't\", \"' '\", \"'re'\",\"”\",\"``\",\"“\",\"''\",\"’\",\"'s\",\"'re\",\"http\",\n",
    "              \"https\",\"char\",\"reuters\",\"wall\",\"street\",\"journal\",\"photo\",\"\\n\"]"
   ]
  },
  {
   "cell_type": "code",
   "execution_count": 6,
   "metadata": {},
   "outputs": [],
   "source": [
    "domain_extensions = ['.com/','.org/','.net/','.co.uk/']\n",
    "\n",
    "def url_subpages(url):\n",
    "    for extension in domain_extensions:\n",
    "        try:\n",
    "            if extension in url:\n",
    "                re_test = re.search(extension,url)\n",
    "                start_pos = re_test.start()+len(extension)\n",
    "                cut = url[start_pos:]\n",
    "\n",
    "                re_test2 = re.search('/',cut)\n",
    "                end_pos = re_test2.start()\n",
    "                cut2 = cut[0:end_pos]\n",
    "\n",
    "                return cut2\n",
    "            else:\n",
    "                pass\n",
    "        except:\n",
    "            return \"no clear section\"\n"
   ]
  },
  {
   "cell_type": "code",
   "execution_count": 7,
   "metadata": {},
   "outputs": [],
   "source": [
    "def black_txt(token):\n",
    "    return  token not in stopwords and token not in list(string.punctuation)  and len(token)>3\n",
    "\n",
    "def clean_txt(text, string = True):\n",
    "    clean_text = []\n",
    "    clean_text2 = []\n",
    "    text = text.lower()\n",
    "    text = re.sub(\"'\", \"\",text)\n",
    "    text = re.sub(\"\\n\", \"\",text)\n",
    "    text = re.sub(\"(\\\\d|\\\\W)+\",\" \",text)\n",
    "    text = re.sub('time magazine','',text)\n",
    "    text = re.sub('breitbart','',text)\n",
    "    text = re.sub('click','',text)\n",
    "    \n",
    "    clean_text = [ lemmatizer.lemmatize(word, pos=\"v\") for word in word_tokenize(text) if black_txt(word)]\n",
    "    clean_text2 = [word for word in clean_text if black_txt(word)]\n",
    "    \n",
    "    if string == True:\n",
    "        return \" \".join(clean_text2)\n",
    "    else:\n",
    "        return clean_text2"
   ]
  },
  {
   "cell_type": "markdown",
   "metadata": {},
   "source": [
    "# Read and Clean"
   ]
  },
  {
   "cell_type": "code",
   "execution_count": 8,
   "metadata": {},
   "outputs": [],
   "source": [
    "#load in data\n",
    "data = pd.read_csv('initial_data2.csv', index_col = 0)\n",
    "data.reset_index(drop=True, inplace=True)\n",
    "data = data.drop_duplicates('url', keep = 'first')\n",
    "data.drop(['urlToImage'],axis=1,inplace=True)"
   ]
  },
  {
   "cell_type": "code",
   "execution_count": 9,
   "metadata": {},
   "outputs": [],
   "source": [
    "conditions = [\n",
    "    (data['content'].isna())\n",
    "]\n",
    "\n",
    "choices = [\n",
    "    (data['description'])\n",
    "]\n",
    "\n",
    "data['content'] = np.select(conditions, choices, data['content'])"
   ]
  },
  {
   "cell_type": "code",
   "execution_count": 10,
   "metadata": {},
   "outputs": [],
   "source": [
    "#drop where description is isna()\n",
    "to_drop = data[data['description'].isna()].index\n",
    "data.drop(to_drop, inplace=True)\n",
    "\n",
    "#drop where title is isna()\n",
    "to_drop = data[data['title'].isna()].index\n",
    "data.drop(to_drop, inplace=True)\n",
    "\n",
    "#drop where target is isna()\n",
    "to_drop = data[data['target'].isna()].index\n",
    "data.drop(to_drop, inplace=True)\n",
    "\n",
    "#drop where publishedAt is isna()\n",
    "to_drop = data[data['publishedAt'].isna()].index\n",
    "data.drop(to_drop, inplace=True)\n",
    "\n",
    "#drop where month is isna()\n",
    "to_drop = data[data['month'].isna()].index\n",
    "data.drop(to_drop, inplace=True)\n",
    "\n",
    "#drop where content is isna()\n",
    "to_drop = data[data['content'].isna()].index\n",
    "data.drop(to_drop, inplace=True)\n",
    "\n",
    "#drop where url is isna()\n",
    "to_drop = data[data['url'].isna()].index\n",
    "data.drop(to_drop, inplace=True)"
   ]
  },
  {
   "cell_type": "code",
   "execution_count": 11,
   "metadata": {},
   "outputs": [],
   "source": [
    "conditions = [\n",
    "    (data['author'].isna())\n",
    "]\n",
    "\n",
    "choices = [\n",
    "    ('unknown')\n",
    "]\n",
    "\n",
    "data['author'] = np.select(conditions, choices, data['author'])"
   ]
  },
  {
   "cell_type": "code",
   "execution_count": 12,
   "metadata": {},
   "outputs": [],
   "source": [
    "data.drop(['description'],axis=1,inplace=True)"
   ]
  },
  {
   "cell_type": "code",
   "execution_count": 13,
   "metadata": {},
   "outputs": [],
   "source": [
    "data=data.dropna()"
   ]
  },
  {
   "cell_type": "code",
   "execution_count": 15,
   "metadata": {},
   "outputs": [],
   "source": [
    "to_drop = data[data['full_text']=='401 Error'].index\n",
    "data.drop(to_drop, inplace=True)"
   ]
  },
  {
   "cell_type": "code",
   "execution_count": 16,
   "metadata": {},
   "outputs": [],
   "source": [
    "data['url_subpages'] = data['url'].apply(url_subpages)"
   ]
  },
  {
   "cell_type": "code",
   "execution_count": 17,
   "metadata": {},
   "outputs": [
    {
     "data": {
      "text/plain": [
       "news                10365\n",
       "no clear section     6805\n",
       "article              3982\n",
       "2020                 3125\n",
       "politics             2140\n",
       "en_us                2137\n",
       "homenews             2019\n",
       "video                1507\n",
       "intelligencer        1247\n",
       "Politics             1151\n",
       "Name: url_subpages, dtype: int64"
      ]
     },
     "execution_count": 17,
     "metadata": {},
     "output_type": "execute_result"
    }
   ],
   "source": [
    "data.url_subpages.value_counts().head(10)"
   ]
  },
  {
   "cell_type": "code",
   "execution_count": 18,
   "metadata": {},
   "outputs": [],
   "source": [
    "data['predictor'] = data['title'] + ' ' + data['full_text']"
   ]
  },
  {
   "cell_type": "code",
   "execution_count": 19,
   "metadata": {},
   "outputs": [
    {
     "name": "stderr",
     "output_type": "stream",
     "text": [
      "100%|██████████| 49274/49274 [00:00<00:00, 495345.75it/s]\n"
     ]
    }
   ],
   "source": [
    "data['pred_len'] = data['predictor'].progress_apply(len)\n",
    "data = data[data['pred_len']<8000]"
   ]
  },
  {
   "cell_type": "markdown",
   "metadata": {},
   "source": [
    "# Feature Engineering"
   ]
  },
  {
   "cell_type": "markdown",
   "metadata": {},
   "source": [
    "**Text Stats**"
   ]
  },
  {
   "cell_type": "code",
   "execution_count": 20,
   "metadata": {},
   "outputs": [],
   "source": [
    "blob = TextBlob((data.predictor[1]))"
   ]
  },
  {
   "cell_type": "code",
   "execution_count": 21,
   "metadata": {},
   "outputs": [],
   "source": [
    "import textacy"
   ]
  },
  {
   "cell_type": "code",
   "execution_count": 22,
   "metadata": {},
   "outputs": [],
   "source": [
    "def get_basic_stat(text):\n",
    "    doc = textacy.make_spacy_doc(text, lang=nlp)\n",
    "    ts = textacy.TextStats(doc)\n",
    "    \n",
    "    basic_stats = {'n_chars': ts.n_chars,\n",
    "                   'n_long_words':ts.n_long_words ,\n",
    "                   'n_monosyllable_words': ts.n_monosyllable_words,\n",
    "                   'n_polysyllable_words': ts.n_polysyllable_words,\n",
    "                   'n_sents': ts.n_sents,\n",
    "                   'n_syllables': ts.n_syllables,\n",
    "                   'n_unique_words': ts.n_unique_words,\n",
    "                   'n_words': ts.n_words}\n",
    "    return  basic_stats"
   ]
  },
  {
   "cell_type": "code",
   "execution_count": 23,
   "metadata": {},
   "outputs": [
    {
     "name": "stderr",
     "output_type": "stream",
     "text": [
      "/Users/alecmccabe/opt/anaconda3/lib/python3.8/site-packages/tqdm/std.py:668: FutureWarning: The Panel class is removed from pandas. Accessing it from the top-level namespace will also be removed in the next version\n",
      "  from pandas import Panel\n",
      "100%|██████████| 45245/45245 [45:39<00:00, 16.52it/s]  \n"
     ]
    }
   ],
   "source": [
    "tqdm.pandas()\n",
    "data['Stats'] = data['predictor'].progress_apply(get_basic_stat)"
   ]
  },
  {
   "cell_type": "code",
   "execution_count": 24,
   "metadata": {},
   "outputs": [],
   "source": [
    "data['n_words'] = data['Stats'].apply(lambda x: x['n_words'])\n",
    "\n",
    "data['n_long_words'] = data['Stats'].apply(lambda x: x['n_long_words'] / x['n_words'])\n",
    "\n",
    "data['n_monosyllable_words'] = data['Stats'].apply(lambda x: x['n_monosyllable_words'] / x['n_words'])\n",
    "\n",
    "data['n_polysyllable_words'] = data['Stats'].apply(lambda x: x['n_polysyllable_words'] / x['n_words'])\n",
    "\n",
    "data['n_unique_words'] = data['Stats'].apply(lambda x: x['n_unique_words'] / x['n_words'])"
   ]
  },
  {
   "cell_type": "code",
   "execution_count": 25,
   "metadata": {},
   "outputs": [],
   "source": [
    "def get_n_words(text):\n",
    "    doc = textacy.make_spacy_doc(text, lang=nlp)\n",
    "    ts = textacy.TextStats(doc)\n",
    "    \n",
    "    return ts.n_words\n"
   ]
  },
  {
   "cell_type": "code",
   "execution_count": 26,
   "metadata": {},
   "outputs": [],
   "source": [
    "def get_n_long_words(text):\n",
    "    doc = textacy.make_spacy_doc(text, lang=nlp)\n",
    "    ts = textacy.TextStats(doc)\n",
    "    \n",
    "    n_words = ts.n_words\n",
    "    \n",
    "    return ts.n_long_words / n_words"
   ]
  },
  {
   "cell_type": "code",
   "execution_count": 27,
   "metadata": {},
   "outputs": [],
   "source": [
    "def get_n_monosyllable_words(text):\n",
    "    doc = textacy.make_spacy_doc(text, lang=nlp)\n",
    "    ts = textacy.TextStats(doc)\n",
    "    \n",
    "    n_words = ts.n_words\n",
    "    \n",
    "    return ts.n_monosyllable_words / n_words"
   ]
  },
  {
   "cell_type": "code",
   "execution_count": 28,
   "metadata": {},
   "outputs": [],
   "source": [
    "def get_n_polysyllable_words(text):\n",
    "    doc = textacy.make_spacy_doc(text, lang=nlp)\n",
    "    ts = textacy.TextStats(doc)\n",
    "    \n",
    "    n_words = ts.n_words\n",
    "    \n",
    "    return ts.n_polysyllable_words / n_words"
   ]
  },
  {
   "cell_type": "code",
   "execution_count": 29,
   "metadata": {},
   "outputs": [],
   "source": [
    "def get_n_unique_words(text):\n",
    "    doc = textacy.make_spacy_doc(text, lang=nlp)\n",
    "    ts = textacy.TextStats(doc)\n",
    "    \n",
    "    n_words = ts.n_words\n",
    "    \n",
    "    return ts.n_unique_words / n_words"
   ]
  },
  {
   "cell_type": "code",
   "execution_count": 30,
   "metadata": {},
   "outputs": [],
   "source": [
    "data = data[data['n_words']>125]"
   ]
  },
  {
   "cell_type": "code",
   "execution_count": 31,
   "metadata": {},
   "outputs": [
    {
     "data": {
      "text/plain": [
       "left         14928\n",
       "center        8511\n",
       "far_left      4920\n",
       "far_right     3179\n",
       "right         2285\n",
       "Name: target, dtype: int64"
      ]
     },
     "execution_count": 31,
     "metadata": {},
     "output_type": "execute_result"
    }
   ],
   "source": [
    "data.target.value_counts()"
   ]
  },
  {
   "cell_type": "markdown",
   "metadata": {},
   "source": [
    "**Textblob and sentiment**"
   ]
  },
  {
   "cell_type": "code",
   "execution_count": 32,
   "metadata": {},
   "outputs": [],
   "source": [
    "def polarity_txt(text):\n",
    "    return TextBlob(text).sentiment[0]"
   ]
  },
  {
   "cell_type": "code",
   "execution_count": 33,
   "metadata": {},
   "outputs": [],
   "source": [
    "def subj_txt(text):\n",
    "    return  TextBlob(text).sentiment[1]"
   ]
  },
  {
   "cell_type": "code",
   "execution_count": 34,
   "metadata": {},
   "outputs": [
    {
     "name": "stderr",
     "output_type": "stream",
     "text": [
      "100%|██████████| 33823/33823 [02:21<00:00, 239.24it/s]\n"
     ]
    },
    {
     "data": {
      "text/html": [
       "<div>\n",
       "<style scoped>\n",
       "    .dataframe tbody tr th:only-of-type {\n",
       "        vertical-align: middle;\n",
       "    }\n",
       "\n",
       "    .dataframe tbody tr th {\n",
       "        vertical-align: top;\n",
       "    }\n",
       "\n",
       "    .dataframe thead th {\n",
       "        text-align: right;\n",
       "    }\n",
       "</style>\n",
       "<table border=\"1\" class=\"dataframe\">\n",
       "  <thead>\n",
       "    <tr style=\"text-align: right;\">\n",
       "      <th></th>\n",
       "      <th>source</th>\n",
       "      <th>author</th>\n",
       "      <th>title</th>\n",
       "      <th>url</th>\n",
       "      <th>publishedAt</th>\n",
       "      <th>content</th>\n",
       "      <th>target</th>\n",
       "      <th>month</th>\n",
       "      <th>full_text</th>\n",
       "      <th>url_subpages</th>\n",
       "      <th>predictor</th>\n",
       "      <th>pred_len</th>\n",
       "      <th>Stats</th>\n",
       "      <th>n_words</th>\n",
       "      <th>n_long_words</th>\n",
       "      <th>n_monosyllable_words</th>\n",
       "      <th>n_polysyllable_words</th>\n",
       "      <th>n_unique_words</th>\n",
       "      <th>polarity</th>\n",
       "    </tr>\n",
       "  </thead>\n",
       "  <tbody>\n",
       "    <tr>\n",
       "      <th>2</th>\n",
       "      <td>buzzfeed</td>\n",
       "      <td>[{\"@type\":\"Person\",\"name\":\"Hannah Ryan\",\"url\":...</td>\n",
       "      <td>Activists Are Using Negative Online Reviews To...</td>\n",
       "      <td>https://www.buzzfeed.com/hannahryan/coronaviru...</td>\n",
       "      <td>2020-04-30 23:20:48+00:00</td>\n",
       "      <td>Abdulla Moradi is one of about 120 people deta...</td>\n",
       "      <td>far_left</td>\n",
       "      <td>4.0</td>\n",
       "      <td>Hotel chains whose facilities have been used f...</td>\n",
       "      <td>hannahryan</td>\n",
       "      <td>Activists Are Using Negative Online Reviews To...</td>\n",
       "      <td>1690</td>\n",
       "      <td>{'n_chars': 1386, 'n_long_words': 79, 'n_monos...</td>\n",
       "      <td>269</td>\n",
       "      <td>0.293680</td>\n",
       "      <td>0.609665</td>\n",
       "      <td>0.118959</td>\n",
       "      <td>0.572491</td>\n",
       "      <td>0.015668</td>\n",
       "    </tr>\n",
       "    <tr>\n",
       "      <th>3</th>\n",
       "      <td>buzzfeed</td>\n",
       "      <td>[{\"@type\":\"Person\",\"name\":\"Gina Rushton\",\"url\"...</td>\n",
       "      <td>If You’re About To Start Full-Time Work, The C...</td>\n",
       "      <td>https://www.buzzfeed.com/ginarushton/coronavir...</td>\n",
       "      <td>2020-04-29 20:06:42+00:00</td>\n",
       "      <td>Young Australians starting their first job in ...</td>\n",
       "      <td>far_left</td>\n",
       "      <td>4.0</td>\n",
       "      <td>Young Australians starting their first job in ...</td>\n",
       "      <td>ginarushton</td>\n",
       "      <td>If You’re About To Start Full-Time Work, The C...</td>\n",
       "      <td>2434</td>\n",
       "      <td>{'n_chars': 1938, 'n_long_words': 79, 'n_monos...</td>\n",
       "      <td>431</td>\n",
       "      <td>0.183295</td>\n",
       "      <td>0.735499</td>\n",
       "      <td>0.085847</td>\n",
       "      <td>0.531323</td>\n",
       "      <td>-0.020759</td>\n",
       "    </tr>\n",
       "  </tbody>\n",
       "</table>\n",
       "</div>"
      ],
      "text/plain": [
       "     source                                             author  \\\n",
       "2  buzzfeed  [{\"@type\":\"Person\",\"name\":\"Hannah Ryan\",\"url\":...   \n",
       "3  buzzfeed  [{\"@type\":\"Person\",\"name\":\"Gina Rushton\",\"url\"...   \n",
       "\n",
       "                                               title  \\\n",
       "2  Activists Are Using Negative Online Reviews To...   \n",
       "3  If You’re About To Start Full-Time Work, The C...   \n",
       "\n",
       "                                                 url  \\\n",
       "2  https://www.buzzfeed.com/hannahryan/coronaviru...   \n",
       "3  https://www.buzzfeed.com/ginarushton/coronavir...   \n",
       "\n",
       "                 publishedAt  \\\n",
       "2  2020-04-30 23:20:48+00:00   \n",
       "3  2020-04-29 20:06:42+00:00   \n",
       "\n",
       "                                             content    target  month  \\\n",
       "2  Abdulla Moradi is one of about 120 people deta...  far_left    4.0   \n",
       "3  Young Australians starting their first job in ...  far_left    4.0   \n",
       "\n",
       "                                           full_text url_subpages  \\\n",
       "2  Hotel chains whose facilities have been used f...   hannahryan   \n",
       "3  Young Australians starting their first job in ...  ginarushton   \n",
       "\n",
       "                                           predictor  pred_len  \\\n",
       "2  Activists Are Using Negative Online Reviews To...      1690   \n",
       "3  If You’re About To Start Full-Time Work, The C...      2434   \n",
       "\n",
       "                                               Stats  n_words  n_long_words  \\\n",
       "2  {'n_chars': 1386, 'n_long_words': 79, 'n_monos...      269      0.293680   \n",
       "3  {'n_chars': 1938, 'n_long_words': 79, 'n_monos...      431      0.183295   \n",
       "\n",
       "   n_monosyllable_words  n_polysyllable_words  n_unique_words  polarity  \n",
       "2              0.609665              0.118959        0.572491  0.015668  \n",
       "3              0.735499              0.085847        0.531323 -0.020759  "
      ]
     },
     "execution_count": 34,
     "metadata": {},
     "output_type": "execute_result"
    }
   ],
   "source": [
    "data['polarity'] = data['predictor'].progress_apply(polarity_txt)\n",
    "data.head(2)"
   ]
  },
  {
   "cell_type": "code",
   "execution_count": 35,
   "metadata": {},
   "outputs": [
    {
     "name": "stderr",
     "output_type": "stream",
     "text": [
      "100%|██████████| 33823/33823 [01:42<00:00, 329.57it/s]\n"
     ]
    },
    {
     "data": {
      "text/html": [
       "<div>\n",
       "<style scoped>\n",
       "    .dataframe tbody tr th:only-of-type {\n",
       "        vertical-align: middle;\n",
       "    }\n",
       "\n",
       "    .dataframe tbody tr th {\n",
       "        vertical-align: top;\n",
       "    }\n",
       "\n",
       "    .dataframe thead th {\n",
       "        text-align: right;\n",
       "    }\n",
       "</style>\n",
       "<table border=\"1\" class=\"dataframe\">\n",
       "  <thead>\n",
       "    <tr style=\"text-align: right;\">\n",
       "      <th></th>\n",
       "      <th>source</th>\n",
       "      <th>author</th>\n",
       "      <th>title</th>\n",
       "      <th>url</th>\n",
       "      <th>publishedAt</th>\n",
       "      <th>content</th>\n",
       "      <th>target</th>\n",
       "      <th>month</th>\n",
       "      <th>full_text</th>\n",
       "      <th>url_subpages</th>\n",
       "      <th>predictor</th>\n",
       "      <th>pred_len</th>\n",
       "      <th>Stats</th>\n",
       "      <th>n_words</th>\n",
       "      <th>n_long_words</th>\n",
       "      <th>n_monosyllable_words</th>\n",
       "      <th>n_polysyllable_words</th>\n",
       "      <th>n_unique_words</th>\n",
       "      <th>polarity</th>\n",
       "      <th>subjectivity</th>\n",
       "    </tr>\n",
       "  </thead>\n",
       "  <tbody>\n",
       "    <tr>\n",
       "      <th>2</th>\n",
       "      <td>buzzfeed</td>\n",
       "      <td>[{\"@type\":\"Person\",\"name\":\"Hannah Ryan\",\"url\":...</td>\n",
       "      <td>Activists Are Using Negative Online Reviews To...</td>\n",
       "      <td>https://www.buzzfeed.com/hannahryan/coronaviru...</td>\n",
       "      <td>2020-04-30 23:20:48+00:00</td>\n",
       "      <td>Abdulla Moradi is one of about 120 people deta...</td>\n",
       "      <td>far_left</td>\n",
       "      <td>4.0</td>\n",
       "      <td>Hotel chains whose facilities have been used f...</td>\n",
       "      <td>hannahryan</td>\n",
       "      <td>Activists Are Using Negative Online Reviews To...</td>\n",
       "      <td>1690</td>\n",
       "      <td>{'n_chars': 1386, 'n_long_words': 79, 'n_monos...</td>\n",
       "      <td>269</td>\n",
       "      <td>0.293680</td>\n",
       "      <td>0.609665</td>\n",
       "      <td>0.118959</td>\n",
       "      <td>0.572491</td>\n",
       "      <td>0.015668</td>\n",
       "      <td>0.355131</td>\n",
       "    </tr>\n",
       "    <tr>\n",
       "      <th>3</th>\n",
       "      <td>buzzfeed</td>\n",
       "      <td>[{\"@type\":\"Person\",\"name\":\"Gina Rushton\",\"url\"...</td>\n",
       "      <td>If You’re About To Start Full-Time Work, The C...</td>\n",
       "      <td>https://www.buzzfeed.com/ginarushton/coronavir...</td>\n",
       "      <td>2020-04-29 20:06:42+00:00</td>\n",
       "      <td>Young Australians starting their first job in ...</td>\n",
       "      <td>far_left</td>\n",
       "      <td>4.0</td>\n",
       "      <td>Young Australians starting their first job in ...</td>\n",
       "      <td>ginarushton</td>\n",
       "      <td>If You’re About To Start Full-Time Work, The C...</td>\n",
       "      <td>2434</td>\n",
       "      <td>{'n_chars': 1938, 'n_long_words': 79, 'n_monos...</td>\n",
       "      <td>431</td>\n",
       "      <td>0.183295</td>\n",
       "      <td>0.735499</td>\n",
       "      <td>0.085847</td>\n",
       "      <td>0.531323</td>\n",
       "      <td>-0.020759</td>\n",
       "      <td>0.294318</td>\n",
       "    </tr>\n",
       "  </tbody>\n",
       "</table>\n",
       "</div>"
      ],
      "text/plain": [
       "     source                                             author  \\\n",
       "2  buzzfeed  [{\"@type\":\"Person\",\"name\":\"Hannah Ryan\",\"url\":...   \n",
       "3  buzzfeed  [{\"@type\":\"Person\",\"name\":\"Gina Rushton\",\"url\"...   \n",
       "\n",
       "                                               title  \\\n",
       "2  Activists Are Using Negative Online Reviews To...   \n",
       "3  If You’re About To Start Full-Time Work, The C...   \n",
       "\n",
       "                                                 url  \\\n",
       "2  https://www.buzzfeed.com/hannahryan/coronaviru...   \n",
       "3  https://www.buzzfeed.com/ginarushton/coronavir...   \n",
       "\n",
       "                 publishedAt  \\\n",
       "2  2020-04-30 23:20:48+00:00   \n",
       "3  2020-04-29 20:06:42+00:00   \n",
       "\n",
       "                                             content    target  month  \\\n",
       "2  Abdulla Moradi is one of about 120 people deta...  far_left    4.0   \n",
       "3  Young Australians starting their first job in ...  far_left    4.0   \n",
       "\n",
       "                                           full_text url_subpages  \\\n",
       "2  Hotel chains whose facilities have been used f...   hannahryan   \n",
       "3  Young Australians starting their first job in ...  ginarushton   \n",
       "\n",
       "                                           predictor  pred_len  \\\n",
       "2  Activists Are Using Negative Online Reviews To...      1690   \n",
       "3  If You’re About To Start Full-Time Work, The C...      2434   \n",
       "\n",
       "                                               Stats  n_words  n_long_words  \\\n",
       "2  {'n_chars': 1386, 'n_long_words': 79, 'n_monos...      269      0.293680   \n",
       "3  {'n_chars': 1938, 'n_long_words': 79, 'n_monos...      431      0.183295   \n",
       "\n",
       "   n_monosyllable_words  n_polysyllable_words  n_unique_words  polarity  \\\n",
       "2              0.609665              0.118959        0.572491  0.015668   \n",
       "3              0.735499              0.085847        0.531323 -0.020759   \n",
       "\n",
       "   subjectivity  \n",
       "2      0.355131  \n",
       "3      0.294318  "
      ]
     },
     "execution_count": 35,
     "metadata": {},
     "output_type": "execute_result"
    }
   ],
   "source": [
    "data['subjectivity'] = data['predictor'].progress_apply(subj_txt)\n",
    "data.head(2)"
   ]
  },
  {
   "cell_type": "markdown",
   "metadata": {},
   "source": [
    "**Readability Indexes**"
   ]
  },
  {
   "cell_type": "code",
   "execution_count": 36,
   "metadata": {},
   "outputs": [],
   "source": [
    "def mean_characters_per(text, group_size):\n",
    "    #mean word length per X words\n",
    "    averages = []\n",
    "    \n",
    "    text_split = text.split(\" \")\n",
    "    length = len(text_split)\n",
    "    i = 0\n",
    "    \n",
    "    while i < length:\n",
    "        values = []\n",
    "        for word in text_split[i:i+group_size]:\n",
    "            values.append(len(word))\n",
    "        if len(values)==group_size:\n",
    "            averages.append(sum(values)/len(values))\n",
    "        else:\n",
    "            pass\n",
    "        i = i + group_size\n",
    "    \n",
    "\n",
    "    return sum(averages)/len(averages)\n",
    "\n",
    "        "
   ]
  },
  {
   "cell_type": "code",
   "execution_count": 37,
   "metadata": {},
   "outputs": [],
   "source": [
    "def mean_sentences_per(text, group_size):\n",
    "    #mean sentences per X words\n",
    "    sentences = []\n",
    "    text_split = text.split(\" \")\n",
    "    length = len(text_split)\n",
    "\n",
    "    i = 0\n",
    "\n",
    "    while i < length:\n",
    "        values = []\n",
    "        for word in text_split[i:i+group_size]:\n",
    "            values.append(word)\n",
    "\n",
    "        sentence_counter = 0\n",
    "        for word in values:\n",
    "            if '.' in word:\n",
    "                sentence_counter += 1\n",
    "        sentences.append(sentence_counter)\n",
    "        i = i + group_size\n",
    "\n",
    "    return sum(sentences)/len(sentences)"
   ]
  },
  {
   "cell_type": "code",
   "execution_count": 38,
   "metadata": {},
   "outputs": [],
   "source": [
    "# Coleman-Liau Index\n",
    "# mccphw: mean character count per hundred words\n",
    "# mscphw: mean sentence count per hundred words\n",
    "def cli(text, group_size):\n",
    "    mccphw = mean_characters_per(text, group_size)\n",
    "    mscphw = mean_sentences_per(text, group_size)\n",
    "    \n",
    "    return (0.0588 * mccphw) - (0.296 * mscphw) - 15.8"
   ]
  },
  {
   "cell_type": "code",
   "execution_count": 41,
   "metadata": {},
   "outputs": [
    {
     "name": "stderr",
     "output_type": "stream",
     "text": [
      "100%|██████████| 33823/33823 [00:02<00:00, 11466.70it/s]\n",
      "100%|██████████| 33823/33823 [00:03<00:00, 11271.06it/s]\n",
      "100%|██████████| 33823/33823 [00:05<00:00, 5924.72it/s]\n"
     ]
    }
   ],
   "source": [
    "data['mccphw'] = data['predictor'].progress_apply(lambda x: mean_characters_per(x,50))\n",
    "data['mscphw'] = data['predictor'].progress_apply(lambda x: mean_sentences_per(x,50))\n",
    "data['coleman_index'] = data['predictor'].progress_apply(lambda x: cli(x,50))"
   ]
  },
  {
   "cell_type": "markdown",
   "metadata": {},
   "source": [
    "**Profanity Index**"
   ]
  },
  {
   "cell_type": "code",
   "execution_count": 42,
   "metadata": {},
   "outputs": [],
   "source": [
    "def check_profanity(comment):\n",
    "    profane = pd.read_csv(\"profane_words.csv\", header=None)\n",
    "    profane = list(profane.loc[:,0])\n",
    "    count = 0\n",
    "    comment = comment.lower()\n",
    "    tokens = nltk.word_tokenize(comment)\n",
    "    for word in tokens:\n",
    "        if word in profane:\n",
    "            count += 1\n",
    "    return count/len(tokens)"
   ]
  },
  {
   "cell_type": "code",
   "execution_count": 43,
   "metadata": {},
   "outputs": [
    {
     "name": "stderr",
     "output_type": "stream",
     "text": [
      "100%|██████████| 33823/33823 [09:32<00:00, 59.05it/s] \n"
     ]
    }
   ],
   "source": [
    "data['profanity'] = data['predictor'].progress_apply(check_profanity)"
   ]
  },
  {
   "cell_type": "markdown",
   "metadata": {},
   "source": [
    "# Visualizing Class Imbalance"
   ]
  },
  {
   "cell_type": "code",
   "execution_count": 44,
   "metadata": {},
   "outputs": [],
   "source": [
    "import seaborn as sns"
   ]
  },
  {
   "cell_type": "code",
   "execution_count": 45,
   "metadata": {},
   "outputs": [],
   "source": [
    "from matplotlib import pyplot as plt\n",
    "import seaborn as sns\n",
    "sns.set(style=\"darkgrid\")"
   ]
  },
  {
   "cell_type": "code",
   "execution_count": 46,
   "metadata": {},
   "outputs": [
    {
     "data": {
      "image/png": "[encoded data removed]",
      "text/plain": [
       "<Figure size 720x288 with 1 Axes>"
      ]
     },
     "metadata": {},
     "output_type": "display_data"
    }
   ],
   "source": [
    "plt.figure(figsize=(10,4))\n",
    "ax = sns.countplot(x='target', data=data)\n",
    "ax.axhline(3179)\n",
    "ax.set_title('Initial Class Imbalance')\n",
    "plt.savefig('/Users/alecmccabe/Desktop/Flatiron/Projects/final_project_ideas/web_articles_spin/Pics/class_imbalance.png')\n"
   ]
  },
  {
   "cell_type": "markdown",
   "metadata": {},
   "source": [
    "# Test Dummy"
   ]
  },
  {
   "cell_type": "code",
   "execution_count": 47,
   "metadata": {},
   "outputs": [],
   "source": [
    "#Dummy Classifier\n",
    "from sklearn.dummy import DummyClassifier\n",
    "X = data['predictor']\n",
    "y = data['target']\n",
    "\n",
    "dummy_cf = DummyClassifier(strategy='stratified')\n",
    "dummy_cf.fit(X,y)\n",
    "y_preds = dummy_cf.predict(X)\n",
    "\n",
    "accuracy = dummy_cf.score(X,y)\n"
   ]
  },
  {
   "cell_type": "code",
   "execution_count": 48,
   "metadata": {},
   "outputs": [
    {
     "data": {
      "text/html": [
       "<div>\n",
       "<style scoped>\n",
       "    .dataframe tbody tr th:only-of-type {\n",
       "        vertical-align: middle;\n",
       "    }\n",
       "\n",
       "    .dataframe tbody tr th {\n",
       "        vertical-align: top;\n",
       "    }\n",
       "\n",
       "    .dataframe thead th {\n",
       "        text-align: right;\n",
       "    }\n",
       "</style>\n",
       "<table border=\"1\" class=\"dataframe\">\n",
       "  <thead>\n",
       "    <tr style=\"text-align: right;\">\n",
       "      <th></th>\n",
       "      <th>model</th>\n",
       "      <th>accuracy</th>\n",
       "    </tr>\n",
       "  </thead>\n",
       "  <tbody>\n",
       "    <tr>\n",
       "      <th>0</th>\n",
       "      <td>Dummy</td>\n",
       "      <td>0.291961</td>\n",
       "    </tr>\n",
       "  </tbody>\n",
       "</table>\n",
       "</div>"
      ],
      "text/plain": [
       "   model  accuracy\n",
       "0  Dummy  0.291961"
      ]
     },
     "execution_count": 48,
     "metadata": {},
     "output_type": "execute_result"
    }
   ],
   "source": [
    "results = pd.DataFrame(columns = ['model','accuracy'])\n",
    "new_row = {'model': 'Dummy', 'accuracy': accuracy}\n",
    "results = results.append(new_row, ignore_index=True)\n",
    "results"
   ]
  },
  {
   "cell_type": "markdown",
   "metadata": {},
   "source": [
    "# Resample"
   ]
  },
  {
   "cell_type": "code",
   "execution_count": 49,
   "metadata": {},
   "outputs": [
    {
     "data": {
      "text/plain": [
       "left         3179\n",
       "right        3179\n",
       "center       3179\n",
       "far_right    3179\n",
       "far_left     3179\n",
       "Name: target, dtype: int64"
      ]
     },
     "execution_count": 49,
     "metadata": {},
     "output_type": "execute_result"
    }
   ],
   "source": [
    "from sklearn.utils import resample\n",
    "far_right = data[data.target == 'far_right'] #resample target\n",
    "right = data[data.target == 'right'] #upsample\n",
    "center = data[data.target == 'center'] #downsample\n",
    "left = data[data.target =='left'] #downsample\n",
    "far_left = data[data.target == 'far_left'] #downsample\n",
    "\n",
    "right_upsampled = resample(right,\n",
    "                          replace=True, # sample with replacement\n",
    "                          n_samples=len(far_right), # match number in target class\n",
    "                          random_state=42) \n",
    "\n",
    "center_downsampled = resample(center,\n",
    "                          replace=True, # sample with replacement\n",
    "                          n_samples=len(far_right), # match number in target class\n",
    "                          random_state=42) \n",
    "\n",
    "left_downsampled = resample(left,\n",
    "                          replace=True, # sample with replacement\n",
    "                          n_samples=len(far_right), # match number in target class\n",
    "                          random_state=42) \n",
    "\n",
    "far_left_downsampled = resample(far_left,\n",
    "                          replace=True, # sample with replacement\n",
    "                          n_samples=len(far_right), # match number in target class\n",
    "                          random_state=42) \n",
    "\n",
    "data = pd.concat([far_right, right_upsampled, center_downsampled,left_downsampled,far_left_downsampled])\n",
    "data.target.value_counts()"
   ]
  },
  {
   "cell_type": "code",
   "execution_count": 50,
   "metadata": {},
   "outputs": [],
   "source": [
    "data.reset_index(drop=True,inplace=True)"
   ]
  },
  {
   "cell_type": "markdown",
   "metadata": {},
   "source": [
    "# Topic Modeling with LDA"
   ]
  },
  {
   "cell_type": "code",
   "execution_count": 51,
   "metadata": {},
   "outputs": [],
   "source": [
    "import gensim"
   ]
  },
  {
   "cell_type": "code",
   "execution_count": 52,
   "metadata": {},
   "outputs": [],
   "source": [
    "lda_far_right = data[data['target']=='far_right']['predictor']\n",
    "lda_right = data[data['target']=='right']['predictor']\n",
    "lda_center = data[data['target']=='right']['predictor']\n",
    "lda_left = data[data['target']=='right']['predictor']\n",
    "lda_far_left = data[data['target']=='far_left']['predictor']\n",
    "all_sides = data['predictor']"
   ]
  },
  {
   "cell_type": "code",
   "execution_count": 42,
   "metadata": {},
   "outputs": [
    {
     "name": "stderr",
     "output_type": "stream",
     "text": [
      "100%|██████████| 3147/3147 [00:20<00:00, 156.86it/s]\n"
     ]
    },
    {
     "data": {
      "text/plain": [
       "[(0,\n",
       "  '0.014*\"coronavirus\" + 0.010*\"china\" + 0.006*\"chinese\" + 0.006*\"state\" + 0.005*\"percent\" + 0.005*\"government\" + 0.005*\"report\" + 0.005*\"people\" + 0.004*\"would\" + 0.004*\"pandemic\"'),\n",
       " (1,\n",
       "  '0.013*\"trump\" + 0.011*\"coronavirus\" + 0.010*\"president\" + 0.008*\"people\" + 0.006*\"biden\" + 0.005*\"time\" + 0.005*\"would\" + 0.005*\"make\" + 0.004*\"know\" + 0.004*\"pandemic\"'),\n",
       " (2,\n",
       "  '0.015*\"coronavirus\" + 0.011*\"state\" + 0.009*\"test\" + 0.007*\"case\" + 0.006*\"people\" + 0.006*\"report\" + 0.006*\"health\" + 0.005*\"virus\" + 0.005*\"covid\" + 0.004*\"trump\"')]"
      ]
     },
     "execution_count": 42,
     "metadata": {},
     "output_type": "execute_result"
    }
   ],
   "source": [
    "lda_far_right_token = lda_far_right.progress_apply(lambda x: clean_txt(x,string=False))\n",
    "\n",
    "dictionary = gensim.corpora.Dictionary(lda_far_right_token)\n",
    "\n",
    "bow_corpus = [dictionary.doc2bow(doc) for doc in lda_far_right_token]\n",
    "\n",
    "far_right_lda =  gensim.models.LdaMulticore(bow_corpus, \n",
    "                                   num_topics = 3, \n",
    "                                   id2word = dictionary,                                    \n",
    "                                   passes = 10,\n",
    "                                   workers = 2)\n",
    "\n",
    "far_right_lda.show_topics(formatted=True)"
   ]
  },
  {
   "cell_type": "markdown",
   "metadata": {},
   "source": [
    "Topic 1: Trump, Corona, Police\n",
    "\n",
    "Topic 2: Coronavirus and China\n",
    "\n",
    "Topic 3: Coronavirus and Masks"
   ]
  },
  {
   "cell_type": "code",
   "execution_count": 43,
   "metadata": {},
   "outputs": [
    {
     "name": "stderr",
     "output_type": "stream",
     "text": [
      "100%|██████████| 3147/3147 [00:21<00:00, 145.12it/s]\n"
     ]
    },
    {
     "data": {
      "text/plain": [
       "[(0,\n",
       "  '0.014*\"coronavirus\" + 0.009*\"covid\" + 0.008*\"trump\" + 0.007*\"virus\" + 0.006*\"president\" + 0.006*\"news\" + 0.005*\"people\" + 0.005*\"study\" + 0.005*\"health\" + 0.004*\"report\"'),\n",
       " (1,\n",
       "  '0.011*\"coronavirus\" + 0.006*\"people\" + 0.005*\"time\" + 0.004*\"state\" + 0.004*\"news\" + 0.004*\"pandemic\" + 0.004*\"would\" + 0.004*\"also\" + 0.004*\"vote\" + 0.003*\"like\"'),\n",
       " (2,\n",
       "  '0.016*\"coronavirus\" + 0.009*\"trump\" + 0.009*\"state\" + 0.007*\"people\" + 0.007*\"news\" + 0.007*\"test\" + 0.006*\"case\" + 0.006*\"health\" + 0.006*\"covid\" + 0.006*\"report\"')]"
      ]
     },
     "execution_count": 43,
     "metadata": {},
     "output_type": "execute_result"
    }
   ],
   "source": [
    "lda_right_token = lda_right.progress_apply(lambda x: clean_txt(x,string=False))\n",
    "\n",
    "dictionary = gensim.corpora.Dictionary(lda_right_token)\n",
    "\n",
    "bow_corpus = [dictionary.doc2bow(doc) for doc in lda_right_token]\n",
    "\n",
    "right_lda =  gensim.models.LdaMulticore(bow_corpus, \n",
    "                                   num_topics = 3, \n",
    "                                   id2word = dictionary,                                    \n",
    "                                   passes = 10,\n",
    "                                   workers = 2)\n",
    "\n",
    "right_lda.show_topics(formatted=True)"
   ]
  },
  {
   "cell_type": "markdown",
   "metadata": {},
   "source": [
    "Topic 1: Covid testing/reporting\n",
    "\n",
    "Topic 2: Coronavirus and opening schools\n",
    "\n",
    "Topic 3: Trump, Biden, and Covid responses"
   ]
  },
  {
   "cell_type": "code",
   "execution_count": 44,
   "metadata": {},
   "outputs": [
    {
     "name": "stderr",
     "output_type": "stream",
     "text": [
      "100%|██████████| 3147/3147 [00:17<00:00, 182.49it/s]\n"
     ]
    },
    {
     "data": {
      "text/plain": [
       "[(0,\n",
       "  '0.021*\"coronavirus\" + 0.011*\"covid\" + 0.009*\"case\" + 0.009*\"report\" + 0.008*\"health\" + 0.008*\"virus\" + 0.007*\"test\" + 0.007*\"state\" + 0.007*\"news\" + 0.006*\"study\"'),\n",
       " (1,\n",
       "  '0.009*\"coronavirus\" + 0.006*\"state\" + 0.006*\"people\" + 0.004*\"time\" + 0.004*\"would\" + 0.004*\"pandemic\" + 0.004*\"make\" + 0.004*\"trump\" + 0.004*\"news\" + 0.003*\"even\"'),\n",
       " (2,\n",
       "  '0.017*\"trump\" + 0.014*\"coronavirus\" + 0.011*\"president\" + 0.007*\"test\" + 0.007*\"biden\" + 0.007*\"news\" + 0.007*\"people\" + 0.006*\"state\" + 0.005*\"covid\" + 0.005*\"time\"')]"
      ]
     },
     "execution_count": 44,
     "metadata": {},
     "output_type": "execute_result"
    }
   ],
   "source": [
    "lda_center_token = lda_center.progress_apply(lambda x: clean_txt(x,string=False))\n",
    "\n",
    "dictionary = gensim.corpora.Dictionary(lda_center_token)\n",
    "\n",
    "bow_corpus = [dictionary.doc2bow(doc) for doc in lda_center_token]\n",
    "\n",
    "center_lda =  gensim.models.LdaMulticore(bow_corpus, \n",
    "                                   num_topics = 3, \n",
    "                                   id2word = dictionary,                                    \n",
    "                                   passes = 10,\n",
    "                                   workers = 2)\n",
    "\n",
    "center_lda.show_topics(formatted=True)"
   ]
  },
  {
   "cell_type": "markdown",
   "metadata": {},
   "source": [
    "Topic 1: Trumps and China coronavirus\n",
    "\n",
    "Topic 2: Covid Testing\n",
    "\n",
    "Topic 3: Covid and School"
   ]
  },
  {
   "cell_type": "code",
   "execution_count": 45,
   "metadata": {},
   "outputs": [
    {
     "name": "stderr",
     "output_type": "stream",
     "text": [
      "100%|██████████| 3147/3147 [00:17<00:00, 179.57it/s]\n"
     ]
    },
    {
     "data": {
      "text/plain": [
       "[(0,\n",
       "  '0.014*\"trump\" + 0.012*\"coronavirus\" + 0.010*\"president\" + 0.007*\"people\" + 0.006*\"biden\" + 0.006*\"news\" + 0.006*\"state\" + 0.005*\"test\" + 0.005*\"time\" + 0.005*\"covid\"'),\n",
       " (1,\n",
       "  '0.018*\"coronavirus\" + 0.009*\"case\" + 0.008*\"covid\" + 0.007*\"health\" + 0.007*\"report\" + 0.007*\"virus\" + 0.007*\"people\" + 0.006*\"state\" + 0.006*\"test\" + 0.006*\"news\"'),\n",
       " (2,\n",
       "  '0.013*\"coronavirus\" + 0.006*\"state\" + 0.006*\"covid\" + 0.005*\"news\" + 0.004*\"time\" + 0.004*\"trump\" + 0.004*\"health\" + 0.004*\"would\" + 0.004*\"house\" + 0.004*\"also\"')]"
      ]
     },
     "execution_count": 45,
     "metadata": {},
     "output_type": "execute_result"
    }
   ],
   "source": [
    "lda_left_token = lda_left.progress_apply(lambda x: clean_txt(x,string=False))\n",
    "\n",
    "dictionary = gensim.corpora.Dictionary(lda_left_token)\n",
    "\n",
    "bow_corpus = [dictionary.doc2bow(doc) for doc in lda_left_token]\n",
    "\n",
    "left_lda =  gensim.models.LdaMulticore(bow_corpus, \n",
    "                                   num_topics = 3, \n",
    "                                   id2word = dictionary,                                    \n",
    "                                   passes = 10,\n",
    "                                   workers = 2)\n",
    "\n",
    "left_lda.show_topics(formatted=True)"
   ]
  },
  {
   "cell_type": "markdown",
   "metadata": {},
   "source": [
    "Topic 1: Covid testing\n",
    "\n",
    "Topic 2: Coronavirus research and vaccines\n",
    "\n",
    "Topic 3: Covid cases under trump"
   ]
  },
  {
   "cell_type": "code",
   "execution_count": 46,
   "metadata": {},
   "outputs": [
    {
     "name": "stderr",
     "output_type": "stream",
     "text": [
      "100%|██████████| 3147/3147 [00:53<00:00, 58.43it/s]\n"
     ]
    },
    {
     "data": {
      "text/plain": [
       "[(0,\n",
       "  '0.006*\"make\" + 0.005*\"coronavirus\" + 0.005*\"like\" + 0.005*\"time\" + 0.004*\"people\" + 0.004*\"twitter\" + 0.004*\"also\" + 0.003*\"mask\" + 0.003*\"work\" + 0.003*\"pandemic\"'),\n",
       " (1,\n",
       "  '0.010*\"people\" + 0.007*\"coronavirus\" + 0.006*\"like\" + 0.006*\"time\" + 0.006*\"work\" + 0.005*\"also\" + 0.005*\"make\" + 0.004*\"take\" + 0.004*\"pandemic\" + 0.004*\"company\"'),\n",
       " (2,\n",
       "  '0.013*\"trump\" + 0.009*\"coronavirus\" + 0.008*\"state\" + 0.007*\"people\" + 0.005*\"president\" + 0.005*\"covid\" + 0.005*\"would\" + 0.004*\"health\" + 0.004*\"case\" + 0.004*\"time\"')]"
      ]
     },
     "execution_count": 46,
     "metadata": {},
     "output_type": "execute_result"
    }
   ],
   "source": [
    "lda_far_left_token = lda_far_left.progress_apply(lambda x: clean_txt(x,string=False))\n",
    "\n",
    "dictionary = gensim.corpora.Dictionary(lda_far_left_token)\n",
    "\n",
    "bow_corpus = [dictionary.doc2bow(doc) for doc in lda_far_left_token]\n",
    "\n",
    "far_left_lda =  gensim.models.LdaMulticore(bow_corpus, \n",
    "                                   num_topics = 3, \n",
    "                                   id2word = dictionary,                                    \n",
    "                                   passes = 10,\n",
    "                                   workers = 2)\n",
    "\n",
    "far_left_lda.show_topics(formatted=True)"
   ]
  },
  {
   "cell_type": "markdown",
   "metadata": {},
   "source": [
    "Topic 1: Working in Covid\n",
    "\n",
    "Topic 2: Trump and Coronavirus\n",
    "\n",
    "Topic 3:Working in Covid"
   ]
  },
  {
   "cell_type": "code",
   "execution_count": 53,
   "metadata": {},
   "outputs": [
    {
     "name": "stderr",
     "output_type": "stream",
     "text": [
      "100%|██████████| 15895/15895 [01:29<00:00, 177.01it/s]\n"
     ]
    },
    {
     "data": {
      "text/plain": [
       "[(0,\n",
       "  '0.010*\"coronavirus\" + 0.007*\"border\" + 0.006*\"travel\" + 0.005*\"release\" + 0.004*\"flight\" + 0.004*\"report\" + 0.004*\"news\" + 0.004*\"immigration\" + 0.004*\"people\" + 0.004*\"mexico\"'),\n",
       " (1,\n",
       "  '0.011*\"coronavirus\" + 0.009*\"game\" + 0.008*\"test\" + 0.007*\"play\" + 0.007*\"season\" + 0.006*\"league\" + 0.006*\"team\" + 0.006*\"positive\" + 0.006*\"players\" + 0.005*\"time\"'),\n",
       " (2,\n",
       "  '0.016*\"coronavirus\" + 0.011*\"covid\" + 0.010*\"test\" + 0.009*\"people\" + 0.008*\"health\" + 0.007*\"virus\" + 0.007*\"patients\" + 0.007*\"mask\" + 0.006*\"also\" + 0.005*\"study\"'),\n",
       " (3,\n",
       "  '0.008*\"people\" + 0.007*\"time\" + 0.007*\"like\" + 0.007*\"make\" + 0.006*\"work\" + 0.006*\"pandemic\" + 0.004*\"even\" + 0.004*\"many\" + 0.004*\"workers\" + 0.004*\"also\"'),\n",
       " (4,\n",
       "  '0.015*\"coronavirus\" + 0.013*\"vaccine\" + 0.007*\"would\" + 0.006*\"bill\" + 0.006*\"million\" + 0.006*\"house\" + 0.005*\"fund\" + 0.005*\"covid\" + 0.005*\"billion\" + 0.005*\"relief\"'),\n",
       " (5,\n",
       "  '0.017*\"coronavirus\" + 0.017*\"case\" + 0.017*\"state\" + 0.011*\"people\" + 0.009*\"health\" + 0.009*\"report\" + 0.008*\"covid\" + 0.007*\"test\" + 0.006*\"virus\" + 0.006*\"number\"'),\n",
       " (6,\n",
       "  '0.015*\"china\" + 0.012*\"coronavirus\" + 0.009*\"government\" + 0.008*\"chinese\" + 0.008*\"world\" + 0.005*\"pandemic\" + 0.005*\"country\" + 0.005*\"countries\" + 0.004*\"report\" + 0.004*\"virus\"'),\n",
       " (7,\n",
       "  '0.039*\"trump\" + 0.021*\"president\" + 0.013*\"coronavirus\" + 0.010*\"house\" + 0.010*\"biden\" + 0.009*\"white\" + 0.008*\"test\" + 0.007*\"state\" + 0.007*\"campaign\" + 0.005*\"would\"')]"
      ]
     },
     "execution_count": 53,
     "metadata": {},
     "output_type": "execute_result"
    }
   ],
   "source": [
    "all_token = all_sides.progress_apply(lambda x: clean_txt(x,string=False))\n",
    "\n",
    "dictionary = gensim.corpora.Dictionary(all_token)\n",
    "\n",
    "bow_corpus = [dictionary.doc2bow(doc) for doc in all_token]\n",
    "\n",
    "all_lda =  gensim.models.LdaMulticore(bow_corpus, \n",
    "                                   num_topics = 8, \n",
    "                                   id2word = dictionary,                                    \n",
    "                                   passes = 10,\n",
    "                                   workers = 2)\n",
    "\n",
    "all_lda.show_topics(formatted=True)"
   ]
  },
  {
   "cell_type": "markdown",
   "metadata": {},
   "source": [
    "Topic 1: COVID, Immigration, Travel\n",
    "\n",
    "Topic 2: COVID and Sports\n",
    "\n",
    "Topic 3: COVID Testing Results\n",
    "\n",
    "Topic 4: COVID and Working\n",
    "\n",
    "Topic 5: COVID, Legislation and Vaccines\n",
    "\n",
    "Topic 6: COVID Cases Increasing\n",
    "\n",
    "Topic 7: COVID and China\n",
    "\n",
    "Topic 8: COVID and Election"
   ]
  },
  {
   "cell_type": "code",
   "execution_count": 54,
   "metadata": {},
   "outputs": [],
   "source": [
    "dominant_topics = []\n",
    "\n",
    "for i in data.index:\n",
    "    row_list = all_lda[bow_corpus][i]\n",
    "    row = sorted(row_list, key=lambda x: (x[1]), reverse=True)\n",
    "    topic = row[0][0]\n",
    "    dominant_topics.append(topic)\n",
    "    "
   ]
  },
  {
   "cell_type": "code",
   "execution_count": 55,
   "metadata": {},
   "outputs": [],
   "source": [
    "data['dominant_topic'] = pd.Series(dominant_topics)"
   ]
  },
  {
   "cell_type": "code",
   "execution_count": 56,
   "metadata": {},
   "outputs": [
    {
     "data": {
      "image/png": "[encoded data removed]",
      "text/plain": [
       "<Figure size 720x288 with 1 Axes>"
      ]
     },
     "metadata": {},
     "output_type": "display_data"
    }
   ],
   "source": [
    "plt.figure(figsize=(10,4))\n",
    "ax = sns.countplot(x='dominant_topic', hue='target',data=data,palette='plasma')\n",
    "ax.set_xticklabels(['COVID, Immigration, Travel',\n",
    "                    'COVID and Sports',\n",
    "                   'COVID Testing Results',\n",
    "                   'COVID and Jobs',\n",
    "                   'COVID Legislation and Vaccines',\n",
    "                   'COVID Cases Increasing',\n",
    "                   'COVID and China',\n",
    "                   'COVID and Election'])\n",
    "\n",
    "ax.legend(loc='upper right', frameon=False)\n",
    "l = ax.set_xticklabels(ax.get_xticklabels(), rotation=60)\n",
    "plt.savefig('/Users/alecmccabe/Desktop/Flatiron/Projects/final_project_ideas/web_articles_spin/Pics/topic_by_target.png')\n",
    "\n",
    "plt.show()"
   ]
  },
  {
   "cell_type": "code",
   "execution_count": 57,
   "metadata": {},
   "outputs": [],
   "source": [
    "data.to_csv('clean_data2.csv')"
   ]
  },
  {
   "cell_type": "markdown",
   "metadata": {},
   "source": [
    "# EDA"
   ]
  },
  {
   "cell_type": "code",
   "execution_count": 58,
   "metadata": {},
   "outputs": [
    {
     "name": "stdout",
     "output_type": "stream",
     "text": [
      "CPU times: user 1min 28s, sys: 489 ms, total: 1min 28s\n",
      "Wall time: 1min 29s\n"
     ]
    },
    {
     "data": {
      "text/plain": [
       "TfidfVectorizer(preprocessor=<function clean_txt at 0x10afd5ee0>, smooth_idf=1,\n",
       "                strip_accents='unicode', sublinear_tf=1,\n",
       "                token_pattern='\\\\w{1,}', use_idf=1)"
      ]
     },
     "execution_count": 58,
     "metadata": {},
     "output_type": "execute_result"
    }
   ],
   "source": [
    "%%time\n",
    "vectorizer = TfidfVectorizer(max_features=None, \n",
    "                    strip_accents='unicode', analyzer='word',token_pattern=r'\\w{1,}',\n",
    "                    ngram_range=(1, 1), use_idf=1,smooth_idf=1,sublinear_tf=1,\n",
    "                    stop_words = None, preprocessor=clean_txt)\n",
    "vectorizer.fit(data.predictor)"
   ]
  },
  {
   "cell_type": "code",
   "execution_count": 59,
   "metadata": {},
   "outputs": [
    {
     "name": "stdout",
     "output_type": "stream",
     "text": [
      "Top 20 terms for:  far_left\n",
      "          Terms   far_left\n",
      "0        people  73.528729\n",
      "1   coronavirus  69.019919\n",
      "2          like  68.412943\n",
      "3          time  64.470003\n",
      "4          make  64.431703\n",
      "5         trump  63.969943\n",
      "6          also  56.370440\n",
      "7          even  54.101620\n",
      "8      pandemic  54.067740\n",
      "9          take  53.044862\n",
      "10         work  52.735271\n",
      "11        covid  52.622918\n",
      "12        would  52.465999\n",
      "13         home  49.983792\n",
      "14         tell  48.644786\n",
      "15         many  46.709777\n",
      "16         want  46.390417\n",
      "17      company  45.611710\n",
      "18        state  45.257805\n",
      "19         call  44.773750\n",
      "###############\n",
      "(20, 2)\n",
      "Top 20 terms for:  left\n",
      "          Terms       left\n",
      "0   coronavirus  89.672582\n",
      "1         trump  77.987280\n",
      "2        people  76.210783\n",
      "3         state  71.887449\n",
      "4          test  70.975466\n",
      "5         covid  70.964780\n",
      "6          case  70.818901\n",
      "7        health  70.017666\n",
      "8         virus  64.747240\n",
      "9     president  62.794284\n",
      "10     pandemic  60.555966\n",
      "11         also  60.511051\n",
      "12        would  59.914942\n",
      "13         time  54.728938\n",
      "14         tell  52.878346\n",
      "15         take  52.740123\n",
      "16       report  52.465713\n",
      "17         make  51.786893\n",
      "18         come  51.619413\n",
      "19         work  51.562096\n",
      "###############\n",
      "(27, 3)\n",
      "Top 20 terms for:  center\n",
      "          Terms     center\n",
      "0   coronavirus  96.027165\n",
      "1          case  85.768977\n",
      "2         state  80.612223\n",
      "3         trump  79.127369\n",
      "4        report  76.885880\n",
      "5         covid  76.058657\n",
      "6          test  75.737076\n",
      "7        health  68.211510\n",
      "8        people  65.310597\n",
      "9      pandemic  60.528445\n",
      "10        virus  59.208369\n",
      "11    president  57.092624\n",
      "12       number  56.035688\n",
      "13    officials  53.207813\n",
      "14        could  52.734691\n",
      "15        would  51.830588\n",
      "16         week  51.539077\n",
      "17         last  51.056779\n",
      "18         year  50.587278\n",
      "19         also  50.147055\n",
      "###############\n",
      "(33, 4)\n",
      "Top 20 terms for:  right\n",
      "          Terms       right\n",
      "0   coronavirus  104.310221\n",
      "1          news   97.663819\n",
      "2         covid   85.814594\n",
      "3          test   77.418485\n",
      "4        report   74.495070\n",
      "5         trump   69.672496\n",
      "6        health   69.355392\n",
      "7         state   68.950856\n",
      "8        people   68.730208\n",
      "9         virus   66.183758\n",
      "10         case   64.140191\n",
      "11    president   59.360822\n",
      "12       accord   59.038746\n",
      "13         time   57.877421\n",
      "14         also   55.850944\n",
      "15     pandemic   55.837622\n",
      "16     positive   54.714457\n",
      "17         tell   54.156377\n",
      "18        daily   51.215641\n",
      "19         mask   51.211928\n",
      "###############\n",
      "(38, 5)\n",
      "Top 20 terms for:  far_right\n",
      "          Terms  far_right\n",
      "0   coronavirus  98.472754\n",
      "1         trump  91.214350\n",
      "2     president  82.098485\n",
      "3         state  76.520510\n",
      "4        people  67.225541\n",
      "5         china  64.189950\n",
      "6       chinese  63.526933\n",
      "7       twitter  63.280692\n",
      "8         virus  60.291195\n",
      "9         would  58.940929\n",
      "10       follow  58.460207\n",
      "11         news  58.019433\n",
      "12       report  54.272075\n",
      "13         test  53.156723\n",
      "14     pandemic  52.835021\n",
      "15         time  52.694302\n",
      "16       health  51.303384\n",
      "17         case  50.463025\n",
      "18        house  49.327958\n",
      "19      country  49.135891\n",
      "###############\n",
      "(44, 6)\n"
     ]
    }
   ],
   "source": [
    "def create_tf_matrix(target):\n",
    "    return vectorizer.transform(data[data.target == target].predictor)\n",
    "\n",
    "def create_term_freq(matrix, cat):\n",
    "    category_words = matrix.sum(axis=0)\n",
    "    category_words_freq = [(word, category_words[0, idx]) for word, idx in vectorizer.vocabulary_.items()]\n",
    "    return pd.DataFrame(list(sorted(category_words_freq, key = lambda x: x[1], reverse=True)),columns=['Terms', cat])\n",
    "\n",
    "for cat in ['far_left','left','center','right','far_right']:\n",
    "    print(\"Top 20 terms for: \", cat)\n",
    "    df_right = create_term_freq(create_tf_matrix(cat), cat).head(20)\n",
    "    print(df_right)\n",
    "    print(\"###############\")\n",
    "    if cat != 'far_left':\n",
    "        df_top20_words = df_top20_words.merge(df_right, how='outer')\n",
    "    else:\n",
    "        df_top20_words = df_right.copy()\n",
    "    \n",
    "    print(df_top20_words.shape )"
   ]
  },
  {
   "cell_type": "code",
   "execution_count": 65,
   "metadata": {},
   "outputs": [
    {
     "data": {
      "text/html": [
       "<div>\n",
       "<style scoped>\n",
       "    .dataframe tbody tr th:only-of-type {\n",
       "        vertical-align: middle;\n",
       "    }\n",
       "\n",
       "    .dataframe tbody tr th {\n",
       "        vertical-align: top;\n",
       "    }\n",
       "\n",
       "    .dataframe thead th {\n",
       "        text-align: right;\n",
       "    }\n",
       "</style>\n",
       "<table border=\"1\" class=\"dataframe\">\n",
       "  <thead>\n",
       "    <tr style=\"text-align: right;\">\n",
       "      <th></th>\n",
       "      <th>far_left</th>\n",
       "      <th>left</th>\n",
       "      <th>center</th>\n",
       "      <th>right</th>\n",
       "      <th>far_right</th>\n",
       "    </tr>\n",
       "    <tr>\n",
       "      <th>Terms</th>\n",
       "      <th></th>\n",
       "      <th></th>\n",
       "      <th></th>\n",
       "      <th></th>\n",
       "      <th></th>\n",
       "    </tr>\n",
       "  </thead>\n",
       "  <tbody>\n",
       "    <tr>\n",
       "      <th>people</th>\n",
       "      <td>73.528729</td>\n",
       "      <td>76.210783</td>\n",
       "      <td>65.310597</td>\n",
       "      <td>68.730208</td>\n",
       "      <td>67.225541</td>\n",
       "    </tr>\n",
       "    <tr>\n",
       "      <th>coronavirus</th>\n",
       "      <td>69.019919</td>\n",
       "      <td>89.672582</td>\n",
       "      <td>96.027165</td>\n",
       "      <td>104.310221</td>\n",
       "      <td>98.472754</td>\n",
       "    </tr>\n",
       "    <tr>\n",
       "      <th>like</th>\n",
       "      <td>68.412943</td>\n",
       "      <td>0.000000</td>\n",
       "      <td>0.000000</td>\n",
       "      <td>0.000000</td>\n",
       "      <td>0.000000</td>\n",
       "    </tr>\n",
       "    <tr>\n",
       "      <th>time</th>\n",
       "      <td>64.470003</td>\n",
       "      <td>54.728938</td>\n",
       "      <td>0.000000</td>\n",
       "      <td>57.877421</td>\n",
       "      <td>52.694302</td>\n",
       "    </tr>\n",
       "    <tr>\n",
       "      <th>make</th>\n",
       "      <td>64.431703</td>\n",
       "      <td>51.786893</td>\n",
       "      <td>0.000000</td>\n",
       "      <td>0.000000</td>\n",
       "      <td>0.000000</td>\n",
       "    </tr>\n",
       "    <tr>\n",
       "      <th>trump</th>\n",
       "      <td>63.969943</td>\n",
       "      <td>77.987280</td>\n",
       "      <td>79.127369</td>\n",
       "      <td>69.672496</td>\n",
       "      <td>91.214350</td>\n",
       "    </tr>\n",
       "    <tr>\n",
       "      <th>also</th>\n",
       "      <td>56.370440</td>\n",
       "      <td>60.511051</td>\n",
       "      <td>50.147055</td>\n",
       "      <td>55.850944</td>\n",
       "      <td>0.000000</td>\n",
       "    </tr>\n",
       "    <tr>\n",
       "      <th>even</th>\n",
       "      <td>54.101620</td>\n",
       "      <td>0.000000</td>\n",
       "      <td>0.000000</td>\n",
       "      <td>0.000000</td>\n",
       "      <td>0.000000</td>\n",
       "    </tr>\n",
       "    <tr>\n",
       "      <th>pandemic</th>\n",
       "      <td>54.067740</td>\n",
       "      <td>60.555966</td>\n",
       "      <td>60.528445</td>\n",
       "      <td>55.837622</td>\n",
       "      <td>52.835021</td>\n",
       "    </tr>\n",
       "    <tr>\n",
       "      <th>take</th>\n",
       "      <td>53.044862</td>\n",
       "      <td>52.740123</td>\n",
       "      <td>0.000000</td>\n",
       "      <td>0.000000</td>\n",
       "      <td>0.000000</td>\n",
       "    </tr>\n",
       "    <tr>\n",
       "      <th>work</th>\n",
       "      <td>52.735271</td>\n",
       "      <td>51.562096</td>\n",
       "      <td>0.000000</td>\n",
       "      <td>0.000000</td>\n",
       "      <td>0.000000</td>\n",
       "    </tr>\n",
       "    <tr>\n",
       "      <th>covid</th>\n",
       "      <td>52.622918</td>\n",
       "      <td>70.964780</td>\n",
       "      <td>76.058657</td>\n",
       "      <td>85.814594</td>\n",
       "      <td>0.000000</td>\n",
       "    </tr>\n",
       "    <tr>\n",
       "      <th>would</th>\n",
       "      <td>52.465999</td>\n",
       "      <td>59.914942</td>\n",
       "      <td>51.830588</td>\n",
       "      <td>0.000000</td>\n",
       "      <td>58.940929</td>\n",
       "    </tr>\n",
       "    <tr>\n",
       "      <th>home</th>\n",
       "      <td>49.983792</td>\n",
       "      <td>0.000000</td>\n",
       "      <td>0.000000</td>\n",
       "      <td>0.000000</td>\n",
       "      <td>0.000000</td>\n",
       "    </tr>\n",
       "    <tr>\n",
       "      <th>tell</th>\n",
       "      <td>48.644786</td>\n",
       "      <td>52.878346</td>\n",
       "      <td>0.000000</td>\n",
       "      <td>54.156377</td>\n",
       "      <td>0.000000</td>\n",
       "    </tr>\n",
       "    <tr>\n",
       "      <th>many</th>\n",
       "      <td>46.709777</td>\n",
       "      <td>0.000000</td>\n",
       "      <td>0.000000</td>\n",
       "      <td>0.000000</td>\n",
       "      <td>0.000000</td>\n",
       "    </tr>\n",
       "    <tr>\n",
       "      <th>want</th>\n",
       "      <td>46.390417</td>\n",
       "      <td>0.000000</td>\n",
       "      <td>0.000000</td>\n",
       "      <td>0.000000</td>\n",
       "      <td>0.000000</td>\n",
       "    </tr>\n",
       "    <tr>\n",
       "      <th>company</th>\n",
       "      <td>45.611710</td>\n",
       "      <td>0.000000</td>\n",
       "      <td>0.000000</td>\n",
       "      <td>0.000000</td>\n",
       "      <td>0.000000</td>\n",
       "    </tr>\n",
       "    <tr>\n",
       "      <th>state</th>\n",
       "      <td>45.257805</td>\n",
       "      <td>71.887449</td>\n",
       "      <td>80.612223</td>\n",
       "      <td>68.950856</td>\n",
       "      <td>76.520510</td>\n",
       "    </tr>\n",
       "    <tr>\n",
       "      <th>call</th>\n",
       "      <td>44.773750</td>\n",
       "      <td>0.000000</td>\n",
       "      <td>0.000000</td>\n",
       "      <td>0.000000</td>\n",
       "      <td>0.000000</td>\n",
       "    </tr>\n",
       "    <tr>\n",
       "      <th>test</th>\n",
       "      <td>0.000000</td>\n",
       "      <td>70.975466</td>\n",
       "      <td>75.737076</td>\n",
       "      <td>77.418485</td>\n",
       "      <td>53.156723</td>\n",
       "    </tr>\n",
       "    <tr>\n",
       "      <th>case</th>\n",
       "      <td>0.000000</td>\n",
       "      <td>70.818901</td>\n",
       "      <td>85.768977</td>\n",
       "      <td>64.140191</td>\n",
       "      <td>50.463025</td>\n",
       "    </tr>\n",
       "    <tr>\n",
       "      <th>health</th>\n",
       "      <td>0.000000</td>\n",
       "      <td>70.017666</td>\n",
       "      <td>68.211510</td>\n",
       "      <td>69.355392</td>\n",
       "      <td>51.303384</td>\n",
       "    </tr>\n",
       "    <tr>\n",
       "      <th>virus</th>\n",
       "      <td>0.000000</td>\n",
       "      <td>64.747240</td>\n",
       "      <td>59.208369</td>\n",
       "      <td>66.183758</td>\n",
       "      <td>60.291195</td>\n",
       "    </tr>\n",
       "    <tr>\n",
       "      <th>president</th>\n",
       "      <td>0.000000</td>\n",
       "      <td>62.794284</td>\n",
       "      <td>57.092624</td>\n",
       "      <td>59.360822</td>\n",
       "      <td>82.098485</td>\n",
       "    </tr>\n",
       "    <tr>\n",
       "      <th>report</th>\n",
       "      <td>0.000000</td>\n",
       "      <td>52.465713</td>\n",
       "      <td>76.885880</td>\n",
       "      <td>74.495070</td>\n",
       "      <td>54.272075</td>\n",
       "    </tr>\n",
       "    <tr>\n",
       "      <th>come</th>\n",
       "      <td>0.000000</td>\n",
       "      <td>51.619413</td>\n",
       "      <td>0.000000</td>\n",
       "      <td>0.000000</td>\n",
       "      <td>0.000000</td>\n",
       "    </tr>\n",
       "    <tr>\n",
       "      <th>number</th>\n",
       "      <td>0.000000</td>\n",
       "      <td>0.000000</td>\n",
       "      <td>56.035688</td>\n",
       "      <td>0.000000</td>\n",
       "      <td>0.000000</td>\n",
       "    </tr>\n",
       "    <tr>\n",
       "      <th>officials</th>\n",
       "      <td>0.000000</td>\n",
       "      <td>0.000000</td>\n",
       "      <td>53.207813</td>\n",
       "      <td>0.000000</td>\n",
       "      <td>0.000000</td>\n",
       "    </tr>\n",
       "    <tr>\n",
       "      <th>could</th>\n",
       "      <td>0.000000</td>\n",
       "      <td>0.000000</td>\n",
       "      <td>52.734691</td>\n",
       "      <td>0.000000</td>\n",
       "      <td>0.000000</td>\n",
       "    </tr>\n",
       "    <tr>\n",
       "      <th>week</th>\n",
       "      <td>0.000000</td>\n",
       "      <td>0.000000</td>\n",
       "      <td>51.539077</td>\n",
       "      <td>0.000000</td>\n",
       "      <td>0.000000</td>\n",
       "    </tr>\n",
       "    <tr>\n",
       "      <th>last</th>\n",
       "      <td>0.000000</td>\n",
       "      <td>0.000000</td>\n",
       "      <td>51.056779</td>\n",
       "      <td>0.000000</td>\n",
       "      <td>0.000000</td>\n",
       "    </tr>\n",
       "    <tr>\n",
       "      <th>year</th>\n",
       "      <td>0.000000</td>\n",
       "      <td>0.000000</td>\n",
       "      <td>50.587278</td>\n",
       "      <td>0.000000</td>\n",
       "      <td>0.000000</td>\n",
       "    </tr>\n",
       "    <tr>\n",
       "      <th>news</th>\n",
       "      <td>0.000000</td>\n",
       "      <td>0.000000</td>\n",
       "      <td>0.000000</td>\n",
       "      <td>97.663819</td>\n",
       "      <td>58.019433</td>\n",
       "    </tr>\n",
       "    <tr>\n",
       "      <th>accord</th>\n",
       "      <td>0.000000</td>\n",
       "      <td>0.000000</td>\n",
       "      <td>0.000000</td>\n",
       "      <td>59.038746</td>\n",
       "      <td>0.000000</td>\n",
       "    </tr>\n",
       "    <tr>\n",
       "      <th>positive</th>\n",
       "      <td>0.000000</td>\n",
       "      <td>0.000000</td>\n",
       "      <td>0.000000</td>\n",
       "      <td>54.714457</td>\n",
       "      <td>0.000000</td>\n",
       "    </tr>\n",
       "    <tr>\n",
       "      <th>daily</th>\n",
       "      <td>0.000000</td>\n",
       "      <td>0.000000</td>\n",
       "      <td>0.000000</td>\n",
       "      <td>51.215641</td>\n",
       "      <td>0.000000</td>\n",
       "    </tr>\n",
       "    <tr>\n",
       "      <th>mask</th>\n",
       "      <td>0.000000</td>\n",
       "      <td>0.000000</td>\n",
       "      <td>0.000000</td>\n",
       "      <td>51.211928</td>\n",
       "      <td>0.000000</td>\n",
       "    </tr>\n",
       "    <tr>\n",
       "      <th>china</th>\n",
       "      <td>0.000000</td>\n",
       "      <td>0.000000</td>\n",
       "      <td>0.000000</td>\n",
       "      <td>0.000000</td>\n",
       "      <td>64.189950</td>\n",
       "    </tr>\n",
       "    <tr>\n",
       "      <th>chinese</th>\n",
       "      <td>0.000000</td>\n",
       "      <td>0.000000</td>\n",
       "      <td>0.000000</td>\n",
       "      <td>0.000000</td>\n",
       "      <td>63.526933</td>\n",
       "    </tr>\n",
       "    <tr>\n",
       "      <th>twitter</th>\n",
       "      <td>0.000000</td>\n",
       "      <td>0.000000</td>\n",
       "      <td>0.000000</td>\n",
       "      <td>0.000000</td>\n",
       "      <td>63.280692</td>\n",
       "    </tr>\n",
       "    <tr>\n",
       "      <th>follow</th>\n",
       "      <td>0.000000</td>\n",
       "      <td>0.000000</td>\n",
       "      <td>0.000000</td>\n",
       "      <td>0.000000</td>\n",
       "      <td>58.460207</td>\n",
       "    </tr>\n",
       "    <tr>\n",
       "      <th>house</th>\n",
       "      <td>0.000000</td>\n",
       "      <td>0.000000</td>\n",
       "      <td>0.000000</td>\n",
       "      <td>0.000000</td>\n",
       "      <td>49.327958</td>\n",
       "    </tr>\n",
       "    <tr>\n",
       "      <th>country</th>\n",
       "      <td>0.000000</td>\n",
       "      <td>0.000000</td>\n",
       "      <td>0.000000</td>\n",
       "      <td>0.000000</td>\n",
       "      <td>49.135891</td>\n",
       "    </tr>\n",
       "  </tbody>\n",
       "</table>\n",
       "</div>"
      ],
      "text/plain": [
       "              far_left       left     center       right  far_right\n",
       "Terms                                                              \n",
       "people       73.528729  76.210783  65.310597   68.730208  67.225541\n",
       "coronavirus  69.019919  89.672582  96.027165  104.310221  98.472754\n",
       "like         68.412943   0.000000   0.000000    0.000000   0.000000\n",
       "time         64.470003  54.728938   0.000000   57.877421  52.694302\n",
       "make         64.431703  51.786893   0.000000    0.000000   0.000000\n",
       "trump        63.969943  77.987280  79.127369   69.672496  91.214350\n",
       "also         56.370440  60.511051  50.147055   55.850944   0.000000\n",
       "even         54.101620   0.000000   0.000000    0.000000   0.000000\n",
       "pandemic     54.067740  60.555966  60.528445   55.837622  52.835021\n",
       "take         53.044862  52.740123   0.000000    0.000000   0.000000\n",
       "work         52.735271  51.562096   0.000000    0.000000   0.000000\n",
       "covid        52.622918  70.964780  76.058657   85.814594   0.000000\n",
       "would        52.465999  59.914942  51.830588    0.000000  58.940929\n",
       "home         49.983792   0.000000   0.000000    0.000000   0.000000\n",
       "tell         48.644786  52.878346   0.000000   54.156377   0.000000\n",
       "many         46.709777   0.000000   0.000000    0.000000   0.000000\n",
       "want         46.390417   0.000000   0.000000    0.000000   0.000000\n",
       "company      45.611710   0.000000   0.000000    0.000000   0.000000\n",
       "state        45.257805  71.887449  80.612223   68.950856  76.520510\n",
       "call         44.773750   0.000000   0.000000    0.000000   0.000000\n",
       "test          0.000000  70.975466  75.737076   77.418485  53.156723\n",
       "case          0.000000  70.818901  85.768977   64.140191  50.463025\n",
       "health        0.000000  70.017666  68.211510   69.355392  51.303384\n",
       "virus         0.000000  64.747240  59.208369   66.183758  60.291195\n",
       "president     0.000000  62.794284  57.092624   59.360822  82.098485\n",
       "report        0.000000  52.465713  76.885880   74.495070  54.272075\n",
       "come          0.000000  51.619413   0.000000    0.000000   0.000000\n",
       "number        0.000000   0.000000  56.035688    0.000000   0.000000\n",
       "officials     0.000000   0.000000  53.207813    0.000000   0.000000\n",
       "could         0.000000   0.000000  52.734691    0.000000   0.000000\n",
       "week          0.000000   0.000000  51.539077    0.000000   0.000000\n",
       "last          0.000000   0.000000  51.056779    0.000000   0.000000\n",
       "year          0.000000   0.000000  50.587278    0.000000   0.000000\n",
       "news          0.000000   0.000000   0.000000   97.663819  58.019433\n",
       "accord        0.000000   0.000000   0.000000   59.038746   0.000000\n",
       "positive      0.000000   0.000000   0.000000   54.714457   0.000000\n",
       "daily         0.000000   0.000000   0.000000   51.215641   0.000000\n",
       "mask          0.000000   0.000000   0.000000   51.211928   0.000000\n",
       "china         0.000000   0.000000   0.000000    0.000000  64.189950\n",
       "chinese       0.000000   0.000000   0.000000    0.000000  63.526933\n",
       "twitter       0.000000   0.000000   0.000000    0.000000  63.280692\n",
       "follow        0.000000   0.000000   0.000000    0.000000  58.460207\n",
       "house         0.000000   0.000000   0.000000    0.000000  49.327958\n",
       "country       0.000000   0.000000   0.000000    0.000000  49.135891"
      ]
     },
     "execution_count": 65,
     "metadata": {},
     "output_type": "execute_result"
    }
   ],
   "source": [
    "df_top20_words"
   ]
  },
  {
   "cell_type": "code",
   "execution_count": 64,
   "metadata": {},
   "outputs": [
    {
     "ename": "KeyError",
     "evalue": "\"None of ['Terms'] are in the columns\"",
     "output_type": "error",
     "traceback": [
      "\u001b[0;31m---------------------------------------------------------------------------\u001b[0m",
      "\u001b[0;31mKeyError\u001b[0m                                  Traceback (most recent call last)",
      "\u001b[0;32m<ipython-input-64-9c4f5401cb15>\u001b[0m in \u001b[0;36m<module>\u001b[0;34m\u001b[0m\n\u001b[1;32m      1\u001b[0m \u001b[0mdf_top20_words\u001b[0m\u001b[0;34m.\u001b[0m\u001b[0mfillna\u001b[0m\u001b[0;34m(\u001b[0m\u001b[0;36m0\u001b[0m\u001b[0;34m,\u001b[0m \u001b[0minplace\u001b[0m\u001b[0;34m=\u001b[0m\u001b[0;32mTrue\u001b[0m \u001b[0;34m)\u001b[0m\u001b[0;34m\u001b[0m\u001b[0;34m\u001b[0m\u001b[0m\n\u001b[0;32m----> 2\u001b[0;31m \u001b[0mdf_top20_words\u001b[0m\u001b[0;34m.\u001b[0m\u001b[0mset_index\u001b[0m\u001b[0;34m(\u001b[0m\u001b[0;34m'Terms'\u001b[0m\u001b[0;34m,\u001b[0m \u001b[0minplace\u001b[0m\u001b[0;34m=\u001b[0m\u001b[0;32mTrue\u001b[0m\u001b[0;34m)\u001b[0m\u001b[0;34m\u001b[0m\u001b[0;34m\u001b[0m\u001b[0m\n\u001b[0m\u001b[1;32m      3\u001b[0m \u001b[0mdf_top20_words\u001b[0m\u001b[0;34m.\u001b[0m\u001b[0mshape\u001b[0m\u001b[0;34m\u001b[0m\u001b[0;34m\u001b[0m\u001b[0m\n",
      "\u001b[0;32m~/opt/anaconda3/lib/python3.8/site-packages/pandas/core/frame.py\u001b[0m in \u001b[0;36mset_index\u001b[0;34m(self, keys, drop, append, inplace, verify_integrity)\u001b[0m\n\u001b[1;32m   4301\u001b[0m \u001b[0;34m\u001b[0m\u001b[0m\n\u001b[1;32m   4302\u001b[0m         \u001b[0;32mif\u001b[0m \u001b[0mmissing\u001b[0m\u001b[0;34m:\u001b[0m\u001b[0;34m\u001b[0m\u001b[0;34m\u001b[0m\u001b[0m\n\u001b[0;32m-> 4303\u001b[0;31m             \u001b[0;32mraise\u001b[0m \u001b[0mKeyError\u001b[0m\u001b[0;34m(\u001b[0m\u001b[0;34mf\"None of {missing} are in the columns\"\u001b[0m\u001b[0;34m)\u001b[0m\u001b[0;34m\u001b[0m\u001b[0;34m\u001b[0m\u001b[0m\n\u001b[0m\u001b[1;32m   4304\u001b[0m \u001b[0;34m\u001b[0m\u001b[0m\n\u001b[1;32m   4305\u001b[0m         \u001b[0;32mif\u001b[0m \u001b[0minplace\u001b[0m\u001b[0;34m:\u001b[0m\u001b[0;34m\u001b[0m\u001b[0;34m\u001b[0m\u001b[0m\n",
      "\u001b[0;31mKeyError\u001b[0m: \"None of ['Terms'] are in the columns\""
     ]
    }
   ],
   "source": [
    "df_top20_words.fillna(0, inplace=True )\n",
    "df_top20_words.set_index('Terms', inplace=True)\n",
    "df_top20_words.shape"
   ]
  },
  {
   "cell_type": "code",
   "execution_count": 66,
   "metadata": {},
   "outputs": [],
   "source": [
    "import numpy as np\n",
    "from textacy.viz.termite import draw_termite_plot"
   ]
  },
  {
   "cell_type": "code",
   "execution_count": 67,
   "metadata": {},
   "outputs": [],
   "source": [
    "df = df_top20_words.copy()\n",
    "df_norm = (df) / (df.max() - df.min())"
   ]
  },
  {
   "cell_type": "code",
   "execution_count": 68,
   "metadata": {},
   "outputs": [
    {
     "data": {
      "image/png": "[encoded data removed]",
      "text/plain": [
       "<Figure size 260.921x875.006 with 1 Axes>"
      ]
     },
     "metadata": {},
     "output_type": "display_data"
    }
   ],
   "source": [
    "draw_termite_plot(np.array(df_norm.values),df_top20_words.columns,df_top20_words.index,highlight_cols=[0,1,2,3,4])\n",
    "plt.savefig('/Users/alecmccabe/Desktop/Flatiron/Projects/final_project_ideas/web_articles_spin/Pics/termite_plot.png')"
   ]
  },
  {
   "cell_type": "markdown",
   "metadata": {},
   "source": [
    "**Polarity by target**"
   ]
  },
  {
   "cell_type": "code",
   "execution_count": 69,
   "metadata": {},
   "outputs": [],
   "source": [
    "from matplotlib import pyplot as plt\n",
    "import seaborn as sns\n",
    "sns.set(style=\"whitegrid\")"
   ]
  },
  {
   "cell_type": "code",
   "execution_count": 74,
   "metadata": {
    "scrolled": true
   },
   "outputs": [
    {
     "data": {
      "image/png": "[encoded data removed]",
      "text/plain": [
       "<Figure size 576x288 with 1 Axes>"
      ]
     },
     "metadata": {},
     "output_type": "display_data"
    }
   ],
   "source": [
    "plt.figure(figsize=(8,4))\n",
    "ax = sns.boxplot(x=\"target\", y=\"polarity\", data=data, showfliers=False)\n",
    "# ax = sns.swarmplot(x=\"category\", y=\"polarity\", data=data, color=\".25\")\n",
    "ax.set_title('Polarity by Category in the Text')\n",
    "l = ax.set_xticklabels(ax.get_xticklabels(), rotation=60)\n",
    "plt.savefig('/Users/alecmccabe/Desktop/Flatiron/Projects/final_project_ideas/web_articles_spin/Pics/pol_by_target.png')"
   ]
  },
  {
   "cell_type": "markdown",
   "metadata": {},
   "source": [
    "**Polarity over time**"
   ]
  },
  {
   "cell_type": "code",
   "execution_count": 81,
   "metadata": {},
   "outputs": [
    {
     "data": {
      "image/png": "[encoded data removed]",
      "text/plain": [
       "<Figure size 432x288 with 1 Axes>"
      ]
     },
     "metadata": {},
     "output_type": "display_data"
    }
   ],
   "source": [
    "data.groupby(by=['month','target'])['polarity'].mean().unstack().plot()\n",
    "plt.savefig('/Users/alecmccabe/Desktop/Flatiron/Projects/final_project_ideas/web_articles_spin/Pics/pol_time.png')"
   ]
  },
  {
   "cell_type": "markdown",
   "metadata": {},
   "source": [
    "**Subjectivity by target**"
   ]
  },
  {
   "cell_type": "code",
   "execution_count": 82,
   "metadata": {
    "scrolled": true
   },
   "outputs": [
    {
     "data": {
      "image/png": "[encoded data removed]",
      "text/plain": [
       "<Figure size 576x288 with 1 Axes>"
      ]
     },
     "metadata": {},
     "output_type": "display_data"
    }
   ],
   "source": [
    "plt.figure(figsize=(8,4))\n",
    "ax = sns.boxplot(x=\"target\", y=\"subjectivity\", data=data, showfliers=False)\n",
    "# ax = sns.swarmplot(x=\"category\", y=\"polarity\", data=data, color=\".25\")\n",
    "ax.set_title('Sentiment by Category in the Text')\n",
    "l = ax.set_xticklabels(ax.get_xticklabels(), rotation=60)\n",
    "plt.savefig('/Users/alecmccabe/Desktop/Flatiron/Projects/final_project_ideas/web_articles_spin/Pics/sub_by_target.png')"
   ]
  },
  {
   "cell_type": "markdown",
   "metadata": {},
   "source": [
    "**Subjectivity over time**"
   ]
  },
  {
   "cell_type": "code",
   "execution_count": 83,
   "metadata": {},
   "outputs": [
    {
     "data": {
      "image/png": "[encoded data removed]",
      "text/plain": [
       "<Figure size 432x288 with 1 Axes>"
      ]
     },
     "metadata": {},
     "output_type": "display_data"
    }
   ],
   "source": [
    "data.groupby(by=['month','target'])['subjectivity'].mean().unstack().plot()\n",
    "plt.savefig('/Users/alecmccabe/Desktop/Flatiron/Projects/final_project_ideas/web_articles_spin/Pics/sub_time.png')"
   ]
  },
  {
   "cell_type": "markdown",
   "metadata": {},
   "source": [
    "**n_long_words by target**"
   ]
  },
  {
   "cell_type": "code",
   "execution_count": 84,
   "metadata": {},
   "outputs": [
    {
     "data": {
      "image/png": "[encoded data removed]",
      "text/plain": [
       "<Figure size 720x360 with 1 Axes>"
      ]
     },
     "metadata": {},
     "output_type": "display_data"
    }
   ],
   "source": [
    "plt.figure(figsize=(10,5))\n",
    "ax = sns.boxplot(x=\"target\", y=\"n_long_words\", data=data, showfliers=False)\n",
    "# ax = sns.swarmplot(x=\"category\", y=\"subjectivity\", data=df_news, color=\".25\")\n",
    "ax.set_title('N Long Words by Target')\n",
    "l= ax.set_xticklabels(ax.get_xticklabels(), rotation=90)\n",
    "plt.savefig('/Users/alecmccabe/Desktop/Flatiron/Projects/final_project_ideas/web_articles_spin/Pics/longwords_target.png')"
   ]
  },
  {
   "cell_type": "markdown",
   "metadata": {},
   "source": [
    "**n_monosyllable_words by target**"
   ]
  },
  {
   "cell_type": "code",
   "execution_count": 85,
   "metadata": {},
   "outputs": [
    {
     "data": {
      "image/png": "[encoded data removed]",
      "text/plain": [
       "<Figure size 720x360 with 1 Axes>"
      ]
     },
     "metadata": {},
     "output_type": "display_data"
    }
   ],
   "source": [
    "plt.figure(figsize=(10,5))\n",
    "ax = sns.boxplot(x=\"target\", y=\"n_monosyllable_words\", data=data, showfliers=False)\n",
    "# ax = sns.swarmplot(x=\"category\", y=\"subjectivity\", data=df_news, color=\".25\")\n",
    "ax.set_title('N Monosyllable Words by Target')\n",
    "l= ax.set_xticklabels(ax.get_xticklabels(), rotation=90)\n",
    "plt.savefig('/Users/alecmccabe/Desktop/Flatiron/Projects/final_project_ideas/web_articles_spin/Pics/mono_target.png')"
   ]
  },
  {
   "cell_type": "markdown",
   "metadata": {},
   "source": [
    "**n_polysyllable_words by target**"
   ]
  },
  {
   "cell_type": "code",
   "execution_count": 86,
   "metadata": {},
   "outputs": [
    {
     "data": {
      "image/png": "[encoded data removed]",
      "text/plain": [
       "<Figure size 720x360 with 1 Axes>"
      ]
     },
     "metadata": {},
     "output_type": "display_data"
    }
   ],
   "source": [
    "plt.figure(figsize=(10,5))\n",
    "ax = sns.boxplot(x=\"target\", y=\"n_polysyllable_words\", data=data, showfliers=False)\n",
    "# ax = sns.swarmplot(x=\"category\", y=\"subjectivity\", data=df_news, color=\".25\")\n",
    "ax.set_title('N Polysyllable Words by Target')\n",
    "l= ax.set_xticklabels(ax.get_xticklabels(), rotation=90)\n",
    "plt.savefig('/Users/alecmccabe/Desktop/Flatiron/Projects/final_project_ideas/web_articles_spin/Pics/poly_target.png')"
   ]
  },
  {
   "cell_type": "markdown",
   "metadata": {},
   "source": [
    "**n_unique_words by target**"
   ]
  },
  {
   "cell_type": "code",
   "execution_count": 90,
   "metadata": {},
   "outputs": [
    {
     "data": {
      "image/png": "[encoded data removed]",
      "text/plain": [
       "<Figure size 720x360 with 1 Axes>"
      ]
     },
     "metadata": {},
     "output_type": "display_data"
    }
   ],
   "source": [
    "plt.figure(figsize=(10,5))\n",
    "ax = sns.boxplot(x=\"target\", y=\"n_unique_words\", data=data, showfliers=False)\n",
    "# ax = sns.swarmplot(x=\"category\", y=\"subjectivity\", data=df_news, color=\".25\")\n",
    "ax.set_title('N Unique Words by Target')\n",
    "l= ax.set_xticklabels(ax.get_xticklabels(), rotation=90)\n",
    "plt.savefig('/Users/alecmccabe/Desktop/Flatiron/Projects/final_project_ideas/web_articles_spin/Pics/unique_target.png')"
   ]
  },
  {
   "cell_type": "markdown",
   "metadata": {},
   "source": [
    "**mccphw by target**"
   ]
  },
  {
   "cell_type": "code",
   "execution_count": 91,
   "metadata": {},
   "outputs": [
    {
     "data": {
      "image/png": "[encoded data removed]",
      "text/plain": [
       "<Figure size 720x360 with 1 Axes>"
      ]
     },
     "metadata": {},
     "output_type": "display_data"
    }
   ],
   "source": [
    "plt.figure(figsize=(10,5))\n",
    "ax = sns.boxplot(x=\"target\", y=\"mccphw\", data=data, showfliers=False)\n",
    "# ax = sns.swarmplot(x=\"category\", y=\"subjectivity\", data=df_news, color=\".25\")\n",
    "ax.set_title('Coleman Readability by Target')\n",
    "l= ax.set_xticklabels(ax.get_xticklabels(), rotation=90)\n",
    "plt.savefig('/Users/alecmccabe/Desktop/Flatiron/Projects/final_project_ideas/web_articles_spin/Pics/mccphw_target.png')\n"
   ]
  },
  {
   "cell_type": "markdown",
   "metadata": {},
   "source": [
    "**coleman_index by target**"
   ]
  },
  {
   "cell_type": "code",
   "execution_count": 92,
   "metadata": {},
   "outputs": [
    {
     "data": {
      "image/png": "[encoded data removed]",
      "text/plain": [
       "<Figure size 720x360 with 1 Axes>"
      ]
     },
     "metadata": {},
     "output_type": "display_data"
    }
   ],
   "source": [
    "plt.figure(figsize=(10,5))\n",
    "ax = sns.boxplot(x=\"target\", y=\"mscphw\", data=data, showfliers=False)\n",
    "# ax = sns.swarmplot(x=\"category\", y=\"subjectivity\", data=df_news, color=\".25\")\n",
    "ax.set_title('Coleman Readability by Target')\n",
    "l= ax.set_xticklabels(ax.get_xticklabels(), rotation=90)\n",
    "plt.savefig('/Users/alecmccabe/Desktop/Flatiron/Projects/final_project_ideas/web_articles_spin/Pics/mccphw_target.png')\n"
   ]
  },
  {
   "cell_type": "markdown",
   "metadata": {},
   "source": [
    "**coleman_index by target**"
   ]
  },
  {
   "cell_type": "code",
   "execution_count": 89,
   "metadata": {},
   "outputs": [
    {
     "data": {
      "image/png": "[encoded data removed]",
      "text/plain": [
       "<Figure size 720x360 with 1 Axes>"
      ]
     },
     "metadata": {},
     "output_type": "display_data"
    }
   ],
   "source": [
    "plt.figure(figsize=(10,5))\n",
    "ax = sns.boxplot(x=\"target\", y=\"coleman_index\", data=data, showfliers=False)\n",
    "# ax = sns.swarmplot(x=\"category\", y=\"subjectivity\", data=df_news, color=\".25\")\n",
    "ax.set_title('Coleman Readability by Target')\n",
    "l= ax.set_xticklabels(ax.get_xticklabels(), rotation=90)\n",
    "plt.savefig('/Users/alecmccabe/Desktop/Flatiron/Projects/final_project_ideas/web_articles_spin/Pics/coleman_index.png')\n"
   ]
  },
  {
   "cell_type": "markdown",
   "metadata": {},
   "source": [
    "**Profanity**"
   ]
  },
  {
   "cell_type": "code",
   "execution_count": 95,
   "metadata": {},
   "outputs": [
    {
     "data": {
      "image/png": "[encoded data removed]",
      "text/plain": [
       "<Figure size 720x360 with 1 Axes>"
      ]
     },
     "metadata": {},
     "output_type": "display_data"
    }
   ],
   "source": [
    "plt.figure(figsize=(10,5))\n",
    "ax = sns.boxplot(x=\"target\", y=\"profanity\", data=data, showfliers=False)\n",
    "# ax = sns.swarmplot(x=\"category\", y=\"subjectivity\", data=df_news, color=\".25\")\n",
    "ax.set_title('Coleman Readability by Target')\n",
    "l= ax.set_xticklabels(ax.get_xticklabels(), rotation=90)\n",
    "plt.savefig('/Users/alecmccabe/Desktop/Flatiron/Projects/final_project_ideas/web_articles_spin/Pics/coleman_index.png')\n"
   ]
  },
  {
   "cell_type": "code",
   "execution_count": 97,
   "metadata": {},
   "outputs": [],
   "source": [
    "import warnings\n",
    "warnings.filterwarnings('ignore')\n",
    "from sklearn.decomposition import PCA\n",
    "pca = PCA(n_components=2).fit(train_vec.toarray())"
   ]
  },
  {
   "cell_type": "code",
   "execution_count": null,
   "metadata": {},
   "outputs": [],
   "source": []
  }
 ],
 "metadata": {
  "kernelspec": {
   "display_name": "Python 3",
   "language": "python",
   "name": "python3"
  },
  "language_info": {
   "codemirror_mode": {
    "name": "ipython",
    "version": 3
   },
   "file_extension": ".py",
   "mimetype": "text/x-python",
   "name": "python",
   "nbconvert_exporter": "python",
   "pygments_lexer": "ipython3",
   "version": "3.8.3"
  }
 },
 "nbformat": 4,
 "nbformat_minor": 4
}
