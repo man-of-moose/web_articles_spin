{
 "cells": [
  {
   "cell_type": "code",
   "execution_count": 1,
   "metadata": {
    "scrolled": true
   },
   "outputs": [
    {
     "name": "stderr",
     "output_type": "stream",
     "text": [
      "[nltk_data] Downloading package stopwords to\n",
      "[nltk_data]     /Users/alecmccabe/nltk_data...\n",
      "[nltk_data]   Package stopwords is already up-to-date!\n",
      "[nltk_data] Downloading package punkt to\n",
      "[nltk_data]     /Users/alecmccabe/nltk_data...\n",
      "[nltk_data]   Package punkt is already up-to-date!\n",
      "[nltk_data] Downloading package wordnet to\n",
      "[nltk_data]     /Users/alecmccabe/nltk_data...\n",
      "[nltk_data]   Package wordnet is already up-to-date!\n"
     ]
    },
    {
     "data": {
      "text/plain": [
       "True"
      ]
     },
     "execution_count": 1,
     "metadata": {},
     "output_type": "execute_result"
    }
   ],
   "source": [
    "# Import some libraries that will be used\n",
    "import pandas as pd\n",
    "import numpy as np\n",
    "import matplotlib.pyplot as plt\n",
    "from matplotlib import cm\n",
    "import seaborn as sns\n",
    "\n",
    "pd.set_option('display.max_columns', 300)\n",
    "\n",
    "%matplotlib inline\n",
    "\n",
    "from sklearn.feature_extraction.text import CountVectorizer, TfidfVectorizer, TfidfTransformer\n",
    "from sklearn.metrics import confusion_matrix, accuracy_score, f1_score\n",
    "from sklearn.naive_bayes import MultinomialNB\n",
    "from sklearn.model_selection import train_test_split\n",
    "from sklearn.ensemble import RandomForestClassifier\n",
    "from sklearn.pipeline import Pipeline\n",
    "from sklearn.svm import LinearSVC\n",
    "from sklearn.linear_model import SGDClassifier\n",
    "\n",
    "import nltk\n",
    "from nltk import word_tokenize\n",
    "from nltk.probability import FreqDist\n",
    "from nltk.corpus import stopwords\n",
    "from nltk.stem import PorterStemmer\n",
    "\n",
    "import re\n",
    "import string\n",
    "\n",
    "import scipy\n",
    "from textblob import TextBlob\n",
    "\n",
    "nltk.download('stopwords')\n",
    "nltk.download('punkt')\n",
    "nltk.download('wordnet')"
   ]
  },
  {
   "cell_type": "code",
   "execution_count": 2,
   "metadata": {},
   "outputs": [
    {
     "name": "stderr",
     "output_type": "stream",
     "text": [
      "/Users/alecmccabe/opt/anaconda3/lib/python3.8/site-packages/tqdm/std.py:668: FutureWarning: The Panel class is removed from pandas. Accessing it from the top-level namespace will also be removed in the next version\n",
      "  from pandas import Panel\n"
     ]
    }
   ],
   "source": [
    "from tqdm import tqdm\n",
    "tqdm.pandas()"
   ]
  },
  {
   "cell_type": "code",
   "execution_count": 3,
   "metadata": {},
   "outputs": [],
   "source": [
    "import spacy\n",
    "import en_core_web_sm\n",
    "nlp = en_core_web_sm.load()"
   ]
  },
  {
   "cell_type": "code",
   "execution_count": 4,
   "metadata": {},
   "outputs": [],
   "source": [
    "from nltk.stem import WordNetLemmatizer \n",
    "  \n",
    "lemmatizer = WordNetLemmatizer()"
   ]
  },
  {
   "cell_type": "code",
   "execution_count": 5,
   "metadata": {},
   "outputs": [],
   "source": [
    "#set stopwords and punctuations\n",
    "stopwords = stopwords.words('english')\n",
    "stopwords += list(string.punctuation)\n",
    "stopwords += [\"n't\", \"' '\", \"'re'\",\"”\",\"``\",\"“\",\"''\",\"’\",\"'s\",\"'re\",\"http\",\n",
    "              \"https\",\"char\",\"reuters\",\"wall\",\"street\",\"journal\",\"photo\",\"\\n\"]"
   ]
  },
  {
   "cell_type": "code",
   "execution_count": 6,
   "metadata": {},
   "outputs": [],
   "source": [
    "domain_extensions = ['.com/','.org/','.net/','.co.uk/']\n",
    "\n",
    "def url_subpages(url):\n",
    "    for extension in domain_extensions:\n",
    "        try:\n",
    "            if extension in url:\n",
    "                re_test = re.search(extension,url)\n",
    "                start_pos = re_test.start()+len(extension)\n",
    "                cut = url[start_pos:]\n",
    "\n",
    "                re_test2 = re.search('/',cut)\n",
    "                end_pos = re_test2.start()\n",
    "                cut2 = cut[0:end_pos]\n",
    "\n",
    "                return cut2\n",
    "            else:\n",
    "                pass\n",
    "        except:\n",
    "            return \"no clear section\"\n"
   ]
  },
  {
   "cell_type": "code",
   "execution_count": 7,
   "metadata": {},
   "outputs": [],
   "source": [
    "def black_txt(token):\n",
    "    return  token not in stopwords and token not in list(string.punctuation)  and len(token)>3\n",
    "\n",
    "def clean_txt(text, string = True):\n",
    "    clean_text = []\n",
    "    clean_text2 = []\n",
    "    text = text.lower()\n",
    "    text = re.sub(\"'\", \"\",text)\n",
    "    text = re.sub(\"\\n\", \"\",text)\n",
    "    text = re.sub(\"(\\\\d|\\\\W)+\",\" \",text)\n",
    "    text = re.sub('time magazine','',text)\n",
    "    text = re.sub('breitbart','',text)\n",
    "    text = re.sub('click','',text)\n",
    "    \n",
    "    clean_text = [ lemmatizer.lemmatize(word, pos=\"v\") for word in word_tokenize(text) if black_txt(word)]\n",
    "    clean_text2 = [word for word in clean_text if black_txt(word)]\n",
    "    \n",
    "    if string == True:\n",
    "        return \" \".join(clean_text2)\n",
    "    else:\n",
    "        return clean_text2"
   ]
  },
  {
   "cell_type": "markdown",
   "metadata": {},
   "source": [
    "# Read and Clean"
   ]
  },
  {
   "cell_type": "code",
   "execution_count": 9,
   "metadata": {},
   "outputs": [],
   "source": [
    "#load in data\n",
    "data = pd.read_csv('initial_data2.csv', index_col = 0)\n",
    "data.reset_index(drop=True, inplace=True)\n",
    "data = data.drop_duplicates('url', keep = 'first')\n",
    "data.drop(['urlToImage'],axis=1,inplace=True)"
   ]
  },
  {
   "cell_type": "code",
   "execution_count": 10,
   "metadata": {},
   "outputs": [],
   "source": [
    "conditions = [\n",
    "    (data['content'].isna())\n",
    "]\n",
    "\n",
    "choices = [\n",
    "    (data['description'])\n",
    "]\n",
    "\n",
    "data['content'] = np.select(conditions, choices, data['content'])"
   ]
  },
  {
   "cell_type": "code",
   "execution_count": 11,
   "metadata": {},
   "outputs": [],
   "source": [
    "#drop where description is isna()\n",
    "to_drop = data[data['description'].isna()].index\n",
    "data.drop(to_drop, inplace=True)\n",
    "\n",
    "#drop where title is isna()\n",
    "to_drop = data[data['title'].isna()].index\n",
    "data.drop(to_drop, inplace=True)\n",
    "\n",
    "#drop where target is isna()\n",
    "to_drop = data[data['target'].isna()].index\n",
    "data.drop(to_drop, inplace=True)\n",
    "\n",
    "#drop where publishedAt is isna()\n",
    "to_drop = data[data['publishedAt'].isna()].index\n",
    "data.drop(to_drop, inplace=True)\n",
    "\n",
    "#drop where month is isna()\n",
    "to_drop = data[data['month'].isna()].index\n",
    "data.drop(to_drop, inplace=True)\n",
    "\n",
    "#drop where content is isna()\n",
    "to_drop = data[data['content'].isna()].index\n",
    "data.drop(to_drop, inplace=True)\n",
    "\n",
    "#drop where url is isna()\n",
    "to_drop = data[data['url'].isna()].index\n",
    "data.drop(to_drop, inplace=True)"
   ]
  },
  {
   "cell_type": "code",
   "execution_count": 12,
   "metadata": {},
   "outputs": [],
   "source": [
    "conditions = [\n",
    "    (data['author'].isna())\n",
    "]\n",
    "\n",
    "choices = [\n",
    "    ('unknown')\n",
    "]\n",
    "\n",
    "data['author'] = np.select(conditions, choices, data['author'])"
   ]
  },
  {
   "cell_type": "code",
   "execution_count": 13,
   "metadata": {},
   "outputs": [],
   "source": [
    "data.drop(['description'],axis=1,inplace=True)"
   ]
  },
  {
   "cell_type": "code",
   "execution_count": 14,
   "metadata": {},
   "outputs": [],
   "source": [
    "data=data.dropna()"
   ]
  },
  {
   "cell_type": "code",
   "execution_count": 15,
   "metadata": {},
   "outputs": [
    {
     "data": {
      "text/plain": [
       "source         0\n",
       "author         0\n",
       "title          0\n",
       "url            0\n",
       "publishedAt    0\n",
       "content        0\n",
       "target         0\n",
       "month          0\n",
       "full_text      0\n",
       "dtype: int64"
      ]
     },
     "execution_count": 15,
     "metadata": {},
     "output_type": "execute_result"
    }
   ],
   "source": [
    "data.isna().sum()"
   ]
  },
  {
   "cell_type": "code",
   "execution_count": 16,
   "metadata": {},
   "outputs": [],
   "source": [
    "to_drop = data[data['full_text']=='401 Error'].index\n",
    "data.drop(to_drop, inplace=True)"
   ]
  },
  {
   "cell_type": "code",
   "execution_count": 17,
   "metadata": {},
   "outputs": [],
   "source": [
    "data['url_subpages'] = data['url'].apply(url_subpages)"
   ]
  },
  {
   "cell_type": "code",
   "execution_count": 18,
   "metadata": {},
   "outputs": [
    {
     "data": {
      "text/plain": [
       "news                10365\n",
       "no clear section     6805\n",
       "article              3982\n",
       "2020                 3125\n",
       "politics             2140\n",
       "en_us                2137\n",
       "homenews             2019\n",
       "video                1507\n",
       "intelligencer        1247\n",
       "Politics             1151\n",
       "sport                1020\n",
       "videos                967\n",
       "health                842\n",
       "msnbc                 533\n",
       "states                452\n",
       "__i                   409\n",
       "Health                408\n",
       "US                    371\n",
       "morning-joe           313\n",
       "corner                275\n",
       "articles              272\n",
       "sports                260\n",
       "europe                255\n",
       "clips                 252\n",
       "entertainment         246\n",
       "Name: url_subpages, dtype: int64"
      ]
     },
     "execution_count": 18,
     "metadata": {},
     "output_type": "execute_result"
    }
   ],
   "source": [
    "data.url_subpages.value_counts().head(25)"
   ]
  },
  {
   "cell_type": "code",
   "execution_count": 19,
   "metadata": {},
   "outputs": [
    {
     "data": {
      "text/html": [
       "<div>\n",
       "<style scoped>\n",
       "    .dataframe tbody tr th:only-of-type {\n",
       "        vertical-align: middle;\n",
       "    }\n",
       "\n",
       "    .dataframe tbody tr th {\n",
       "        vertical-align: top;\n",
       "    }\n",
       "\n",
       "    .dataframe thead th {\n",
       "        text-align: right;\n",
       "    }\n",
       "</style>\n",
       "<table border=\"1\" class=\"dataframe\">\n",
       "  <thead>\n",
       "    <tr style=\"text-align: right;\">\n",
       "      <th></th>\n",
       "      <th>source</th>\n",
       "      <th>author</th>\n",
       "      <th>title</th>\n",
       "      <th>url</th>\n",
       "      <th>publishedAt</th>\n",
       "      <th>content</th>\n",
       "      <th>target</th>\n",
       "      <th>month</th>\n",
       "      <th>full_text</th>\n",
       "      <th>url_subpages</th>\n",
       "    </tr>\n",
       "  </thead>\n",
       "  <tbody>\n",
       "    <tr>\n",
       "      <th>2737</th>\n",
       "      <td>msnbc</td>\n",
       "      <td>Hayes Brown</td>\n",
       "      <td>Trump couldn't let the election be about anyth...</td>\n",
       "      <td>https://www.msnbc.com/opinion/trump-made-sure-...</td>\n",
       "      <td>2020-11-04 11:24:43+00:00</td>\n",
       "      <td>Progressive policies, the pandemic, the police...</td>\n",
       "      <td>far_left</td>\n",
       "      <td>11.0</td>\n",
       "      <td>Progressive policies, the pandemic, the police...</td>\n",
       "      <td>opinion</td>\n",
       "    </tr>\n",
       "    <tr>\n",
       "      <th>4570</th>\n",
       "      <td>msnbc</td>\n",
       "      <td>Joshua Johnson</td>\n",
       "      <td>America's lack of Covid-19 accountability sugg...</td>\n",
       "      <td>https://www.msnbc.com/opinion/america-s-covid-...</td>\n",
       "      <td>2020-10-14 09:00:11+00:00</td>\n",
       "      <td>America's Covid-19 crisis raises a big questio...</td>\n",
       "      <td>far_left</td>\n",
       "      <td>10.0</td>\n",
       "      <td>America's Covid-19 crisis raises a big questio...</td>\n",
       "      <td>opinion</td>\n",
       "    </tr>\n",
       "    <tr>\n",
       "      <th>5058</th>\n",
       "      <td>msnbc</td>\n",
       "      <td>Dr. Kavita Patel</td>\n",
       "      <td>Trump's viral misinformation is spreading fast...</td>\n",
       "      <td>https://www.msnbc.com/opinion/trump-patient-ze...</td>\n",
       "      <td>2020-10-19 19:01:19+00:00</td>\n",
       "      <td>The United States has been caught in the throe...</td>\n",
       "      <td>far_left</td>\n",
       "      <td>10.0</td>\n",
       "      <td>The United States has been caught in the throe...</td>\n",
       "      <td>opinion</td>\n",
       "    </tr>\n",
       "    <tr>\n",
       "      <th>13644</th>\n",
       "      <td>bloomberg</td>\n",
       "      <td>unknown</td>\n",
       "      <td>Iceland Is The Perfect Coronavirus Refuge</td>\n",
       "      <td>https://www.bloomberg.com/opinion/articles/202...</td>\n",
       "      <td>2020-05-18 01:11:01+00:00</td>\n",
       "      <td>A nasal swab is a small price to pay to visit ...</td>\n",
       "      <td>left</td>\n",
       "      <td>5.0</td>\n",
       "      <td>Why did this happen?\\n\\nPlease make sure your ...</td>\n",
       "      <td>opinion</td>\n",
       "    </tr>\n",
       "    <tr>\n",
       "      <th>13716</th>\n",
       "      <td>bloomberg</td>\n",
       "      <td>unknown</td>\n",
       "      <td>This New Coronavirus Wave Isn't Like The Old Wave</td>\n",
       "      <td>https://www.bloomberg.com/opinion/articles/202...</td>\n",
       "      <td>2020-07-02 19:23:44+00:00</td>\n",
       "      <td>Arizona, Florida and Texas aren't facing the s...</td>\n",
       "      <td>left</td>\n",
       "      <td>7.0</td>\n",
       "      <td>Why did this happen?\\n\\nPlease make sure your ...</td>\n",
       "      <td>opinion</td>\n",
       "    </tr>\n",
       "    <tr>\n",
       "      <th>...</th>\n",
       "      <td>...</td>\n",
       "      <td>...</td>\n",
       "      <td>...</td>\n",
       "      <td>...</td>\n",
       "      <td>...</td>\n",
       "      <td>...</td>\n",
       "      <td>...</td>\n",
       "      <td>...</td>\n",
       "      <td>...</td>\n",
       "      <td>...</td>\n",
       "    </tr>\n",
       "    <tr>\n",
       "      <th>53179</th>\n",
       "      <td>fox-news</td>\n",
       "      <td>Rear Adm. John Polowczyk</td>\n",
       "      <td>Rear Adm. John Polowczyk: FEMA’s coronavirus r...</td>\n",
       "      <td>https://www.foxnews.com/opinion/rear-adm-john-...</td>\n",
       "      <td>2020-05-06 12:00:46+00:00</td>\n",
       "      <td>Get all the latest news on coronavirus and mor...</td>\n",
       "      <td>right</td>\n",
       "      <td>5.0</td>\n",
       "      <td>Get all the latest news on coronavirus and mor...</td>\n",
       "      <td>opinion</td>\n",
       "    </tr>\n",
       "    <tr>\n",
       "      <th>53180</th>\n",
       "      <td>fox-news</td>\n",
       "      <td>Wall Street Journal Editorial Board</td>\n",
       "      <td>WSJ Editorial Board: Coronavirus crisis -- Why...</td>\n",
       "      <td>https://www.foxnews.com/opinion/coronavirus-ta...</td>\n",
       "      <td>2020-05-05 11:50:38+00:00</td>\n",
       "      <td>Get all the latest news on coronavirus and mor...</td>\n",
       "      <td>right</td>\n",
       "      <td>5.0</td>\n",
       "      <td>Get all the latest news on coronavirus and mor...</td>\n",
       "      <td>opinion</td>\n",
       "    </tr>\n",
       "    <tr>\n",
       "      <th>53219</th>\n",
       "      <td>fox-news</td>\n",
       "      <td>Brian Arbour</td>\n",
       "      <td>Brian Arbour: Coronavirus economy – Trump's re...</td>\n",
       "      <td>https://www.foxnews.com/opinion/coronavirus-ec...</td>\n",
       "      <td>2020-05-12 11:00:15+00:00</td>\n",
       "      <td>Get all the latest news on coronavirus and mor...</td>\n",
       "      <td>right</td>\n",
       "      <td>5.0</td>\n",
       "      <td>Get all the latest news on coronavirus and mor...</td>\n",
       "      <td>opinion</td>\n",
       "    </tr>\n",
       "    <tr>\n",
       "      <th>53452</th>\n",
       "      <td>fox-news</td>\n",
       "      <td>Andy Barr</td>\n",
       "      <td>Rep. Andy Barr: Coronavirus — Congress, make C...</td>\n",
       "      <td>https://www.foxnews.com/opinion/coronavirus-ch...</td>\n",
       "      <td>2020-04-24 10:00:20+00:00</td>\n",
       "      <td>Get all the latest news on coronavirus and mor...</td>\n",
       "      <td>right</td>\n",
       "      <td>4.0</td>\n",
       "      <td>Get all the latest news on coronavirus and mor...</td>\n",
       "      <td>opinion</td>\n",
       "    </tr>\n",
       "    <tr>\n",
       "      <th>53469</th>\n",
       "      <td>fox-news</td>\n",
       "      <td>Rand Paul</td>\n",
       "      <td>Sen. Rand Paul: Coronavirus reaction — Is your...</td>\n",
       "      <td>https://www.foxnews.com/opinion/coronavirus-re...</td>\n",
       "      <td>2020-05-07 09:00:44+00:00</td>\n",
       "      <td>Get all the latest news on coronavirus and mor...</td>\n",
       "      <td>right</td>\n",
       "      <td>5.0</td>\n",
       "      <td>Get all the latest news on coronavirus and mor...</td>\n",
       "      <td>opinion</td>\n",
       "    </tr>\n",
       "  </tbody>\n",
       "</table>\n",
       "<p>73 rows × 10 columns</p>\n",
       "</div>"
      ],
      "text/plain": [
       "          source                               author  \\\n",
       "2737       msnbc                          Hayes Brown   \n",
       "4570       msnbc                       Joshua Johnson   \n",
       "5058       msnbc                     Dr. Kavita Patel   \n",
       "13644  bloomberg                              unknown   \n",
       "13716  bloomberg                              unknown   \n",
       "...          ...                                  ...   \n",
       "53179   fox-news             Rear Adm. John Polowczyk   \n",
       "53180   fox-news  Wall Street Journal Editorial Board   \n",
       "53219   fox-news                         Brian Arbour   \n",
       "53452   fox-news                            Andy Barr   \n",
       "53469   fox-news                            Rand Paul   \n",
       "\n",
       "                                                   title  \\\n",
       "2737   Trump couldn't let the election be about anyth...   \n",
       "4570   America's lack of Covid-19 accountability sugg...   \n",
       "5058   Trump's viral misinformation is spreading fast...   \n",
       "13644          Iceland Is The Perfect Coronavirus Refuge   \n",
       "13716  This New Coronavirus Wave Isn't Like The Old Wave   \n",
       "...                                                  ...   \n",
       "53179  Rear Adm. John Polowczyk: FEMA’s coronavirus r...   \n",
       "53180  WSJ Editorial Board: Coronavirus crisis -- Why...   \n",
       "53219  Brian Arbour: Coronavirus economy – Trump's re...   \n",
       "53452  Rep. Andy Barr: Coronavirus — Congress, make C...   \n",
       "53469  Sen. Rand Paul: Coronavirus reaction — Is your...   \n",
       "\n",
       "                                                     url  \\\n",
       "2737   https://www.msnbc.com/opinion/trump-made-sure-...   \n",
       "4570   https://www.msnbc.com/opinion/america-s-covid-...   \n",
       "5058   https://www.msnbc.com/opinion/trump-patient-ze...   \n",
       "13644  https://www.bloomberg.com/opinion/articles/202...   \n",
       "13716  https://www.bloomberg.com/opinion/articles/202...   \n",
       "...                                                  ...   \n",
       "53179  https://www.foxnews.com/opinion/rear-adm-john-...   \n",
       "53180  https://www.foxnews.com/opinion/coronavirus-ta...   \n",
       "53219  https://www.foxnews.com/opinion/coronavirus-ec...   \n",
       "53452  https://www.foxnews.com/opinion/coronavirus-ch...   \n",
       "53469  https://www.foxnews.com/opinion/coronavirus-re...   \n",
       "\n",
       "                     publishedAt  \\\n",
       "2737   2020-11-04 11:24:43+00:00   \n",
       "4570   2020-10-14 09:00:11+00:00   \n",
       "5058   2020-10-19 19:01:19+00:00   \n",
       "13644  2020-05-18 01:11:01+00:00   \n",
       "13716  2020-07-02 19:23:44+00:00   \n",
       "...                          ...   \n",
       "53179  2020-05-06 12:00:46+00:00   \n",
       "53180  2020-05-05 11:50:38+00:00   \n",
       "53219  2020-05-12 11:00:15+00:00   \n",
       "53452  2020-04-24 10:00:20+00:00   \n",
       "53469  2020-05-07 09:00:44+00:00   \n",
       "\n",
       "                                                 content    target  month  \\\n",
       "2737   Progressive policies, the pandemic, the police...  far_left   11.0   \n",
       "4570   America's Covid-19 crisis raises a big questio...  far_left   10.0   \n",
       "5058   The United States has been caught in the throe...  far_left   10.0   \n",
       "13644  A nasal swab is a small price to pay to visit ...      left    5.0   \n",
       "13716  Arizona, Florida and Texas aren't facing the s...      left    7.0   \n",
       "...                                                  ...       ...    ...   \n",
       "53179  Get all the latest news on coronavirus and mor...     right    5.0   \n",
       "53180  Get all the latest news on coronavirus and mor...     right    5.0   \n",
       "53219  Get all the latest news on coronavirus and mor...     right    5.0   \n",
       "53452  Get all the latest news on coronavirus and mor...     right    4.0   \n",
       "53469  Get all the latest news on coronavirus and mor...     right    5.0   \n",
       "\n",
       "                                               full_text url_subpages  \n",
       "2737   Progressive policies, the pandemic, the police...      opinion  \n",
       "4570   America's Covid-19 crisis raises a big questio...      opinion  \n",
       "5058   The United States has been caught in the throe...      opinion  \n",
       "13644  Why did this happen?\\n\\nPlease make sure your ...      opinion  \n",
       "13716  Why did this happen?\\n\\nPlease make sure your ...      opinion  \n",
       "...                                                  ...          ...  \n",
       "53179  Get all the latest news on coronavirus and mor...      opinion  \n",
       "53180  Get all the latest news on coronavirus and mor...      opinion  \n",
       "53219  Get all the latest news on coronavirus and mor...      opinion  \n",
       "53452  Get all the latest news on coronavirus and mor...      opinion  \n",
       "53469  Get all the latest news on coronavirus and mor...      opinion  \n",
       "\n",
       "[73 rows x 10 columns]"
      ]
     },
     "execution_count": 19,
     "metadata": {},
     "output_type": "execute_result"
    }
   ],
   "source": [
    "data[data['url_subpages']=='opinion']"
   ]
  },
  {
   "cell_type": "code",
   "execution_count": 20,
   "metadata": {},
   "outputs": [],
   "source": [
    "data['predictor'] = data['title'] + ' ' + data['full_text']"
   ]
  },
  {
   "cell_type": "code",
   "execution_count": 21,
   "metadata": {},
   "outputs": [
    {
     "name": "stderr",
     "output_type": "stream",
     "text": [
      "100%|██████████| 49274/49274 [00:00<00:00, 470468.29it/s]\n"
     ]
    }
   ],
   "source": [
    "data['pred_len'] = data['predictor'].progress_apply(len)\n",
    "data = data[data['pred_len']<9000]"
   ]
  },
  {
   "cell_type": "markdown",
   "metadata": {},
   "source": [
    "# Feature Engineering"
   ]
  },
  {
   "cell_type": "code",
   "execution_count": 22,
   "metadata": {},
   "outputs": [],
   "source": [
    "blob = TextBlob((data.predictor[1]))"
   ]
  },
  {
   "cell_type": "code",
   "execution_count": 23,
   "metadata": {},
   "outputs": [],
   "source": [
    "import textacy\n",
    "\n",
    "def get_basic_stat(text):\n",
    "    doc = textacy.make_spacy_doc(text, lang=nlp)\n",
    "    ts = textacy.TextStats(doc)\n",
    "    \n",
    "    basic_stats = {'n_chars': ts.n_chars,\n",
    "                   'n_long_words':ts.n_long_words ,\n",
    "                   'n_monosyllable_words': ts.n_monosyllable_words,\n",
    "                   'n_polysyllable_words': ts.n_polysyllable_words,\n",
    "                   'n_sents': ts.n_sents,\n",
    "                   'n_syllables': ts.n_syllables,\n",
    "                   'n_unique_words': ts.n_unique_words,\n",
    "                   'n_words': ts.n_words}\n",
    "    return  basic_stats"
   ]
  },
  {
   "cell_type": "code",
   "execution_count": null,
   "metadata": {},
   "outputs": [],
   "source": [
    "def get_n_long_words(text):\n",
    "    doc = textacy.make_spacy_doc(text, lang=nlp)\n",
    "    ts = textacy.TextStats(doc)\n",
    "    \n",
    "    n_words = ts.n_words\n",
    "    \n",
    "    return ts.n_long_words / n_words"
   ]
  },
  {
   "cell_type": "code",
   "execution_count": null,
   "metadata": {},
   "outputs": [],
   "source": [
    "def get_n_monosyllable_words(text):\n",
    "    doc = textacy.make_spacy_doc(text, lang=nlp)\n",
    "    ts = textacy.TextStats(doc)\n",
    "    \n",
    "    n_words = ts.n_words\n",
    "    \n",
    "    return ts.n_monosyllable_words / n_words"
   ]
  },
  {
   "cell_type": "code",
   "execution_count": null,
   "metadata": {},
   "outputs": [],
   "source": [
    "def get_n_polysyllable_words(text):\n",
    "    doc = textacy.make_spacy_doc(text, lang=nlp)\n",
    "    ts = textacy.TextStats(doc)\n",
    "    \n",
    "    n_words = ts.n_words\n",
    "    \n",
    "    return ts.n_polysyllable_words / n_words"
   ]
  },
  {
   "cell_type": "code",
   "execution_count": null,
   "metadata": {},
   "outputs": [],
   "source": [
    "def get_n_unique_words(text):\n",
    "    doc = textacy.make_spacy_doc(text, lang=nlp)\n",
    "    ts = textacy.TextStats(doc)\n",
    "    \n",
    "    n_words = ts.n_words\n",
    "    \n",
    "    return ts.n_unique_words / n_words"
   ]
  },
  {
   "cell_type": "code",
   "execution_count": null,
   "metadata": {},
   "outputs": [],
   "source": []
  },
  {
   "cell_type": "code",
   "execution_count": null,
   "metadata": {},
   "outputs": [],
   "source": []
  },
  {
   "cell_type": "code",
   "execution_count": 24,
   "metadata": {},
   "outputs": [
    {
     "name": "stderr",
     "output_type": "stream",
     "text": [
      "/Users/alecmccabe/opt/anaconda3/lib/python3.8/site-packages/tqdm/std.py:668: FutureWarning: The Panel class is removed from pandas. Accessing it from the top-level namespace will also be removed in the next version\n",
      "  from pandas import Panel\n",
      "100%|██████████| 46314/46314 [46:43<00:00, 16.52it/s]  \n"
     ]
    }
   ],
   "source": [
    "tqdm.pandas()\n",
    "data['Stats'] = data['predictor'].progress_apply(get_basic_stat)"
   ]
  },
  {
   "cell_type": "code",
   "execution_count": 25,
   "metadata": {},
   "outputs": [],
   "source": [
    "data['n_words'] = data['Stats'].apply(lambda x: x['n_words'])\n",
    "\n",
    "data['n_long_words'] = data['Stats'].apply(lambda x: x['n_long_words'] / x['n_words'])\n",
    "\n",
    "data['n_monosyllable_words'] = data['Stats'].apply(lambda x: x['n_monosyllable_words'] / x['n_words'])\n",
    "\n",
    "data['n_polysyllable_words'] = data['Stats'].apply(lambda x: x['n_polysyllable_words'] / x['n_words'])\n",
    "\n",
    "data['n_unique_words'] = data['Stats'].apply(lambda x: x['n_unique_words'] / x['n_words'])"
   ]
  },
  {
   "cell_type": "code",
   "execution_count": 26,
   "metadata": {},
   "outputs": [],
   "source": [
    "data = data[data['n_words']>150]"
   ]
  },
  {
   "cell_type": "code",
   "execution_count": 27,
   "metadata": {},
   "outputs": [
    {
     "data": {
      "text/plain": [
       "left         15327\n",
       "center        8375\n",
       "far_left      5080\n",
       "far_right     3147\n",
       "right         2333\n",
       "Name: target, dtype: int64"
      ]
     },
     "execution_count": 27,
     "metadata": {},
     "output_type": "execute_result"
    }
   ],
   "source": [
    "data.target.value_counts()"
   ]
  },
  {
   "cell_type": "markdown",
   "metadata": {},
   "source": [
    "**Textblob and sentiment**"
   ]
  },
  {
   "cell_type": "code",
   "execution_count": 28,
   "metadata": {},
   "outputs": [],
   "source": [
    "def polarity_txt(text):\n",
    "    return TextBlob(text).sentiment[0]"
   ]
  },
  {
   "cell_type": "code",
   "execution_count": 29,
   "metadata": {},
   "outputs": [],
   "source": [
    "def subj_txt(text):\n",
    "    return  TextBlob(text).sentiment[1]"
   ]
  },
  {
   "cell_type": "code",
   "execution_count": 30,
   "metadata": {},
   "outputs": [
    {
     "name": "stderr",
     "output_type": "stream",
     "text": [
      "100%|██████████| 34262/34262 [01:57<00:00, 291.61it/s]\n"
     ]
    },
    {
     "data": {
      "text/html": [
       "<div>\n",
       "<style scoped>\n",
       "    .dataframe tbody tr th:only-of-type {\n",
       "        vertical-align: middle;\n",
       "    }\n",
       "\n",
       "    .dataframe tbody tr th {\n",
       "        vertical-align: top;\n",
       "    }\n",
       "\n",
       "    .dataframe thead th {\n",
       "        text-align: right;\n",
       "    }\n",
       "</style>\n",
       "<table border=\"1\" class=\"dataframe\">\n",
       "  <thead>\n",
       "    <tr style=\"text-align: right;\">\n",
       "      <th></th>\n",
       "      <th>source</th>\n",
       "      <th>author</th>\n",
       "      <th>title</th>\n",
       "      <th>url</th>\n",
       "      <th>publishedAt</th>\n",
       "      <th>content</th>\n",
       "      <th>target</th>\n",
       "      <th>month</th>\n",
       "      <th>full_text</th>\n",
       "      <th>url_subpages</th>\n",
       "      <th>predictor</th>\n",
       "      <th>pred_len</th>\n",
       "      <th>Stats</th>\n",
       "      <th>n_words</th>\n",
       "      <th>n_long_words</th>\n",
       "      <th>n_monosyllable_words</th>\n",
       "      <th>n_polysyllable_words</th>\n",
       "      <th>n_unique_words</th>\n",
       "      <th>polarity</th>\n",
       "    </tr>\n",
       "  </thead>\n",
       "  <tbody>\n",
       "    <tr>\n",
       "      <th>2</th>\n",
       "      <td>buzzfeed</td>\n",
       "      <td>[{\"@type\":\"Person\",\"name\":\"Hannah Ryan\",\"url\":...</td>\n",
       "      <td>Activists Are Using Negative Online Reviews To...</td>\n",
       "      <td>https://www.buzzfeed.com/hannahryan/coronaviru...</td>\n",
       "      <td>2020-04-30 23:20:48+00:00</td>\n",
       "      <td>Abdulla Moradi is one of about 120 people deta...</td>\n",
       "      <td>far_left</td>\n",
       "      <td>4.0</td>\n",
       "      <td>Hotel chains whose facilities have been used f...</td>\n",
       "      <td>hannahryan</td>\n",
       "      <td>Activists Are Using Negative Online Reviews To...</td>\n",
       "      <td>1690</td>\n",
       "      <td>{'n_chars': 1386, 'n_long_words': 79, 'n_monos...</td>\n",
       "      <td>269</td>\n",
       "      <td>0.293680</td>\n",
       "      <td>0.609665</td>\n",
       "      <td>0.118959</td>\n",
       "      <td>0.572491</td>\n",
       "      <td>0.015668</td>\n",
       "    </tr>\n",
       "    <tr>\n",
       "      <th>3</th>\n",
       "      <td>buzzfeed</td>\n",
       "      <td>[{\"@type\":\"Person\",\"name\":\"Gina Rushton\",\"url\"...</td>\n",
       "      <td>If You’re About To Start Full-Time Work, The C...</td>\n",
       "      <td>https://www.buzzfeed.com/ginarushton/coronavir...</td>\n",
       "      <td>2020-04-29 20:06:42+00:00</td>\n",
       "      <td>Young Australians starting their first job in ...</td>\n",
       "      <td>far_left</td>\n",
       "      <td>4.0</td>\n",
       "      <td>Young Australians starting their first job in ...</td>\n",
       "      <td>ginarushton</td>\n",
       "      <td>If You’re About To Start Full-Time Work, The C...</td>\n",
       "      <td>2434</td>\n",
       "      <td>{'n_chars': 1938, 'n_long_words': 79, 'n_monos...</td>\n",
       "      <td>431</td>\n",
       "      <td>0.183295</td>\n",
       "      <td>0.735499</td>\n",
       "      <td>0.085847</td>\n",
       "      <td>0.531323</td>\n",
       "      <td>-0.020759</td>\n",
       "    </tr>\n",
       "  </tbody>\n",
       "</table>\n",
       "</div>"
      ],
      "text/plain": [
       "     source                                             author  \\\n",
       "2  buzzfeed  [{\"@type\":\"Person\",\"name\":\"Hannah Ryan\",\"url\":...   \n",
       "3  buzzfeed  [{\"@type\":\"Person\",\"name\":\"Gina Rushton\",\"url\"...   \n",
       "\n",
       "                                               title  \\\n",
       "2  Activists Are Using Negative Online Reviews To...   \n",
       "3  If You’re About To Start Full-Time Work, The C...   \n",
       "\n",
       "                                                 url  \\\n",
       "2  https://www.buzzfeed.com/hannahryan/coronaviru...   \n",
       "3  https://www.buzzfeed.com/ginarushton/coronavir...   \n",
       "\n",
       "                 publishedAt  \\\n",
       "2  2020-04-30 23:20:48+00:00   \n",
       "3  2020-04-29 20:06:42+00:00   \n",
       "\n",
       "                                             content    target  month  \\\n",
       "2  Abdulla Moradi is one of about 120 people deta...  far_left    4.0   \n",
       "3  Young Australians starting their first job in ...  far_left    4.0   \n",
       "\n",
       "                                           full_text url_subpages  \\\n",
       "2  Hotel chains whose facilities have been used f...   hannahryan   \n",
       "3  Young Australians starting their first job in ...  ginarushton   \n",
       "\n",
       "                                           predictor  pred_len  \\\n",
       "2  Activists Are Using Negative Online Reviews To...      1690   \n",
       "3  If You’re About To Start Full-Time Work, The C...      2434   \n",
       "\n",
       "                                               Stats  n_words  n_long_words  \\\n",
       "2  {'n_chars': 1386, 'n_long_words': 79, 'n_monos...      269      0.293680   \n",
       "3  {'n_chars': 1938, 'n_long_words': 79, 'n_monos...      431      0.183295   \n",
       "\n",
       "   n_monosyllable_words  n_polysyllable_words  n_unique_words  polarity  \n",
       "2              0.609665              0.118959        0.572491  0.015668  \n",
       "3              0.735499              0.085847        0.531323 -0.020759  "
      ]
     },
     "execution_count": 30,
     "metadata": {},
     "output_type": "execute_result"
    }
   ],
   "source": [
    "data['polarity'] = data['predictor'].progress_apply(polarity_txt)\n",
    "data.head(2)"
   ]
  },
  {
   "cell_type": "code",
   "execution_count": 31,
   "metadata": {},
   "outputs": [
    {
     "name": "stderr",
     "output_type": "stream",
     "text": [
      "100%|██████████| 34262/34262 [02:25<00:00, 235.67it/s]\n"
     ]
    },
    {
     "data": {
      "text/html": [
       "<div>\n",
       "<style scoped>\n",
       "    .dataframe tbody tr th:only-of-type {\n",
       "        vertical-align: middle;\n",
       "    }\n",
       "\n",
       "    .dataframe tbody tr th {\n",
       "        vertical-align: top;\n",
       "    }\n",
       "\n",
       "    .dataframe thead th {\n",
       "        text-align: right;\n",
       "    }\n",
       "</style>\n",
       "<table border=\"1\" class=\"dataframe\">\n",
       "  <thead>\n",
       "    <tr style=\"text-align: right;\">\n",
       "      <th></th>\n",
       "      <th>source</th>\n",
       "      <th>author</th>\n",
       "      <th>title</th>\n",
       "      <th>url</th>\n",
       "      <th>publishedAt</th>\n",
       "      <th>content</th>\n",
       "      <th>target</th>\n",
       "      <th>month</th>\n",
       "      <th>full_text</th>\n",
       "      <th>url_subpages</th>\n",
       "      <th>predictor</th>\n",
       "      <th>pred_len</th>\n",
       "      <th>Stats</th>\n",
       "      <th>n_words</th>\n",
       "      <th>n_long_words</th>\n",
       "      <th>n_monosyllable_words</th>\n",
       "      <th>n_polysyllable_words</th>\n",
       "      <th>n_unique_words</th>\n",
       "      <th>polarity</th>\n",
       "      <th>subjectivity</th>\n",
       "    </tr>\n",
       "  </thead>\n",
       "  <tbody>\n",
       "    <tr>\n",
       "      <th>2</th>\n",
       "      <td>buzzfeed</td>\n",
       "      <td>[{\"@type\":\"Person\",\"name\":\"Hannah Ryan\",\"url\":...</td>\n",
       "      <td>Activists Are Using Negative Online Reviews To...</td>\n",
       "      <td>https://www.buzzfeed.com/hannahryan/coronaviru...</td>\n",
       "      <td>2020-04-30 23:20:48+00:00</td>\n",
       "      <td>Abdulla Moradi is one of about 120 people deta...</td>\n",
       "      <td>far_left</td>\n",
       "      <td>4.0</td>\n",
       "      <td>Hotel chains whose facilities have been used f...</td>\n",
       "      <td>hannahryan</td>\n",
       "      <td>Activists Are Using Negative Online Reviews To...</td>\n",
       "      <td>1690</td>\n",
       "      <td>{'n_chars': 1386, 'n_long_words': 79, 'n_monos...</td>\n",
       "      <td>269</td>\n",
       "      <td>0.293680</td>\n",
       "      <td>0.609665</td>\n",
       "      <td>0.118959</td>\n",
       "      <td>0.572491</td>\n",
       "      <td>0.015668</td>\n",
       "      <td>0.355131</td>\n",
       "    </tr>\n",
       "    <tr>\n",
       "      <th>3</th>\n",
       "      <td>buzzfeed</td>\n",
       "      <td>[{\"@type\":\"Person\",\"name\":\"Gina Rushton\",\"url\"...</td>\n",
       "      <td>If You’re About To Start Full-Time Work, The C...</td>\n",
       "      <td>https://www.buzzfeed.com/ginarushton/coronavir...</td>\n",
       "      <td>2020-04-29 20:06:42+00:00</td>\n",
       "      <td>Young Australians starting their first job in ...</td>\n",
       "      <td>far_left</td>\n",
       "      <td>4.0</td>\n",
       "      <td>Young Australians starting their first job in ...</td>\n",
       "      <td>ginarushton</td>\n",
       "      <td>If You’re About To Start Full-Time Work, The C...</td>\n",
       "      <td>2434</td>\n",
       "      <td>{'n_chars': 1938, 'n_long_words': 79, 'n_monos...</td>\n",
       "      <td>431</td>\n",
       "      <td>0.183295</td>\n",
       "      <td>0.735499</td>\n",
       "      <td>0.085847</td>\n",
       "      <td>0.531323</td>\n",
       "      <td>-0.020759</td>\n",
       "      <td>0.294318</td>\n",
       "    </tr>\n",
       "  </tbody>\n",
       "</table>\n",
       "</div>"
      ],
      "text/plain": [
       "     source                                             author  \\\n",
       "2  buzzfeed  [{\"@type\":\"Person\",\"name\":\"Hannah Ryan\",\"url\":...   \n",
       "3  buzzfeed  [{\"@type\":\"Person\",\"name\":\"Gina Rushton\",\"url\"...   \n",
       "\n",
       "                                               title  \\\n",
       "2  Activists Are Using Negative Online Reviews To...   \n",
       "3  If You’re About To Start Full-Time Work, The C...   \n",
       "\n",
       "                                                 url  \\\n",
       "2  https://www.buzzfeed.com/hannahryan/coronaviru...   \n",
       "3  https://www.buzzfeed.com/ginarushton/coronavir...   \n",
       "\n",
       "                 publishedAt  \\\n",
       "2  2020-04-30 23:20:48+00:00   \n",
       "3  2020-04-29 20:06:42+00:00   \n",
       "\n",
       "                                             content    target  month  \\\n",
       "2  Abdulla Moradi is one of about 120 people deta...  far_left    4.0   \n",
       "3  Young Australians starting their first job in ...  far_left    4.0   \n",
       "\n",
       "                                           full_text url_subpages  \\\n",
       "2  Hotel chains whose facilities have been used f...   hannahryan   \n",
       "3  Young Australians starting their first job in ...  ginarushton   \n",
       "\n",
       "                                           predictor  pred_len  \\\n",
       "2  Activists Are Using Negative Online Reviews To...      1690   \n",
       "3  If You’re About To Start Full-Time Work, The C...      2434   \n",
       "\n",
       "                                               Stats  n_words  n_long_words  \\\n",
       "2  {'n_chars': 1386, 'n_long_words': 79, 'n_monos...      269      0.293680   \n",
       "3  {'n_chars': 1938, 'n_long_words': 79, 'n_monos...      431      0.183295   \n",
       "\n",
       "   n_monosyllable_words  n_polysyllable_words  n_unique_words  polarity  \\\n",
       "2              0.609665              0.118959        0.572491  0.015668   \n",
       "3              0.735499              0.085847        0.531323 -0.020759   \n",
       "\n",
       "   subjectivity  \n",
       "2      0.355131  \n",
       "3      0.294318  "
      ]
     },
     "execution_count": 31,
     "metadata": {},
     "output_type": "execute_result"
    }
   ],
   "source": [
    "data['subjectivity'] = data['predictor'].progress_apply(subj_txt)\n",
    "data.head(2)"
   ]
  },
  {
   "cell_type": "code",
   "execution_count": 32,
   "metadata": {},
   "outputs": [],
   "source": [
    "import seaborn as sns"
   ]
  },
  {
   "cell_type": "code",
   "execution_count": 33,
   "metadata": {},
   "outputs": [
    {
     "data": {
      "text/plain": [
       "left         15327\n",
       "center        8375\n",
       "far_left      5080\n",
       "far_right     3147\n",
       "right         2333\n",
       "Name: target, dtype: int64"
      ]
     },
     "execution_count": 33,
     "metadata": {},
     "output_type": "execute_result"
    }
   ],
   "source": [
    "data.target.value_counts()"
   ]
  },
  {
   "cell_type": "code",
   "execution_count": 34,
   "metadata": {},
   "outputs": [],
   "source": [
    "from matplotlib import pyplot as plt\n",
    "import seaborn as sns\n",
    "sns.set(style=\"darkgrid\")"
   ]
  },
  {
   "cell_type": "code",
   "execution_count": 35,
   "metadata": {},
   "outputs": [
    {
     "data": {
      "text/plain": [
       "<matplotlib.lines.Line2D at 0x13036a5b0>"
      ]
     },
     "execution_count": 35,
     "metadata": {},
     "output_type": "execute_result"
    },
    {
     "data": {
      "image/png": "[encoded data removed]",
      "text/plain": [
       "<Figure size 432x288 with 1 Axes>"
      ]
     },
     "metadata": {},
     "output_type": "display_data"
    }
   ],
   "source": [
    "graph = sns.countplot(x='target', data=data)\n",
    "graph.axhline(3147)"
   ]
  },
  {
   "cell_type": "markdown",
   "metadata": {},
   "source": [
    "# Test Dummy"
   ]
  },
  {
   "cell_type": "code",
   "execution_count": 36,
   "metadata": {},
   "outputs": [],
   "source": [
    "#Dummy Classifier\n",
    "from sklearn.dummy import DummyClassifier\n",
    "X = data['predictor']\n",
    "y = data['target']\n",
    "\n",
    "dummy_cf = DummyClassifier(strategy='stratified')\n",
    "dummy_cf.fit(X,y)\n",
    "y_preds = dummy_cf.predict(X)\n",
    "\n",
    "accuracy = dummy_cf.score(X,y)\n"
   ]
  },
  {
   "cell_type": "code",
   "execution_count": 37,
   "metadata": {},
   "outputs": [
    {
     "data": {
      "text/html": [
       "<div>\n",
       "<style scoped>\n",
       "    .dataframe tbody tr th:only-of-type {\n",
       "        vertical-align: middle;\n",
       "    }\n",
       "\n",
       "    .dataframe tbody tr th {\n",
       "        vertical-align: top;\n",
       "    }\n",
       "\n",
       "    .dataframe thead th {\n",
       "        text-align: right;\n",
       "    }\n",
       "</style>\n",
       "<table border=\"1\" class=\"dataframe\">\n",
       "  <thead>\n",
       "    <tr style=\"text-align: right;\">\n",
       "      <th></th>\n",
       "      <th>model</th>\n",
       "      <th>accuracy</th>\n",
       "    </tr>\n",
       "  </thead>\n",
       "  <tbody>\n",
       "    <tr>\n",
       "      <th>0</th>\n",
       "      <td>Dummy</td>\n",
       "      <td>0.293532</td>\n",
       "    </tr>\n",
       "  </tbody>\n",
       "</table>\n",
       "</div>"
      ],
      "text/plain": [
       "   model  accuracy\n",
       "0  Dummy  0.293532"
      ]
     },
     "execution_count": 37,
     "metadata": {},
     "output_type": "execute_result"
    }
   ],
   "source": [
    "results = pd.DataFrame(columns = ['model','accuracy'])\n",
    "new_row = {'model': 'Dummy', 'accuracy': accuracy}\n",
    "results = results.append(new_row, ignore_index=True)\n",
    "results"
   ]
  },
  {
   "cell_type": "markdown",
   "metadata": {},
   "source": [
    "# Resample"
   ]
  },
  {
   "cell_type": "code",
   "execution_count": 38,
   "metadata": {},
   "outputs": [
    {
     "data": {
      "text/plain": [
       "far_left     3147\n",
       "far_right    3147\n",
       "left         3147\n",
       "right        3147\n",
       "center       3147\n",
       "Name: target, dtype: int64"
      ]
     },
     "execution_count": 38,
     "metadata": {},
     "output_type": "execute_result"
    }
   ],
   "source": [
    "from sklearn.utils import resample\n",
    "far_right = data[data.target == 'far_right'] #resample target\n",
    "right = data[data.target == 'right'] #upsample\n",
    "center = data[data.target == 'center'] #downsample\n",
    "left = data[data.target =='left'] #downsample\n",
    "far_left = data[data.target == 'far_left'] #downsample\n",
    "\n",
    "right_upsampled = resample(right,\n",
    "                          replace=True, # sample with replacement\n",
    "                          n_samples=len(far_right), # match number in target class\n",
    "                          random_state=42) \n",
    "\n",
    "center_downsampled = resample(center,\n",
    "                          replace=True, # sample with replacement\n",
    "                          n_samples=len(far_right), # match number in target class\n",
    "                          random_state=42) \n",
    "\n",
    "left_downsampled = resample(left,\n",
    "                          replace=True, # sample with replacement\n",
    "                          n_samples=len(far_right), # match number in target class\n",
    "                          random_state=42) \n",
    "\n",
    "far_left_downsampled = resample(far_left,\n",
    "                          replace=True, # sample with replacement\n",
    "                          n_samples=len(far_right), # match number in target class\n",
    "                          random_state=42) \n",
    "\n",
    "data = pd.concat([far_right, right_upsampled, center_downsampled,left_downsampled,far_left_downsampled])\n",
    "data.target.value_counts()"
   ]
  },
  {
   "cell_type": "code",
   "execution_count": 39,
   "metadata": {},
   "outputs": [
    {
     "data": {
      "text/html": [
       "<div>\n",
       "<style scoped>\n",
       "    .dataframe tbody tr th:only-of-type {\n",
       "        vertical-align: middle;\n",
       "    }\n",
       "\n",
       "    .dataframe tbody tr th {\n",
       "        vertical-align: top;\n",
       "    }\n",
       "\n",
       "    .dataframe thead th {\n",
       "        text-align: right;\n",
       "    }\n",
       "</style>\n",
       "<table border=\"1\" class=\"dataframe\">\n",
       "  <thead>\n",
       "    <tr style=\"text-align: right;\">\n",
       "      <th></th>\n",
       "      <th>source</th>\n",
       "      <th>author</th>\n",
       "      <th>title</th>\n",
       "      <th>url</th>\n",
       "      <th>publishedAt</th>\n",
       "      <th>content</th>\n",
       "      <th>target</th>\n",
       "      <th>month</th>\n",
       "      <th>full_text</th>\n",
       "      <th>url_subpages</th>\n",
       "      <th>predictor</th>\n",
       "      <th>pred_len</th>\n",
       "      <th>Stats</th>\n",
       "      <th>n_words</th>\n",
       "      <th>n_long_words</th>\n",
       "      <th>n_monosyllable_words</th>\n",
       "      <th>n_polysyllable_words</th>\n",
       "      <th>n_unique_words</th>\n",
       "      <th>polarity</th>\n",
       "      <th>subjectivity</th>\n",
       "    </tr>\n",
       "  </thead>\n",
       "  <tbody>\n",
       "    <tr>\n",
       "      <th>0</th>\n",
       "      <td>breitbart-news</td>\n",
       "      <td>Gabrielle Reyes</td>\n",
       "      <td>Xi Honors Doc Who Suggested Foreign Coronaviru...</td>\n",
       "      <td>https://www.breitbart.com/asia/2020/09/08/chin...</td>\n",
       "      <td>2020-09-09 17:19:38+00:00</td>\n",
       "      <td>Chinese dictator Xi Jinping on Tuesday present...</td>\n",
       "      <td>far_right</td>\n",
       "      <td>9.0</td>\n",
       "      <td>Chinese dictator Xi Jinping on Tuesday present...</td>\n",
       "      <td>asia</td>\n",
       "      <td>Xi Honors Doc Who Suggested Foreign Coronaviru...</td>\n",
       "      <td>3610</td>\n",
       "      <td>{'n_chars': 2974, 'n_long_words': 201, 'n_mono...</td>\n",
       "      <td>542</td>\n",
       "      <td>0.370849</td>\n",
       "      <td>0.560886</td>\n",
       "      <td>0.190037</td>\n",
       "      <td>0.525830</td>\n",
       "      <td>0.050492</td>\n",
       "      <td>0.303881</td>\n",
       "    </tr>\n",
       "    <tr>\n",
       "      <th>1</th>\n",
       "      <td>breitbart-news</td>\n",
       "      <td>Frances Martel</td>\n",
       "      <td>China Prepares to Fight Coronavirus Lawsuits -...</td>\n",
       "      <td>https://www.breitbart.com/asia/2020/05/27/chin...</td>\n",
       "      <td>2020-05-27 16:49:38+00:00</td>\n",
       "      <td>China’s National People’s Congress (NPC), one ...</td>\n",
       "      <td>far_right</td>\n",
       "      <td>5.0</td>\n",
       "      <td>China’s National People’s Congress (NPC), one ...</td>\n",
       "      <td>asia</td>\n",
       "      <td>China Prepares to Fight Coronavirus Lawsuits -...</td>\n",
       "      <td>5646</td>\n",
       "      <td>{'n_chars': 4646, 'n_long_words': 292, 'n_mono...</td>\n",
       "      <td>875</td>\n",
       "      <td>0.333714</td>\n",
       "      <td>0.587429</td>\n",
       "      <td>0.181714</td>\n",
       "      <td>0.412571</td>\n",
       "      <td>0.010437</td>\n",
       "      <td>0.236853</td>\n",
       "    </tr>\n",
       "    <tr>\n",
       "      <th>2</th>\n",
       "      <td>breitbart-news</td>\n",
       "      <td>Thomas D. Williams, Ph.D.</td>\n",
       "      <td>Pope Calls on All Religions to Join in Prayer...</td>\n",
       "      <td>https://www.breitbart.com/health/2020/05/14/po...</td>\n",
       "      <td>2020-05-14 16:07:37+00:00</td>\n",
       "      <td>ROME Pope Francis has asked people of all reli...</td>\n",
       "      <td>far_right</td>\n",
       "      <td>5.0</td>\n",
       "      <td>ROME — Pope Francis has asked people of all re...</td>\n",
       "      <td>health</td>\n",
       "      <td>Pope Calls on All Religions to Join in Prayer....</td>\n",
       "      <td>2430</td>\n",
       "      <td>{'n_chars': 1940, 'n_long_words': 103, 'n_mono...</td>\n",
       "      <td>407</td>\n",
       "      <td>0.253071</td>\n",
       "      <td>0.687961</td>\n",
       "      <td>0.135135</td>\n",
       "      <td>0.501229</td>\n",
       "      <td>0.149667</td>\n",
       "      <td>0.429667</td>\n",
       "    </tr>\n",
       "    <tr>\n",
       "      <th>3</th>\n",
       "      <td>breitbart-news</td>\n",
       "      <td>John Hayward</td>\n",
       "      <td>Report: China Quietly Keeping Residences Quara...</td>\n",
       "      <td>https://www.breitbart.com/national-security/20...</td>\n",
       "      <td>2020-04-16 16:40:37+00:00</td>\n",
       "      <td>A report at the Epoch Times on Tuesday said th...</td>\n",
       "      <td>far_right</td>\n",
       "      <td>4.0</td>\n",
       "      <td>A report at the Epoch Times on Tuesday said th...</td>\n",
       "      <td>national-security</td>\n",
       "      <td>Report: China Quietly Keeping Residences Quara...</td>\n",
       "      <td>3843</td>\n",
       "      <td>{'n_chars': 3147, 'n_long_words': 167, 'n_mono...</td>\n",
       "      <td>620</td>\n",
       "      <td>0.269355</td>\n",
       "      <td>0.658065</td>\n",
       "      <td>0.143548</td>\n",
       "      <td>0.524194</td>\n",
       "      <td>0.076444</td>\n",
       "      <td>0.404345</td>\n",
       "    </tr>\n",
       "    <tr>\n",
       "      <th>4</th>\n",
       "      <td>breitbart-news</td>\n",
       "      <td>Simon Kent</td>\n",
       "      <td>Shoot Stray Dogs, Win Cash Prizes: How Chinese...</td>\n",
       "      <td>https://www.breitbart.com/asia/2020/03/16/shoo...</td>\n",
       "      <td>2020-03-16 14:49:40+00:00</td>\n",
       "      <td>A southern China community neighbourhood manag...</td>\n",
       "      <td>far_right</td>\n",
       "      <td>3.0</td>\n",
       "      <td>A southern China community neighbourhood manag...</td>\n",
       "      <td>asia</td>\n",
       "      <td>Shoot Stray Dogs, Win Cash Prizes: How Chinese...</td>\n",
       "      <td>2754</td>\n",
       "      <td>{'n_chars': 2225, 'n_long_words': 121, 'n_mono...</td>\n",
       "      <td>454</td>\n",
       "      <td>0.266520</td>\n",
       "      <td>0.640969</td>\n",
       "      <td>0.129956</td>\n",
       "      <td>0.579295</td>\n",
       "      <td>0.054308</td>\n",
       "      <td>0.372161</td>\n",
       "    </tr>\n",
       "  </tbody>\n",
       "</table>\n",
       "</div>"
      ],
      "text/plain": [
       "           source                     author  \\\n",
       "0  breitbart-news            Gabrielle Reyes   \n",
       "1  breitbart-news             Frances Martel   \n",
       "2  breitbart-news  Thomas D. Williams, Ph.D.   \n",
       "3  breitbart-news               John Hayward   \n",
       "4  breitbart-news                 Simon Kent   \n",
       "\n",
       "                                               title  \\\n",
       "0  Xi Honors Doc Who Suggested Foreign Coronaviru...   \n",
       "1  China Prepares to Fight Coronavirus Lawsuits -...   \n",
       "2   Pope Calls on All Religions to Join in Prayer...   \n",
       "3  Report: China Quietly Keeping Residences Quara...   \n",
       "4  Shoot Stray Dogs, Win Cash Prizes: How Chinese...   \n",
       "\n",
       "                                                 url  \\\n",
       "0  https://www.breitbart.com/asia/2020/09/08/chin...   \n",
       "1  https://www.breitbart.com/asia/2020/05/27/chin...   \n",
       "2  https://www.breitbart.com/health/2020/05/14/po...   \n",
       "3  https://www.breitbart.com/national-security/20...   \n",
       "4  https://www.breitbart.com/asia/2020/03/16/shoo...   \n",
       "\n",
       "                 publishedAt  \\\n",
       "0  2020-09-09 17:19:38+00:00   \n",
       "1  2020-05-27 16:49:38+00:00   \n",
       "2  2020-05-14 16:07:37+00:00   \n",
       "3  2020-04-16 16:40:37+00:00   \n",
       "4  2020-03-16 14:49:40+00:00   \n",
       "\n",
       "                                             content     target  month  \\\n",
       "0  Chinese dictator Xi Jinping on Tuesday present...  far_right    9.0   \n",
       "1  China’s National People’s Congress (NPC), one ...  far_right    5.0   \n",
       "2  ROME Pope Francis has asked people of all reli...  far_right    5.0   \n",
       "3  A report at the Epoch Times on Tuesday said th...  far_right    4.0   \n",
       "4  A southern China community neighbourhood manag...  far_right    3.0   \n",
       "\n",
       "                                           full_text       url_subpages  \\\n",
       "0  Chinese dictator Xi Jinping on Tuesday present...               asia   \n",
       "1  China’s National People’s Congress (NPC), one ...               asia   \n",
       "2  ROME — Pope Francis has asked people of all re...             health   \n",
       "3  A report at the Epoch Times on Tuesday said th...  national-security   \n",
       "4  A southern China community neighbourhood manag...               asia   \n",
       "\n",
       "                                           predictor  pred_len  \\\n",
       "0  Xi Honors Doc Who Suggested Foreign Coronaviru...      3610   \n",
       "1  China Prepares to Fight Coronavirus Lawsuits -...      5646   \n",
       "2  Pope Calls on All Religions to Join in Prayer....      2430   \n",
       "3  Report: China Quietly Keeping Residences Quara...      3843   \n",
       "4  Shoot Stray Dogs, Win Cash Prizes: How Chinese...      2754   \n",
       "\n",
       "                                               Stats  n_words  n_long_words  \\\n",
       "0  {'n_chars': 2974, 'n_long_words': 201, 'n_mono...      542      0.370849   \n",
       "1  {'n_chars': 4646, 'n_long_words': 292, 'n_mono...      875      0.333714   \n",
       "2  {'n_chars': 1940, 'n_long_words': 103, 'n_mono...      407      0.253071   \n",
       "3  {'n_chars': 3147, 'n_long_words': 167, 'n_mono...      620      0.269355   \n",
       "4  {'n_chars': 2225, 'n_long_words': 121, 'n_mono...      454      0.266520   \n",
       "\n",
       "   n_monosyllable_words  n_polysyllable_words  n_unique_words  polarity  \\\n",
       "0              0.560886              0.190037        0.525830  0.050492   \n",
       "1              0.587429              0.181714        0.412571  0.010437   \n",
       "2              0.687961              0.135135        0.501229  0.149667   \n",
       "3              0.658065              0.143548        0.524194  0.076444   \n",
       "4              0.640969              0.129956        0.579295  0.054308   \n",
       "\n",
       "   subjectivity  \n",
       "0      0.303881  \n",
       "1      0.236853  \n",
       "2      0.429667  \n",
       "3      0.404345  \n",
       "4      0.372161  "
      ]
     },
     "execution_count": 39,
     "metadata": {},
     "output_type": "execute_result"
    }
   ],
   "source": [
    "data.reset_index(drop=True,inplace=True)\n",
    "data.head()"
   ]
  },
  {
   "cell_type": "markdown",
   "metadata": {},
   "source": [
    "# Test out LDA"
   ]
  },
  {
   "cell_type": "code",
   "execution_count": 40,
   "metadata": {},
   "outputs": [],
   "source": [
    "import gensim"
   ]
  },
  {
   "cell_type": "code",
   "execution_count": 41,
   "metadata": {},
   "outputs": [],
   "source": [
    "lda_far_right = data[data['target']=='far_right']['predictor']\n",
    "lda_right = data[data['target']=='right']['predictor']\n",
    "lda_center = data[data['target']=='right']['predictor']\n",
    "lda_left = data[data['target']=='right']['predictor']\n",
    "lda_far_left = data[data['target']=='far_left']['predictor']\n",
    "all_sides = data['predictor']"
   ]
  },
  {
   "cell_type": "code",
   "execution_count": 42,
   "metadata": {},
   "outputs": [
    {
     "name": "stderr",
     "output_type": "stream",
     "text": [
      "100%|██████████| 3147/3147 [00:20<00:00, 156.86it/s]\n"
     ]
    },
    {
     "data": {
      "text/plain": [
       "[(0,\n",
       "  '0.014*\"coronavirus\" + 0.010*\"china\" + 0.006*\"chinese\" + 0.006*\"state\" + 0.005*\"percent\" + 0.005*\"government\" + 0.005*\"report\" + 0.005*\"people\" + 0.004*\"would\" + 0.004*\"pandemic\"'),\n",
       " (1,\n",
       "  '0.013*\"trump\" + 0.011*\"coronavirus\" + 0.010*\"president\" + 0.008*\"people\" + 0.006*\"biden\" + 0.005*\"time\" + 0.005*\"would\" + 0.005*\"make\" + 0.004*\"know\" + 0.004*\"pandemic\"'),\n",
       " (2,\n",
       "  '0.015*\"coronavirus\" + 0.011*\"state\" + 0.009*\"test\" + 0.007*\"case\" + 0.006*\"people\" + 0.006*\"report\" + 0.006*\"health\" + 0.005*\"virus\" + 0.005*\"covid\" + 0.004*\"trump\"')]"
      ]
     },
     "execution_count": 42,
     "metadata": {},
     "output_type": "execute_result"
    }
   ],
   "source": [
    "lda_far_right_token = lda_far_right.progress_apply(lambda x: clean_txt(x,string=False))\n",
    "\n",
    "dictionary = gensim.corpora.Dictionary(lda_far_right_token)\n",
    "\n",
    "bow_corpus = [dictionary.doc2bow(doc) for doc in lda_far_right_token]\n",
    "\n",
    "far_right_lda =  gensim.models.LdaMulticore(bow_corpus, \n",
    "                                   num_topics = 3, \n",
    "                                   id2word = dictionary,                                    \n",
    "                                   passes = 10,\n",
    "                                   workers = 2)\n",
    "\n",
    "far_right_lda.show_topics(formatted=True)"
   ]
  },
  {
   "cell_type": "markdown",
   "metadata": {},
   "source": [
    "Topic 1: Trump, Corona, Police\n",
    "\n",
    "Topic 2: Coronavirus and China\n",
    "\n",
    "Topic 3: Coronavirus and Masks"
   ]
  },
  {
   "cell_type": "code",
   "execution_count": 43,
   "metadata": {},
   "outputs": [
    {
     "name": "stderr",
     "output_type": "stream",
     "text": [
      "100%|██████████| 3147/3147 [00:21<00:00, 145.12it/s]\n"
     ]
    },
    {
     "data": {
      "text/plain": [
       "[(0,\n",
       "  '0.014*\"coronavirus\" + 0.009*\"covid\" + 0.008*\"trump\" + 0.007*\"virus\" + 0.006*\"president\" + 0.006*\"news\" + 0.005*\"people\" + 0.005*\"study\" + 0.005*\"health\" + 0.004*\"report\"'),\n",
       " (1,\n",
       "  '0.011*\"coronavirus\" + 0.006*\"people\" + 0.005*\"time\" + 0.004*\"state\" + 0.004*\"news\" + 0.004*\"pandemic\" + 0.004*\"would\" + 0.004*\"also\" + 0.004*\"vote\" + 0.003*\"like\"'),\n",
       " (2,\n",
       "  '0.016*\"coronavirus\" + 0.009*\"trump\" + 0.009*\"state\" + 0.007*\"people\" + 0.007*\"news\" + 0.007*\"test\" + 0.006*\"case\" + 0.006*\"health\" + 0.006*\"covid\" + 0.006*\"report\"')]"
      ]
     },
     "execution_count": 43,
     "metadata": {},
     "output_type": "execute_result"
    }
   ],
   "source": [
    "lda_right_token = lda_right.progress_apply(lambda x: clean_txt(x,string=False))\n",
    "\n",
    "dictionary = gensim.corpora.Dictionary(lda_right_token)\n",
    "\n",
    "bow_corpus = [dictionary.doc2bow(doc) for doc in lda_right_token]\n",
    "\n",
    "right_lda =  gensim.models.LdaMulticore(bow_corpus, \n",
    "                                   num_topics = 3, \n",
    "                                   id2word = dictionary,                                    \n",
    "                                   passes = 10,\n",
    "                                   workers = 2)\n",
    "\n",
    "right_lda.show_topics(formatted=True)"
   ]
  },
  {
   "cell_type": "markdown",
   "metadata": {},
   "source": [
    "Topic 1: Covid testing/reporting\n",
    "\n",
    "Topic 2: Coronavirus and opening schools\n",
    "\n",
    "Topic 3: Trump, Biden, and Covid responses"
   ]
  },
  {
   "cell_type": "code",
   "execution_count": 44,
   "metadata": {},
   "outputs": [
    {
     "name": "stderr",
     "output_type": "stream",
     "text": [
      "100%|██████████| 3147/3147 [00:17<00:00, 182.49it/s]\n"
     ]
    },
    {
     "data": {
      "text/plain": [
       "[(0,\n",
       "  '0.021*\"coronavirus\" + 0.011*\"covid\" + 0.009*\"case\" + 0.009*\"report\" + 0.008*\"health\" + 0.008*\"virus\" + 0.007*\"test\" + 0.007*\"state\" + 0.007*\"news\" + 0.006*\"study\"'),\n",
       " (1,\n",
       "  '0.009*\"coronavirus\" + 0.006*\"state\" + 0.006*\"people\" + 0.004*\"time\" + 0.004*\"would\" + 0.004*\"pandemic\" + 0.004*\"make\" + 0.004*\"trump\" + 0.004*\"news\" + 0.003*\"even\"'),\n",
       " (2,\n",
       "  '0.017*\"trump\" + 0.014*\"coronavirus\" + 0.011*\"president\" + 0.007*\"test\" + 0.007*\"biden\" + 0.007*\"news\" + 0.007*\"people\" + 0.006*\"state\" + 0.005*\"covid\" + 0.005*\"time\"')]"
      ]
     },
     "execution_count": 44,
     "metadata": {},
     "output_type": "execute_result"
    }
   ],
   "source": [
    "lda_center_token = lda_center.progress_apply(lambda x: clean_txt(x,string=False))\n",
    "\n",
    "dictionary = gensim.corpora.Dictionary(lda_center_token)\n",
    "\n",
    "bow_corpus = [dictionary.doc2bow(doc) for doc in lda_center_token]\n",
    "\n",
    "center_lda =  gensim.models.LdaMulticore(bow_corpus, \n",
    "                                   num_topics = 3, \n",
    "                                   id2word = dictionary,                                    \n",
    "                                   passes = 10,\n",
    "                                   workers = 2)\n",
    "\n",
    "center_lda.show_topics(formatted=True)"
   ]
  },
  {
   "cell_type": "markdown",
   "metadata": {},
   "source": [
    "Topic 1: Trumps and China coronavirus\n",
    "\n",
    "Topic 2: Covid Testing\n",
    "\n",
    "Topic 3: Covid and School"
   ]
  },
  {
   "cell_type": "code",
   "execution_count": 45,
   "metadata": {},
   "outputs": [
    {
     "name": "stderr",
     "output_type": "stream",
     "text": [
      "100%|██████████| 3147/3147 [00:17<00:00, 179.57it/s]\n"
     ]
    },
    {
     "data": {
      "text/plain": [
       "[(0,\n",
       "  '0.014*\"trump\" + 0.012*\"coronavirus\" + 0.010*\"president\" + 0.007*\"people\" + 0.006*\"biden\" + 0.006*\"news\" + 0.006*\"state\" + 0.005*\"test\" + 0.005*\"time\" + 0.005*\"covid\"'),\n",
       " (1,\n",
       "  '0.018*\"coronavirus\" + 0.009*\"case\" + 0.008*\"covid\" + 0.007*\"health\" + 0.007*\"report\" + 0.007*\"virus\" + 0.007*\"people\" + 0.006*\"state\" + 0.006*\"test\" + 0.006*\"news\"'),\n",
       " (2,\n",
       "  '0.013*\"coronavirus\" + 0.006*\"state\" + 0.006*\"covid\" + 0.005*\"news\" + 0.004*\"time\" + 0.004*\"trump\" + 0.004*\"health\" + 0.004*\"would\" + 0.004*\"house\" + 0.004*\"also\"')]"
      ]
     },
     "execution_count": 45,
     "metadata": {},
     "output_type": "execute_result"
    }
   ],
   "source": [
    "lda_left_token = lda_left.progress_apply(lambda x: clean_txt(x,string=False))\n",
    "\n",
    "dictionary = gensim.corpora.Dictionary(lda_left_token)\n",
    "\n",
    "bow_corpus = [dictionary.doc2bow(doc) for doc in lda_left_token]\n",
    "\n",
    "left_lda =  gensim.models.LdaMulticore(bow_corpus, \n",
    "                                   num_topics = 3, \n",
    "                                   id2word = dictionary,                                    \n",
    "                                   passes = 10,\n",
    "                                   workers = 2)\n",
    "\n",
    "left_lda.show_topics(formatted=True)"
   ]
  },
  {
   "cell_type": "markdown",
   "metadata": {},
   "source": [
    "Topic 1: Covid testing\n",
    "\n",
    "Topic 2: Coronavirus research and vaccines\n",
    "\n",
    "Topic 3: Covid cases under trump"
   ]
  },
  {
   "cell_type": "code",
   "execution_count": 46,
   "metadata": {},
   "outputs": [
    {
     "name": "stderr",
     "output_type": "stream",
     "text": [
      "100%|██████████| 3147/3147 [00:53<00:00, 58.43it/s]\n"
     ]
    },
    {
     "data": {
      "text/plain": [
       "[(0,\n",
       "  '0.006*\"make\" + 0.005*\"coronavirus\" + 0.005*\"like\" + 0.005*\"time\" + 0.004*\"people\" + 0.004*\"twitter\" + 0.004*\"also\" + 0.003*\"mask\" + 0.003*\"work\" + 0.003*\"pandemic\"'),\n",
       " (1,\n",
       "  '0.010*\"people\" + 0.007*\"coronavirus\" + 0.006*\"like\" + 0.006*\"time\" + 0.006*\"work\" + 0.005*\"also\" + 0.005*\"make\" + 0.004*\"take\" + 0.004*\"pandemic\" + 0.004*\"company\"'),\n",
       " (2,\n",
       "  '0.013*\"trump\" + 0.009*\"coronavirus\" + 0.008*\"state\" + 0.007*\"people\" + 0.005*\"president\" + 0.005*\"covid\" + 0.005*\"would\" + 0.004*\"health\" + 0.004*\"case\" + 0.004*\"time\"')]"
      ]
     },
     "execution_count": 46,
     "metadata": {},
     "output_type": "execute_result"
    }
   ],
   "source": [
    "lda_far_left_token = lda_far_left.progress_apply(lambda x: clean_txt(x,string=False))\n",
    "\n",
    "dictionary = gensim.corpora.Dictionary(lda_far_left_token)\n",
    "\n",
    "bow_corpus = [dictionary.doc2bow(doc) for doc in lda_far_left_token]\n",
    "\n",
    "far_left_lda =  gensim.models.LdaMulticore(bow_corpus, \n",
    "                                   num_topics = 3, \n",
    "                                   id2word = dictionary,                                    \n",
    "                                   passes = 10,\n",
    "                                   workers = 2)\n",
    "\n",
    "far_left_lda.show_topics(formatted=True)"
   ]
  },
  {
   "cell_type": "markdown",
   "metadata": {},
   "source": [
    "Topic 1: Working in Covid\n",
    "\n",
    "Topic 2: Trump and Coronavirus\n",
    "\n",
    "Topic 3:Working in Covid"
   ]
  },
  {
   "cell_type": "code",
   "execution_count": 47,
   "metadata": {},
   "outputs": [
    {
     "name": "stderr",
     "output_type": "stream",
     "text": [
      "100%|██████████| 15735/15735 [01:44<00:00, 150.09it/s]\n"
     ]
    },
    {
     "data": {
      "text/plain": [
       "[(0,\n",
       "  '0.009*\"people\" + 0.007*\"like\" + 0.006*\"police\" + 0.006*\"time\" + 0.006*\"coronavirus\" + 0.005*\"live\" + 0.005*\"make\" + 0.004*\"take\" + 0.004*\"black\" + 0.004*\"think\"'),\n",
       " (1,\n",
       "  '0.014*\"coronavirus\" + 0.012*\"china\" + 0.009*\"government\" + 0.006*\"chinese\" + 0.006*\"country\" + 0.006*\"world\" + 0.006*\"report\" + 0.005*\"minister\" + 0.005*\"case\" + 0.005*\"countries\"'),\n",
       " (2,\n",
       "  '0.046*\"trump\" + 0.022*\"president\" + 0.012*\"coronavirus\" + 0.010*\"house\" + 0.009*\"white\" + 0.008*\"biden\" + 0.007*\"test\" + 0.006*\"campaign\" + 0.006*\"would\" + 0.005*\"news\"'),\n",
       " (3,\n",
       "  '0.008*\"coronavirus\" + 0.006*\"workers\" + 0.006*\"company\" + 0.006*\"would\" + 0.006*\"bill\" + 0.005*\"pandemic\" + 0.005*\"economic\" + 0.005*\"fund\" + 0.005*\"work\" + 0.005*\"state\"'),\n",
       " (4,\n",
       "  '0.020*\"vote\" + 0.014*\"state\" + 0.014*\"election\" + 0.011*\"voters\" + 0.010*\"poll\" + 0.010*\"biden\" + 0.009*\"ballot\" + 0.009*\"mail\" + 0.008*\"percent\" + 0.006*\"trump\"'),\n",
       " (5,\n",
       "  '0.009*\"people\" + 0.008*\"like\" + 0.008*\"time\" + 0.007*\"work\" + 0.007*\"make\" + 0.005*\"also\" + 0.005*\"home\" + 0.005*\"coronavirus\" + 0.004*\"take\" + 0.004*\"even\"'),\n",
       " (6,\n",
       "  '0.018*\"coronavirus\" + 0.013*\"covid\" + 0.011*\"vaccine\" + 0.009*\"virus\" + 0.009*\"health\" + 0.008*\"patients\" + 0.008*\"test\" + 0.008*\"study\" + 0.007*\"people\" + 0.006*\"drug\"'),\n",
       " (7,\n",
       "  '0.016*\"coronavirus\" + 0.015*\"state\" + 0.014*\"case\" + 0.011*\"people\" + 0.010*\"test\" + 0.010*\"health\" + 0.010*\"covid\" + 0.008*\"report\" + 0.007*\"school\" + 0.006*\"home\"')]"
      ]
     },
     "execution_count": 47,
     "metadata": {},
     "output_type": "execute_result"
    }
   ],
   "source": [
    "all_token = all_sides.progress_apply(lambda x: clean_txt(x,string=False))\n",
    "\n",
    "dictionary = gensim.corpora.Dictionary(all_token)\n",
    "\n",
    "bow_corpus = [dictionary.doc2bow(doc) for doc in all_token]\n",
    "\n",
    "all_lda =  gensim.models.LdaMulticore(bow_corpus, \n",
    "                                   num_topics = 8, \n",
    "                                   id2word = dictionary,                                    \n",
    "                                   passes = 10,\n",
    "                                   workers = 2)\n",
    "\n",
    "all_lda.show_topics(formatted=True)"
   ]
  },
  {
   "cell_type": "markdown",
   "metadata": {},
   "source": [
    "Topic 1: Presidential Election and COVID\n",
    "\n",
    "Topic 2: Positive Cases as Schools\n",
    "\n",
    "Topic 3: Mask Wearing, Protests\n",
    "\n",
    "Topic 4: Covid and Entertainment\n",
    "\n",
    "Topic 5: Trump Makes Announcement at WH\n",
    "\n",
    "Topic 6: Covid and Economy\n",
    "\n",
    "Topic 7: Covid and China\n",
    "\n",
    "Topic 8: Covid Testing"
   ]
  },
  {
   "cell_type": "code",
   "execution_count": 48,
   "metadata": {},
   "outputs": [],
   "source": [
    "dominant_topics = []\n",
    "\n",
    "for i in data.index:\n",
    "    row_list = all_lda[bow_corpus][i]\n",
    "    row = sorted(row_list, key=lambda x: (x[1]), reverse=True)\n",
    "    topic = row[0][0]\n",
    "    dominant_topics.append(topic)\n",
    "    "
   ]
  },
  {
   "cell_type": "code",
   "execution_count": 49,
   "metadata": {},
   "outputs": [],
   "source": [
    "data['dominant_topic'] = pd.Series(dominant_topics)"
   ]
  },
  {
   "cell_type": "code",
   "execution_count": 50,
   "metadata": {},
   "outputs": [
    {
     "data": {
      "text/plain": [
       "16       Nancy Pelosi, Chuck Schumer: GOP Coronavirus A...\n",
       "19       Report: Coronavirus May Permanently Replace Hu...\n",
       "20       Nolte: Biden Family Corruption Spreads Into Co...\n",
       "43       House Democrats Block Funding for Police, Smal...\n",
       "53       Fact Check: Democrats' HEROES Act Is Bailout o...\n",
       "                               ...                        \n",
       "15704    Leisure Travelers Will Miss Business Travelers...\n",
       "15707    GOP in Disarray as House Nears Vote on Coronav...\n",
       "15729    Trump Says Coronavirus Will Help the Economy b...\n",
       "15730    Trump’s Stimulus Orders Create Legal and Admin...\n",
       "15731    Millions In ‘Small Business’ Coronavirus Bailo...\n",
       "Name: predictor, Length: 2007, dtype: object"
      ]
     },
     "execution_count": 50,
     "metadata": {},
     "output_type": "execute_result"
    }
   ],
   "source": [
    "data[data['dominant_topic']==3].predictor"
   ]
  },
  {
   "cell_type": "code",
   "execution_count": 51,
   "metadata": {},
   "outputs": [
    {
     "name": "stdout",
     "output_type": "stream",
     "text": [
      "1.0\n"
     ]
    }
   ],
   "source": [
    "sentences = []\n",
    "test = 'this should be. exactly one period. per sentence please.'\n",
    "test_split = test.split(\" \")\n",
    "length = len(test_split)\n",
    "group_size = 3\n",
    "\n",
    "i = 0\n",
    "\n",
    "while i < length:\n",
    "    values = []\n",
    "    for word in test_split[i:i+group_size]:\n",
    "        values.append(word)\n",
    "    \n",
    "    sentence_counter = 0\n",
    "    for word in values:\n",
    "        if '.' in word:\n",
    "            sentence_counter += 1\n",
    "    sentences.append(sentence_counter)\n",
    "    i = i + group_size\n",
    "        \n",
    "print(sum(sentences)/len(sentences))"
   ]
  },
  {
   "cell_type": "code",
   "execution_count": 52,
   "metadata": {},
   "outputs": [],
   "source": [
    "def mean_sentences_per_100(text, group_size):\n",
    "    sentences = []\n",
    "    text_split = text.split(\" \")\n",
    "    length = len(text_split)\n",
    "\n",
    "    i = 0\n",
    "\n",
    "    while i < length:\n",
    "        values = []\n",
    "        for word in text_split[i:i+group_size]:\n",
    "            values.append(word)\n",
    "\n",
    "        sentence_counter = 0\n",
    "        for word in values:\n",
    "            if '.' in word:\n",
    "                sentence_counter += 1\n",
    "        sentences.append(sentence_counter)\n",
    "        i = i + group_size\n",
    "\n",
    "    return sum(sentences)/len(sentences)"
   ]
  },
  {
   "cell_type": "code",
   "execution_count": 53,
   "metadata": {},
   "outputs": [],
   "source": [
    "def mean_character_per_100(text, group_size):\n",
    "    averages = []\n",
    "    \n",
    "    text_split = text.split(\" \")\n",
    "    length = len(text_split)\n",
    "    i = 0\n",
    "    \n",
    "    while i < length:\n",
    "        values = []\n",
    "        for word in text_split[i:i+group_size]:\n",
    "            values.append(len(word))\n",
    "        if len(values)==group_size:\n",
    "            averages.append(sum(values)/len(values))\n",
    "        else:\n",
    "            pass\n",
    "        i = i + group_size\n",
    "    \n",
    "\n",
    "    return sum(averages)/len(averages)\n",
    "\n",
    "        "
   ]
  },
  {
   "cell_type": "code",
   "execution_count": 54,
   "metadata": {},
   "outputs": [],
   "source": [
    "# Coleman-Liau Index\n",
    "# mccphw: mean character count per hundred words\n",
    "# mscphw: mean sentence count per hundred words\n",
    "def cli(text, group_size):\n",
    "    mccphw = mean_character_per_100(text, group_size)\n",
    "    mscphw = mean_sentences_per_100(text, group_size)\n",
    "    \n",
    "    return (0.0588 * mccphw) - (0.296 * mscphw) - 15.8"
   ]
  },
  {
   "cell_type": "code",
   "execution_count": 55,
   "metadata": {},
   "outputs": [
    {
     "name": "stderr",
     "output_type": "stream",
     "text": [
      "100%|██████████| 15735/15735 [00:03<00:00, 4841.26it/s]\n"
     ]
    }
   ],
   "source": [
    "data['coleman_index'] = data['predictor'].progress_apply(lambda x: cli(x,100))"
   ]
  },
  {
   "cell_type": "code",
   "execution_count": 56,
   "metadata": {},
   "outputs": [],
   "source": [
    "from sklearn.preprocessing import MinMaxScaler"
   ]
  },
  {
   "cell_type": "code",
   "execution_count": 57,
   "metadata": {},
   "outputs": [],
   "source": [
    "scaler = MinMaxScaler()\n",
    "data[['polarity','coleman_index']] = scaler.fit_transform(data[['polarity','coleman_index']])"
   ]
  },
  {
   "cell_type": "code",
   "execution_count": 59,
   "metadata": {},
   "outputs": [],
   "source": [
    "pickle_out = open('normalizer.pickle', 'wb')\n",
    "pickle.dump(scaler, pickle_out)\n",
    "pickle_out.close()"
   ]
  },
  {
   "cell_type": "code",
   "execution_count": 58,
   "metadata": {},
   "outputs": [],
   "source": [
    "import pickle\n",
    "# Save\n",
    "with open('normalizer.pickle', 'wb') as f:\n",
    "    pickle.dump(scaler, f)"
   ]
  },
  {
   "cell_type": "code",
   "execution_count": 177,
   "metadata": {},
   "outputs": [],
   "source": [
    "data.to_csv('clean_data2.csv')"
   ]
  },
  {
   "cell_type": "markdown",
   "metadata": {},
   "source": [
    "**Topic by target**"
   ]
  },
  {
   "cell_type": "markdown",
   "metadata": {},
   "source": [
    "Topic 1: Presidential Election and COVID\n",
    "\n",
    "Topic 2: Positive Cases as Schools\n",
    "\n",
    "Topic 3: Mask Wearing, Protests\n",
    "\n",
    "Topic 4: Covid and Jobs\n",
    "\n",
    "Topic 5: Trump Makes Announcement at WH\n",
    "\n",
    "Topic 6: Covid and Economy\n",
    "\n",
    "Topic 7: Covid and China\n",
    "\n",
    "Topic 8: Covid Testing"
   ]
  },
  {
   "cell_type": "code",
   "execution_count": 192,
   "metadata": {},
   "outputs": [
    {
     "data": {
      "image/png": "[encoded data removed]",
      "text/plain": [
       "<Figure size 720x288 with 1 Axes>"
      ]
     },
     "metadata": {},
     "output_type": "display_data"
    }
   ],
   "source": [
    "plt.figure(figsize=(10,4))\n",
    "ax = sns.countplot(x='dominant_topic', hue='target',data=data,palette='plasma')\n",
    "ax.set_xticklabels(['Covid and Pres. Election',\n",
    "                    'Covid and Schools',\n",
    "                   'Covid, Mask Wearing, and Protests',\n",
    "                   'Covid and Entertainment',\n",
    "                   'Covid and Trump WH',\n",
    "                   'Covid and Economy',\n",
    "                   'Covid and China',\n",
    "                   'Covid Testing'])\n",
    "\n",
    "ax.legend(loc='upper left', frameon=False)\n",
    "l = ax.set_xticklabels(ax.get_xticklabels(), rotation=60)\n",
    "plt.savefig('/Users/alecmccabe/Desktop/Flatiron/Projects/final_project_ideas/web_articles_spin/Pics/topic_by_target.png')\n",
    "\n",
    "plt.show()"
   ]
  },
  {
   "cell_type": "markdown",
   "metadata": {},
   "source": [
    "# EDA"
   ]
  },
  {
   "cell_type": "code",
   "execution_count": 193,
   "metadata": {},
   "outputs": [
    {
     "name": "stdout",
     "output_type": "stream",
     "text": [
      "CPU times: user 1min 27s, sys: 345 ms, total: 1min 28s\n",
      "Wall time: 1min 28s\n"
     ]
    },
    {
     "data": {
      "text/plain": [
       "TfidfVectorizer(preprocessor=<function clean_txt at 0x1491e8280>, smooth_idf=1,\n",
       "                strip_accents='unicode', sublinear_tf=1,\n",
       "                token_pattern='\\\\w{1,}', use_idf=1)"
      ]
     },
     "execution_count": 193,
     "metadata": {},
     "output_type": "execute_result"
    }
   ],
   "source": [
    "%%time\n",
    "vectorizer = TfidfVectorizer(max_features=None, \n",
    "                    strip_accents='unicode', analyzer='word',token_pattern=r'\\w{1,}',\n",
    "                    ngram_range=(1, 1), use_idf=1,smooth_idf=1,sublinear_tf=1,\n",
    "                    stop_words = None, preprocessor=clean_txt)\n",
    "vectorizer.fit(data.predictor)"
   ]
  },
  {
   "cell_type": "code",
   "execution_count": 194,
   "metadata": {},
   "outputs": [
    {
     "name": "stdout",
     "output_type": "stream",
     "text": [
      "Top 20 terms for:  far_left\n",
      "          Terms   far_left\n",
      "0        people  72.219456\n",
      "1          like  70.370161\n",
      "2   coronavirus  67.097521\n",
      "3          time  63.688881\n",
      "4          make  63.300783\n",
      "5         trump  58.427164\n",
      "6          also  57.271413\n",
      "7          even  55.915124\n",
      "8          work  55.446866\n",
      "9      pandemic  54.878627\n",
      "10         take  52.983563\n",
      "11        covid  52.917445\n",
      "12        would  52.671420\n",
      "13        state  48.375406\n",
      "14         tell  48.258976\n",
      "15         many  47.653769\n",
      "16      company  47.515182\n",
      "17         home  47.050951\n",
      "18         want  45.022677\n",
      "19         call  43.725502\n",
      "###############\n",
      "(20, 2)\n",
      "Top 20 terms for:  left\n",
      "          Terms       left\n",
      "0   coronavirus  87.072223\n",
      "1         trump  75.121526\n",
      "2        people  71.778924\n",
      "3         covid  71.593016\n",
      "4          test  69.460617\n",
      "5         state  68.096180\n",
      "6          case  67.188974\n",
      "7        health  66.092580\n",
      "8         virus  61.759321\n",
      "9     president  60.513776\n",
      "10         also  60.028233\n",
      "11     pandemic  58.662881\n",
      "12         time  57.995920\n",
      "13        would  57.621005\n",
      "14         take  53.849681\n",
      "15         make  52.693552\n",
      "16       report  52.355678\n",
      "17         come  50.712871\n",
      "18        first  50.380457\n",
      "19         work  50.302977\n",
      "###############\n",
      "(28, 3)\n",
      "Top 20 terms for:  center\n",
      "          Terms     center\n",
      "0   coronavirus  91.539429\n",
      "1         trump  85.530257\n",
      "2          case  79.546664\n",
      "3         state  79.316141\n",
      "4          test  74.459622\n",
      "5        report  72.954556\n",
      "6         covid  72.796367\n",
      "7        health  68.311759\n",
      "8        people  64.783970\n",
      "9      pandemic  61.451369\n",
      "10    president  60.111566\n",
      "11        virus  59.245832\n",
      "12        could  53.683572\n",
      "13        house  53.189294\n",
      "14        would  53.153768\n",
      "15    officials  52.811049\n",
      "16         vote  52.804890\n",
      "17     election  52.373794\n",
      "18     campaign  51.556587\n",
      "19       number  51.443265\n",
      "###############\n",
      "(35, 4)\n",
      "Top 20 terms for:  right\n",
      "          Terms       right\n",
      "0   coronavirus  102.756711\n",
      "1          news   96.591918\n",
      "2         covid   83.049913\n",
      "3        report   74.208794\n",
      "4         trump   71.588348\n",
      "5         state   71.497672\n",
      "6          test   70.780816\n",
      "7        people   70.244065\n",
      "8         virus   67.449714\n",
      "9        health   66.400129\n",
      "10         case   62.415560\n",
      "11    president   60.797370\n",
      "12       accord   56.893535\n",
      "13         time   56.703944\n",
      "14     pandemic   56.305416\n",
      "15         also   54.540922\n",
      "16         tell   52.441876\n",
      "17     positive   51.619748\n",
      "18        would   51.085148\n",
      "19         mask   50.899304\n",
      "###############\n",
      "(39, 5)\n",
      "Top 20 terms for:  far_right\n",
      "          Terms  far_right\n",
      "0   coronavirus  97.203765\n",
      "1         trump  89.943001\n",
      "2     president  80.975470\n",
      "3         state  75.781792\n",
      "4        people  67.783754\n",
      "5       chinese  64.054580\n",
      "6         china  63.868570\n",
      "7       twitter  62.820572\n",
      "8         virus  59.857421\n",
      "9          news  58.412047\n",
      "10        would  58.269864\n",
      "11       follow  58.098457\n",
      "12       report  54.809999\n",
      "13         test  52.711007\n",
      "14         time  52.328561\n",
      "15       health  51.853163\n",
      "16     pandemic  51.657826\n",
      "17         case  50.254935\n",
      "18      country  49.119673\n",
      "19         make  48.887164\n",
      "###############\n",
      "(44, 6)\n"
     ]
    }
   ],
   "source": [
    "def create_tf_matrix(target):\n",
    "    return vectorizer.transform(data[data.target == target].predictor)\n",
    "\n",
    "def create_term_freq(matrix, cat):\n",
    "    category_words = matrix.sum(axis=0)\n",
    "    category_words_freq = [(word, category_words[0, idx]) for word, idx in vectorizer.vocabulary_.items()]\n",
    "    return pd.DataFrame(list(sorted(category_words_freq, key = lambda x: x[1], reverse=True)),columns=['Terms', cat])\n",
    "\n",
    "for cat in ['far_left','left','center','right','far_right']:\n",
    "    print(\"Top 20 terms for: \", cat)\n",
    "    df_right = create_term_freq(create_tf_matrix(cat), cat).head(20)\n",
    "    print(df_right)\n",
    "    print(\"###############\")\n",
    "    if cat != 'far_left':\n",
    "        df_top20_words = df_top20_words.merge(df_right, how='outer')\n",
    "    else:\n",
    "        df_top20_words = df_right.copy()\n",
    "    \n",
    "    print(df_top20_words.shape )"
   ]
  },
  {
   "cell_type": "code",
   "execution_count": 195,
   "metadata": {},
   "outputs": [
    {
     "data": {
      "text/plain": [
       "(44, 5)"
      ]
     },
     "execution_count": 195,
     "metadata": {},
     "output_type": "execute_result"
    }
   ],
   "source": [
    "df_top20_words.fillna(0, inplace=True )\n",
    "df_top20_words.set_index('Terms', inplace=True)\n",
    "df_top20_words.shape"
   ]
  },
  {
   "cell_type": "code",
   "execution_count": 196,
   "metadata": {},
   "outputs": [],
   "source": [
    "import numpy as np\n",
    "from textacy.viz.termite import draw_termite_plot"
   ]
  },
  {
   "cell_type": "code",
   "execution_count": 197,
   "metadata": {},
   "outputs": [],
   "source": [
    "df = df_top20_words.copy()\n",
    "df_norm = (df) / (df.max() - df.min())"
   ]
  },
  {
   "cell_type": "code",
   "execution_count": 198,
   "metadata": {},
   "outputs": [
    {
     "data": {
      "image/png": "[encoded data removed]",
      "text/plain": [
       "<Figure size 260.921x875.006 with 1 Axes>"
      ]
     },
     "metadata": {},
     "output_type": "display_data"
    }
   ],
   "source": [
    "draw_termite_plot(np.array(df_norm.values),df_top20_words.columns,df_top20_words.index,highlight_cols=[0,1,2,3,4])\n",
    "plt.savefig('/Users/alecmccabe/Desktop/Flatiron/Projects/final_project_ideas/web_articles_spin/Pics/termite_plot.png')"
   ]
  },
  {
   "cell_type": "markdown",
   "metadata": {},
   "source": [
    "**Polarity by target**"
   ]
  },
  {
   "cell_type": "code",
   "execution_count": 199,
   "metadata": {},
   "outputs": [],
   "source": [
    "from matplotlib import pyplot as plt\n",
    "import seaborn as sns\n",
    "sns.set(style=\"whitegrid\")"
   ]
  },
  {
   "cell_type": "code",
   "execution_count": 201,
   "metadata": {
    "scrolled": true
   },
   "outputs": [
    {
     "data": {
      "image/png": "[encoded data removed]",
      "text/plain": [
       "<Figure size 576x288 with 1 Axes>"
      ]
     },
     "metadata": {},
     "output_type": "display_data"
    }
   ],
   "source": [
    "plt.figure(figsize=(8,4))\n",
    "ax = sns.boxplot(x=\"target\", y=\"polarity\", data=data, showfliers=False)\n",
    "# ax = sns.swarmplot(x=\"category\", y=\"polarity\", data=data, color=\".25\")\n",
    "ax.set_title('Sentiment by Category in the Text')\n",
    "l = ax.set_xticklabels(ax.get_xticklabels(), rotation=60)\n",
    "plt.savefig('/Users/alecmccabe/Desktop/Flatiron/Projects/final_project_ideas/web_articles_spin/Pics/pol_by_target.png')"
   ]
  },
  {
   "cell_type": "markdown",
   "metadata": {},
   "source": [
    "**Polarity over time**"
   ]
  },
  {
   "cell_type": "code",
   "execution_count": 202,
   "metadata": {},
   "outputs": [
    {
     "data": {
      "image/png": "[encoded data removed]",
      "text/plain": [
       "<Figure size 432x288 with 1 Axes>"
      ]
     },
     "metadata": {},
     "output_type": "display_data"
    }
   ],
   "source": [
    "data.groupby(by=['month','target'])['polarity'].mean().unstack().plot()\n",
    "plt.savefig('/Users/alecmccabe/Desktop/Flatiron/Projects/final_project_ideas/web_articles_spin/Pics/pol_time.png')"
   ]
  },
  {
   "cell_type": "markdown",
   "metadata": {},
   "source": [
    "**Subjectivity by target**"
   ]
  },
  {
   "cell_type": "code",
   "execution_count": 204,
   "metadata": {
    "scrolled": true
   },
   "outputs": [
    {
     "data": {
      "image/png": "[encoded data removed]",
      "text/plain": [
       "<Figure size 576x288 with 1 Axes>"
      ]
     },
     "metadata": {},
     "output_type": "display_data"
    }
   ],
   "source": [
    "plt.figure(figsize=(8,4))\n",
    "ax = sns.boxplot(x=\"target\", y=\"subjectivity\", data=data, showfliers=False)\n",
    "# ax = sns.swarmplot(x=\"category\", y=\"polarity\", data=data, color=\".25\")\n",
    "ax.set_title('Sentiment by Category in the Text')\n",
    "l = ax.set_xticklabels(ax.get_xticklabels(), rotation=60)\n",
    "plt.savefig('/Users/alecmccabe/Desktop/Flatiron/Projects/final_project_ideas/web_articles_spin/Pics/sub_by_target.png')"
   ]
  },
  {
   "cell_type": "markdown",
   "metadata": {},
   "source": [
    "**Subjectivity over time**"
   ]
  },
  {
   "cell_type": "code",
   "execution_count": 205,
   "metadata": {},
   "outputs": [
    {
     "data": {
      "image/png": "[encoded data removed]",
      "text/plain": [
       "<Figure size 432x288 with 1 Axes>"
      ]
     },
     "metadata": {},
     "output_type": "display_data"
    }
   ],
   "source": [
    "data.groupby(by=['month','target'])['subjectivity'].mean().unstack().plot()\n",
    "plt.savefig('/Users/alecmccabe/Desktop/Flatiron/Projects/final_project_ideas/web_articles_spin/Pics/sub_time.png')"
   ]
  },
  {
   "cell_type": "markdown",
   "metadata": {},
   "source": [
    "**n_long_words by target**"
   ]
  },
  {
   "cell_type": "code",
   "execution_count": 218,
   "metadata": {},
   "outputs": [
    {
     "data": {
      "image/png": "[encoded data removed]",
      "text/plain": [
       "<Figure size 720x360 with 1 Axes>"
      ]
     },
     "metadata": {},
     "output_type": "display_data"
    }
   ],
   "source": [
    "plt.figure(figsize=(10,5))\n",
    "ax = sns.boxplot(x=\"target\", y=\"n_long_words\", data=data, showfliers=False)\n",
    "# ax = sns.swarmplot(x=\"category\", y=\"subjectivity\", data=df_news, color=\".25\")\n",
    "ax.set_title('N Long Words by Target')\n",
    "l= ax.set_xticklabels(ax.get_xticklabels(), rotation=90)\n",
    "plt.savefig('/Users/alecmccabe/Desktop/Flatiron/Projects/final_project_ideas/web_articles_spin/Pics/longwords_target.png')"
   ]
  },
  {
   "cell_type": "markdown",
   "metadata": {},
   "source": [
    "**n_monosyllable_words by target**"
   ]
  },
  {
   "cell_type": "code",
   "execution_count": 217,
   "metadata": {},
   "outputs": [
    {
     "data": {
      "image/png": "[encoded data removed]",
      "text/plain": [
       "<Figure size 720x360 with 1 Axes>"
      ]
     },
     "metadata": {},
     "output_type": "display_data"
    }
   ],
   "source": [
    "plt.figure(figsize=(10,5))\n",
    "ax = sns.boxplot(x=\"target\", y=\"n_monosyllable_words\", data=data, showfliers=False)\n",
    "# ax = sns.swarmplot(x=\"category\", y=\"subjectivity\", data=df_news, color=\".25\")\n",
    "ax.set_title('N Monosyllable Words by Target')\n",
    "l= ax.set_xticklabels(ax.get_xticklabels(), rotation=90)\n",
    "plt.savefig('/Users/alecmccabe/Desktop/Flatiron/Projects/final_project_ideas/web_articles_spin/Pics/mono_target.png')"
   ]
  },
  {
   "cell_type": "markdown",
   "metadata": {},
   "source": [
    "**n_polysyllable_words by target**"
   ]
  },
  {
   "cell_type": "code",
   "execution_count": 216,
   "metadata": {},
   "outputs": [
    {
     "data": {
      "image/png": "[encoded data removed]",
      "text/plain": [
       "<Figure size 720x360 with 1 Axes>"
      ]
     },
     "metadata": {},
     "output_type": "display_data"
    }
   ],
   "source": [
    "plt.figure(figsize=(10,5))\n",
    "ax = sns.boxplot(x=\"target\", y=\"n_polysyllable_words\", data=data, showfliers=False)\n",
    "# ax = sns.swarmplot(x=\"category\", y=\"subjectivity\", data=df_news, color=\".25\")\n",
    "ax.set_title('N Polysyllable Words by Target')\n",
    "l= ax.set_xticklabels(ax.get_xticklabels(), rotation=90)\n",
    "plt.savefig('/Users/alecmccabe/Desktop/Flatiron/Projects/final_project_ideas/web_articles_spin/Pics/poly_target.png')"
   ]
  },
  {
   "cell_type": "markdown",
   "metadata": {},
   "source": [
    "**n_unique_words by target**"
   ]
  },
  {
   "cell_type": "code",
   "execution_count": 215,
   "metadata": {},
   "outputs": [
    {
     "data": {
      "image/png": "[encoded data removed]",
      "text/plain": [
       "<Figure size 720x360 with 1 Axes>"
      ]
     },
     "metadata": {},
     "output_type": "display_data"
    }
   ],
   "source": [
    "plt.figure(figsize=(10,5))\n",
    "ax = sns.boxplot(x=\"target\", y=\"n_unique_words\", data=data, showfliers=False)\n",
    "# ax = sns.swarmplot(x=\"category\", y=\"subjectivity\", data=df_news, color=\".25\")\n",
    "ax.set_title('N Unique Words by Target')\n",
    "l= ax.set_xticklabels(ax.get_xticklabels(), rotation=90)\n",
    "plt.savefig('/Users/alecmccabe/Desktop/Flatiron/Projects/final_project_ideas/web_articles_spin/Pics/unique_target.png')"
   ]
  },
  {
   "cell_type": "markdown",
   "metadata": {},
   "source": [
    "**coleman_index by target**"
   ]
  },
  {
   "cell_type": "code",
   "execution_count": 214,
   "metadata": {},
   "outputs": [
    {
     "data": {
      "image/png": "[encoded data removed]",
      "text/plain": [
       "<Figure size 720x360 with 1 Axes>"
      ]
     },
     "metadata": {},
     "output_type": "display_data"
    }
   ],
   "source": [
    "plt.figure(figsize=(10,5))\n",
    "ax = sns.violinplot(x=\"target\", y=\"coleman_index\", data=data, showfliers=False)\n",
    "# ax = sns.swarmplot(x=\"category\", y=\"subjectivity\", data=df_news, color=\".25\")\n",
    "ax.set_title('Coleman Readability by Target')\n",
    "l= ax.set_xticklabels(ax.get_xticklabels(), rotation=90)\n",
    "plt.savefig('/Users/alecmccabe/Desktop/Flatiron/Projects/final_project_ideas/web_articles_spin/Pics/unique_target.png')"
   ]
  },
  {
   "cell_type": "code",
   "execution_count": null,
   "metadata": {},
   "outputs": [],
   "source": []
  }
 ],
 "metadata": {
  "kernelspec": {
   "display_name": "Python 3",
   "language": "python",
   "name": "python3"
  },
  "language_info": {
   "codemirror_mode": {
    "name": "ipython",
    "version": 3
   },
   "file_extension": ".py",
   "mimetype": "text/x-python",
   "name": "python",
   "nbconvert_exporter": "python",
   "pygments_lexer": "ipython3",
   "version": "3.8.3"
  }
 },
 "nbformat": 4,
 "nbformat_minor": 4
}
