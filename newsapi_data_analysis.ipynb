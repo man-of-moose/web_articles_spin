{
 "cells": [
  {
   "cell_type": "markdown",
   "metadata": {},
   "source": [
    "# Import Libraries and functions"
   ]
  },
  {
   "cell_type": "code",
   "execution_count": 34,
   "metadata": {},
   "outputs": [
    {
     "name": "stderr",
     "output_type": "stream",
     "text": [
      "[nltk_data] Downloading package stopwords to\n",
      "[nltk_data]     /Users/alecmccabe/nltk_data...\n",
      "[nltk_data]   Package stopwords is already up-to-date!\n",
      "[nltk_data] Downloading package punkt to\n",
      "[nltk_data]     /Users/alecmccabe/nltk_data...\n",
      "[nltk_data]   Package punkt is already up-to-date!\n",
      "[nltk_data] Downloading package wordnet to\n",
      "[nltk_data]     /Users/alecmccabe/nltk_data...\n",
      "[nltk_data]   Package wordnet is already up-to-date!\n"
     ]
    },
    {
     "data": {
      "text/plain": [
       "True"
      ]
     },
     "execution_count": 34,
     "metadata": {},
     "output_type": "execute_result"
    }
   ],
   "source": [
    "# Import some libraries that will be used\n",
    "import pandas as pd\n",
    "import numpy as np\n",
    "import matplotlib.pyplot as plt\n",
    "from matplotlib import cm\n",
    "import seaborn as sns\n",
    "\n",
    "pd.set_option('display.max_columns', 300)\n",
    "\n",
    "%matplotlib inline\n",
    "\n",
    "from sklearn.feature_extraction.text import CountVectorizer, TfidfVectorizer, TfidfTransformer\n",
    "from sklearn.metrics import confusion_matrix, accuracy_score, f1_score\n",
    "from sklearn.naive_bayes import MultinomialNB, GaussianNB\n",
    "from sklearn.model_selection import train_test_split\n",
    "from sklearn.ensemble import RandomForestClassifier\n",
    "from sklearn.pipeline import Pipeline, FeatureUnion\n",
    "from sklearn.svm import LinearSVC\n",
    "from sklearn.linear_model import SGDClassifier\n",
    "\n",
    "import nltk\n",
    "from nltk import word_tokenize\n",
    "from nltk.probability import FreqDist\n",
    "from nltk.corpus import stopwords\n",
    "from nltk.stem import PorterStemmer\n",
    "\n",
    "import re\n",
    "import string\n",
    "\n",
    "import scipy\n",
    "from textblob import TextBlob\n",
    "\n",
    "from sklearn.decomposition import TruncatedSVD\n",
    "from sklearn.metrics import classification_report\n",
    "from sklearn.preprocessing import MinMaxScaler\n",
    "\n",
    "nltk.download('stopwords')\n",
    "nltk.download('punkt')\n",
    "nltk.download('wordnet')"
   ]
  },
  {
   "cell_type": "code",
   "execution_count": 35,
   "metadata": {},
   "outputs": [
    {
     "name": "stderr",
     "output_type": "stream",
     "text": [
      "/Users/alecmccabe/opt/anaconda3/lib/python3.8/site-packages/tqdm/std.py:668: FutureWarning: The Panel class is removed from pandas. Accessing it from the top-level namespace will also be removed in the next version\n",
      "  from pandas import Panel\n"
     ]
    }
   ],
   "source": [
    "from tqdm import tqdm\n",
    "tqdm.pandas()"
   ]
  },
  {
   "cell_type": "code",
   "execution_count": 36,
   "metadata": {},
   "outputs": [],
   "source": [
    "import spacy\n",
    "import en_core_web_sm\n",
    "nlp = en_core_web_sm.load()"
   ]
  },
  {
   "cell_type": "code",
   "execution_count": 37,
   "metadata": {},
   "outputs": [],
   "source": [
    "from nltk.stem import WordNetLemmatizer \n",
    "  \n",
    "lemmatizer = WordNetLemmatizer()"
   ]
  },
  {
   "cell_type": "code",
   "execution_count": 38,
   "metadata": {},
   "outputs": [],
   "source": [
    "#set stopwords and punctuations\n",
    "stopwords = stopwords.words('english')\n",
    "stopwords += list(string.punctuation)\n",
    "stopwords += [\"n't\", \"' '\", \"'re'\",\"”\",\"``\",\"“\",\"''\",\"’\",\"'s\",\"'re\",\"http\",\"https\",\"char\",\"reuters\",\"wall\",\"street\",\"journal\",\"photo\"]"
   ]
  },
  {
   "cell_type": "code",
   "execution_count": 39,
   "metadata": {},
   "outputs": [],
   "source": [
    "def black_txt(token):\n",
    "    return  token not in stopwords and token not in list(string.punctuation)  and len(token)>3\n",
    "\n",
    "def clean_txt(text, string = True):\n",
    "    clean_text = []\n",
    "    clean_text2 = []\n",
    "    text = re.sub(\"'\", \"\",text)\n",
    "    text = re.sub(\"\\n\", \"\",text)\n",
    "    text=re.sub(\"(\\\\d|\\\\W)+\",\" \",text)    \n",
    "    clean_text = [ lemmatizer.lemmatize(word, pos=\"v\") for word in word_tokenize(text.lower()) if black_txt(word)]\n",
    "    clean_text2 = [word for word in clean_text if black_txt(word)]\n",
    "    \n",
    "    if string == True:\n",
    "        return \" \".join(clean_text2)\n",
    "    else:\n",
    "        return clean_text2"
   ]
  },
  {
   "cell_type": "markdown",
   "metadata": {},
   "source": [
    "# Load data"
   ]
  },
  {
   "cell_type": "code",
   "execution_count": 40,
   "metadata": {},
   "outputs": [],
   "source": [
    "#load in data\n",
    "data = pd.read_csv('clean_data.csv', index_col = 0)"
   ]
  },
  {
   "cell_type": "markdown",
   "metadata": {},
   "source": [
    "# Build Class Transformers, Pipeline"
   ]
  },
  {
   "cell_type": "code",
   "execution_count": 41,
   "metadata": {},
   "outputs": [],
   "source": [
    "from sklearn.base import BaseEstimator, TransformerMixin\n",
    "from sklearn.pipeline import FeatureUnion\n",
    "from sklearn.feature_extraction import DictVectorizer\n",
    "class ItemSelector(BaseEstimator, TransformerMixin):\n",
    "    def __init__(self, key):\n",
    "        self.key = key\n",
    "\n",
    "    def fit(self, x, y=None):\n",
    "        return self\n",
    "\n",
    "    def transform(self, data_dict):\n",
    "        return data_dict[self.key]\n",
    "\n",
    "    \n",
    "class TextStats(BaseEstimator, TransformerMixin):\n",
    "    \"\"\"Extract features from each document for DictVectorizer\"\"\"\n",
    "\n",
    "    def fit(self, x, y=None):\n",
    "        return self\n",
    "\n",
    "    def transform(self, data):\n",
    "        return [{'pol':  row['polarity'], \n",
    "                 'sub': row['subjectivity'],\n",
    "                 'n_long_words': row['n_long_words'], \n",
    "                 'n_monosyllable_words': row['n_monosyllable_words'], \n",
    "                 'n_polysyllable_words': row['n_polysyllable_words'], \n",
    "                 'n_unique_words': row['n_unique_words'],\n",
    "                'topic_0': row['topic_0'],\n",
    "                'topic_1': row['topic_1'],\n",
    "                'topic_2': row['topic_2'],\n",
    "                'topic_3': row['topic_3'],\n",
    "                'topic_4': row['topic_4'],\n",
    "                'topic_5': row['topic_5'],\n",
    "                'topic_6': row['topic_6'],\n",
    "                'topic_7': row['topic_7'],} for _, row in data.iterrows()]"
   ]
  },
  {
   "cell_type": "code",
   "execution_count": 42,
   "metadata": {},
   "outputs": [],
   "source": [
    "pipeline = Pipeline([\n",
    "    ('union', FeatureUnion(\n",
    "        transformer_list=[\n",
    "\n",
    "            # Pipeline for pulling features from the text\n",
    "            ('text', Pipeline([\n",
    "                ('selector', ItemSelector(key='predictor')),\n",
    "                ('tfidf', TfidfVectorizer( min_df =3, max_df=0.2, max_features=None, \n",
    "                    strip_accents='unicode', analyzer='word',token_pattern=r'\\w{1,}',\n",
    "                    ngram_range=(1, 10), use_idf=1,smooth_idf=1,sublinear_tf=1,\n",
    "                    stop_words = None, preprocessor=clean_txt)),\n",
    "            ])),\n",
    "\n",
    "            # Pipeline for pulling metadata features\n",
    "            ('stats', Pipeline([\n",
    "                ('selector', ItemSelector(key=['polarity', \n",
    "                                               'subjectivity', \n",
    "                                              'n_long_words',\n",
    "                                              'n_monosyllable_words',\n",
    "                                              'n_polysyllable_words',\n",
    "                                              'n_unique_words',\n",
    "                                              'topic_0',\n",
    "                                              'topic_1',\n",
    "                                              'topic_2',\n",
    "                                              'topic_3',\n",
    "                                              'topic_4',\n",
    "                                              'topic_5',\n",
    "                                              'topic_6',\n",
    "                                              'topic_7',])),\n",
    "                ('stats', TextStats()),  # returns a list of dicts\n",
    "                ('vect', DictVectorizer()),  # list of dicts -> feature matrix\n",
    "            ])),\n",
    "\n",
    "        ],\n",
    "\n",
    "        # weight components in FeatureUnion\n",
    "        transformer_weights={\n",
    "            'text': 0.9,\n",
    "            'stats': 1.5,\n",
    "        },\n",
    "    ))\n",
    "])"
   ]
  },
  {
   "cell_type": "code",
   "execution_count": 43,
   "metadata": {},
   "outputs": [],
   "source": [
    "scaler = MinMaxScaler()"
   ]
  },
  {
   "cell_type": "code",
   "execution_count": 44,
   "metadata": {},
   "outputs": [
    {
     "name": "stderr",
     "output_type": "stream",
     "text": [
      "<ipython-input-44-c6f2a02ed1ef>:8: SettingWithCopyWarning: \n",
      "A value is trying to be set on a copy of a slice from a DataFrame.\n",
      "Try using .loc[row_indexer,col_indexer] = value instead\n",
      "\n",
      "See the caveats in the documentation: https://pandas.pydata.org/pandas-docs/stable/user_guide/indexing.html#returning-a-view-versus-a-copy\n",
      "  X[['polarity']] = scaler.fit_transform(X[['polarity']])\n",
      "/Users/alecmccabe/opt/anaconda3/lib/python3.8/site-packages/pandas/core/indexing.py:966: SettingWithCopyWarning: \n",
      "A value is trying to be set on a copy of a slice from a DataFrame.\n",
      "Try using .loc[row_indexer,col_indexer] = value instead\n",
      "\n",
      "See the caveats in the documentation: https://pandas.pydata.org/pandas-docs/stable/user_guide/indexing.html#returning-a-view-versus-a-copy\n",
      "  self.obj[item] = s\n"
     ]
    }
   ],
   "source": [
    "from sklearn.preprocessing import LabelEncoder\n",
    "from sklearn.model_selection import train_test_split\n",
    "seed = 40\n",
    "X = data[['predictor', 'polarity', 'subjectivity','n_long_words','n_monosyllable_words',\n",
    "         'n_polysyllable_words','n_unique_words','topic_0','topic_1','topic_2','topic_3',\n",
    "         'topic_4','topic_5','topic_6','topic_7']]\n",
    "\n",
    "X[['polarity']] = scaler.fit_transform(X[['polarity']])\n",
    "\n",
    "y =data['target']\n",
    "encoder = LabelEncoder()\n",
    "y = encoder.fit_transform(y)\n",
    "x_train, x_test, y_train, y_test = train_test_split(X, y, test_size=0.2, random_state=seed, stratify=y)"
   ]
  },
  {
   "cell_type": "code",
   "execution_count": 45,
   "metadata": {},
   "outputs": [
    {
     "data": {
      "text/plain": [
       "Pipeline(steps=[('union',\n",
       "                 FeatureUnion(transformer_list=[('text',\n",
       "                                                 Pipeline(steps=[('selector',\n",
       "                                                                  ItemSelector(key='predictor')),\n",
       "                                                                 ('tfidf',\n",
       "                                                                  TfidfVectorizer(max_df=0.2,\n",
       "                                                                                  min_df=3,\n",
       "                                                                                  ngram_range=(1,\n",
       "                                                                                               10),\n",
       "                                                                                  preprocessor=<function clean_txt at 0x182c2bd30>,\n",
       "                                                                                  smooth_idf=1,\n",
       "                                                                                  strip_accents='unicode',\n",
       "                                                                                  sublinear_tf=1,\n",
       "                                                                                  token_pattern='\\\\w{1,}',\n",
       "                                                                                  use_idf=1))])),\n",
       "                                                ('stats',\n",
       "                                                 Pipeline(steps=[('selector',\n",
       "                                                                  ItemSelector(key=['polarity',\n",
       "                                                                                    'subjectivity',\n",
       "                                                                                    'n_long_words',\n",
       "                                                                                    'n_monosyllable_words',\n",
       "                                                                                    'n_polysyllable_words',\n",
       "                                                                                    'n_unique_words',\n",
       "                                                                                    'topic_0',\n",
       "                                                                                    'topic_1',\n",
       "                                                                                    'topic_2',\n",
       "                                                                                    'topic_3',\n",
       "                                                                                    'topic_4',\n",
       "                                                                                    'topic_5',\n",
       "                                                                                    'topic_6',\n",
       "                                                                                    'topic_7'])),\n",
       "                                                                 ('stats',\n",
       "                                                                  TextStats()),\n",
       "                                                                 ('vect',\n",
       "                                                                  DictVectorizer())]))],\n",
       "                              transformer_weights={'stats': 1.5,\n",
       "                                                   'text': 0.9}))])"
      ]
     },
     "execution_count": 45,
     "metadata": {},
     "output_type": "execute_result"
    }
   ],
   "source": [
    "pipeline.fit(x_train)"
   ]
  },
  {
   "cell_type": "code",
   "execution_count": 46,
   "metadata": {},
   "outputs": [
    {
     "name": "stdout",
     "output_type": "stream",
     "text": [
      "Checking that the number of features in train and test correspond: (14241, 1947257) - (3561, 1947257)\n",
      "CPU times: user 2min 19s, sys: 1.38 s, total: 2min 21s\n",
      "Wall time: 2min 22s\n"
     ]
    }
   ],
   "source": [
    "%%time\n",
    "train_vec = pipeline.transform(x_train)\n",
    "test_vec = pipeline.transform(x_test)\n",
    "print(\"Checking that the number of features in train and test correspond: %s - %s\" % (train_vec.shape, test_vec.shape))"
   ]
  },
  {
   "cell_type": "markdown",
   "metadata": {},
   "source": [
    "# Test different models"
   ]
  },
  {
   "cell_type": "code",
   "execution_count": 47,
   "metadata": {},
   "outputs": [
    {
     "data": {
      "text/html": [
       "<div>\n",
       "<style scoped>\n",
       "    .dataframe tbody tr th:only-of-type {\n",
       "        vertical-align: middle;\n",
       "    }\n",
       "\n",
       "    .dataframe tbody tr th {\n",
       "        vertical-align: top;\n",
       "    }\n",
       "\n",
       "    .dataframe thead th {\n",
       "        text-align: right;\n",
       "    }\n",
       "</style>\n",
       "<table border=\"1\" class=\"dataframe\">\n",
       "  <thead>\n",
       "    <tr style=\"text-align: right;\">\n",
       "      <th></th>\n",
       "      <th>model</th>\n",
       "      <th>accuracy</th>\n",
       "    </tr>\n",
       "  </thead>\n",
       "  <tbody>\n",
       "  </tbody>\n",
       "</table>\n",
       "</div>"
      ],
      "text/plain": [
       "Empty DataFrame\n",
       "Columns: [model, accuracy]\n",
       "Index: []"
      ]
     },
     "execution_count": 47,
     "metadata": {},
     "output_type": "execute_result"
    }
   ],
   "source": [
    "results = pd.DataFrame(columns = ['model','accuracy'])\n",
    "results"
   ]
  },
  {
   "cell_type": "code",
   "execution_count": 48,
   "metadata": {},
   "outputs": [],
   "source": [
    "#Dummy Classifier\n",
    "from sklearn.dummy import DummyClassifier\n",
    "X = data['predictor']\n",
    "y = data['target']\n",
    "\n",
    "dummy_cf = DummyClassifier(strategy='stratified')\n",
    "dummy_cf.fit(X,y)\n",
    "y_preds = dummy_cf.predict(X)\n",
    "\n",
    "accuracy = dummy_cf.score(X,y)\n"
   ]
  },
  {
   "cell_type": "code",
   "execution_count": 49,
   "metadata": {},
   "outputs": [
    {
     "data": {
      "text/html": [
       "<div>\n",
       "<style scoped>\n",
       "    .dataframe tbody tr th:only-of-type {\n",
       "        vertical-align: middle;\n",
       "    }\n",
       "\n",
       "    .dataframe tbody tr th {\n",
       "        vertical-align: top;\n",
       "    }\n",
       "\n",
       "    .dataframe thead th {\n",
       "        text-align: right;\n",
       "    }\n",
       "</style>\n",
       "<table border=\"1\" class=\"dataframe\">\n",
       "  <thead>\n",
       "    <tr style=\"text-align: right;\">\n",
       "      <th></th>\n",
       "      <th>model</th>\n",
       "      <th>accuracy</th>\n",
       "    </tr>\n",
       "  </thead>\n",
       "  <tbody>\n",
       "    <tr>\n",
       "      <th>0</th>\n",
       "      <td>Dummy</td>\n",
       "      <td>0.338052</td>\n",
       "    </tr>\n",
       "  </tbody>\n",
       "</table>\n",
       "</div>"
      ],
      "text/plain": [
       "   model  accuracy\n",
       "0  Dummy  0.338052"
      ]
     },
     "execution_count": 49,
     "metadata": {},
     "output_type": "execute_result"
    }
   ],
   "source": [
    "new_row = {'model': 'Dummy', 'accuracy': accuracy}\n",
    "results = results.append(new_row, ignore_index=True)\n",
    "results"
   ]
  },
  {
   "cell_type": "code",
   "execution_count": 50,
   "metadata": {},
   "outputs": [
    {
     "name": "stdout",
     "output_type": "stream",
     "text": [
      "[LibLinear]"
     ]
    }
   ],
   "source": [
    "#Linear Support Vector Machines\n",
    "sv_clf = LinearSVC(C=1, class_weight='balanced', multi_class='ovr', random_state=40,verbose=3) \n",
    "sv_clf.fit(train_vec, y_train)\n",
    "test_preds = sv_clf.predict(test_vec)"
   ]
  },
  {
   "cell_type": "code",
   "execution_count": 51,
   "metadata": {},
   "outputs": [
    {
     "data": {
      "text/html": [
       "<div>\n",
       "<style scoped>\n",
       "    .dataframe tbody tr th:only-of-type {\n",
       "        vertical-align: middle;\n",
       "    }\n",
       "\n",
       "    .dataframe tbody tr th {\n",
       "        vertical-align: top;\n",
       "    }\n",
       "\n",
       "    .dataframe thead th {\n",
       "        text-align: right;\n",
       "    }\n",
       "</style>\n",
       "<table border=\"1\" class=\"dataframe\">\n",
       "  <thead>\n",
       "    <tr style=\"text-align: right;\">\n",
       "      <th></th>\n",
       "      <th>model</th>\n",
       "      <th>accuracy</th>\n",
       "    </tr>\n",
       "  </thead>\n",
       "  <tbody>\n",
       "    <tr>\n",
       "      <th>0</th>\n",
       "      <td>Dummy</td>\n",
       "      <td>0.338052</td>\n",
       "    </tr>\n",
       "    <tr>\n",
       "      <th>1</th>\n",
       "      <td>SVM</td>\n",
       "      <td>0.943836</td>\n",
       "    </tr>\n",
       "  </tbody>\n",
       "</table>\n",
       "</div>"
      ],
      "text/plain": [
       "   model  accuracy\n",
       "0  Dummy  0.338052\n",
       "1    SVM  0.943836"
      ]
     },
     "execution_count": 51,
     "metadata": {},
     "output_type": "execute_result"
    }
   ],
   "source": [
    "accuracy = accuracy_score(y_test, test_preds)\n",
    "\n",
    "new_row = {'model': 'SVM', 'accuracy': accuracy}\n",
    "results = results.append(new_row, ignore_index=True)\n",
    "results"
   ]
  },
  {
   "cell_type": "code",
   "execution_count": 52,
   "metadata": {},
   "outputs": [
    {
     "name": "stderr",
     "output_type": "stream",
     "text": [
      "[Parallel(n_jobs=-1)]: Using backend ThreadingBackend with 8 concurrent workers.\n",
      "[Parallel(n_jobs=-1)]: Done  34 tasks      | elapsed:   19.0s\n",
      "[Parallel(n_jobs=-1)]: Done 184 tasks      | elapsed:  1.5min\n",
      "[Parallel(n_jobs=-1)]: Done 200 out of 200 | elapsed:  1.6min finished\n",
      "[Parallel(n_jobs=8)]: Using backend ThreadingBackend with 8 concurrent workers.\n",
      "[Parallel(n_jobs=8)]: Done  34 tasks      | elapsed:    0.3s\n",
      "[Parallel(n_jobs=8)]: Done 184 tasks      | elapsed:    1.6s\n",
      "[Parallel(n_jobs=8)]: Done 200 out of 200 | elapsed:    1.8s finished\n"
     ]
    }
   ],
   "source": [
    "#Random Forest\n",
    "rfc_clf = RandomForestClassifier(n_estimators=200,random_state=0,n_jobs=-1,verbose=1)\n",
    "rfc_clf.fit(train_vec, y_train)\n",
    "test_preds = rfc_clf.predict(test_vec)"
   ]
  },
  {
   "cell_type": "code",
   "execution_count": 53,
   "metadata": {
    "scrolled": true
   },
   "outputs": [
    {
     "data": {
      "text/html": [
       "<div>\n",
       "<style scoped>\n",
       "    .dataframe tbody tr th:only-of-type {\n",
       "        vertical-align: middle;\n",
       "    }\n",
       "\n",
       "    .dataframe tbody tr th {\n",
       "        vertical-align: top;\n",
       "    }\n",
       "\n",
       "    .dataframe thead th {\n",
       "        text-align: right;\n",
       "    }\n",
       "</style>\n",
       "<table border=\"1\" class=\"dataframe\">\n",
       "  <thead>\n",
       "    <tr style=\"text-align: right;\">\n",
       "      <th></th>\n",
       "      <th>model</th>\n",
       "      <th>accuracy</th>\n",
       "    </tr>\n",
       "  </thead>\n",
       "  <tbody>\n",
       "    <tr>\n",
       "      <th>0</th>\n",
       "      <td>Dummy</td>\n",
       "      <td>0.338052</td>\n",
       "    </tr>\n",
       "    <tr>\n",
       "      <th>1</th>\n",
       "      <td>SVM</td>\n",
       "      <td>0.943836</td>\n",
       "    </tr>\n",
       "    <tr>\n",
       "      <th>2</th>\n",
       "      <td>RFC</td>\n",
       "      <td>0.898624</td>\n",
       "    </tr>\n",
       "  </tbody>\n",
       "</table>\n",
       "</div>"
      ],
      "text/plain": [
       "   model  accuracy\n",
       "0  Dummy  0.338052\n",
       "1    SVM  0.943836\n",
       "2    RFC  0.898624"
      ]
     },
     "execution_count": 53,
     "metadata": {},
     "output_type": "execute_result"
    }
   ],
   "source": [
    "accuracy = accuracy_score(y_test, test_preds)\n",
    "\n",
    "new_row = {'model': 'RFC', 'accuracy': accuracy}\n",
    "results = results.append(new_row, ignore_index=True)\n",
    "results"
   ]
  },
  {
   "cell_type": "markdown",
   "metadata": {},
   "source": [
    "**MNB**"
   ]
  },
  {
   "cell_type": "code",
   "execution_count": 54,
   "metadata": {},
   "outputs": [
    {
     "data": {
      "text/html": [
       "<div>\n",
       "<style scoped>\n",
       "    .dataframe tbody tr th:only-of-type {\n",
       "        vertical-align: middle;\n",
       "    }\n",
       "\n",
       "    .dataframe tbody tr th {\n",
       "        vertical-align: top;\n",
       "    }\n",
       "\n",
       "    .dataframe thead th {\n",
       "        text-align: right;\n",
       "    }\n",
       "</style>\n",
       "<table border=\"1\" class=\"dataframe\">\n",
       "  <thead>\n",
       "    <tr style=\"text-align: right;\">\n",
       "      <th></th>\n",
       "      <th>model</th>\n",
       "      <th>accuracy</th>\n",
       "    </tr>\n",
       "  </thead>\n",
       "  <tbody>\n",
       "    <tr>\n",
       "      <th>0</th>\n",
       "      <td>Dummy</td>\n",
       "      <td>0.338052</td>\n",
       "    </tr>\n",
       "    <tr>\n",
       "      <th>1</th>\n",
       "      <td>SVM</td>\n",
       "      <td>0.943836</td>\n",
       "    </tr>\n",
       "    <tr>\n",
       "      <th>2</th>\n",
       "      <td>RFC</td>\n",
       "      <td>0.898624</td>\n",
       "    </tr>\n",
       "    <tr>\n",
       "      <th>3</th>\n",
       "      <td>MNB</td>\n",
       "      <td>0.652626</td>\n",
       "    </tr>\n",
       "  </tbody>\n",
       "</table>\n",
       "</div>"
      ],
      "text/plain": [
       "   model  accuracy\n",
       "0  Dummy  0.338052\n",
       "1    SVM  0.943836\n",
       "2    RFC  0.898624\n",
       "3    MNB  0.652626"
      ]
     },
     "execution_count": 54,
     "metadata": {},
     "output_type": "execute_result"
    }
   ],
   "source": [
    "#Multinomial Bayes\n",
    "mnb_lemma = MultinomialNB()\n",
    "mnb_lemma.fit(train_vec, y_train)\n",
    "test_preds = mnb_lemma.predict(test_vec)\n",
    "\n",
    "accuracy = accuracy_score(y_test, test_preds)\n",
    "\n",
    "new_row = {'model': 'MNB', 'accuracy': accuracy}\n",
    "results = results.append(new_row, ignore_index=True)\n",
    "results"
   ]
  },
  {
   "cell_type": "markdown",
   "metadata": {},
   "source": [
    "**Test out Word2Vec**"
   ]
  },
  {
   "cell_type": "code",
   "execution_count": 55,
   "metadata": {},
   "outputs": [],
   "source": [
    "class SpacyVectorTransformer(BaseEstimator, TransformerMixin):\n",
    "    def __init__(self, nlp):\n",
    "        self.nlp = nlp\n",
    "        self.dim = 300\n",
    "\n",
    "    def fit(self, X, y):\n",
    "        return self\n",
    "\n",
    "    def transform(self, X):\n",
    "        # Doc.vector defaults to an average of the token vectors.\n",
    "        # https://spacy.io/api/doc#vector\n",
    "        \n",
    "        return [self.nlp(text).vector for text in X]"
   ]
  },
  {
   "cell_type": "code",
   "execution_count": 56,
   "metadata": {},
   "outputs": [],
   "source": [
    "X = data['predictor']\n",
    "y =data['target']\n",
    "encoder = LabelEncoder()\n",
    "y = encoder.fit_transform(y)\n",
    "x_train, x_test, y_train, y_test = train_test_split(X, y, test_size=0.2, random_state=seed, stratify=y)"
   ]
  },
  {
   "cell_type": "code",
   "execution_count": 57,
   "metadata": {},
   "outputs": [
    {
     "name": "stderr",
     "output_type": "stream",
     "text": [
      "[Parallel(n_jobs=-1)]: Using backend ThreadingBackend with 8 concurrent workers.\n",
      "[Parallel(n_jobs=-1)]: Done  34 tasks      | elapsed:    0.6s\n",
      "[Parallel(n_jobs=-1)]: Done 100 out of 100 | elapsed:    1.6s finished\n",
      "[Parallel(n_jobs=8)]: Using backend ThreadingBackend with 8 concurrent workers.\n",
      "[Parallel(n_jobs=8)]: Done  34 tasks      | elapsed:    0.0s\n",
      "[Parallel(n_jobs=8)]: Done 100 out of 100 | elapsed:    0.0s finished\n"
     ]
    }
   ],
   "source": [
    "embeddings_pipeline = Pipeline(\n",
    "    steps=[\n",
    "        (\"mean_embeddings\", SpacyVectorTransformer(nlp)),\n",
    "        (\"reduce_dim\", TruncatedSVD(50)),\n",
    "        (\"classifier\", RandomForestClassifier(random_state=0,n_jobs=-1, verbose=1)),\n",
    "    ]\n",
    ")\n",
    "embeddings_pipeline.fit(x_train, y_train)\n",
    "y_pred = embeddings_pipeline.predict(x_test)\n",
    "cr = classification_report(y_test, y_pred,output_dict=True)"
   ]
  },
  {
   "cell_type": "code",
   "execution_count": 58,
   "metadata": {},
   "outputs": [
    {
     "data": {
      "text/html": [
       "<div>\n",
       "<style scoped>\n",
       "    .dataframe tbody tr th:only-of-type {\n",
       "        vertical-align: middle;\n",
       "    }\n",
       "\n",
       "    .dataframe tbody tr th {\n",
       "        vertical-align: top;\n",
       "    }\n",
       "\n",
       "    .dataframe thead th {\n",
       "        text-align: right;\n",
       "    }\n",
       "</style>\n",
       "<table border=\"1\" class=\"dataframe\">\n",
       "  <thead>\n",
       "    <tr style=\"text-align: right;\">\n",
       "      <th></th>\n",
       "      <th>model</th>\n",
       "      <th>accuracy</th>\n",
       "    </tr>\n",
       "  </thead>\n",
       "  <tbody>\n",
       "    <tr>\n",
       "      <th>0</th>\n",
       "      <td>Dummy</td>\n",
       "      <td>0.338052</td>\n",
       "    </tr>\n",
       "    <tr>\n",
       "      <th>1</th>\n",
       "      <td>SVM</td>\n",
       "      <td>0.943836</td>\n",
       "    </tr>\n",
       "    <tr>\n",
       "      <th>2</th>\n",
       "      <td>RFC</td>\n",
       "      <td>0.898624</td>\n",
       "    </tr>\n",
       "    <tr>\n",
       "      <th>3</th>\n",
       "      <td>MNB</td>\n",
       "      <td>0.652626</td>\n",
       "    </tr>\n",
       "    <tr>\n",
       "      <th>4</th>\n",
       "      <td>word2vec</td>\n",
       "      <td>0.858467</td>\n",
       "    </tr>\n",
       "  </tbody>\n",
       "</table>\n",
       "</div>"
      ],
      "text/plain": [
       "      model  accuracy\n",
       "0     Dummy  0.338052\n",
       "1       SVM  0.943836\n",
       "2       RFC  0.898624\n",
       "3       MNB  0.652626\n",
       "4  word2vec  0.858467"
      ]
     },
     "execution_count": 58,
     "metadata": {},
     "output_type": "execute_result"
    }
   ],
   "source": [
    "accuracy = accuracy_score(y_test, y_pred)\n",
    "\n",
    "new_row = {'model': 'word2vec', 'accuracy': accuracy}\n",
    "results = results.append(new_row, ignore_index=True)\n",
    "results"
   ]
  },
  {
   "cell_type": "markdown",
   "metadata": {},
   "source": [
    "**PAC**"
   ]
  },
  {
   "cell_type": "code",
   "execution_count": 59,
   "metadata": {},
   "outputs": [],
   "source": [
    "from sklearn.linear_model import PassiveAggressiveClassifier"
   ]
  },
  {
   "cell_type": "code",
   "execution_count": 60,
   "metadata": {},
   "outputs": [],
   "source": [
    "#Random Forest\n",
    "pac_clf = PassiveAggressiveClassifier()\n",
    "pac_clf.fit(train_vec, y_train)\n",
    "test_preds = pac_clf.predict(test_vec)"
   ]
  },
  {
   "cell_type": "code",
   "execution_count": 61,
   "metadata": {},
   "outputs": [
    {
     "data": {
      "text/html": [
       "<div>\n",
       "<style scoped>\n",
       "    .dataframe tbody tr th:only-of-type {\n",
       "        vertical-align: middle;\n",
       "    }\n",
       "\n",
       "    .dataframe tbody tr th {\n",
       "        vertical-align: top;\n",
       "    }\n",
       "\n",
       "    .dataframe thead th {\n",
       "        text-align: right;\n",
       "    }\n",
       "</style>\n",
       "<table border=\"1\" class=\"dataframe\">\n",
       "  <thead>\n",
       "    <tr style=\"text-align: right;\">\n",
       "      <th></th>\n",
       "      <th>model</th>\n",
       "      <th>accuracy</th>\n",
       "    </tr>\n",
       "  </thead>\n",
       "  <tbody>\n",
       "    <tr>\n",
       "      <th>0</th>\n",
       "      <td>Dummy</td>\n",
       "      <td>0.338052</td>\n",
       "    </tr>\n",
       "    <tr>\n",
       "      <th>1</th>\n",
       "      <td>SVM</td>\n",
       "      <td>0.943836</td>\n",
       "    </tr>\n",
       "    <tr>\n",
       "      <th>2</th>\n",
       "      <td>RFC</td>\n",
       "      <td>0.898624</td>\n",
       "    </tr>\n",
       "    <tr>\n",
       "      <th>3</th>\n",
       "      <td>MNB</td>\n",
       "      <td>0.652626</td>\n",
       "    </tr>\n",
       "    <tr>\n",
       "      <th>4</th>\n",
       "      <td>word2vec</td>\n",
       "      <td>0.858467</td>\n",
       "    </tr>\n",
       "    <tr>\n",
       "      <th>5</th>\n",
       "      <td>PAC</td>\n",
       "      <td>0.944678</td>\n",
       "    </tr>\n",
       "  </tbody>\n",
       "</table>\n",
       "</div>"
      ],
      "text/plain": [
       "      model  accuracy\n",
       "0     Dummy  0.338052\n",
       "1       SVM  0.943836\n",
       "2       RFC  0.898624\n",
       "3       MNB  0.652626\n",
       "4  word2vec  0.858467\n",
       "5       PAC  0.944678"
      ]
     },
     "execution_count": 61,
     "metadata": {},
     "output_type": "execute_result"
    }
   ],
   "source": [
    "accuracy = accuracy_score(y_test, test_preds)\n",
    "\n",
    "new_row = {'model': 'PAC', 'accuracy': accuracy}\n",
    "results = results.append(new_row, ignore_index=True)\n",
    "results"
   ]
  },
  {
   "cell_type": "markdown",
   "metadata": {},
   "source": [
    "**Deep Learning, Spacy**"
   ]
  },
  {
   "cell_type": "code",
   "execution_count": 116,
   "metadata": {},
   "outputs": [],
   "source": [
    "import spacy\n",
    "import en_core_web_sm\n",
    "nlp = en_core_web_sm.load()"
   ]
  },
  {
   "cell_type": "code",
   "execution_count": 117,
   "metadata": {},
   "outputs": [],
   "source": [
    "from keras.preprocessing.text import Tokenizer\n",
    "from keras.models import Sequential\n",
    "from keras.layers import Activation, Dense, Dropout, LSTM, Embedding\n",
    "from sklearn.preprocessing import LabelBinarizer\n",
    "from keras.preprocessing.text import Tokenizer, text_to_word_sequence\n",
    "from keras.preprocessing.sequence import pad_sequences\n",
    "from keras.utils import np_utils\n",
    "from keras.layers import Dense, Input, LSTM, Bidirectional, Activation, Conv1D, GRU, TimeDistributed\n",
    "from keras.layers import Dropout, Embedding, GlobalMaxPooling1D, MaxPooling1D, Add, Flatten, SpatialDropout1D\n",
    "from keras.layers import GlobalAveragePooling1D, BatchNormalization, concatenate\n",
    "from keras.layers import Reshape, merge, Concatenate, Lambda, Average\n",
    "from keras import backend as K\n",
    "from keras.engine.topology import Layer\n",
    "from keras import initializers, regularizers, constraints"
   ]
  },
  {
   "cell_type": "code",
   "execution_count": 118,
   "metadata": {},
   "outputs": [],
   "source": [
    "from sklearn.model_selection import train_test_split\n",
    "import time\n",
    "X = data['predictor']\n",
    "y =data['target']\n",
    "encoder = LabelEncoder()\n",
    "y = encoder.fit_transform(y)\n",
    "Y = np_utils.to_categorical(y)\n",
    "##Create the tf-idf vector\n",
    "vectorizer = TfidfVectorizer( min_df =3, max_df=0.2, max_features=None, \n",
    "            strip_accents='unicode', analyzer='word',token_pattern=r'\\w{1,}',\n",
    "            use_idf=1,smooth_idf=1,sublinear_tf=1,\n",
    "            stop_words = None, preprocessor=clean_txt)"
   ]
  },
  {
   "cell_type": "code",
   "execution_count": 119,
   "metadata": {},
   "outputs": [
    {
     "data": {
      "text/plain": [
       "TfidfVectorizer(max_df=0.2, min_df=3,\n",
       "                preprocessor=<function clean_txt at 0x12a829280>, smooth_idf=1,\n",
       "                strip_accents='unicode', sublinear_tf=1,\n",
       "                token_pattern='\\\\w{1,}', use_idf=1)"
      ]
     },
     "execution_count": 119,
     "metadata": {},
     "output_type": "execute_result"
    }
   ],
   "source": [
    "seed = 40\n",
    "x_train, x_test, y_train, y_test = train_test_split(X, Y, test_size=0.2, random_state=seed, stratify =y)\n",
    "vectorizer.fit(x_train)"
   ]
  },
  {
   "cell_type": "code",
   "execution_count": 120,
   "metadata": {},
   "outputs": [
    {
     "name": "stdout",
     "output_type": "stream",
     "text": [
      "[12582, 4185, 20462, 6811, 7653, 10753, 835, 7611, 23400, 7852, 1812, 20201, 20773, 18193, 20462, 21193, 13810, 4775, 6811, 16440, 23754, 12600, 23965, 6811, 13810, 120, 6010, 6811, 3857, 21923, 12582, 15138, 19238, 120, 19732, 1651, 15720, 2615, 6588, 20773, 1741, 12692, 4935, 22590, 20489, 2960, 20462, 14797, 19882, 23755, 2452, 13985, 1623, 7136, 21370, 19732, 12582, 20462, 18193, 17260, 19157, 11688, 14172, 14976, 18739, 1624, 20056, 6269, 14520, 21876, 1347, 2259, 16719, 19402, 19848, 15392, 20462, 20997, 21017, 23408, 12405, 21583, 20997, 12582, 21999, 15134, 1623, 20462, 6166, 15110, 5267, 8608, 876, 1623, 6269, 16440, 22278, 15132, 7620, 14520, 12330, 11463, 23456, 20201, 15186, 5775, 6716, 8475, 16947, 4065, 385, 7336, 19765, 13810, 120, 10235, 20462, 21193, 15136, 7696, 16130, 9368, 13897, 10213, 12814, 15132, 6811, 21999, 18195, 23889, 20773, 835, 4066, 19612, 20773, 19963, 8481, 9608, 17560, 838, 12654, 19731, 21999, 20773, 1741, 11685, 16093, 1598, 17054, 16316, 12457, 22590, 21657, 20462, 10424, 15785, 20083, 14644, 6811, 21999, 20926, 1677, 13102, 16440, 120, 20997, 12582, 2439, 23965, 12407, 18195, 11214, 20773, 17685, 835, 4066, 13431, 16439, 23072, 5377, 23578, 20117, 7656, 11095, 12582, 22588, 13810, 21884, 23544, 5177, 20462, 13212, 19402, 19396, 9332, 18195, 1732, 4499, 5703, 2994, 19238, 21370, 19732, 4066, 20462, 21193, 7136, 4148, 8475, 1276]\n"
     ]
    }
   ],
   "source": [
    "word2idx = {word: idx for idx, word in enumerate(vectorizer.get_feature_names())}\n",
    "tokenize = vectorizer.build_tokenizer()\n",
    "preprocess = vectorizer.build_preprocessor()\n",
    " \n",
    "def to_sequence(tokenizer, preprocessor, index, text):\n",
    "    words = tokenizer(preprocessor(text))\n",
    "    indexes = [index[word] for word in words if word in index]\n",
    "    return indexes\n",
    "\n",
    "X_train_sequences = [to_sequence(tokenize, preprocess, word2idx, x) for x in x_train]\n",
    "print(X_train_sequences[0])"
   ]
  },
  {
   "cell_type": "code",
   "execution_count": 121,
   "metadata": {},
   "outputs": [
    {
     "name": "stdout",
     "output_type": "stream",
     "text": [
      "[12457 22590 21657 20462 10424 15785 20083 14644  6811 21999 20926  1677\n",
      " 13102 16440   120 20997 12582  2439 23965 12407 18195 11214 20773 17685\n",
      "   835  4066 13431 16439 23072  5377 23578 20117  7656 11095 12582 22588\n",
      " 13810 21884 23544  5177 20462 13212 19402 19396  9332 18195  1732  4499\n",
      "  5703  2994 19238 21370 19732  4066 20462 21193  7136  4148  8475  1276]\n"
     ]
    }
   ],
   "source": [
    "# Compute the max lenght of a text\n",
    "\n",
    "MAX_SEQ_LENGHT=60\n",
    "\n",
    "N_FEATURES = len(vectorizer.get_feature_names())\n",
    "X_train_sequences = pad_sequences(X_train_sequences, maxlen=MAX_SEQ_LENGHT, value=N_FEATURES)\n",
    "print(X_train_sequences[0])"
   ]
  },
  {
   "cell_type": "code",
   "execution_count": 122,
   "metadata": {},
   "outputs": [],
   "source": [
    "X_test_sequences = [to_sequence(tokenize, preprocess, word2idx, x) for x in x_test]\n",
    "X_test_sequences = pad_sequences(X_test_sequences, maxlen=MAX_SEQ_LENGHT, value=N_FEATURES)"
   ]
  },
  {
   "cell_type": "code",
   "execution_count": 123,
   "metadata": {},
   "outputs": [
    {
     "name": "stdout",
     "output_type": "stream",
     "text": [
      "EMBEDDINGS_LEN= 300\n"
     ]
    }
   ],
   "source": [
    "EMBEDDINGS_LEN = 300\n",
    "\n",
    "embeddings_index = np.zeros((len(vectorizer.get_feature_names()) + 1, EMBEDDINGS_LEN))\n",
    "for word, idx in word2idx.items():\n",
    "    try:\n",
    "        embedding = nlp.vocab[word].vector\n",
    "        embeddings_index[idx] = embedding\n",
    "    except:\n",
    "        pass\n",
    "      \n",
    "print(\"EMBEDDINGS_LEN=\", EMBEDDINGS_LEN)"
   ]
  },
  {
   "cell_type": "code",
   "execution_count": 124,
   "metadata": {},
   "outputs": [
    {
     "name": "stdout",
     "output_type": "stream",
     "text": [
      "Model: \"sequential\"\n",
      "_________________________________________________________________\n",
      "Layer (type)                 Output Shape              Param #   \n",
      "=================================================================\n",
      "embedding (Embedding)        (None, 60, 300)           7237800   \n",
      "_________________________________________________________________\n",
      "lstm (LSTM)                  (None, 300)               721200    \n",
      "_________________________________________________________________\n",
      "dense (Dense)                (None, 3)                 903       \n",
      "=================================================================\n",
      "Total params: 7,959,903\n",
      "Trainable params: 722,103\n",
      "Non-trainable params: 7,237,800\n",
      "_________________________________________________________________\n",
      "None\n"
     ]
    }
   ],
   "source": [
    "model = Sequential()\n",
    "model.add(Embedding(len(vectorizer.get_feature_names()) + 1,\n",
    "                    EMBEDDINGS_LEN,  # Embedding size\n",
    "                    weights=[embeddings_index],\n",
    "                    input_length=MAX_SEQ_LENGHT,\n",
    "                    trainable=False))\n",
    "model.add(LSTM(300, dropout=0.2))\n",
    "model.add(Dense(len(set(y)), activation='softmax'))\n",
    " \n",
    "model.compile(loss='categorical_crossentropy', optimizer='adam', metrics=['accuracy'])\n",
    "print(model.summary())"
   ]
  },
  {
   "cell_type": "code",
   "execution_count": 125,
   "metadata": {},
   "outputs": [
    {
     "name": "stdout",
     "output_type": "stream",
     "text": [
      "Epoch 1/5\n",
      "73/73 [==============================] - 18s 251ms/step - loss: 1.0992 - accuracy: 0.3327 - val_loss: 1.0995 - val_accuracy: 0.3230\n",
      "Epoch 2/5\n",
      "73/73 [==============================] - 19s 259ms/step - loss: 1.0988 - accuracy: 0.3267 - val_loss: 1.0996 - val_accuracy: 0.3230\n",
      "Epoch 3/5\n",
      "73/73 [==============================] - 18s 251ms/step - loss: 1.0987 - accuracy: 0.3385 - val_loss: 1.0994 - val_accuracy: 0.3142\n",
      "Epoch 4/5\n",
      "73/73 [==============================] - 18s 251ms/step - loss: 1.0987 - accuracy: 0.3274 - val_loss: 1.0993 - val_accuracy: 0.3230\n",
      "Epoch 5/5\n",
      "73/73 [==============================] - 19s 256ms/step - loss: 1.0988 - accuracy: 0.3361 - val_loss: 1.0984 - val_accuracy: 0.3628\n",
      "81/81 [==============================] - 3s 38ms/step - loss: 1.0986 - accuracy: 0.3331\n",
      "Accuracy: 0.3330739438533783\n"
     ]
    }
   ],
   "source": [
    "model.fit(X_train_sequences, y_train, \n",
    "          epochs=5, batch_size=128, verbose=1, \n",
    "          validation_split=0.1)\n",
    " \n",
    "scores = model.evaluate(X_test_sequences, y_test, verbose=1)\n",
    "print(\"Accuracy:\", scores[1])  #\n",
    "list_result.append((\"LSTM Simple\", scores[1]))\n"
   ]
  },
  {
   "cell_type": "markdown",
   "metadata": {},
   "source": [
    "**LSTM with new features**"
   ]
  },
  {
   "cell_type": "code",
   "execution_count": 126,
   "metadata": {},
   "outputs": [
    {
     "name": "stdout",
     "output_type": "stream",
     "text": [
      "Model: \"functional_1\"\n",
      "__________________________________________________________________________________________________\n",
      "Layer (type)                    Output Shape         Param #     Connected to                     \n",
      "==================================================================================================\n",
      "text (InputLayer)               [(None, 60)]         0                                            \n",
      "__________________________________________________________________________________________________\n",
      "embedding_1 (Embedding)         (None, 60, 300)      7237800     text[0][0]                       \n",
      "__________________________________________________________________________________________________\n",
      "lstm_1 (LSTM)                   (None, 300)          721200      embedding_1[0][0]                \n",
      "__________________________________________________________________________________________________\n",
      "meta (InputLayer)               [(None, 2)]          0                                            \n",
      "__________________________________________________________________________________________________\n",
      "concatenate (Concatenate)       (None, 302)          0           lstm_1[0][0]                     \n",
      "                                                                 meta[0][0]                       \n",
      "__________________________________________________________________________________________________\n",
      "dense_1 (Dense)                 (None, 150)          45450       concatenate[0][0]                \n",
      "__________________________________________________________________________________________________\n",
      "dropout (Dropout)               (None, 150)          0           dense_1[0][0]                    \n",
      "__________________________________________________________________________________________________\n",
      "batch_normalization (BatchNorma (None, 150)          600         dropout[0][0]                    \n",
      "__________________________________________________________________________________________________\n",
      "dense_2 (Dense)                 (None, 3)            453         batch_normalization[0][0]        \n",
      "==================================================================================================\n",
      "Total params: 8,005,503\n",
      "Trainable params: 767,403\n",
      "Non-trainable params: 7,238,100\n",
      "__________________________________________________________________________________________________\n",
      "None\n"
     ]
    }
   ],
   "source": [
    "from keras.models import Model\n",
    "from keras.layers import Dense ,LSTM,concatenate,Input,Flatten,BatchNormalization, GRU\n",
    "\n",
    "text_data = Input(shape=(MAX_SEQ_LENGHT,), name='text')\n",
    "meta_data = Input(shape=(2,), name = 'meta')\n",
    "x=(Embedding(len(vectorizer.get_feature_names()) + 1,\n",
    "                    EMBEDDINGS_LEN,  # Embedding size\n",
    "                    weights=[embeddings_index],\n",
    "                    input_length=MAX_SEQ_LENGHT,\n",
    "                    trainable=False))(text_data)\n",
    "x2 = ((LSTM(300, dropout=0.2, recurrent_dropout=0.2)))(x)\n",
    "x4 = concatenate([x2, meta_data])\n",
    "x5 = Dense(150, activation='relu')(x4)\n",
    "x6 = Dropout(0.25)(x5)\n",
    "x7 = BatchNormalization()(x6)\n",
    "out=(Dense(len(set(y)), activation=\"softmax\"))(x7)\n",
    "model = Model(inputs=[text_data, meta_data ], outputs=out)\n",
    "model.compile(loss='categorical_crossentropy', optimizer='adam', metrics=['accuracy'])\n",
    "print(model.summary())"
   ]
  },
  {
   "cell_type": "code",
   "execution_count": 127,
   "metadata": {},
   "outputs": [],
   "source": [
    "df_cat_train = data.iloc[x_train.index][['polarity', 'subjectivity']]\n",
    "df_cat_test = data.iloc[x_test.index][['polarity', 'subjectivity']]"
   ]
  },
  {
   "cell_type": "code",
   "execution_count": 128,
   "metadata": {},
   "outputs": [
    {
     "name": "stdout",
     "output_type": "stream",
     "text": [
      "Epoch 1/12\n",
      "73/73 [==============================] - 27s 373ms/step - loss: 1.0504 - accuracy: 0.4277 - val_loss: 1.0891 - val_accuracy: 0.3920\n",
      "Epoch 2/12\n",
      "73/73 [==============================] - 27s 376ms/step - loss: 1.0220 - accuracy: 0.4496 - val_loss: 1.0866 - val_accuracy: 0.3580\n",
      "Epoch 3/12\n",
      "73/73 [==============================] - 28s 377ms/step - loss: 1.0145 - accuracy: 0.4619 - val_loss: 1.0807 - val_accuracy: 0.3716\n",
      "Epoch 4/12\n",
      "73/73 [==============================] - 28s 379ms/step - loss: 1.0133 - accuracy: 0.4587 - val_loss: 1.0703 - val_accuracy: 0.3901\n",
      "Epoch 5/12\n",
      "73/73 [==============================] - 28s 378ms/step - loss: 1.0109 - accuracy: 0.4613 - val_loss: 1.0584 - val_accuracy: 0.4008\n",
      "Epoch 6/12\n",
      "73/73 [==============================] - 28s 382ms/step - loss: 1.0105 - accuracy: 0.4666 - val_loss: 1.0425 - val_accuracy: 0.4621\n",
      "Epoch 7/12\n",
      "73/73 [==============================] - 28s 387ms/step - loss: 1.0089 - accuracy: 0.4671 - val_loss: 1.0307 - val_accuracy: 0.4446\n",
      "Epoch 8/12\n",
      "73/73 [==============================] - 28s 386ms/step - loss: 1.0059 - accuracy: 0.4694 - val_loss: 1.0183 - val_accuracy: 0.3979\n",
      "Epoch 9/12\n",
      "73/73 [==============================] - 28s 384ms/step - loss: 1.0071 - accuracy: 0.4668 - val_loss: 1.0050 - val_accuracy: 0.4611\n",
      "Epoch 10/12\n",
      "73/73 [==============================] - 28s 384ms/step - loss: 1.0043 - accuracy: 0.4696 - val_loss: 1.0079 - val_accuracy: 0.4572\n",
      "Epoch 11/12\n",
      "73/73 [==============================] - 27s 375ms/step - loss: 1.0056 - accuracy: 0.4711 - val_loss: 0.9964 - val_accuracy: 0.4621\n",
      "Epoch 12/12\n",
      "73/73 [==============================] - 28s 385ms/step - loss: 1.0036 - accuracy: 0.4641 - val_loss: 0.9978 - val_accuracy: 0.4601\n",
      "81/81 [==============================] - 5s 61ms/step - loss: 1.0031 - accuracy: 0.4584\n",
      "Accuracy: 0.4583657681941986\n"
     ]
    }
   ],
   "source": [
    "model.fit([X_train_sequences, df_cat_train], y_train, \n",
    "          epochs=12, batch_size=128, verbose=1, \n",
    "          validation_split=0.1)\n",
    " \n",
    "scores = model.evaluate([X_test_sequences, df_cat_test],y_test, verbose=1)\n",
    "print(\"Accuracy:\", scores[1])  \n",
    "list_result.append((\"LSTM with Multi-Input\", scores[1]))"
   ]
  },
  {
   "cell_type": "markdown",
   "metadata": {},
   "source": [
    "**EDA**"
   ]
  },
  {
   "cell_type": "code",
   "execution_count": 504,
   "metadata": {},
   "outputs": [
    {
     "name": "stdout",
     "output_type": "stream",
     "text": [
      "CPU times: user 1min 9s, sys: 251 ms, total: 1min 9s\n",
      "Wall time: 1min 9s\n"
     ]
    },
    {
     "data": {
      "text/plain": [
       "TfidfVectorizer(preprocessor=<function clean_txt at 0x3091c7a60>, smooth_idf=1,\n",
       "                strip_accents='unicode', sublinear_tf=1,\n",
       "                token_pattern='\\\\w{1,}', use_idf=1)"
      ]
     },
     "execution_count": 504,
     "metadata": {},
     "output_type": "execute_result"
    }
   ],
   "source": [
    "%%time\n",
    "vectorizer = TfidfVectorizer(max_features=None, \n",
    "                    strip_accents='unicode', analyzer='word',token_pattern=r'\\w{1,}',\n",
    "                    ngram_range=(1, 1), use_idf=1,smooth_idf=1,sublinear_tf=1,\n",
    "                    stop_words = None, preprocessor=clean_txt)\n",
    "vectorizer.fit(data.predictor)"
   ]
  },
  {
   "cell_type": "code",
   "execution_count": 507,
   "metadata": {},
   "outputs": [
    {
     "name": "stdout",
     "output_type": "stream",
     "text": [
      "Top 20 terms for:  right\n",
      "          Terms       right\n",
      "0         error  341.955357\n",
      "1   coronavirus  152.125348\n",
      "2         trump   96.729464\n",
      "3         state   87.905622\n",
      "4          news   80.307054\n",
      "5     president   77.830787\n",
      "6        people   77.795992\n",
      "7          case   73.346859\n",
      "8          test   73.073659\n",
      "9         virus   71.842426\n",
      "10        china   70.950255\n",
      "11        covid   69.923345\n",
      "12     pandemic   69.208199\n",
      "13         time   68.594806\n",
      "14       health   65.140937\n",
      "15        would   64.338881\n",
      "16       report   64.128585\n",
      "17         also   55.902414\n",
      "18         take   53.803893\n",
      "19         make   53.570926\n",
      "###############\n",
      "(20, 2)\n",
      "Top 20 terms for:  left\n",
      "          Terms        left\n",
      "0         trump  141.425209\n",
      "1   coronavirus  130.990484\n",
      "2        people  114.791168\n",
      "3         state  112.088285\n",
      "4         covid  108.363883\n",
      "5          test  107.581531\n",
      "6     president  104.928598\n",
      "7        health  103.477712\n",
      "8          case  102.206863\n",
      "9         virus   92.095153\n",
      "10     pandemic   91.727885\n",
      "11         also   91.441100\n",
      "12        house   90.845865\n",
      "13        would   87.420937\n",
      "14         take   81.888816\n",
      "15         time   81.466894\n",
      "16         mask   80.800600\n",
      "17         tell   80.101237\n",
      "18         news   78.903138\n",
      "19        white   78.481978\n",
      "###############\n",
      "(24, 3)\n",
      "Top 20 terms for:  center\n",
      "          Terms      center\n",
      "0      stimulus  220.751005\n",
      "1         check  204.985209\n",
      "2      congress  201.891962\n",
      "3          deal  192.996591\n",
      "4   coronavirus  189.553928\n",
      "5        likely  186.905886\n",
      "6          send  176.336163\n",
      "7          make  154.449911\n",
      "8          case  113.613808\n",
      "9         covid   93.329733\n",
      "10       report   88.591119\n",
      "11       deaths   81.041119\n",
      "12       people   80.115972\n",
      "13     pandemic   76.048790\n",
      "14         test   75.289430\n",
      "15       health   71.118472\n",
      "16     business   65.186094\n",
      "17   infections   64.317199\n",
      "18        state   63.943706\n",
      "19         file   62.126319\n",
      "###############\n",
      "(34, 4)\n"
     ]
    }
   ],
   "source": [
    "def create_tf_matrix(target):\n",
    "    return vectorizer.transform(data[data.target == target].predictor)\n",
    "\n",
    "def create_term_freq(matrix, cat):\n",
    "    category_words = matrix.sum(axis=0)\n",
    "    category_words_freq = [(word, category_words[0, idx]) for word, idx in vectorizer.vocabulary_.items()]\n",
    "    return pd.DataFrame(list(sorted(category_words_freq, key = lambda x: x[1], reverse=True)),columns=['Terms', cat])\n",
    "\n",
    "for cat in data.target.unique():\n",
    "    print(\"Top 20 terms for: \", cat)\n",
    "    df_right = create_term_freq(create_tf_matrix(cat), cat).head(20)\n",
    "    print(df_right)\n",
    "    print(\"###############\")\n",
    "    if cat != 'right':\n",
    "        df_top20_words = df_top20_words.merge(df_right, how='outer')\n",
    "    else:\n",
    "        df_top20_words = df_right.copy()\n",
    "    \n",
    "    print(df_top20_words.shape )"
   ]
  },
  {
   "cell_type": "code",
   "execution_count": 508,
   "metadata": {},
   "outputs": [
    {
     "data": {
      "text/plain": [
       "(34, 3)"
      ]
     },
     "execution_count": 508,
     "metadata": {},
     "output_type": "execute_result"
    }
   ],
   "source": [
    "df_top20_words.fillna(0, inplace=True )\n",
    "df_top20_words.set_index('Terms', inplace=True)\n",
    "df_top20_words.shape"
   ]
  },
  {
   "cell_type": "code",
   "execution_count": 509,
   "metadata": {},
   "outputs": [],
   "source": [
    "# !pip install textacy"
   ]
  },
  {
   "cell_type": "code",
   "execution_count": 510,
   "metadata": {},
   "outputs": [],
   "source": [
    "\n",
    "import numpy as np\n",
    "from textacy.viz.termite import draw_termite_plot"
   ]
  },
  {
   "cell_type": "code",
   "execution_count": 511,
   "metadata": {},
   "outputs": [],
   "source": [
    "df = df_top20_words.copy()\n",
    "df_norm = (df) / (df.max() - df.min())\n"
   ]
  },
  {
   "cell_type": "code",
   "execution_count": 512,
   "metadata": {},
   "outputs": [
    {
     "data": {
      "text/plain": [
       "<matplotlib.axes._subplots.AxesSubplot at 0x49c3d51f0>"
      ]
     },
     "execution_count": 512,
     "metadata": {},
     "output_type": "execute_result"
    },
    {
     "data": {
      "image/png": "[encoded data removed]",
      "text/plain": [
       "<Figure size 173.392x738.089 with 1 Axes>"
      ]
     },
     "metadata": {},
     "output_type": "display_data"
    }
   ],
   "source": [
    "draw_termite_plot(np.array(df_norm.values),df_top20_words.columns,df_top20_words.index,highlight_cols=[0,1,2])\n"
   ]
  },
  {
   "cell_type": "code",
   "execution_count": 385,
   "metadata": {},
   "outputs": [
    {
     "data": {
      "text/html": [
       "<div>\n",
       "<style scoped>\n",
       "    .dataframe tbody tr th:only-of-type {\n",
       "        vertical-align: middle;\n",
       "    }\n",
       "\n",
       "    .dataframe tbody tr th {\n",
       "        vertical-align: top;\n",
       "    }\n",
       "\n",
       "    .dataframe thead th {\n",
       "        text-align: right;\n",
       "    }\n",
       "</style>\n",
       "<table border=\"1\" class=\"dataframe\">\n",
       "  <thead>\n",
       "    <tr style=\"text-align: right;\">\n",
       "      <th></th>\n",
       "      <th>source</th>\n",
       "      <th>author</th>\n",
       "      <th>title</th>\n",
       "      <th>publishedAt</th>\n",
       "      <th>content</th>\n",
       "      <th>target</th>\n",
       "      <th>month</th>\n",
       "      <th>full_text</th>\n",
       "      <th>predictor</th>\n",
       "      <th>pred_len</th>\n",
       "      <th>polarity</th>\n",
       "      <th>subjectivity</th>\n",
       "    </tr>\n",
       "  </thead>\n",
       "  <tbody>\n",
       "    <tr>\n",
       "      <th>0</th>\n",
       "      <td>fox-news</td>\n",
       "      <td>David Aaro</td>\n",
       "      <td>Washington state choir practice deemed coronav...</td>\n",
       "      <td>2020-05-13 07:13:05+00:00</td>\n",
       "      <td>Get all the latest news on coronavirus and mor...</td>\n",
       "      <td>right</td>\n",
       "      <td>5.0</td>\n",
       "      <td>Get all the latest news on coronavirus and mor...</td>\n",
       "      <td>Washington state choir practice deemed coronav...</td>\n",
       "      <td>0.096397</td>\n",
       "      <td>0.053571</td>\n",
       "      <td>0.396791</td>\n",
       "    </tr>\n",
       "    <tr>\n",
       "      <th>1</th>\n",
       "      <td>fox-news</td>\n",
       "      <td>Christopher Carbone</td>\n",
       "      <td>Why are children less affected by coronavirus?</td>\n",
       "      <td>2020-04-28 19:32:02+00:00</td>\n",
       "      <td>Get all the latest news on coronavirus and mor...</td>\n",
       "      <td>right</td>\n",
       "      <td>4.0</td>\n",
       "      <td>Get all the latest news on coronavirus and mor...</td>\n",
       "      <td>Why are children less affected by coronavirus?...</td>\n",
       "      <td>0.069980</td>\n",
       "      <td>0.143564</td>\n",
       "      <td>0.516429</td>\n",
       "    </tr>\n",
       "    <tr>\n",
       "      <th>2</th>\n",
       "      <td>fox-news</td>\n",
       "      <td>Stephanie Nolasco</td>\n",
       "      <td>Queen Elizabeth's coronavirus address 'will of...</td>\n",
       "      <td>2020-04-05 15:15:37+00:00</td>\n",
       "      <td>Get all the latest news on coronavirus and mor...</td>\n",
       "      <td>right</td>\n",
       "      <td>4.0</td>\n",
       "      <td>Get all the latest news on coronavirus and mor...</td>\n",
       "      <td>Queen Elizabeth's coronavirus address 'will of...</td>\n",
       "      <td>0.176065</td>\n",
       "      <td>0.124977</td>\n",
       "      <td>0.520614</td>\n",
       "    </tr>\n",
       "    <tr>\n",
       "      <th>3</th>\n",
       "      <td>fox-news</td>\n",
       "      <td>Chris Ciaccia</td>\n",
       "      <td>Potential coronavirus vaccine moves step close...</td>\n",
       "      <td>2020-05-07 12:45:51+00:00</td>\n",
       "      <td>Get all the latest news on coronavirus and mor...</td>\n",
       "      <td>right</td>\n",
       "      <td>5.0</td>\n",
       "      <td>Get all the latest news on coronavirus and mor...</td>\n",
       "      <td>Potential coronavirus vaccine moves step close...</td>\n",
       "      <td>0.077191</td>\n",
       "      <td>0.180781</td>\n",
       "      <td>0.513058</td>\n",
       "    </tr>\n",
       "    <tr>\n",
       "      <th>4</th>\n",
       "      <td>fox-news</td>\n",
       "      <td>Christopher Carbone</td>\n",
       "      <td>Coronavirus testing shortfall in crisis-affect...</td>\n",
       "      <td>2020-05-22 05:00:06+00:00</td>\n",
       "      <td>Get all the latest news on coronavirus and mor...</td>\n",
       "      <td>right</td>\n",
       "      <td>5.0</td>\n",
       "      <td>Get all the latest news on coronavirus and mor...</td>\n",
       "      <td>Coronavirus testing shortfall in crisis-affect...</td>\n",
       "      <td>0.070519</td>\n",
       "      <td>0.058899</td>\n",
       "      <td>0.402898</td>\n",
       "    </tr>\n",
       "  </tbody>\n",
       "</table>\n",
       "</div>"
      ],
      "text/plain": [
       "     source               author  \\\n",
       "0  fox-news           David Aaro   \n",
       "1  fox-news  Christopher Carbone   \n",
       "2  fox-news    Stephanie Nolasco   \n",
       "3  fox-news        Chris Ciaccia   \n",
       "4  fox-news  Christopher Carbone   \n",
       "\n",
       "                                               title  \\\n",
       "0  Washington state choir practice deemed coronav...   \n",
       "1     Why are children less affected by coronavirus?   \n",
       "2  Queen Elizabeth's coronavirus address 'will of...   \n",
       "3  Potential coronavirus vaccine moves step close...   \n",
       "4  Coronavirus testing shortfall in crisis-affect...   \n",
       "\n",
       "                 publishedAt  \\\n",
       "0  2020-05-13 07:13:05+00:00   \n",
       "1  2020-04-28 19:32:02+00:00   \n",
       "2  2020-04-05 15:15:37+00:00   \n",
       "3  2020-05-07 12:45:51+00:00   \n",
       "4  2020-05-22 05:00:06+00:00   \n",
       "\n",
       "                                             content target  month  \\\n",
       "0  Get all the latest news on coronavirus and mor...  right    5.0   \n",
       "1  Get all the latest news on coronavirus and mor...  right    4.0   \n",
       "2  Get all the latest news on coronavirus and mor...  right    4.0   \n",
       "3  Get all the latest news on coronavirus and mor...  right    5.0   \n",
       "4  Get all the latest news on coronavirus and mor...  right    5.0   \n",
       "\n",
       "                                           full_text  \\\n",
       "0  Get all the latest news on coronavirus and mor...   \n",
       "1  Get all the latest news on coronavirus and mor...   \n",
       "2  Get all the latest news on coronavirus and mor...   \n",
       "3  Get all the latest news on coronavirus and mor...   \n",
       "4  Get all the latest news on coronavirus and mor...   \n",
       "\n",
       "                                           predictor  pred_len  polarity  \\\n",
       "0  Washington state choir practice deemed coronav...  0.096397  0.053571   \n",
       "1  Why are children less affected by coronavirus?...  0.069980  0.143564   \n",
       "2  Queen Elizabeth's coronavirus address 'will of...  0.176065  0.124977   \n",
       "3  Potential coronavirus vaccine moves step close...  0.077191  0.180781   \n",
       "4  Coronavirus testing shortfall in crisis-affect...  0.070519  0.058899   \n",
       "\n",
       "   subjectivity  \n",
       "0      0.396791  \n",
       "1      0.516429  \n",
       "2      0.520614  \n",
       "3      0.513058  \n",
       "4      0.402898  "
      ]
     },
     "execution_count": 385,
     "metadata": {},
     "output_type": "execute_result"
    }
   ],
   "source": [
    "data.head()"
   ]
  },
  {
   "cell_type": "markdown",
   "metadata": {},
   "source": [
    "**Sentiment by Target**"
   ]
  },
  {
   "cell_type": "code",
   "execution_count": 513,
   "metadata": {},
   "outputs": [],
   "source": [
    "from matplotlib import pyplot as plt\n",
    "import seaborn as sns\n",
    "sns.set(style=\"whitegrid\")"
   ]
  },
  {
   "cell_type": "code",
   "execution_count": 514,
   "metadata": {},
   "outputs": [
    {
     "data": {
      "text/html": [
       "<div>\n",
       "<style scoped>\n",
       "    .dataframe tbody tr th:only-of-type {\n",
       "        vertical-align: middle;\n",
       "    }\n",
       "\n",
       "    .dataframe tbody tr th {\n",
       "        vertical-align: top;\n",
       "    }\n",
       "\n",
       "    .dataframe thead th {\n",
       "        text-align: right;\n",
       "    }\n",
       "</style>\n",
       "<table border=\"1\" class=\"dataframe\">\n",
       "  <thead>\n",
       "    <tr style=\"text-align: right;\">\n",
       "      <th></th>\n",
       "      <th>source</th>\n",
       "      <th>author</th>\n",
       "      <th>title</th>\n",
       "      <th>publishedAt</th>\n",
       "      <th>content</th>\n",
       "      <th>target</th>\n",
       "      <th>month</th>\n",
       "      <th>full_text</th>\n",
       "      <th>predictor</th>\n",
       "      <th>Stats</th>\n",
       "      <th>n_long_words</th>\n",
       "      <th>n_monosyllable_words</th>\n",
       "      <th>n_polysyllable_words</th>\n",
       "      <th>n_unique_words</th>\n",
       "      <th>polarity</th>\n",
       "      <th>subjectivity</th>\n",
       "    </tr>\n",
       "  </thead>\n",
       "  <tbody>\n",
       "    <tr>\n",
       "      <th>0</th>\n",
       "      <td>fox-news</td>\n",
       "      <td>David Aaro</td>\n",
       "      <td>Washington state choir practice deemed coronav...</td>\n",
       "      <td>2020-05-13 07:13:05+00:00</td>\n",
       "      <td>Get all the latest news on coronavirus and mor...</td>\n",
       "      <td>right</td>\n",
       "      <td>5.0</td>\n",
       "      <td>Get all the latest news on coronavirus and mor...</td>\n",
       "      <td>Washington state choir practice deemed coronav...</td>\n",
       "      <td>{'n_chars': 3228, 'n_long_words': 178, 'n_mono...</td>\n",
       "      <td>0.288493</td>\n",
       "      <td>0.632091</td>\n",
       "      <td>0.155592</td>\n",
       "      <td>0.502431</td>\n",
       "      <td>0.053571</td>\n",
       "      <td>0.396791</td>\n",
       "    </tr>\n",
       "    <tr>\n",
       "      <th>1</th>\n",
       "      <td>fox-news</td>\n",
       "      <td>Christopher Carbone</td>\n",
       "      <td>Why are children less affected by coronavirus?</td>\n",
       "      <td>2020-04-28 19:32:02+00:00</td>\n",
       "      <td>Get all the latest news on coronavirus and mor...</td>\n",
       "      <td>right</td>\n",
       "      <td>4.0</td>\n",
       "      <td>Get all the latest news on coronavirus and mor...</td>\n",
       "      <td>Why are children less affected by coronavirus?...</td>\n",
       "      <td>{'n_chars': 2321, 'n_long_words': 126, 'n_mono...</td>\n",
       "      <td>0.261411</td>\n",
       "      <td>0.676349</td>\n",
       "      <td>0.120332</td>\n",
       "      <td>0.535270</td>\n",
       "      <td>0.143564</td>\n",
       "      <td>0.516429</td>\n",
       "    </tr>\n",
       "    <tr>\n",
       "      <th>2</th>\n",
       "      <td>fox-news</td>\n",
       "      <td>Stephanie Nolasco</td>\n",
       "      <td>Queen Elizabeth's coronavirus address 'will of...</td>\n",
       "      <td>2020-04-05 15:15:37+00:00</td>\n",
       "      <td>Get all the latest news on coronavirus and mor...</td>\n",
       "      <td>right</td>\n",
       "      <td>4.0</td>\n",
       "      <td>Get all the latest news on coronavirus and mor...</td>\n",
       "      <td>Queen Elizabeth's coronavirus address 'will of...</td>\n",
       "      <td>{'n_chars': 5783, 'n_long_words': 300, 'n_mono...</td>\n",
       "      <td>0.249584</td>\n",
       "      <td>0.688852</td>\n",
       "      <td>0.118968</td>\n",
       "      <td>0.417637</td>\n",
       "      <td>0.124977</td>\n",
       "      <td>0.520614</td>\n",
       "    </tr>\n",
       "    <tr>\n",
       "      <th>3</th>\n",
       "      <td>fox-news</td>\n",
       "      <td>Chris Ciaccia</td>\n",
       "      <td>Potential coronavirus vaccine moves step close...</td>\n",
       "      <td>2020-05-07 12:45:51+00:00</td>\n",
       "      <td>Get all the latest news on coronavirus and mor...</td>\n",
       "      <td>right</td>\n",
       "      <td>5.0</td>\n",
       "      <td>Get all the latest news on coronavirus and mor...</td>\n",
       "      <td>Potential coronavirus vaccine moves step close...</td>\n",
       "      <td>{'n_chars': 2576, 'n_long_words': 144, 'n_mono...</td>\n",
       "      <td>0.277992</td>\n",
       "      <td>0.652510</td>\n",
       "      <td>0.150579</td>\n",
       "      <td>0.542471</td>\n",
       "      <td>0.180781</td>\n",
       "      <td>0.513058</td>\n",
       "    </tr>\n",
       "    <tr>\n",
       "      <th>4</th>\n",
       "      <td>fox-news</td>\n",
       "      <td>Christopher Carbone</td>\n",
       "      <td>Coronavirus testing shortfall in crisis-affect...</td>\n",
       "      <td>2020-05-22 05:00:06+00:00</td>\n",
       "      <td>Get all the latest news on coronavirus and mor...</td>\n",
       "      <td>right</td>\n",
       "      <td>5.0</td>\n",
       "      <td>Get all the latest news on coronavirus and mor...</td>\n",
       "      <td>Coronavirus testing shortfall in crisis-affect...</td>\n",
       "      <td>{'n_chars': 2372, 'n_long_words': 142, 'n_mono...</td>\n",
       "      <td>0.314159</td>\n",
       "      <td>0.639381</td>\n",
       "      <td>0.134956</td>\n",
       "      <td>0.557522</td>\n",
       "      <td>0.058899</td>\n",
       "      <td>0.402898</td>\n",
       "    </tr>\n",
       "  </tbody>\n",
       "</table>\n",
       "</div>"
      ],
      "text/plain": [
       "     source               author  \\\n",
       "0  fox-news           David Aaro   \n",
       "1  fox-news  Christopher Carbone   \n",
       "2  fox-news    Stephanie Nolasco   \n",
       "3  fox-news        Chris Ciaccia   \n",
       "4  fox-news  Christopher Carbone   \n",
       "\n",
       "                                               title  \\\n",
       "0  Washington state choir practice deemed coronav...   \n",
       "1     Why are children less affected by coronavirus?   \n",
       "2  Queen Elizabeth's coronavirus address 'will of...   \n",
       "3  Potential coronavirus vaccine moves step close...   \n",
       "4  Coronavirus testing shortfall in crisis-affect...   \n",
       "\n",
       "                 publishedAt  \\\n",
       "0  2020-05-13 07:13:05+00:00   \n",
       "1  2020-04-28 19:32:02+00:00   \n",
       "2  2020-04-05 15:15:37+00:00   \n",
       "3  2020-05-07 12:45:51+00:00   \n",
       "4  2020-05-22 05:00:06+00:00   \n",
       "\n",
       "                                             content target  month  \\\n",
       "0  Get all the latest news on coronavirus and mor...  right    5.0   \n",
       "1  Get all the latest news on coronavirus and mor...  right    4.0   \n",
       "2  Get all the latest news on coronavirus and mor...  right    4.0   \n",
       "3  Get all the latest news on coronavirus and mor...  right    5.0   \n",
       "4  Get all the latest news on coronavirus and mor...  right    5.0   \n",
       "\n",
       "                                           full_text  \\\n",
       "0  Get all the latest news on coronavirus and mor...   \n",
       "1  Get all the latest news on coronavirus and mor...   \n",
       "2  Get all the latest news on coronavirus and mor...   \n",
       "3  Get all the latest news on coronavirus and mor...   \n",
       "4  Get all the latest news on coronavirus and mor...   \n",
       "\n",
       "                                           predictor  \\\n",
       "0  Washington state choir practice deemed coronav...   \n",
       "1  Why are children less affected by coronavirus?...   \n",
       "2  Queen Elizabeth's coronavirus address 'will of...   \n",
       "3  Potential coronavirus vaccine moves step close...   \n",
       "4  Coronavirus testing shortfall in crisis-affect...   \n",
       "\n",
       "                                               Stats  n_long_words  \\\n",
       "0  {'n_chars': 3228, 'n_long_words': 178, 'n_mono...      0.288493   \n",
       "1  {'n_chars': 2321, 'n_long_words': 126, 'n_mono...      0.261411   \n",
       "2  {'n_chars': 5783, 'n_long_words': 300, 'n_mono...      0.249584   \n",
       "3  {'n_chars': 2576, 'n_long_words': 144, 'n_mono...      0.277992   \n",
       "4  {'n_chars': 2372, 'n_long_words': 142, 'n_mono...      0.314159   \n",
       "\n",
       "   n_monosyllable_words  n_polysyllable_words  n_unique_words  polarity  \\\n",
       "0              0.632091              0.155592        0.502431  0.053571   \n",
       "1              0.676349              0.120332        0.535270  0.143564   \n",
       "2              0.688852              0.118968        0.417637  0.124977   \n",
       "3              0.652510              0.150579        0.542471  0.180781   \n",
       "4              0.639381              0.134956        0.557522  0.058899   \n",
       "\n",
       "   subjectivity  \n",
       "0      0.396791  \n",
       "1      0.516429  \n",
       "2      0.520614  \n",
       "3      0.513058  \n",
       "4      0.402898  "
      ]
     },
     "execution_count": 514,
     "metadata": {},
     "output_type": "execute_result"
    }
   ],
   "source": [
    "data.head()"
   ]
  },
  {
   "cell_type": "code",
   "execution_count": 515,
   "metadata": {},
   "outputs": [
    {
     "data": {
      "image/png": "[encoded data removed]",
      "text/plain": [
       "<Figure size 720x360 with 1 Axes>"
      ]
     },
     "metadata": {},
     "output_type": "display_data"
    }
   ],
   "source": [
    "plt.figure(figsize=(10,5))\n",
    "ax = sns.violinplot(x=\"target\", y=\"polarity\", data=data, showfliers=False)\n",
    "# ax = sns.swarmplot(x=\"category\", y=\"polarity\", data=data, color=\".25\")\n",
    "ax.set_title('Sentiment by Category in the Text')\n",
    "l = ax.set_xticklabels(ax.get_xticklabels(), rotation=60)"
   ]
  },
  {
   "cell_type": "markdown",
   "metadata": {},
   "source": [
    "**Objectivity by Target**"
   ]
  },
  {
   "cell_type": "code",
   "execution_count": 516,
   "metadata": {},
   "outputs": [
    {
     "data": {
      "image/png": "[encoded data removed]",
      "text/plain": [
       "<Figure size 720x360 with 1 Axes>"
      ]
     },
     "metadata": {},
     "output_type": "display_data"
    }
   ],
   "source": [
    "plt.figure(figsize=(10,5))\n",
    "ax = sns.violinplot(x=\"target\", y=\"subjectivity\", data=data, showfliers=False)\n",
    "# ax = sns.swarmplot(x=\"category\", y=\"subjectivity\", data=df_news, color=\".25\")\n",
    "ax.set_title('Objectivity by Category in the Text')\n",
    "l= ax.set_xticklabels(ax.get_xticklabels(), rotation=90)"
   ]
  },
  {
   "cell_type": "markdown",
   "metadata": {},
   "source": [
    "**n_long_words by target**"
   ]
  },
  {
   "cell_type": "code",
   "execution_count": 517,
   "metadata": {},
   "outputs": [
    {
     "data": {
      "image/png": "[encoded data removed]",
      "text/plain": [
       "<Figure size 720x360 with 1 Axes>"
      ]
     },
     "metadata": {},
     "output_type": "display_data"
    }
   ],
   "source": [
    "plt.figure(figsize=(10,5))\n",
    "ax = sns.violinplot(x=\"target\", y=\"n_long_words\", data=data, showfliers=False)\n",
    "# ax = sns.swarmplot(x=\"category\", y=\"subjectivity\", data=df_news, color=\".25\")\n",
    "ax.set_title('N_words by Category in the Text')\n",
    "l= ax.set_xticklabels(ax.get_xticklabels(), rotation=90)"
   ]
  },
  {
   "cell_type": "markdown",
   "metadata": {},
   "source": [
    "**n_monosyllable_words by target**"
   ]
  },
  {
   "cell_type": "code",
   "execution_count": 518,
   "metadata": {},
   "outputs": [
    {
     "data": {
      "image/png": "[encoded data removed]",
      "text/plain": [
       "<Figure size 720x360 with 1 Axes>"
      ]
     },
     "metadata": {},
     "output_type": "display_data"
    }
   ],
   "source": [
    "plt.figure(figsize=(10,5))\n",
    "ax = sns.violinplot(x=\"target\", y=\"n_monosyllable_words\", data=data, showfliers=False)\n",
    "# ax = sns.swarmplot(x=\"category\", y=\"subjectivity\", data=df_news, color=\".25\")\n",
    "ax.set_title('N_words by Category in the Text')\n",
    "l= ax.set_xticklabels(ax.get_xticklabels(), rotation=90)"
   ]
  },
  {
   "cell_type": "markdown",
   "metadata": {},
   "source": [
    "**n_polysyllable_words by target**"
   ]
  },
  {
   "cell_type": "code",
   "execution_count": 519,
   "metadata": {},
   "outputs": [
    {
     "data": {
      "image/png": "[encoded data removed]",
      "text/plain": [
       "<Figure size 720x360 with 1 Axes>"
      ]
     },
     "metadata": {},
     "output_type": "display_data"
    }
   ],
   "source": [
    "plt.figure(figsize=(10,5))\n",
    "ax = sns.violinplot(x=\"target\", y=\"n_polysyllable_words\", data=data, showfliers=False)\n",
    "# ax = sns.swarmplot(x=\"category\", y=\"subjectivity\", data=df_news, color=\".25\")\n",
    "ax.set_title('N_words by Category in the Text')\n",
    "l= ax.set_xticklabels(ax.get_xticklabels(), rotation=90)"
   ]
  },
  {
   "cell_type": "markdown",
   "metadata": {},
   "source": [
    "**n_unique_words by target**"
   ]
  },
  {
   "cell_type": "code",
   "execution_count": null,
   "metadata": {},
   "outputs": [],
   "source": [
    "plt.figure(figsize=(10,5))\n",
    "ax = sns.violinplot(x=\"target\", y=\"n_unique_words\", data=data, showfliers=False)\n",
    "# ax = sns.swarmplot(x=\"category\", y=\"subjectivity\", data=df_news, color=\".25\")\n",
    "ax.set_title('N_words by Category in the Text')\n",
    "l= ax.set_xticklabels(ax.get_xticklabels(), rotation=90)"
   ]
  },
  {
   "cell_type": "code",
   "execution_count": null,
   "metadata": {},
   "outputs": [],
   "source": [
    "data.groupby(by=['month','target'])['polarity'].mean().unstack().plot()"
   ]
  },
  {
   "cell_type": "code",
   "execution_count": null,
   "metadata": {},
   "outputs": [],
   "source": [
    "data.groupby(by=['month','target'])['subjectivity'].mean().unstack().plot()"
   ]
  },
  {
   "cell_type": "code",
   "execution_count": null,
   "metadata": {},
   "outputs": [],
   "source": []
  }
 ],
 "metadata": {
  "kernelspec": {
   "display_name": "Python 3",
   "language": "python",
   "name": "python3"
  },
  "language_info": {
   "codemirror_mode": {
    "name": "ipython",
    "version": 3
   },
   "file_extension": ".py",
   "mimetype": "text/x-python",
   "name": "python",
   "nbconvert_exporter": "python",
   "pygments_lexer": "ipython3",
   "version": "3.8.3"
  }
 },
 "nbformat": 4,
 "nbformat_minor": 4
}
