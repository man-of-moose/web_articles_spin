{
 "cells": [
  {
   "cell_type": "markdown",
   "metadata": {},
   "source": [
    "# Import Libraries and functions"
   ]
  },
  {
   "cell_type": "code",
   "execution_count": 48,
   "metadata": {},
   "outputs": [
    {
     "name": "stderr",
     "output_type": "stream",
     "text": [
      "[nltk_data] Downloading package stopwords to\n",
      "[nltk_data]     /Users/alecmccabe/nltk_data...\n",
      "[nltk_data]   Package stopwords is already up-to-date!\n",
      "[nltk_data] Downloading package punkt to\n",
      "[nltk_data]     /Users/alecmccabe/nltk_data...\n",
      "[nltk_data]   Package punkt is already up-to-date!\n",
      "[nltk_data] Downloading package wordnet to\n",
      "[nltk_data]     /Users/alecmccabe/nltk_data...\n",
      "[nltk_data]   Package wordnet is already up-to-date!\n"
     ]
    },
    {
     "data": {
      "text/plain": [
       "True"
      ]
     },
     "execution_count": 48,
     "metadata": {},
     "output_type": "execute_result"
    }
   ],
   "source": [
    "# Import some libraries that will be used\n",
    "import pandas as pd\n",
    "import numpy as np\n",
    "import matplotlib.pyplot as plt\n",
    "from matplotlib import cm\n",
    "import seaborn as sns\n",
    "\n",
    "pd.set_option('display.max_columns', 300)\n",
    "\n",
    "%matplotlib inline\n",
    "\n",
    "from sklearn.feature_extraction.text import CountVectorizer, TfidfVectorizer, TfidfTransformer\n",
    "from sklearn.metrics import confusion_matrix, accuracy_score, f1_score\n",
    "from sklearn.naive_bayes import MultinomialNB, GaussianNB\n",
    "from sklearn.model_selection import train_test_split\n",
    "from sklearn.ensemble import RandomForestClassifier\n",
    "from sklearn.pipeline import Pipeline, FeatureUnion\n",
    "from sklearn.svm import LinearSVC\n",
    "from sklearn.linear_model import SGDClassifier\n",
    "\n",
    "import nltk\n",
    "from nltk import word_tokenize\n",
    "from nltk.probability import FreqDist\n",
    "from nltk.corpus import stopwords\n",
    "from nltk.stem import PorterStemmer\n",
    "\n",
    "import re\n",
    "import string\n",
    "\n",
    "import scipy\n",
    "from textblob import TextBlob\n",
    "\n",
    "from sklearn.decomposition import TruncatedSVD\n",
    "from sklearn.metrics import classification_report\n",
    "from sklearn.preprocessing import MinMaxScaler\n",
    "\n",
    "nltk.download('stopwords')\n",
    "nltk.download('punkt')\n",
    "nltk.download('wordnet')"
   ]
  },
  {
   "cell_type": "code",
   "execution_count": 49,
   "metadata": {},
   "outputs": [
    {
     "name": "stderr",
     "output_type": "stream",
     "text": [
      "/Users/alecmccabe/opt/anaconda3/lib/python3.8/site-packages/tqdm/std.py:668: FutureWarning: The Panel class is removed from pandas. Accessing it from the top-level namespace will also be removed in the next version\n",
      "  from pandas import Panel\n"
     ]
    }
   ],
   "source": [
    "from tqdm import tqdm\n",
    "tqdm.pandas()"
   ]
  },
  {
   "cell_type": "code",
   "execution_count": 50,
   "metadata": {},
   "outputs": [],
   "source": [
    "import gensim"
   ]
  },
  {
   "cell_type": "code",
   "execution_count": 51,
   "metadata": {},
   "outputs": [],
   "source": [
    "from gensim.models import Word2Vec\n",
    "wv = gensim.models.KeyedVectors.load_word2vec_format(\"/Users/alecmccabe/Desktop/Flatiron/Projects/final_project_ideas/GoogleNews-vectors-negative300.bin.gz\", binary=True)\n",
    "wv.init_sims(replace=True)"
   ]
  },
  {
   "cell_type": "code",
   "execution_count": 52,
   "metadata": {},
   "outputs": [
    {
     "name": "stderr",
     "output_type": "stream",
     "text": [
      "<ipython-input-52-5779fac04ac5>:13: DeprecationWarning: Call to deprecated `syn0` (Attribute will be removed in 4.0.0, use self.vectors instead).\n",
      "  nlp.vocab.vectors = spacy.vocab.Vectors(data=wv.syn0, keys=keys)\n"
     ]
    }
   ],
   "source": [
    "import gensim\n",
    "import spacy\n",
    "\n",
    "nlp = spacy.blank('en')\n",
    "\n",
    "# Loop through range of all indexes, get words associated with each index.\n",
    "# The words in the keys list will correspond to the order of the google embed matrix\n",
    "keys = []\n",
    "for idx in range(3000000):\n",
    "    keys.append(wv.index2word[idx])\n",
    "\n",
    "# Set the vectors for our nlp object to the google news vectors\n",
    "nlp.vocab.vectors = spacy.vocab.Vectors(data=wv.syn0, keys=keys)"
   ]
  },
  {
   "cell_type": "code",
   "execution_count": 53,
   "metadata": {},
   "outputs": [],
   "source": [
    "from nltk.stem import WordNetLemmatizer \n",
    "  \n",
    "lemmatizer = WordNetLemmatizer()"
   ]
  },
  {
   "cell_type": "code",
   "execution_count": 54,
   "metadata": {},
   "outputs": [],
   "source": [
    "#set stopwords and punctuations\n",
    "stopwords = stopwords.words('english')\n",
    "stopwords += list(string.punctuation)\n",
    "stopwords += [\"n't\", \"' '\", \"'re'\",\"”\",\"``\",\"“\",\"''\",\"’\",\"'s\",\"'re\",\"http\",\"https\",\"char\",\"reuters\",\"wall\",\"street\",\"journal\",\"photo\"]"
   ]
  },
  {
   "cell_type": "code",
   "execution_count": 55,
   "metadata": {},
   "outputs": [],
   "source": [
    "def black_txt(token):\n",
    "    return  token not in stopwords and token not in list(string.punctuation)  and len(token)>3\n",
    "\n",
    "def clean_txt(text, string = True):\n",
    "    clean_text = []\n",
    "    clean_text2 = []\n",
    "    text = text.lower()\n",
    "    text = re.sub(\"'\", \"\",text)\n",
    "    text = re.sub(\"\\n\", \"\",text)\n",
    "    text = re.sub(\"(\\\\d|\\\\W)+\",\" \",text)\n",
    "    text = re.sub('time magazine','',text)\n",
    "    text = re.sub('breitbart','',text)\n",
    "    text = re.sub('click','',text)\n",
    "    \n",
    "    clean_text = [ lemmatizer.lemmatize(word, pos=\"v\") for word in word_tokenize(text) if black_txt(word)]\n",
    "    clean_text2 = [word for word in clean_text if black_txt(word)]\n",
    "    \n",
    "    if string == True:\n",
    "        return \" \".join(clean_text2)\n",
    "    else:\n",
    "        return clean_text2"
   ]
  },
  {
   "cell_type": "markdown",
   "metadata": {},
   "source": [
    "# Load data"
   ]
  },
  {
   "cell_type": "code",
   "execution_count": 56,
   "metadata": {},
   "outputs": [],
   "source": [
    "#load in data\n",
    "data = pd.read_csv('clean_data2.csv', index_col = 0)"
   ]
  },
  {
   "cell_type": "code",
   "execution_count": 57,
   "metadata": {},
   "outputs": [],
   "source": [
    "data = pd.get_dummies(data,prefix='topic',columns=['dominant_topic'])"
   ]
  },
  {
   "cell_type": "code",
   "execution_count": 58,
   "metadata": {},
   "outputs": [
    {
     "name": "stdout",
     "output_type": "stream",
     "text": [
      "(15735, 29)\n"
     ]
    },
    {
     "data": {
      "text/html": [
       "<div>\n",
       "<style scoped>\n",
       "    .dataframe tbody tr th:only-of-type {\n",
       "        vertical-align: middle;\n",
       "    }\n",
       "\n",
       "    .dataframe tbody tr th {\n",
       "        vertical-align: top;\n",
       "    }\n",
       "\n",
       "    .dataframe thead th {\n",
       "        text-align: right;\n",
       "    }\n",
       "</style>\n",
       "<table border=\"1\" class=\"dataframe\">\n",
       "  <thead>\n",
       "    <tr style=\"text-align: right;\">\n",
       "      <th></th>\n",
       "      <th>source</th>\n",
       "      <th>author</th>\n",
       "      <th>title</th>\n",
       "      <th>url</th>\n",
       "      <th>publishedAt</th>\n",
       "      <th>content</th>\n",
       "      <th>target</th>\n",
       "      <th>month</th>\n",
       "      <th>full_text</th>\n",
       "      <th>url_subpages</th>\n",
       "      <th>predictor</th>\n",
       "      <th>pred_len</th>\n",
       "      <th>Stats</th>\n",
       "      <th>n_words</th>\n",
       "      <th>n_long_words</th>\n",
       "      <th>n_monosyllable_words</th>\n",
       "      <th>n_polysyllable_words</th>\n",
       "      <th>n_unique_words</th>\n",
       "      <th>polarity</th>\n",
       "      <th>subjectivity</th>\n",
       "      <th>coleman_index</th>\n",
       "      <th>topic_0</th>\n",
       "      <th>topic_1</th>\n",
       "      <th>topic_2</th>\n",
       "      <th>topic_3</th>\n",
       "      <th>topic_4</th>\n",
       "      <th>topic_5</th>\n",
       "      <th>topic_6</th>\n",
       "      <th>topic_7</th>\n",
       "    </tr>\n",
       "  </thead>\n",
       "  <tbody>\n",
       "    <tr>\n",
       "      <th>0</th>\n",
       "      <td>breitbart-news</td>\n",
       "      <td>Gabrielle Reyes</td>\n",
       "      <td>Xi Honors Doc Who Suggested Foreign Coronaviru...</td>\n",
       "      <td>https://www.breitbart.com/asia/2020/09/08/chin...</td>\n",
       "      <td>2020-09-09 17:19:38+00:00</td>\n",
       "      <td>Chinese dictator Xi Jinping on Tuesday present...</td>\n",
       "      <td>far_right</td>\n",
       "      <td>9.0</td>\n",
       "      <td>Chinese dictator Xi Jinping on Tuesday present...</td>\n",
       "      <td>asia</td>\n",
       "      <td>Xi Honors Doc Who Suggested Foreign Coronaviru...</td>\n",
       "      <td>3610</td>\n",
       "      <td>{'n_chars': 2974, 'n_long_words': 201, 'n_mono...</td>\n",
       "      <td>542</td>\n",
       "      <td>0.370849</td>\n",
       "      <td>0.560886</td>\n",
       "      <td>0.190037</td>\n",
       "      <td>0.525830</td>\n",
       "      <td>0.528369</td>\n",
       "      <td>0.303881</td>\n",
       "      <td>0.765471</td>\n",
       "      <td>0</td>\n",
       "      <td>0</td>\n",
       "      <td>0</td>\n",
       "      <td>0</td>\n",
       "      <td>0</td>\n",
       "      <td>0</td>\n",
       "      <td>1</td>\n",
       "      <td>0</td>\n",
       "    </tr>\n",
       "    <tr>\n",
       "      <th>1</th>\n",
       "      <td>breitbart-news</td>\n",
       "      <td>Frances Martel</td>\n",
       "      <td>China Prepares to Fight Coronavirus Lawsuits -...</td>\n",
       "      <td>https://www.breitbart.com/asia/2020/05/27/chin...</td>\n",
       "      <td>2020-05-27 16:49:38+00:00</td>\n",
       "      <td>China’s National People’s Congress (NPC), one ...</td>\n",
       "      <td>far_right</td>\n",
       "      <td>5.0</td>\n",
       "      <td>China’s National People’s Congress (NPC), one ...</td>\n",
       "      <td>asia</td>\n",
       "      <td>China Prepares to Fight Coronavirus Lawsuits -...</td>\n",
       "      <td>5646</td>\n",
       "      <td>{'n_chars': 4646, 'n_long_words': 292, 'n_mono...</td>\n",
       "      <td>875</td>\n",
       "      <td>0.333714</td>\n",
       "      <td>0.587429</td>\n",
       "      <td>0.181714</td>\n",
       "      <td>0.412571</td>\n",
       "      <td>0.490295</td>\n",
       "      <td>0.236853</td>\n",
       "      <td>0.609734</td>\n",
       "      <td>0</td>\n",
       "      <td>0</td>\n",
       "      <td>0</td>\n",
       "      <td>0</td>\n",
       "      <td>0</td>\n",
       "      <td>0</td>\n",
       "      <td>1</td>\n",
       "      <td>0</td>\n",
       "    </tr>\n",
       "    <tr>\n",
       "      <th>2</th>\n",
       "      <td>breitbart-news</td>\n",
       "      <td>Thomas D. Williams, Ph.D.</td>\n",
       "      <td>Pope Calls on All Religions to Join in Prayer...</td>\n",
       "      <td>https://www.breitbart.com/health/2020/05/14/po...</td>\n",
       "      <td>2020-05-14 16:07:37+00:00</td>\n",
       "      <td>ROME Pope Francis has asked people of all reli...</td>\n",
       "      <td>far_right</td>\n",
       "      <td>5.0</td>\n",
       "      <td>ROME — Pope Francis has asked people of all re...</td>\n",
       "      <td>health</td>\n",
       "      <td>Pope Calls on All Religions to Join in Prayer....</td>\n",
       "      <td>2430</td>\n",
       "      <td>{'n_chars': 1940, 'n_long_words': 103, 'n_mono...</td>\n",
       "      <td>407</td>\n",
       "      <td>0.253071</td>\n",
       "      <td>0.687961</td>\n",
       "      <td>0.135135</td>\n",
       "      <td>0.501229</td>\n",
       "      <td>0.622641</td>\n",
       "      <td>0.429667</td>\n",
       "      <td>0.800292</td>\n",
       "      <td>0</td>\n",
       "      <td>0</td>\n",
       "      <td>1</td>\n",
       "      <td>0</td>\n",
       "      <td>0</td>\n",
       "      <td>0</td>\n",
       "      <td>0</td>\n",
       "      <td>0</td>\n",
       "    </tr>\n",
       "    <tr>\n",
       "      <th>3</th>\n",
       "      <td>breitbart-news</td>\n",
       "      <td>John Hayward</td>\n",
       "      <td>Report: China Quietly Keeping Residences Quara...</td>\n",
       "      <td>https://www.breitbart.com/national-security/20...</td>\n",
       "      <td>2020-04-16 16:40:37+00:00</td>\n",
       "      <td>A report at the Epoch Times on Tuesday said th...</td>\n",
       "      <td>far_right</td>\n",
       "      <td>4.0</td>\n",
       "      <td>A report at the Epoch Times on Tuesday said th...</td>\n",
       "      <td>national-security</td>\n",
       "      <td>Report: China Quietly Keeping Residences Quara...</td>\n",
       "      <td>3843</td>\n",
       "      <td>{'n_chars': 3147, 'n_long_words': 167, 'n_mono...</td>\n",
       "      <td>620</td>\n",
       "      <td>0.269355</td>\n",
       "      <td>0.658065</td>\n",
       "      <td>0.143548</td>\n",
       "      <td>0.524194</td>\n",
       "      <td>0.553039</td>\n",
       "      <td>0.404345</td>\n",
       "      <td>0.738316</td>\n",
       "      <td>0</td>\n",
       "      <td>0</td>\n",
       "      <td>1</td>\n",
       "      <td>0</td>\n",
       "      <td>0</td>\n",
       "      <td>0</td>\n",
       "      <td>0</td>\n",
       "      <td>0</td>\n",
       "    </tr>\n",
       "    <tr>\n",
       "      <th>4</th>\n",
       "      <td>breitbart-news</td>\n",
       "      <td>Simon Kent</td>\n",
       "      <td>Shoot Stray Dogs, Win Cash Prizes: How Chinese...</td>\n",
       "      <td>https://www.breitbart.com/asia/2020/03/16/shoo...</td>\n",
       "      <td>2020-03-16 14:49:40+00:00</td>\n",
       "      <td>A southern China community neighbourhood manag...</td>\n",
       "      <td>far_right</td>\n",
       "      <td>3.0</td>\n",
       "      <td>A southern China community neighbourhood manag...</td>\n",
       "      <td>asia</td>\n",
       "      <td>Shoot Stray Dogs, Win Cash Prizes: How Chinese...</td>\n",
       "      <td>2754</td>\n",
       "      <td>{'n_chars': 2225, 'n_long_words': 121, 'n_mono...</td>\n",
       "      <td>454</td>\n",
       "      <td>0.266520</td>\n",
       "      <td>0.640969</td>\n",
       "      <td>0.129956</td>\n",
       "      <td>0.579295</td>\n",
       "      <td>0.531997</td>\n",
       "      <td>0.372161</td>\n",
       "      <td>0.671761</td>\n",
       "      <td>0</td>\n",
       "      <td>0</td>\n",
       "      <td>0</td>\n",
       "      <td>0</td>\n",
       "      <td>0</td>\n",
       "      <td>0</td>\n",
       "      <td>1</td>\n",
       "      <td>0</td>\n",
       "    </tr>\n",
       "  </tbody>\n",
       "</table>\n",
       "</div>"
      ],
      "text/plain": [
       "           source                     author  \\\n",
       "0  breitbart-news            Gabrielle Reyes   \n",
       "1  breitbart-news             Frances Martel   \n",
       "2  breitbart-news  Thomas D. Williams, Ph.D.   \n",
       "3  breitbart-news               John Hayward   \n",
       "4  breitbart-news                 Simon Kent   \n",
       "\n",
       "                                               title  \\\n",
       "0  Xi Honors Doc Who Suggested Foreign Coronaviru...   \n",
       "1  China Prepares to Fight Coronavirus Lawsuits -...   \n",
       "2   Pope Calls on All Religions to Join in Prayer...   \n",
       "3  Report: China Quietly Keeping Residences Quara...   \n",
       "4  Shoot Stray Dogs, Win Cash Prizes: How Chinese...   \n",
       "\n",
       "                                                 url  \\\n",
       "0  https://www.breitbart.com/asia/2020/09/08/chin...   \n",
       "1  https://www.breitbart.com/asia/2020/05/27/chin...   \n",
       "2  https://www.breitbart.com/health/2020/05/14/po...   \n",
       "3  https://www.breitbart.com/national-security/20...   \n",
       "4  https://www.breitbart.com/asia/2020/03/16/shoo...   \n",
       "\n",
       "                 publishedAt  \\\n",
       "0  2020-09-09 17:19:38+00:00   \n",
       "1  2020-05-27 16:49:38+00:00   \n",
       "2  2020-05-14 16:07:37+00:00   \n",
       "3  2020-04-16 16:40:37+00:00   \n",
       "4  2020-03-16 14:49:40+00:00   \n",
       "\n",
       "                                             content     target  month  \\\n",
       "0  Chinese dictator Xi Jinping on Tuesday present...  far_right    9.0   \n",
       "1  China’s National People’s Congress (NPC), one ...  far_right    5.0   \n",
       "2  ROME Pope Francis has asked people of all reli...  far_right    5.0   \n",
       "3  A report at the Epoch Times on Tuesday said th...  far_right    4.0   \n",
       "4  A southern China community neighbourhood manag...  far_right    3.0   \n",
       "\n",
       "                                           full_text       url_subpages  \\\n",
       "0  Chinese dictator Xi Jinping on Tuesday present...               asia   \n",
       "1  China’s National People’s Congress (NPC), one ...               asia   \n",
       "2  ROME — Pope Francis has asked people of all re...             health   \n",
       "3  A report at the Epoch Times on Tuesday said th...  national-security   \n",
       "4  A southern China community neighbourhood manag...               asia   \n",
       "\n",
       "                                           predictor  pred_len  \\\n",
       "0  Xi Honors Doc Who Suggested Foreign Coronaviru...      3610   \n",
       "1  China Prepares to Fight Coronavirus Lawsuits -...      5646   \n",
       "2  Pope Calls on All Religions to Join in Prayer....      2430   \n",
       "3  Report: China Quietly Keeping Residences Quara...      3843   \n",
       "4  Shoot Stray Dogs, Win Cash Prizes: How Chinese...      2754   \n",
       "\n",
       "                                               Stats  n_words  n_long_words  \\\n",
       "0  {'n_chars': 2974, 'n_long_words': 201, 'n_mono...      542      0.370849   \n",
       "1  {'n_chars': 4646, 'n_long_words': 292, 'n_mono...      875      0.333714   \n",
       "2  {'n_chars': 1940, 'n_long_words': 103, 'n_mono...      407      0.253071   \n",
       "3  {'n_chars': 3147, 'n_long_words': 167, 'n_mono...      620      0.269355   \n",
       "4  {'n_chars': 2225, 'n_long_words': 121, 'n_mono...      454      0.266520   \n",
       "\n",
       "   n_monosyllable_words  n_polysyllable_words  n_unique_words  polarity  \\\n",
       "0              0.560886              0.190037        0.525830  0.528369   \n",
       "1              0.587429              0.181714        0.412571  0.490295   \n",
       "2              0.687961              0.135135        0.501229  0.622641   \n",
       "3              0.658065              0.143548        0.524194  0.553039   \n",
       "4              0.640969              0.129956        0.579295  0.531997   \n",
       "\n",
       "   subjectivity  coleman_index  topic_0  topic_1  topic_2  topic_3  topic_4  \\\n",
       "0      0.303881       0.765471        0        0        0        0        0   \n",
       "1      0.236853       0.609734        0        0        0        0        0   \n",
       "2      0.429667       0.800292        0        0        1        0        0   \n",
       "3      0.404345       0.738316        0        0        1        0        0   \n",
       "4      0.372161       0.671761        0        0        0        0        0   \n",
       "\n",
       "   topic_5  topic_6  topic_7  \n",
       "0        0        1        0  \n",
       "1        0        1        0  \n",
       "2        0        0        0  \n",
       "3        0        0        0  \n",
       "4        0        1        0  "
      ]
     },
     "execution_count": 58,
     "metadata": {},
     "output_type": "execute_result"
    }
   ],
   "source": [
    "print(data.shape)\n",
    "data.head()"
   ]
  },
  {
   "cell_type": "markdown",
   "metadata": {},
   "source": [
    "# Build Class Transformers, Pipeline"
   ]
  },
  {
   "cell_type": "code",
   "execution_count": 59,
   "metadata": {},
   "outputs": [],
   "source": [
    "from sklearn.base import BaseEstimator, TransformerMixin\n",
    "from sklearn.pipeline import FeatureUnion\n",
    "from sklearn.feature_extraction import DictVectorizer\n",
    "class ItemSelector(BaseEstimator, TransformerMixin):\n",
    "    def __init__(self, key):\n",
    "        self.key = key\n",
    "\n",
    "    def fit(self, x, y=None):\n",
    "        return self\n",
    "\n",
    "    def transform(self, data_dict):\n",
    "        return data_dict[self.key]\n",
    "\n",
    "    \n",
    "class TextStats(BaseEstimator, TransformerMixin):\n",
    "    \"\"\"Extract features from each document for DictVectorizer\"\"\"\n",
    "\n",
    "    def fit(self, x, y=None):\n",
    "        return self\n",
    "\n",
    "    def transform(self, data):\n",
    "        return [{'pol':  row['polarity'], \n",
    "                 'sub': row['subjectivity'],\n",
    "                 'n_long_words': row['n_long_words'], \n",
    "                 'n_monosyllable_words': row['n_monosyllable_words'], \n",
    "                 'n_polysyllable_words': row['n_polysyllable_words'], \n",
    "                 'n_unique_words': row['n_unique_words'],\n",
    "                 'coleman_index': row['coleman_index'],\n",
    "                'topic_0': row['topic_0'],\n",
    "                'topic_1': row['topic_1'],\n",
    "                'topic_2': row['topic_2'],\n",
    "                'topic_3': row['topic_3'],\n",
    "                'topic_4': row['topic_4'],\n",
    "                'topic_5': row['topic_5'],\n",
    "                'topic_6': row['topic_6'],\n",
    "                'topic_7': row['topic_7'],} for _, row in data.iterrows()]"
   ]
  },
  {
   "cell_type": "code",
   "execution_count": 60,
   "metadata": {},
   "outputs": [],
   "source": [
    "pipeline = Pipeline([\n",
    "    ('union', FeatureUnion(\n",
    "        transformer_list=[\n",
    "\n",
    "            # Pipeline for pulling features from the text\n",
    "            ('text', Pipeline([\n",
    "                ('selector', ItemSelector(key='predictor')),\n",
    "                ('tfidf', TfidfVectorizer( min_df =3, max_df=0.2, max_features=None, \n",
    "                    strip_accents='unicode', analyzer='word',token_pattern=r'\\w{1,}',\n",
    "                    ngram_range=(1, 10), use_idf=1,smooth_idf=1,sublinear_tf=1,\n",
    "                    stop_words = None, preprocessor=clean_txt)),\n",
    "            ])),\n",
    "\n",
    "            # Pipeline for pulling metadata features\n",
    "            ('stats', Pipeline([\n",
    "                ('selector', ItemSelector(key=['polarity', \n",
    "                                               'subjectivity', \n",
    "                                              'n_long_words',\n",
    "                                              'n_monosyllable_words',\n",
    "                                              'n_polysyllable_words',\n",
    "                                              'n_unique_words',\n",
    "                                               'coleman_index',\n",
    "                                              'topic_0',\n",
    "                                              'topic_1',\n",
    "                                              'topic_2',\n",
    "                                              'topic_3',\n",
    "                                              'topic_4',\n",
    "                                              'topic_5',\n",
    "                                              'topic_6',\n",
    "                                              'topic_7',])),\n",
    "                ('stats', TextStats()),  # returns a list of dicts\n",
    "                ('vect', DictVectorizer()),  # list of dicts -> feature matrix\n",
    "            ])),\n",
    "\n",
    "        ],\n",
    "\n",
    "        # weight components in FeatureUnion\n",
    "        transformer_weights={\n",
    "            'text': 0.9,\n",
    "            'stats': 1.5,\n",
    "        },\n",
    "    ))\n",
    "])"
   ]
  },
  {
   "cell_type": "code",
   "execution_count": 61,
   "metadata": {},
   "outputs": [],
   "source": [
    "from sklearn.preprocessing import LabelEncoder\n",
    "from sklearn.model_selection import train_test_split\n",
    "seed = 40\n",
    "X = data[['predictor', 'polarity', 'subjectivity','n_long_words','n_monosyllable_words',\n",
    "         'n_polysyllable_words','n_unique_words','coleman_index','topic_0','topic_1','topic_2','topic_3',\n",
    "         'topic_4','topic_5','topic_6','topic_7']]\n",
    "\n",
    "y =data['target']\n",
    "encoder = LabelEncoder()\n",
    "y = encoder.fit_transform(y)\n",
    "x_train, x_test, y_train, y_test = train_test_split(X, y, test_size=0.2, random_state=seed, stratify=y)"
   ]
  },
  {
   "cell_type": "code",
   "execution_count": 62,
   "metadata": {},
   "outputs": [
    {
     "data": {
      "text/plain": [
       "Pipeline(steps=[('union',\n",
       "                 FeatureUnion(transformer_list=[('text',\n",
       "                                                 Pipeline(steps=[('selector',\n",
       "                                                                  ItemSelector(key='predictor')),\n",
       "                                                                 ('tfidf',\n",
       "                                                                  TfidfVectorizer(max_df=0.2,\n",
       "                                                                                  min_df=3,\n",
       "                                                                                  ngram_range=(1,\n",
       "                                                                                               10),\n",
       "                                                                                  preprocessor=<function clean_txt at 0x12effc940>,\n",
       "                                                                                  smooth_idf=1,\n",
       "                                                                                  strip_accents='unicode',\n",
       "                                                                                  sublinear_tf=1,\n",
       "                                                                                  token_pattern='\\\\w{1,}',\n",
       "                                                                                  use_idf=1))])),\n",
       "                                                ('stats',\n",
       "                                                 Pipeline(steps=[('selector',\n",
       "                                                                  ItemSelector(key=['polarity',\n",
       "                                                                                    'subjectivity',\n",
       "                                                                                    'n_long_words',\n",
       "                                                                                    'n_monosyllable_words',\n",
       "                                                                                    'n_polysyllable_words',\n",
       "                                                                                    'n_unique_words',\n",
       "                                                                                    'coleman_index',\n",
       "                                                                                    'topic_0',\n",
       "                                                                                    'topic_1',\n",
       "                                                                                    'topic_2',\n",
       "                                                                                    'topic_3',\n",
       "                                                                                    'topic_4',\n",
       "                                                                                    'topic_5',\n",
       "                                                                                    'topic_6',\n",
       "                                                                                    'topic_7'])),\n",
       "                                                                 ('stats',\n",
       "                                                                  TextStats()),\n",
       "                                                                 ('vect',\n",
       "                                                                  DictVectorizer())]))],\n",
       "                              transformer_weights={'stats': 1.5,\n",
       "                                                   'text': 0.9}))])"
      ]
     },
     "execution_count": 62,
     "metadata": {},
     "output_type": "execute_result"
    }
   ],
   "source": [
    "pipeline.fit(x_train)"
   ]
  },
  {
   "cell_type": "code",
   "execution_count": 63,
   "metadata": {},
   "outputs": [
    {
     "name": "stdout",
     "output_type": "stream",
     "text": [
      "Checking that the number of features in train and test correspond: (12588, 1307220) - (3147, 1307220)\n",
      "CPU times: user 2min 17s, sys: 3.32 s, total: 2min 20s\n",
      "Wall time: 2min 26s\n"
     ]
    }
   ],
   "source": [
    "%%time\n",
    "train_vec = pipeline.transform(x_train)\n",
    "test_vec = pipeline.transform(x_test)\n",
    "print(\"Checking that the number of features in train and test correspond: %s - %s\" % (train_vec.shape, test_vec.shape))"
   ]
  },
  {
   "cell_type": "markdown",
   "metadata": {},
   "source": [
    "# Test different models"
   ]
  },
  {
   "cell_type": "code",
   "execution_count": 68,
   "metadata": {},
   "outputs": [],
   "source": [
    "from sklearn.metrics import plot_confusion_matrix"
   ]
  },
  {
   "cell_type": "code",
   "execution_count": 64,
   "metadata": {},
   "outputs": [
    {
     "data": {
      "text/html": [
       "<div>\n",
       "<style scoped>\n",
       "    .dataframe tbody tr th:only-of-type {\n",
       "        vertical-align: middle;\n",
       "    }\n",
       "\n",
       "    .dataframe tbody tr th {\n",
       "        vertical-align: top;\n",
       "    }\n",
       "\n",
       "    .dataframe thead th {\n",
       "        text-align: right;\n",
       "    }\n",
       "</style>\n",
       "<table border=\"1\" class=\"dataframe\">\n",
       "  <thead>\n",
       "    <tr style=\"text-align: right;\">\n",
       "      <th></th>\n",
       "      <th>model</th>\n",
       "      <th>accuracy</th>\n",
       "    </tr>\n",
       "  </thead>\n",
       "  <tbody>\n",
       "  </tbody>\n",
       "</table>\n",
       "</div>"
      ],
      "text/plain": [
       "Empty DataFrame\n",
       "Columns: [model, accuracy]\n",
       "Index: []"
      ]
     },
     "execution_count": 64,
     "metadata": {},
     "output_type": "execute_result"
    }
   ],
   "source": [
    "results = pd.DataFrame(columns = ['model','accuracy'])\n",
    "results"
   ]
  },
  {
   "cell_type": "code",
   "execution_count": 65,
   "metadata": {},
   "outputs": [
    {
     "data": {
      "text/html": [
       "<div>\n",
       "<style scoped>\n",
       "    .dataframe tbody tr th:only-of-type {\n",
       "        vertical-align: middle;\n",
       "    }\n",
       "\n",
       "    .dataframe tbody tr th {\n",
       "        vertical-align: top;\n",
       "    }\n",
       "\n",
       "    .dataframe thead th {\n",
       "        text-align: right;\n",
       "    }\n",
       "</style>\n",
       "<table border=\"1\" class=\"dataframe\">\n",
       "  <thead>\n",
       "    <tr style=\"text-align: right;\">\n",
       "      <th></th>\n",
       "      <th>model</th>\n",
       "      <th>accuracy</th>\n",
       "    </tr>\n",
       "  </thead>\n",
       "  <tbody>\n",
       "    <tr>\n",
       "      <th>0</th>\n",
       "      <td>Dummy</td>\n",
       "      <td>0.29173</td>\n",
       "    </tr>\n",
       "  </tbody>\n",
       "</table>\n",
       "</div>"
      ],
      "text/plain": [
       "   model  accuracy\n",
       "0  Dummy   0.29173"
      ]
     },
     "execution_count": 65,
     "metadata": {},
     "output_type": "execute_result"
    }
   ],
   "source": [
    "new_row = {'model': 'Dummy', 'accuracy': .29173}\n",
    "results = results.append(new_row, ignore_index=True)\n",
    "results"
   ]
  },
  {
   "cell_type": "code",
   "execution_count": 66,
   "metadata": {},
   "outputs": [
    {
     "name": "stdout",
     "output_type": "stream",
     "text": [
      "[LibLinear]"
     ]
    }
   ],
   "source": [
    "#Linear Support Vector Machines\n",
    "sv_clf = LinearSVC(C=1, class_weight='balanced', multi_class='ovr', random_state=40,verbose=3) \n",
    "sv_clf.fit(train_vec, y_train)\n",
    "test_preds = sv_clf.predict(test_vec)"
   ]
  },
  {
   "cell_type": "code",
   "execution_count": 67,
   "metadata": {
    "scrolled": true
   },
   "outputs": [
    {
     "data": {
      "text/html": [
       "<div>\n",
       "<style scoped>\n",
       "    .dataframe tbody tr th:only-of-type {\n",
       "        vertical-align: middle;\n",
       "    }\n",
       "\n",
       "    .dataframe tbody tr th {\n",
       "        vertical-align: top;\n",
       "    }\n",
       "\n",
       "    .dataframe thead th {\n",
       "        text-align: right;\n",
       "    }\n",
       "</style>\n",
       "<table border=\"1\" class=\"dataframe\">\n",
       "  <thead>\n",
       "    <tr style=\"text-align: right;\">\n",
       "      <th></th>\n",
       "      <th>model</th>\n",
       "      <th>accuracy</th>\n",
       "    </tr>\n",
       "  </thead>\n",
       "  <tbody>\n",
       "    <tr>\n",
       "      <th>0</th>\n",
       "      <td>Dummy</td>\n",
       "      <td>0.291730</td>\n",
       "    </tr>\n",
       "    <tr>\n",
       "      <th>1</th>\n",
       "      <td>SVM</td>\n",
       "      <td>0.883699</td>\n",
       "    </tr>\n",
       "  </tbody>\n",
       "</table>\n",
       "</div>"
      ],
      "text/plain": [
       "   model  accuracy\n",
       "0  Dummy  0.291730\n",
       "1    SVM  0.883699"
      ]
     },
     "execution_count": 67,
     "metadata": {},
     "output_type": "execute_result"
    }
   ],
   "source": [
    "accuracy = accuracy_score(y_test, test_preds)\n",
    "\n",
    "new_row = {'model': 'SVM', 'accuracy': accuracy}\n",
    "results = results.append(new_row, ignore_index=True)\n",
    "results"
   ]
  },
  {
   "cell_type": "code",
   "execution_count": 70,
   "metadata": {},
   "outputs": [
    {
     "data": {
      "text/plain": [
       "<sklearn.metrics._plot.confusion_matrix.ConfusionMatrixDisplay at 0x1d917bee0>"
      ]
     },
     "execution_count": 70,
     "metadata": {},
     "output_type": "execute_result"
    },
    {
     "data": {
      "image/png": "[encoded data removed]",
      "text/plain": [
       "<Figure size 432x288 with 2 Axes>"
      ]
     },
     "metadata": {
      "needs_background": "light"
     },
     "output_type": "display_data"
    }
   ],
   "source": [
    "plot_confusion_matrix(sv_clf,test_vec,y_test)"
   ]
  },
  {
   "cell_type": "code",
   "execution_count": 71,
   "metadata": {},
   "outputs": [
    {
     "name": "stderr",
     "output_type": "stream",
     "text": [
      "[Parallel(n_jobs=-1)]: Using backend ThreadingBackend with 8 concurrent workers.\n",
      "[Parallel(n_jobs=-1)]: Done  34 tasks      | elapsed:   12.3s\n",
      "[Parallel(n_jobs=-1)]: Done 184 tasks      | elapsed:   58.1s\n",
      "[Parallel(n_jobs=-1)]: Done 200 out of 200 | elapsed:  1.0min finished\n",
      "[Parallel(n_jobs=8)]: Using backend ThreadingBackend with 8 concurrent workers.\n",
      "[Parallel(n_jobs=8)]: Done  34 tasks      | elapsed:    0.2s\n",
      "[Parallel(n_jobs=8)]: Done 184 tasks      | elapsed:    0.9s\n",
      "[Parallel(n_jobs=8)]: Done 200 out of 200 | elapsed:    0.9s finished\n"
     ]
    }
   ],
   "source": [
    "#Random Forest\n",
    "rfc_clf = RandomForestClassifier(n_estimators=200,random_state=0,n_jobs=-1,verbose=1)\n",
    "rfc_clf.fit(train_vec, y_train)\n",
    "test_preds = rfc_clf.predict(test_vec)"
   ]
  },
  {
   "cell_type": "code",
   "execution_count": 72,
   "metadata": {
    "scrolled": false
   },
   "outputs": [
    {
     "data": {
      "text/html": [
       "<div>\n",
       "<style scoped>\n",
       "    .dataframe tbody tr th:only-of-type {\n",
       "        vertical-align: middle;\n",
       "    }\n",
       "\n",
       "    .dataframe tbody tr th {\n",
       "        vertical-align: top;\n",
       "    }\n",
       "\n",
       "    .dataframe thead th {\n",
       "        text-align: right;\n",
       "    }\n",
       "</style>\n",
       "<table border=\"1\" class=\"dataframe\">\n",
       "  <thead>\n",
       "    <tr style=\"text-align: right;\">\n",
       "      <th></th>\n",
       "      <th>model</th>\n",
       "      <th>accuracy</th>\n",
       "    </tr>\n",
       "  </thead>\n",
       "  <tbody>\n",
       "    <tr>\n",
       "      <th>0</th>\n",
       "      <td>Dummy</td>\n",
       "      <td>0.291730</td>\n",
       "    </tr>\n",
       "    <tr>\n",
       "      <th>1</th>\n",
       "      <td>SVM</td>\n",
       "      <td>0.883699</td>\n",
       "    </tr>\n",
       "    <tr>\n",
       "      <th>2</th>\n",
       "      <td>RFC</td>\n",
       "      <td>0.808389</td>\n",
       "    </tr>\n",
       "  </tbody>\n",
       "</table>\n",
       "</div>"
      ],
      "text/plain": [
       "   model  accuracy\n",
       "0  Dummy  0.291730\n",
       "1    SVM  0.883699\n",
       "2    RFC  0.808389"
      ]
     },
     "execution_count": 72,
     "metadata": {},
     "output_type": "execute_result"
    }
   ],
   "source": [
    "accuracy = accuracy_score(y_test, test_preds)\n",
    "\n",
    "new_row = {'model': 'RFC', 'accuracy': accuracy}\n",
    "results = results.append(new_row, ignore_index=True)\n",
    "results"
   ]
  },
  {
   "cell_type": "code",
   "execution_count": 73,
   "metadata": {},
   "outputs": [
    {
     "name": "stderr",
     "output_type": "stream",
     "text": [
      "[Parallel(n_jobs=8)]: Using backend ThreadingBackend with 8 concurrent workers.\n",
      "[Parallel(n_jobs=8)]: Done  34 tasks      | elapsed:    0.3s\n",
      "[Parallel(n_jobs=8)]: Done 184 tasks      | elapsed:    1.0s\n",
      "[Parallel(n_jobs=8)]: Done 200 out of 200 | elapsed:    1.1s finished\n"
     ]
    },
    {
     "data": {
      "text/plain": [
       "<sklearn.metrics._plot.confusion_matrix.ConfusionMatrixDisplay at 0x11e6e3940>"
      ]
     },
     "execution_count": 73,
     "metadata": {},
     "output_type": "execute_result"
    },
    {
     "data": {
      "image/png": "[encoded data removed]",
      "text/plain": [
       "<Figure size 432x288 with 2 Axes>"
      ]
     },
     "metadata": {
      "needs_background": "light"
     },
     "output_type": "display_data"
    }
   ],
   "source": [
    "plot_confusion_matrix(rfc_clf,test_vec,y_test)"
   ]
  },
  {
   "cell_type": "markdown",
   "metadata": {},
   "source": [
    "**MNB**"
   ]
  },
  {
   "cell_type": "code",
   "execution_count": 74,
   "metadata": {},
   "outputs": [
    {
     "data": {
      "text/html": [
       "<div>\n",
       "<style scoped>\n",
       "    .dataframe tbody tr th:only-of-type {\n",
       "        vertical-align: middle;\n",
       "    }\n",
       "\n",
       "    .dataframe tbody tr th {\n",
       "        vertical-align: top;\n",
       "    }\n",
       "\n",
       "    .dataframe thead th {\n",
       "        text-align: right;\n",
       "    }\n",
       "</style>\n",
       "<table border=\"1\" class=\"dataframe\">\n",
       "  <thead>\n",
       "    <tr style=\"text-align: right;\">\n",
       "      <th></th>\n",
       "      <th>model</th>\n",
       "      <th>accuracy</th>\n",
       "    </tr>\n",
       "  </thead>\n",
       "  <tbody>\n",
       "    <tr>\n",
       "      <th>0</th>\n",
       "      <td>Dummy</td>\n",
       "      <td>0.291730</td>\n",
       "    </tr>\n",
       "    <tr>\n",
       "      <th>1</th>\n",
       "      <td>SVM</td>\n",
       "      <td>0.883699</td>\n",
       "    </tr>\n",
       "    <tr>\n",
       "      <th>2</th>\n",
       "      <td>RFC</td>\n",
       "      <td>0.808389</td>\n",
       "    </tr>\n",
       "    <tr>\n",
       "      <th>3</th>\n",
       "      <td>MNB</td>\n",
       "      <td>0.654274</td>\n",
       "    </tr>\n",
       "  </tbody>\n",
       "</table>\n",
       "</div>"
      ],
      "text/plain": [
       "   model  accuracy\n",
       "0  Dummy  0.291730\n",
       "1    SVM  0.883699\n",
       "2    RFC  0.808389\n",
       "3    MNB  0.654274"
      ]
     },
     "execution_count": 74,
     "metadata": {},
     "output_type": "execute_result"
    }
   ],
   "source": [
    "#Multinomial Bayes\n",
    "mnb_lemma = MultinomialNB()\n",
    "mnb_lemma.fit(train_vec, y_train)\n",
    "test_preds = mnb_lemma.predict(test_vec)\n",
    "\n",
    "accuracy = accuracy_score(y_test, test_preds)\n",
    "\n",
    "new_row = {'model': 'MNB', 'accuracy': accuracy}\n",
    "results = results.append(new_row, ignore_index=True)\n",
    "results"
   ]
  },
  {
   "cell_type": "code",
   "execution_count": 75,
   "metadata": {},
   "outputs": [
    {
     "data": {
      "text/plain": [
       "<sklearn.metrics._plot.confusion_matrix.ConfusionMatrixDisplay at 0x509f87430>"
      ]
     },
     "execution_count": 75,
     "metadata": {},
     "output_type": "execute_result"
    },
    {
     "data": {
      "image/png": "[encoded data removed]",
      "text/plain": [
       "<Figure size 432x288 with 2 Axes>"
      ]
     },
     "metadata": {
      "needs_background": "light"
     },
     "output_type": "display_data"
    }
   ],
   "source": [
    "plot_confusion_matrix(mnb_lemma,test_vec,y_test)"
   ]
  },
  {
   "cell_type": "markdown",
   "metadata": {},
   "source": [
    "**Test out Word2Vec**"
   ]
  },
  {
   "cell_type": "code",
   "execution_count": 76,
   "metadata": {},
   "outputs": [],
   "source": [
    "class SpacyVectorTransformer(BaseEstimator, TransformerMixin):\n",
    "    def __init__(self, nlp):\n",
    "        self.nlp = nlp\n",
    "        self.dim = 300\n",
    "\n",
    "    def fit(self, X, y):\n",
    "        return self\n",
    "\n",
    "    def transform(self, X):\n",
    "        # Doc.vector defaults to an average of the token vectors.\n",
    "        # https://spacy.io/api/doc#vector\n",
    "        \n",
    "        return [self.nlp(text).vector for text in X]"
   ]
  },
  {
   "cell_type": "code",
   "execution_count": 77,
   "metadata": {},
   "outputs": [],
   "source": [
    "X = data['predictor']\n",
    "y =data['target']\n",
    "encoder = LabelEncoder()\n",
    "y = encoder.fit_transform(y)\n",
    "x_train, x_test, y_train, y_test = train_test_split(X, y, test_size=0.2, random_state=seed, stratify=y)"
   ]
  },
  {
   "cell_type": "code",
   "execution_count": 78,
   "metadata": {},
   "outputs": [
    {
     "name": "stderr",
     "output_type": "stream",
     "text": [
      "[Parallel(n_jobs=-1)]: Using backend ThreadingBackend with 8 concurrent workers.\n",
      "[Parallel(n_jobs=-1)]: Done  34 tasks      | elapsed:    0.6s\n",
      "[Parallel(n_jobs=-1)]: Done 100 out of 100 | elapsed:    1.4s finished\n",
      "[Parallel(n_jobs=8)]: Using backend ThreadingBackend with 8 concurrent workers.\n",
      "[Parallel(n_jobs=8)]: Done  34 tasks      | elapsed:    0.0s\n",
      "[Parallel(n_jobs=8)]: Done 100 out of 100 | elapsed:    0.0s finished\n"
     ]
    }
   ],
   "source": [
    "embeddings_pipeline = Pipeline(\n",
    "    steps=[\n",
    "        (\"mean_embeddings\", SpacyVectorTransformer(nlp)),\n",
    "        (\"reduce_dim\", TruncatedSVD(50)),\n",
    "        (\"classifier\", RandomForestClassifier(random_state=0,n_jobs=-1, verbose=1)),\n",
    "    ]\n",
    ")\n",
    "embeddings_pipeline.fit(x_train, y_train)\n",
    "y_pred = embeddings_pipeline.predict(x_test)\n",
    "cr = classification_report(y_test, y_pred,output_dict=True)"
   ]
  },
  {
   "cell_type": "code",
   "execution_count": 79,
   "metadata": {},
   "outputs": [
    {
     "data": {
      "text/html": [
       "<div>\n",
       "<style scoped>\n",
       "    .dataframe tbody tr th:only-of-type {\n",
       "        vertical-align: middle;\n",
       "    }\n",
       "\n",
       "    .dataframe tbody tr th {\n",
       "        vertical-align: top;\n",
       "    }\n",
       "\n",
       "    .dataframe thead th {\n",
       "        text-align: right;\n",
       "    }\n",
       "</style>\n",
       "<table border=\"1\" class=\"dataframe\">\n",
       "  <thead>\n",
       "    <tr style=\"text-align: right;\">\n",
       "      <th></th>\n",
       "      <th>model</th>\n",
       "      <th>accuracy</th>\n",
       "    </tr>\n",
       "  </thead>\n",
       "  <tbody>\n",
       "    <tr>\n",
       "      <th>0</th>\n",
       "      <td>Dummy</td>\n",
       "      <td>0.291730</td>\n",
       "    </tr>\n",
       "    <tr>\n",
       "      <th>1</th>\n",
       "      <td>SVM</td>\n",
       "      <td>0.883699</td>\n",
       "    </tr>\n",
       "    <tr>\n",
       "      <th>2</th>\n",
       "      <td>RFC</td>\n",
       "      <td>0.808389</td>\n",
       "    </tr>\n",
       "    <tr>\n",
       "      <th>3</th>\n",
       "      <td>MNB</td>\n",
       "      <td>0.654274</td>\n",
       "    </tr>\n",
       "    <tr>\n",
       "      <th>4</th>\n",
       "      <td>word2vec</td>\n",
       "      <td>0.712742</td>\n",
       "    </tr>\n",
       "  </tbody>\n",
       "</table>\n",
       "</div>"
      ],
      "text/plain": [
       "      model  accuracy\n",
       "0     Dummy  0.291730\n",
       "1       SVM  0.883699\n",
       "2       RFC  0.808389\n",
       "3       MNB  0.654274\n",
       "4  word2vec  0.712742"
      ]
     },
     "execution_count": 79,
     "metadata": {},
     "output_type": "execute_result"
    }
   ],
   "source": [
    "accuracy = accuracy_score(y_test, y_pred)\n",
    "\n",
    "new_row = {'model': 'word2vec', 'accuracy': accuracy}\n",
    "results = results.append(new_row, ignore_index=True)\n",
    "results"
   ]
  },
  {
   "cell_type": "markdown",
   "metadata": {},
   "source": [
    "**PAC**"
   ]
  },
  {
   "cell_type": "code",
   "execution_count": 82,
   "metadata": {},
   "outputs": [],
   "source": [
    "from sklearn.linear_model import PassiveAggressiveClassifier"
   ]
  },
  {
   "cell_type": "code",
   "execution_count": 83,
   "metadata": {},
   "outputs": [],
   "source": [
    "#Random Forest\n",
    "pac_clf = PassiveAggressiveClassifier()\n",
    "pac_clf.fit(train_vec, y_train)\n",
    "test_preds = pac_clf.predict(test_vec)"
   ]
  },
  {
   "cell_type": "code",
   "execution_count": 84,
   "metadata": {
    "scrolled": true
   },
   "outputs": [
    {
     "data": {
      "text/html": [
       "<div>\n",
       "<style scoped>\n",
       "    .dataframe tbody tr th:only-of-type {\n",
       "        vertical-align: middle;\n",
       "    }\n",
       "\n",
       "    .dataframe tbody tr th {\n",
       "        vertical-align: top;\n",
       "    }\n",
       "\n",
       "    .dataframe thead th {\n",
       "        text-align: right;\n",
       "    }\n",
       "</style>\n",
       "<table border=\"1\" class=\"dataframe\">\n",
       "  <thead>\n",
       "    <tr style=\"text-align: right;\">\n",
       "      <th></th>\n",
       "      <th>model</th>\n",
       "      <th>accuracy</th>\n",
       "    </tr>\n",
       "  </thead>\n",
       "  <tbody>\n",
       "    <tr>\n",
       "      <th>0</th>\n",
       "      <td>Dummy</td>\n",
       "      <td>0.291730</td>\n",
       "    </tr>\n",
       "    <tr>\n",
       "      <th>1</th>\n",
       "      <td>SVM</td>\n",
       "      <td>0.883699</td>\n",
       "    </tr>\n",
       "    <tr>\n",
       "      <th>2</th>\n",
       "      <td>RFC</td>\n",
       "      <td>0.808389</td>\n",
       "    </tr>\n",
       "    <tr>\n",
       "      <th>3</th>\n",
       "      <td>MNB</td>\n",
       "      <td>0.654274</td>\n",
       "    </tr>\n",
       "    <tr>\n",
       "      <th>4</th>\n",
       "      <td>word2vec</td>\n",
       "      <td>0.712742</td>\n",
       "    </tr>\n",
       "    <tr>\n",
       "      <th>5</th>\n",
       "      <td>PAC</td>\n",
       "      <td>0.886876</td>\n",
       "    </tr>\n",
       "  </tbody>\n",
       "</table>\n",
       "</div>"
      ],
      "text/plain": [
       "      model  accuracy\n",
       "0     Dummy  0.291730\n",
       "1       SVM  0.883699\n",
       "2       RFC  0.808389\n",
       "3       MNB  0.654274\n",
       "4  word2vec  0.712742\n",
       "5       PAC  0.886876"
      ]
     },
     "execution_count": 84,
     "metadata": {},
     "output_type": "execute_result"
    }
   ],
   "source": [
    "accuracy = accuracy_score(y_test, test_preds)\n",
    "\n",
    "new_row = {'model': 'PAC', 'accuracy': accuracy}\n",
    "results = results.append(new_row, ignore_index=True)\n",
    "results"
   ]
  },
  {
   "cell_type": "markdown",
   "metadata": {},
   "source": [
    "**Deep Learning, Spacy**"
   ]
  },
  {
   "cell_type": "code",
   "execution_count": 85,
   "metadata": {},
   "outputs": [],
   "source": [
    "from keras.preprocessing.text import Tokenizer\n",
    "from keras.models import Sequential\n",
    "from keras.layers import Activation, Dense, Dropout, LSTM, Embedding\n",
    "from sklearn.preprocessing import LabelBinarizer\n",
    "from keras.preprocessing.text import Tokenizer, text_to_word_sequence\n",
    "from keras.preprocessing.sequence import pad_sequences\n",
    "from keras.utils import np_utils\n",
    "from keras.layers import Dense, Input, LSTM, Bidirectional, Activation, Conv1D, GRU, TimeDistributed\n",
    "from keras.layers import Dropout, Embedding, GlobalMaxPooling1D, MaxPooling1D, Add, Flatten, SpatialDropout1D\n",
    "from keras.layers import GlobalAveragePooling1D, BatchNormalization, concatenate\n",
    "from keras.layers import Reshape, merge, Concatenate, Lambda, Average\n",
    "from keras import backend as K\n",
    "from keras.engine.topology import Layer\n",
    "from keras import initializers, regularizers, constraints"
   ]
  },
  {
   "cell_type": "code",
   "execution_count": 86,
   "metadata": {},
   "outputs": [],
   "source": [
    "from sklearn.model_selection import train_test_split\n",
    "import time\n",
    "X = data['predictor']\n",
    "y =data['target']\n",
    "encoder = LabelEncoder()\n",
    "y = encoder.fit_transform(y)\n",
    "Y = np_utils.to_categorical(y)\n",
    "##Create the tf-idf vector\n",
    "vectorizer = TfidfVectorizer( min_df =3, max_df=0.2, max_features=None, \n",
    "            strip_accents='unicode', analyzer='word',token_pattern=r'\\w{1,}',\n",
    "            use_idf=1,smooth_idf=1,sublinear_tf=1,\n",
    "            stop_words = None, preprocessor=clean_txt)"
   ]
  },
  {
   "cell_type": "code",
   "execution_count": 87,
   "metadata": {},
   "outputs": [
    {
     "data": {
      "text/plain": [
       "TfidfVectorizer(max_df=0.2, min_df=3,\n",
       "                preprocessor=<function clean_txt at 0x12effc940>, smooth_idf=1,\n",
       "                strip_accents='unicode', sublinear_tf=1,\n",
       "                token_pattern='\\\\w{1,}', use_idf=1)"
      ]
     },
     "execution_count": 87,
     "metadata": {},
     "output_type": "execute_result"
    }
   ],
   "source": [
    "seed = 40\n",
    "x_train, x_test, y_train, y_test = train_test_split(X, Y, test_size=0.2, random_state=seed, stratify =y)\n",
    "vectorizer.fit(x_train)"
   ]
  },
  {
   "cell_type": "code",
   "execution_count": 89,
   "metadata": {},
   "outputs": [
    {
     "name": "stdout",
     "output_type": "stream",
     "text": [
      "[16093, 11973, 15382, 26137, 23197, 16093, 16756, 15534, 4104, 16929, 9816, 22035, 21151, 11973, 15382, 26137, 20298, 16439, 19223, 23197, 13746, 23197, 1872, 7673, 1705, 19000, 1527, 25205, 2635, 12288, 23847, 23883, 9801, 21613, 19570, 19647, 9815, 4651, 19890, 21338, 21151, 23883, 20298, 6666, 16092, 262, 16208, 23557, 21074, 20298, 8360, 17804, 22085, 21074, 15586, 22007, 4374, 9828, 7694, 13907, 18027, 6385, 23197, 19223, 25831, 19696, 16093, 12382, 15534, 13639, 6387, 1521, 21151, 22882, 15351, 13663, 18148, 21151, 8089, 183, 16095, 13896, 23136, 20298, 6387, 16929, 9828, 18866, 15042, 11717, 19137, 5562, 11307, 1226, 6010, 14504, 26137, 3930, 13895, 21679, 23653, 72, 7666, 18555, 12071, 21338, 11363, 22479, 26289, 16756, 14269, 18635, 20298, 17804, 26345, 21074, 1527, 21338, 1030, 4558, 23653, 25697, 6388, 23173, 8008, 17802, 22454, 21970, 14504, 6387, 9829, 21613, 6103, 20298, 13895, 10581, 17975, 23096, 4410, 21338, 26591, 7393, 3323, 14504, 21074, 5361, 24153, 9829, 21613, 21338, 15382, 12275, 1798, 9828, 23084, 17233, 1325, 18608]\n"
     ]
    }
   ],
   "source": [
    "word2idx = {word: idx for idx, word in enumerate(vectorizer.get_feature_names())}\n",
    "tokenize = vectorizer.build_tokenizer()\n",
    "preprocess = vectorizer.build_preprocessor()\n",
    " \n",
    "def to_sequence(tokenizer, preprocessor, index, text):\n",
    "    words = tokenizer(preprocessor(text))\n",
    "    indexes = [index[word] for word in words if word in index]\n",
    "    return indexes\n",
    "\n",
    "X_train_sequences = [to_sequence(tokenize, preprocess, word2idx, x) for x in x_train]\n",
    "print(X_train_sequences[0])"
   ]
  },
  {
   "cell_type": "code",
   "execution_count": 90,
   "metadata": {},
   "outputs": [
    {
     "name": "stdout",
     "output_type": "stream",
     "text": [
      "[13895 21679 23653    72  7666 18555 12071 21338 11363 22479 26289 16756\n",
      " 14269 18635 20298 17804 26345 21074  1527 21338  1030  4558 23653 25697\n",
      "  6388 23173  8008 17802 22454 21970 14504  6387  9829 21613  6103 20298\n",
      " 13895 10581 17975 23096  4410 21338 26591  7393  3323 14504 21074  5361\n",
      " 24153  9829 21613 21338 15382 12275  1798  9828 23084 17233  1325 18608]\n"
     ]
    }
   ],
   "source": [
    "# Compute the max lenght of a text\n",
    "\n",
    "MAX_SEQ_LENGHT=60\n",
    "\n",
    "N_FEATURES = len(vectorizer.get_feature_names())\n",
    "X_train_sequences = pad_sequences(X_train_sequences, maxlen=MAX_SEQ_LENGHT, value=N_FEATURES)\n",
    "print(X_train_sequences[0])"
   ]
  },
  {
   "cell_type": "code",
   "execution_count": 91,
   "metadata": {},
   "outputs": [],
   "source": [
    "X_test_sequences = [to_sequence(tokenize, preprocess, word2idx, x) for x in x_test]\n",
    "X_test_sequences = pad_sequences(X_test_sequences, maxlen=MAX_SEQ_LENGHT, value=N_FEATURES)"
   ]
  },
  {
   "cell_type": "code",
   "execution_count": 92,
   "metadata": {},
   "outputs": [
    {
     "name": "stdout",
     "output_type": "stream",
     "text": [
      "EMBEDDINGS_LEN= 300\n"
     ]
    }
   ],
   "source": [
    "EMBEDDINGS_LEN = 300\n",
    "\n",
    "embeddings_index = np.zeros((len(vectorizer.get_feature_names()) + 1, EMBEDDINGS_LEN))\n",
    "for word, idx in word2idx.items():\n",
    "    try:\n",
    "        embedding = nlp.vocab[word].vector\n",
    "        embeddings_index[idx] = embedding\n",
    "    except:\n",
    "        pass\n",
    "      \n",
    "print(\"EMBEDDINGS_LEN=\", EMBEDDINGS_LEN)"
   ]
  },
  {
   "cell_type": "code",
   "execution_count": 93,
   "metadata": {},
   "outputs": [
    {
     "name": "stdout",
     "output_type": "stream",
     "text": [
      "Model: \"sequential\"\n",
      "_________________________________________________________________\n",
      "Layer (type)                 Output Shape              Param #   \n",
      "=================================================================\n",
      "embedding (Embedding)        (None, 60, 300)           8068200   \n",
      "_________________________________________________________________\n",
      "lstm (LSTM)                  (None, 300)               721200    \n",
      "_________________________________________________________________\n",
      "dense (Dense)                (None, 5)                 1505      \n",
      "=================================================================\n",
      "Total params: 8,790,905\n",
      "Trainable params: 722,705\n",
      "Non-trainable params: 8,068,200\n",
      "_________________________________________________________________\n",
      "None\n"
     ]
    }
   ],
   "source": [
    "model = Sequential()\n",
    "model.add(Embedding(len(vectorizer.get_feature_names()) + 1,\n",
    "                    EMBEDDINGS_LEN,  # Embedding size\n",
    "                    weights=[embeddings_index],\n",
    "                    input_length=MAX_SEQ_LENGHT,\n",
    "                    trainable=False))\n",
    "model.add(LSTM(300, dropout=0.2))\n",
    "model.add(Dense(len(set(y)), activation='softmax'))\n",
    " \n",
    "model.compile(loss='categorical_crossentropy', optimizer='adam', metrics=['accuracy'])\n",
    "print(model.summary())"
   ]
  },
  {
   "cell_type": "code",
   "execution_count": 94,
   "metadata": {},
   "outputs": [
    {
     "name": "stdout",
     "output_type": "stream",
     "text": [
      "Epoch 1/5\n",
      "89/89 [==============================] - 22s 246ms/step - loss: 1.4670 - accuracy: 0.3858 - val_loss: 1.3528 - val_accuracy: 0.4400\n",
      "Epoch 2/5\n",
      "89/89 [==============================] - 23s 262ms/step - loss: 1.3110 - accuracy: 0.4646 - val_loss: 1.2655 - val_accuracy: 0.4829\n",
      "Epoch 3/5\n",
      "89/89 [==============================] - 24s 267ms/step - loss: 1.2252 - accuracy: 0.5097 - val_loss: 1.1595 - val_accuracy: 0.5330\n",
      "Epoch 4/5\n",
      "89/89 [==============================] - 27s 309ms/step - loss: 1.1533 - accuracy: 0.5363 - val_loss: 1.1438 - val_accuracy: 0.5330\n",
      "Epoch 5/5\n",
      "89/89 [==============================] - 26s 293ms/step - loss: 1.1203 - accuracy: 0.5542 - val_loss: 1.0898 - val_accuracy: 0.5584\n",
      "99/99 [==============================] - 4s 43ms/step - loss: 1.1334 - accuracy: 0.5462\n",
      "Accuracy: 0.5462344884872437\n"
     ]
    },
    {
     "ename": "NameError",
     "evalue": "name 'list_result' is not defined",
     "output_type": "error",
     "traceback": [
      "\u001b[0;31m---------------------------------------------------------------------------\u001b[0m",
      "\u001b[0;31mNameError\u001b[0m                                 Traceback (most recent call last)",
      "\u001b[0;32m<ipython-input-94-89cbfe0edd41>\u001b[0m in \u001b[0;36m<module>\u001b[0;34m\u001b[0m\n\u001b[1;32m      5\u001b[0m \u001b[0mscores\u001b[0m \u001b[0;34m=\u001b[0m \u001b[0mmodel\u001b[0m\u001b[0;34m.\u001b[0m\u001b[0mevaluate\u001b[0m\u001b[0;34m(\u001b[0m\u001b[0mX_test_sequences\u001b[0m\u001b[0;34m,\u001b[0m \u001b[0my_test\u001b[0m\u001b[0;34m,\u001b[0m \u001b[0mverbose\u001b[0m\u001b[0;34m=\u001b[0m\u001b[0;36m1\u001b[0m\u001b[0;34m)\u001b[0m\u001b[0;34m\u001b[0m\u001b[0;34m\u001b[0m\u001b[0m\n\u001b[1;32m      6\u001b[0m \u001b[0mprint\u001b[0m\u001b[0;34m(\u001b[0m\u001b[0;34m\"Accuracy:\"\u001b[0m\u001b[0;34m,\u001b[0m \u001b[0mscores\u001b[0m\u001b[0;34m[\u001b[0m\u001b[0;36m1\u001b[0m\u001b[0;34m]\u001b[0m\u001b[0;34m)\u001b[0m  \u001b[0;31m#\u001b[0m\u001b[0;34m\u001b[0m\u001b[0;34m\u001b[0m\u001b[0m\n\u001b[0;32m----> 7\u001b[0;31m \u001b[0mlist_result\u001b[0m\u001b[0;34m.\u001b[0m\u001b[0mappend\u001b[0m\u001b[0;34m(\u001b[0m\u001b[0;34m(\u001b[0m\u001b[0;34m\"LSTM Simple\"\u001b[0m\u001b[0;34m,\u001b[0m \u001b[0mscores\u001b[0m\u001b[0;34m[\u001b[0m\u001b[0;36m1\u001b[0m\u001b[0;34m]\u001b[0m\u001b[0;34m)\u001b[0m\u001b[0;34m)\u001b[0m\u001b[0;34m\u001b[0m\u001b[0;34m\u001b[0m\u001b[0m\n\u001b[0m",
      "\u001b[0;31mNameError\u001b[0m: name 'list_result' is not defined"
     ]
    }
   ],
   "source": [
    "model.fit(X_train_sequences, y_train, \n",
    "          epochs=5, batch_size=128, verbose=1, \n",
    "          validation_split=0.1)\n",
    " \n",
    "scores = model.evaluate(X_test_sequences, y_test, verbose=1)\n",
    "print(\"Accuracy:\", scores[1])  #\n",
    "list_result.append((\"LSTM Simple\", scores[1]))\n"
   ]
  },
  {
   "cell_type": "code",
   "execution_count": 95,
   "metadata": {},
   "outputs": [
    {
     "data": {
      "text/html": [
       "<div>\n",
       "<style scoped>\n",
       "    .dataframe tbody tr th:only-of-type {\n",
       "        vertical-align: middle;\n",
       "    }\n",
       "\n",
       "    .dataframe tbody tr th {\n",
       "        vertical-align: top;\n",
       "    }\n",
       "\n",
       "    .dataframe thead th {\n",
       "        text-align: right;\n",
       "    }\n",
       "</style>\n",
       "<table border=\"1\" class=\"dataframe\">\n",
       "  <thead>\n",
       "    <tr style=\"text-align: right;\">\n",
       "      <th></th>\n",
       "      <th>model</th>\n",
       "      <th>accuracy</th>\n",
       "    </tr>\n",
       "  </thead>\n",
       "  <tbody>\n",
       "    <tr>\n",
       "      <th>0</th>\n",
       "      <td>Dummy</td>\n",
       "      <td>0.291730</td>\n",
       "    </tr>\n",
       "    <tr>\n",
       "      <th>1</th>\n",
       "      <td>SVM</td>\n",
       "      <td>0.883699</td>\n",
       "    </tr>\n",
       "    <tr>\n",
       "      <th>2</th>\n",
       "      <td>RFC</td>\n",
       "      <td>0.808389</td>\n",
       "    </tr>\n",
       "    <tr>\n",
       "      <th>3</th>\n",
       "      <td>MNB</td>\n",
       "      <td>0.654274</td>\n",
       "    </tr>\n",
       "    <tr>\n",
       "      <th>4</th>\n",
       "      <td>word2vec</td>\n",
       "      <td>0.712742</td>\n",
       "    </tr>\n",
       "    <tr>\n",
       "      <th>5</th>\n",
       "      <td>PAC</td>\n",
       "      <td>0.886876</td>\n",
       "    </tr>\n",
       "    <tr>\n",
       "      <th>6</th>\n",
       "      <td>LSTM-Simple</td>\n",
       "      <td>0.546234</td>\n",
       "    </tr>\n",
       "  </tbody>\n",
       "</table>\n",
       "</div>"
      ],
      "text/plain": [
       "         model  accuracy\n",
       "0        Dummy  0.291730\n",
       "1          SVM  0.883699\n",
       "2          RFC  0.808389\n",
       "3          MNB  0.654274\n",
       "4     word2vec  0.712742\n",
       "5          PAC  0.886876\n",
       "6  LSTM-Simple  0.546234"
      ]
     },
     "execution_count": 95,
     "metadata": {},
     "output_type": "execute_result"
    }
   ],
   "source": [
    "accuracy = scores[1]\n",
    "\n",
    "new_row = {'model': 'LSTM-Simple', 'accuracy': accuracy}\n",
    "results = results.append(new_row, ignore_index=True)\n",
    "results"
   ]
  },
  {
   "cell_type": "markdown",
   "metadata": {},
   "source": [
    "**LSTM with new features**"
   ]
  },
  {
   "cell_type": "code",
   "execution_count": 96,
   "metadata": {},
   "outputs": [
    {
     "name": "stdout",
     "output_type": "stream",
     "text": [
      "Model: \"functional_1\"\n",
      "__________________________________________________________________________________________________\n",
      "Layer (type)                    Output Shape         Param #     Connected to                     \n",
      "==================================================================================================\n",
      "text (InputLayer)               [(None, 60)]         0                                            \n",
      "__________________________________________________________________________________________________\n",
      "embedding_1 (Embedding)         (None, 60, 300)      8068200     text[0][0]                       \n",
      "__________________________________________________________________________________________________\n",
      "lstm_1 (LSTM)                   (None, 300)          721200      embedding_1[0][0]                \n",
      "__________________________________________________________________________________________________\n",
      "meta (InputLayer)               [(None, 2)]          0                                            \n",
      "__________________________________________________________________________________________________\n",
      "concatenate (Concatenate)       (None, 302)          0           lstm_1[0][0]                     \n",
      "                                                                 meta[0][0]                       \n",
      "__________________________________________________________________________________________________\n",
      "dense_1 (Dense)                 (None, 150)          45450       concatenate[0][0]                \n",
      "__________________________________________________________________________________________________\n",
      "dropout (Dropout)               (None, 150)          0           dense_1[0][0]                    \n",
      "__________________________________________________________________________________________________\n",
      "batch_normalization (BatchNorma (None, 150)          600         dropout[0][0]                    \n",
      "__________________________________________________________________________________________________\n",
      "dense_2 (Dense)                 (None, 5)            755         batch_normalization[0][0]        \n",
      "==================================================================================================\n",
      "Total params: 8,836,205\n",
      "Trainable params: 767,705\n",
      "Non-trainable params: 8,068,500\n",
      "__________________________________________________________________________________________________\n",
      "None\n"
     ]
    }
   ],
   "source": [
    "from keras.models import Model\n",
    "from keras.layers import Dense ,LSTM,concatenate,Input,Flatten,BatchNormalization, GRU\n",
    "\n",
    "text_data = Input(shape=(MAX_SEQ_LENGHT,), name='text')\n",
    "meta_data = Input(shape=(2,), name = 'meta')\n",
    "x=(Embedding(len(vectorizer.get_feature_names()) + 1,\n",
    "                    EMBEDDINGS_LEN,  # Embedding size\n",
    "                    weights=[embeddings_index],\n",
    "                    input_length=MAX_SEQ_LENGHT,\n",
    "                    trainable=False))(text_data)\n",
    "x2 = ((LSTM(300, dropout=0.2, recurrent_dropout=0.2)))(x)\n",
    "x4 = concatenate([x2, meta_data])\n",
    "x5 = Dense(150, activation='relu')(x4)\n",
    "x6 = Dropout(0.25)(x5)\n",
    "x7 = BatchNormalization()(x6)\n",
    "out=(Dense(len(set(y)), activation=\"softmax\"))(x7)\n",
    "model = Model(inputs=[text_data, meta_data ], outputs=out)\n",
    "model.compile(loss='categorical_crossentropy', optimizer='adam', metrics=['accuracy'])\n",
    "print(model.summary())"
   ]
  },
  {
   "cell_type": "code",
   "execution_count": 97,
   "metadata": {},
   "outputs": [],
   "source": [
    "df_cat_train = data.iloc[x_train.index][['polarity', 'subjectivity']]\n",
    "df_cat_test = data.iloc[x_test.index][['polarity', 'subjectivity']]"
   ]
  },
  {
   "cell_type": "code",
   "execution_count": 98,
   "metadata": {},
   "outputs": [
    {
     "name": "stdout",
     "output_type": "stream",
     "text": [
      "Epoch 1/12\n",
      "89/89 [==============================] - 34s 378ms/step - loss: 1.3770 - accuracy: 0.4278 - val_loss: 1.5437 - val_accuracy: 0.3638\n",
      "Epoch 2/12\n",
      "89/89 [==============================] - 36s 405ms/step - loss: 1.1988 - accuracy: 0.5087 - val_loss: 1.5006 - val_accuracy: 0.3916\n",
      "Epoch 3/12\n",
      "89/89 [==============================] - 38s 423ms/step - loss: 1.1189 - accuracy: 0.5481 - val_loss: 1.4023 - val_accuracy: 0.4885\n",
      "Epoch 4/12\n",
      "89/89 [==============================] - 43s 480ms/step - loss: 1.0601 - accuracy: 0.5695 - val_loss: 1.2726 - val_accuracy: 0.5353\n",
      "Epoch 5/12\n",
      "89/89 [==============================] - 42s 468ms/step - loss: 1.0138 - accuracy: 0.5947 - val_loss: 1.1843 - val_accuracy: 0.5560\n",
      "Epoch 6/12\n",
      "89/89 [==============================] - 39s 442ms/step - loss: 0.9794 - accuracy: 0.6120 - val_loss: 1.0790 - val_accuracy: 0.5870\n",
      "Epoch 7/12\n",
      "89/89 [==============================] - 39s 438ms/step - loss: 0.9384 - accuracy: 0.6321 - val_loss: 1.0488 - val_accuracy: 0.5743\n",
      "Epoch 8/12\n",
      "89/89 [==============================] - 40s 452ms/step - loss: 0.8892 - accuracy: 0.6511 - val_loss: 0.9935 - val_accuracy: 0.6156\n",
      "Epoch 9/12\n",
      "89/89 [==============================] - 40s 452ms/step - loss: 0.8432 - accuracy: 0.6722 - val_loss: 1.0224 - val_accuracy: 0.6044\n",
      "Epoch 10/12\n",
      "89/89 [==============================] - 39s 435ms/step - loss: 0.8270 - accuracy: 0.6751 - val_loss: 1.0084 - val_accuracy: 0.6156\n",
      "Epoch 11/12\n",
      "89/89 [==============================] - 43s 483ms/step - loss: 0.7729 - accuracy: 0.7046 - val_loss: 0.9618 - val_accuracy: 0.6330\n",
      "Epoch 12/12\n",
      "89/89 [==============================] - 49s 546ms/step - loss: 0.7371 - accuracy: 0.7171 - val_loss: 0.9834 - val_accuracy: 0.6315\n",
      "99/99 [==============================] - 9s 87ms/step - loss: 1.0008 - accuracy: 0.6289\n",
      "Accuracy: 0.628852903842926\n"
     ]
    }
   ],
   "source": [
    "model.fit([X_train_sequences, df_cat_train], y_train, \n",
    "          epochs=12, batch_size=128, verbose=1, \n",
    "          validation_split=0.1)\n",
    " \n",
    "scores = model.evaluate([X_test_sequences, df_cat_test],y_test, verbose=1)\n",
    "print(\"Accuracy:\", scores[1])  "
   ]
  },
  {
   "cell_type": "code",
   "execution_count": 99,
   "metadata": {},
   "outputs": [
    {
     "data": {
      "text/html": [
       "<div>\n",
       "<style scoped>\n",
       "    .dataframe tbody tr th:only-of-type {\n",
       "        vertical-align: middle;\n",
       "    }\n",
       "\n",
       "    .dataframe tbody tr th {\n",
       "        vertical-align: top;\n",
       "    }\n",
       "\n",
       "    .dataframe thead th {\n",
       "        text-align: right;\n",
       "    }\n",
       "</style>\n",
       "<table border=\"1\" class=\"dataframe\">\n",
       "  <thead>\n",
       "    <tr style=\"text-align: right;\">\n",
       "      <th></th>\n",
       "      <th>model</th>\n",
       "      <th>accuracy</th>\n",
       "    </tr>\n",
       "  </thead>\n",
       "  <tbody>\n",
       "    <tr>\n",
       "      <th>0</th>\n",
       "      <td>Dummy</td>\n",
       "      <td>0.291730</td>\n",
       "    </tr>\n",
       "    <tr>\n",
       "      <th>1</th>\n",
       "      <td>SVM</td>\n",
       "      <td>0.883699</td>\n",
       "    </tr>\n",
       "    <tr>\n",
       "      <th>2</th>\n",
       "      <td>RFC</td>\n",
       "      <td>0.808389</td>\n",
       "    </tr>\n",
       "    <tr>\n",
       "      <th>3</th>\n",
       "      <td>MNB</td>\n",
       "      <td>0.654274</td>\n",
       "    </tr>\n",
       "    <tr>\n",
       "      <th>4</th>\n",
       "      <td>word2vec</td>\n",
       "      <td>0.712742</td>\n",
       "    </tr>\n",
       "    <tr>\n",
       "      <th>5</th>\n",
       "      <td>PAC</td>\n",
       "      <td>0.886876</td>\n",
       "    </tr>\n",
       "    <tr>\n",
       "      <th>6</th>\n",
       "      <td>LSTM-Simple</td>\n",
       "      <td>0.546234</td>\n",
       "    </tr>\n",
       "    <tr>\n",
       "      <th>7</th>\n",
       "      <td>LSTM-Advanced</td>\n",
       "      <td>0.628853</td>\n",
       "    </tr>\n",
       "  </tbody>\n",
       "</table>\n",
       "</div>"
      ],
      "text/plain": [
       "           model  accuracy\n",
       "0          Dummy  0.291730\n",
       "1            SVM  0.883699\n",
       "2            RFC  0.808389\n",
       "3            MNB  0.654274\n",
       "4       word2vec  0.712742\n",
       "5            PAC  0.886876\n",
       "6    LSTM-Simple  0.546234\n",
       "7  LSTM-Advanced  0.628853"
      ]
     },
     "execution_count": 99,
     "metadata": {},
     "output_type": "execute_result"
    }
   ],
   "source": [
    "accuracy = scores[1]\n",
    "\n",
    "new_row = {'model': 'LSTM-Advanced', 'accuracy': accuracy}\n",
    "results = results.append(new_row, ignore_index=True)\n",
    "results"
   ]
  },
  {
   "cell_type": "code",
   "execution_count": 102,
   "metadata": {},
   "outputs": [],
   "source": [
    "results = results.sort_values(by='accuracy', ascending=True)\n",
    "results.reset_index(drop=True, inplace=True)"
   ]
  },
  {
   "cell_type": "code",
   "execution_count": 104,
   "metadata": {},
   "outputs": [
    {
     "data": {
      "image/png": "[encoded data removed]",
      "text/plain": [
       "<Figure size 432x288 with 1 Axes>"
      ]
     },
     "metadata": {
      "needs_background": "light"
     },
     "output_type": "display_data"
    }
   ],
   "source": [
    "ax = sns.barplot(x=results.model, y=results.accuracy, data=results)\n",
    "l = ax.set_xticklabels(ax.get_xticklabels(), rotation=60)\n",
    "plt.show()"
   ]
  },
  {
   "cell_type": "code",
   "execution_count": null,
   "metadata": {},
   "outputs": [],
   "source": []
  }
 ],
 "metadata": {
  "kernelspec": {
   "display_name": "Python 3",
   "language": "python",
   "name": "python3"
  },
  "language_info": {
   "codemirror_mode": {
    "name": "ipython",
    "version": 3
   },
   "file_extension": ".py",
   "mimetype": "text/x-python",
   "name": "python",
   "nbconvert_exporter": "python",
   "pygments_lexer": "ipython3",
   "version": "3.8.3"
  }
 },
 "nbformat": 4,
 "nbformat_minor": 4
}
