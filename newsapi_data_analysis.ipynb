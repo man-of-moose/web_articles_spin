{
 "cells": [
  {
   "cell_type": "markdown",
   "metadata": {},
   "source": [
    "# Import Libraries and functions"
   ]
  },
  {
   "cell_type": "code",
   "execution_count": 1,
   "metadata": {},
   "outputs": [
    {
     "name": "stderr",
     "output_type": "stream",
     "text": [
      "[nltk_data] Downloading package stopwords to\n",
      "[nltk_data]     /Users/alecmccabe/nltk_data...\n",
      "[nltk_data]   Package stopwords is already up-to-date!\n",
      "[nltk_data] Downloading package punkt to\n",
      "[nltk_data]     /Users/alecmccabe/nltk_data...\n",
      "[nltk_data]   Package punkt is already up-to-date!\n",
      "[nltk_data] Downloading package wordnet to\n",
      "[nltk_data]     /Users/alecmccabe/nltk_data...\n",
      "[nltk_data]   Package wordnet is already up-to-date!\n"
     ]
    },
    {
     "data": {
      "text/plain": [
       "True"
      ]
     },
     "execution_count": 1,
     "metadata": {},
     "output_type": "execute_result"
    }
   ],
   "source": [
    "# Import some libraries that will be used\n",
    "import pandas as pd\n",
    "import numpy as np\n",
    "import matplotlib.pyplot as plt\n",
    "from matplotlib import cm\n",
    "import seaborn as sns\n",
    "\n",
    "pd.set_option('display.max_columns', 300)\n",
    "\n",
    "%matplotlib inline\n",
    "\n",
    "from sklearn.feature_extraction.text import CountVectorizer, TfidfVectorizer, TfidfTransformer\n",
    "from sklearn.metrics import confusion_matrix, accuracy_score, f1_score\n",
    "from sklearn.naive_bayes import MultinomialNB, GaussianNB\n",
    "from sklearn.model_selection import train_test_split\n",
    "from sklearn.ensemble import RandomForestClassifier\n",
    "from sklearn.pipeline import Pipeline, FeatureUnion\n",
    "from sklearn.svm import LinearSVC, SVC\n",
    "from sklearn.linear_model import SGDClassifier\n",
    "from sklearn.linear_model import LogisticRegressionCV\n",
    "from sklearn.linear_model import PassiveAggressiveClassifier\n",
    "from sklearn.ensemble import BaggingClassifier\n",
    "import xgboost as xgb\n",
    "\n",
    "import nltk\n",
    "from nltk import word_tokenize\n",
    "from nltk.probability import FreqDist\n",
    "from nltk.corpus import stopwords\n",
    "from nltk.stem import PorterStemmer\n",
    "\n",
    "import re\n",
    "import string\n",
    "\n",
    "import scipy\n",
    "from textblob import TextBlob\n",
    "\n",
    "from sklearn.decomposition import TruncatedSVD\n",
    "from sklearn.metrics import classification_report\n",
    "from sklearn.preprocessing import MinMaxScaler\n",
    "\n",
    "nltk.download('stopwords')\n",
    "nltk.download('punkt')\n",
    "nltk.download('wordnet')"
   ]
  },
  {
   "cell_type": "code",
   "execution_count": 2,
   "metadata": {},
   "outputs": [
    {
     "name": "stderr",
     "output_type": "stream",
     "text": [
      "/Users/alecmccabe/opt/anaconda3/lib/python3.8/site-packages/tqdm/std.py:668: FutureWarning: The Panel class is removed from pandas. Accessing it from the top-level namespace will also be removed in the next version\n",
      "  from pandas import Panel\n"
     ]
    }
   ],
   "source": [
    "from tqdm import tqdm\n",
    "tqdm.pandas()"
   ]
  },
  {
   "cell_type": "code",
   "execution_count": 3,
   "metadata": {},
   "outputs": [],
   "source": [
    "import gensim"
   ]
  },
  {
   "cell_type": "code",
   "execution_count": 4,
   "metadata": {},
   "outputs": [],
   "source": [
    "from gensim.models import Word2Vec\n",
    "wv = gensim.models.KeyedVectors.load_word2vec_format(\"/Users/alecmccabe/Desktop/Flatiron/Projects/final_project_ideas/GoogleNews-vectors-negative300.bin.gz\", binary=True)\n",
    "wv.init_sims(replace=True)"
   ]
  },
  {
   "cell_type": "code",
   "execution_count": 5,
   "metadata": {},
   "outputs": [
    {
     "name": "stderr",
     "output_type": "stream",
     "text": [
      "<ipython-input-5-5779fac04ac5>:13: DeprecationWarning: Call to deprecated `syn0` (Attribute will be removed in 4.0.0, use self.vectors instead).\n",
      "  nlp.vocab.vectors = spacy.vocab.Vectors(data=wv.syn0, keys=keys)\n"
     ]
    }
   ],
   "source": [
    "import gensim\n",
    "import spacy\n",
    "\n",
    "nlp = spacy.blank('en')\n",
    "\n",
    "# Loop through range of all indexes, get words associated with each index.\n",
    "# The words in the keys list will correspond to the order of the google embed matrix\n",
    "keys = []\n",
    "for idx in range(3000000):\n",
    "    keys.append(wv.index2word[idx])\n",
    "\n",
    "# Set the vectors for our nlp object to the google news vectors\n",
    "nlp.vocab.vectors = spacy.vocab.Vectors(data=wv.syn0, keys=keys)"
   ]
  },
  {
   "cell_type": "code",
   "execution_count": 6,
   "metadata": {},
   "outputs": [],
   "source": [
    "from nltk.stem import WordNetLemmatizer \n",
    "  \n",
    "lemmatizer = WordNetLemmatizer()"
   ]
  },
  {
   "cell_type": "code",
   "execution_count": 7,
   "metadata": {},
   "outputs": [],
   "source": [
    "#set stopwords and punctuations\n",
    "stopwords = stopwords.words('english')\n",
    "stopwords += list(string.punctuation)\n",
    "stopwords += [\"n't\", \"' '\", \"'re'\",\"”\",\"``\",\"“\",\"''\",\"’\",\"'s\",\"'re\",\"http\",\"https\",\"char\",\n",
    "              \"reuters\",\"wall\",\"street\",\"journal\",\"photo\",\"vice\",\"news\",\"like\",\"time\",\"make\"]"
   ]
  },
  {
   "cell_type": "code",
   "execution_count": 8,
   "metadata": {},
   "outputs": [],
   "source": [
    "def black_txt(token):\n",
    "    return  token not in stopwords and token not in list(string.punctuation)  and len(token)>3\n",
    "\n",
    "def clean_txt(text, string = True):\n",
    "    clean_text = []\n",
    "    clean_text2 = []\n",
    "    text = text.lower()\n",
    "    text = re.sub(\"'\", \"\",text)\n",
    "    text = re.sub(\"\\n\", \"\",text)\n",
    "    text = re.sub(\"(\\\\d|\\\\W)+\",\" \",text)\n",
    "    text = re.sub('time magazine','',text)\n",
    "    text = re.sub('breitbart','',text)\n",
    "    text = re.sub('click','',text)\n",
    "    \n",
    "    clean_text = [ lemmatizer.lemmatize(word, pos=\"v\") for word in word_tokenize(text) if black_txt(word)]\n",
    "    clean_text2 = [word for word in clean_text if black_txt(word)]\n",
    "    \n",
    "    if string == True:\n",
    "        return \" \".join(clean_text2)\n",
    "    else:\n",
    "        return clean_text2"
   ]
  },
  {
   "cell_type": "markdown",
   "metadata": {},
   "source": [
    "# Load data"
   ]
  },
  {
   "cell_type": "code",
   "execution_count": 98,
   "metadata": {},
   "outputs": [],
   "source": [
    "#load in data\n",
    "data = pd.read_csv('clean_data2.csv', index_col = 0)"
   ]
  },
  {
   "cell_type": "code",
   "execution_count": 99,
   "metadata": {},
   "outputs": [],
   "source": [
    "scaler = MinMaxScaler()\n",
    "data[['polarity','mccphw','mscphw','coleman_index']] = scaler.fit_transform(data[['polarity','mccphw','mscphw','coleman_index']])\n"
   ]
  },
  {
   "cell_type": "code",
   "execution_count": 100,
   "metadata": {},
   "outputs": [],
   "source": [
    "import pickle\n",
    "# Save\n",
    "with open('normalizer.pickle', 'wb') as f:\n",
    "    pickle.dump(scaler, f)"
   ]
  },
  {
   "cell_type": "code",
   "execution_count": 101,
   "metadata": {},
   "outputs": [],
   "source": [
    "data = pd.get_dummies(data,prefix='topic',columns=['dominant_topic'])"
   ]
  },
  {
   "cell_type": "markdown",
   "metadata": {},
   "source": [
    "# Build Class Transformers, Pipeline"
   ]
  },
  {
   "cell_type": "code",
   "execution_count": 102,
   "metadata": {},
   "outputs": [],
   "source": [
    "from sklearn.base import BaseEstimator, TransformerMixin\n",
    "from sklearn.pipeline import FeatureUnion\n",
    "from sklearn.feature_extraction import DictVectorizer"
   ]
  },
  {
   "cell_type": "code",
   "execution_count": 103,
   "metadata": {},
   "outputs": [],
   "source": [
    "from sklearn.base import BaseEstimator, TransformerMixin\n",
    "from sklearn.pipeline import FeatureUnion\n",
    "from sklearn.feature_extraction import DictVectorizer\n",
    "class ItemSelector(BaseEstimator, TransformerMixin):\n",
    "    def __init__(self, key):\n",
    "        self.key = key\n",
    "\n",
    "    def fit(self, x, y=None):\n",
    "        return self\n",
    "\n",
    "    def transform(self, data_dict):\n",
    "        return data_dict[self.key]\n",
    "\n",
    "    \n",
    "class TextStats(BaseEstimator, TransformerMixin):\n",
    "    \"\"\"Extract features from each document for DictVectorizer\"\"\"\n",
    "\n",
    "    def fit(self, x, y=None):\n",
    "        return self\n",
    "\n",
    "    def transform(self, data):\n",
    "        return [{'pol':  row['polarity'], \n",
    "                 'sub': row['subjectivity'],\n",
    "                 'n_long_words': row['n_long_words'], \n",
    "                 'n_monosyllable_words': row['n_monosyllable_words'], \n",
    "                 'n_polysyllable_words': row['n_polysyllable_words'], \n",
    "                 'n_unique_words': row['n_unique_words'],\n",
    "                 'coleman_index': row['coleman_index'], \n",
    "                 'mccphw': row['mccphw'],\n",
    "                 'mscphw': row['mscphw'],\n",
    "                 'profanity': row['profanity']} for _, row in data.iterrows()]"
   ]
  },
  {
   "cell_type": "code",
   "execution_count": 104,
   "metadata": {},
   "outputs": [],
   "source": [
    "pipeline = Pipeline([\n",
    "    ('union', FeatureUnion(\n",
    "        transformer_list=[\n",
    "\n",
    "            # Pipeline for pulling features from the text\n",
    "            ('text', Pipeline([\n",
    "                ('selector', ItemSelector(key='predictor')),\n",
    "                ('tfidf', TfidfVectorizer( min_df =3, max_df=0.2, max_features=None, \n",
    "                    strip_accents='unicode', analyzer='word',token_pattern=r'\\w{1,}',\n",
    "                    ngram_range=(1, 3), use_idf=1,smooth_idf=1,sublinear_tf=1,\n",
    "                    stop_words = None, preprocessor=clean_txt)),\n",
    "            ])),\n",
    "\n",
    "            # Pipeline for pulling metadata features\n",
    "            ('stats', Pipeline([\n",
    "                ('selector', ItemSelector(key=['polarity', \n",
    "                                               'subjectivity', \n",
    "                                              'n_long_words',\n",
    "                                              'n_monosyllable_words',\n",
    "                                              'n_polysyllable_words',\n",
    "                                              'n_unique_words',\n",
    "                                               'coleman_index',\n",
    "                                               'mccphw',\n",
    "                                               'mscphw',\n",
    "                                               'profanity'])),\n",
    "                ('stats', TextStats()),  # returns a list of dicts\n",
    "                ('vect', DictVectorizer()),  # list of dicts -> feature matrix\n",
    "            ])),\n",
    "\n",
    "        ],\n",
    "\n",
    "        # weight components in FeatureUnion\n",
    "        transformer_weights={\n",
    "            'text': .5,\n",
    "            'stats': 2,\n",
    "        },\n",
    "    ))\n",
    "])"
   ]
  },
  {
   "cell_type": "code",
   "execution_count": 105,
   "metadata": {},
   "outputs": [],
   "source": [
    "from sklearn.preprocessing import LabelEncoder\n",
    "from sklearn.model_selection import train_test_split\n",
    "seed = 40\n",
    "X = data[['predictor', 'polarity', 'subjectivity','n_long_words','n_monosyllable_words',\n",
    "         'n_polysyllable_words','n_unique_words','coleman_index','mccphw','mscphw','profanity']]\n",
    "\n",
    "y = data['target']\n",
    "# encoder = LabelEncoder()\n",
    "# y = encoder.fit_transform(y)\n",
    "x_train, x_test, y_train, y_test = train_test_split(X, y, test_size=0.2, random_state=seed, stratify=y)"
   ]
  },
  {
   "cell_type": "code",
   "execution_count": 106,
   "metadata": {},
   "outputs": [
    {
     "data": {
      "text/plain": [
       "Pipeline(steps=[('union',\n",
       "                 FeatureUnion(transformer_list=[('text',\n",
       "                                                 Pipeline(steps=[('selector',\n",
       "                                                                  ItemSelector(key='predictor')),\n",
       "                                                                 ('tfidf',\n",
       "                                                                  TfidfVectorizer(max_df=0.2,\n",
       "                                                                                  min_df=3,\n",
       "                                                                                  ngram_range=(1,\n",
       "                                                                                               3),\n",
       "                                                                                  preprocessor=<function clean_txt at 0x27e983040>,\n",
       "                                                                                  smooth_idf=1,\n",
       "                                                                                  strip_accents='unicode',\n",
       "                                                                                  sublinear_tf=1,\n",
       "                                                                                  token_pattern='\\\\w{1,}',\n",
       "                                                                                  use_idf=1))])),\n",
       "                                                ('stats',\n",
       "                                                 Pipeline(steps=[('selector',\n",
       "                                                                  ItemSelector(key=['polarity',\n",
       "                                                                                    'subjectivity',\n",
       "                                                                                    'n_long_words',\n",
       "                                                                                    'n_monosyllable_words',\n",
       "                                                                                    'n_polysyllable_words',\n",
       "                                                                                    'n_unique_words',\n",
       "                                                                                    'coleman_index',\n",
       "                                                                                    'mccphw',\n",
       "                                                                                    'mscphw',\n",
       "                                                                                    'profanity'])),\n",
       "                                                                 ('stats',\n",
       "                                                                  TextStats()),\n",
       "                                                                 ('vect',\n",
       "                                                                  DictVectorizer())]))],\n",
       "                              transformer_weights={'stats': 2, 'text': 0.5}))])"
      ]
     },
     "execution_count": 106,
     "metadata": {},
     "output_type": "execute_result"
    }
   ],
   "source": [
    "pipeline.fit(x_train)"
   ]
  },
  {
   "cell_type": "code",
   "execution_count": 18,
   "metadata": {},
   "outputs": [],
   "source": [
    "import pickle\n",
    "with open('pipeline.pickle', 'wb') as f:\n",
    "    pickle.dump(pipeline, f)"
   ]
  },
  {
   "cell_type": "code",
   "execution_count": 107,
   "metadata": {
    "scrolled": true
   },
   "outputs": [
    {
     "name": "stdout",
     "output_type": "stream",
     "text": [
      "Checking that the number of features in train and test correspond: (12716, 427106) - (3179, 427106)\n",
      "CPU times: user 1min 34s, sys: 340 ms, total: 1min 34s\n",
      "Wall time: 1min 35s\n"
     ]
    }
   ],
   "source": [
    "%%time\n",
    "train_vec = pipeline.transform(x_train)\n",
    "test_vec = pipeline.transform(x_test)\n",
    "print(\"Checking that the number of features in train and test correspond: %s - %s\" % (train_vec.shape, test_vec.shape))"
   ]
  },
  {
   "cell_type": "markdown",
   "metadata": {},
   "source": [
    "# tSNE Analysis"
   ]
  },
  {
   "cell_type": "code",
   "execution_count": 20,
   "metadata": {},
   "outputs": [],
   "source": [
    "from sklearn.manifold import TSNE"
   ]
  },
  {
   "cell_type": "code",
   "execution_count": 21,
   "metadata": {},
   "outputs": [
    {
     "name": "stdout",
     "output_type": "stream",
     "text": [
      "[t-SNE] Computing 121 nearest neighbors...\n",
      "[t-SNE] Indexed 12716 samples in 0.031s...\n",
      "[t-SNE] Computed neighbors for 12716 samples in 14.332s...\n",
      "[t-SNE] Computed conditional probabilities for sample 1000 / 12716\n",
      "[t-SNE] Computed conditional probabilities for sample 2000 / 12716\n",
      "[t-SNE] Computed conditional probabilities for sample 3000 / 12716\n",
      "[t-SNE] Computed conditional probabilities for sample 4000 / 12716\n",
      "[t-SNE] Computed conditional probabilities for sample 5000 / 12716\n",
      "[t-SNE] Computed conditional probabilities for sample 6000 / 12716\n",
      "[t-SNE] Computed conditional probabilities for sample 7000 / 12716\n",
      "[t-SNE] Computed conditional probabilities for sample 8000 / 12716\n",
      "[t-SNE] Computed conditional probabilities for sample 9000 / 12716\n",
      "[t-SNE] Computed conditional probabilities for sample 10000 / 12716\n",
      "[t-SNE] Computed conditional probabilities for sample 11000 / 12716\n",
      "[t-SNE] Computed conditional probabilities for sample 12000 / 12716\n",
      "[t-SNE] Computed conditional probabilities for sample 12716 / 12716\n",
      "[t-SNE] Mean sigma: 0.491096\n",
      "[t-SNE] KL divergence after 250 iterations with early exaggeration: 96.667419\n",
      "[t-SNE] KL divergence after 300 iterations: 3.715422\n"
     ]
    }
   ],
   "source": [
    "tsne = TSNE(n_components=3, verbose=1, perplexity=40, n_iter=300)\n",
    "tsne_results = tsne.fit_transform(train_vec)"
   ]
  },
  {
   "cell_type": "code",
   "execution_count": 22,
   "metadata": {},
   "outputs": [],
   "source": [
    "placeholder = {}\n",
    "placeholder['one'] = tsne_results[:,0]\n",
    "placeholder['two'] = tsne_results[:,1]\n",
    "placeholder['three'] = tsne_results[:,2]\n",
    "placeholder_df = pd.DataFrame(placeholder)"
   ]
  },
  {
   "cell_type": "code",
   "execution_count": 23,
   "metadata": {
    "scrolled": true
   },
   "outputs": [
    {
     "data": {
      "image/png": "[encoded data removed]",
      "text/plain": [
       "<Figure size 720x360 with 1 Axes>"
      ]
     },
     "metadata": {
      "needs_background": "light"
     },
     "output_type": "display_data"
    }
   ],
   "source": [
    "plt.figure(figsize=(10,5))\n",
    "sns.scatterplot(\n",
    "    x=\"one\", y=\"two\",\n",
    "    hue=y_train,\n",
    "    palette=sns.color_palette(\"hls\", 5),\n",
    "    data=placeholder_df,\n",
    "    legend=\"full\")\n",
    "\n",
    "plt.savefig('/Users/alecmccabe/Desktop/Flatiron/Projects/final_project_ideas/web_articles_spin/Pics/tSNE.png')\n",
    "plt.show()"
   ]
  },
  {
   "cell_type": "markdown",
   "metadata": {},
   "source": [
    "# Test different models"
   ]
  },
  {
   "cell_type": "code",
   "execution_count": 24,
   "metadata": {},
   "outputs": [],
   "source": [
    "from sklearn.metrics import plot_confusion_matrix"
   ]
  },
  {
   "cell_type": "code",
   "execution_count": 25,
   "metadata": {},
   "outputs": [
    {
     "data": {
      "text/html": [
       "<div>\n",
       "<style scoped>\n",
       "    .dataframe tbody tr th:only-of-type {\n",
       "        vertical-align: middle;\n",
       "    }\n",
       "\n",
       "    .dataframe tbody tr th {\n",
       "        vertical-align: top;\n",
       "    }\n",
       "\n",
       "    .dataframe thead th {\n",
       "        text-align: right;\n",
       "    }\n",
       "</style>\n",
       "<table border=\"1\" class=\"dataframe\">\n",
       "  <thead>\n",
       "    <tr style=\"text-align: right;\">\n",
       "      <th></th>\n",
       "      <th>model</th>\n",
       "      <th>accuracy</th>\n",
       "    </tr>\n",
       "  </thead>\n",
       "  <tbody>\n",
       "  </tbody>\n",
       "</table>\n",
       "</div>"
      ],
      "text/plain": [
       "Empty DataFrame\n",
       "Columns: [model, accuracy]\n",
       "Index: []"
      ]
     },
     "execution_count": 25,
     "metadata": {},
     "output_type": "execute_result"
    }
   ],
   "source": [
    "results = pd.DataFrame(columns = ['model','accuracy'])\n",
    "results"
   ]
  },
  {
   "cell_type": "code",
   "execution_count": 26,
   "metadata": {},
   "outputs": [
    {
     "data": {
      "text/html": [
       "<div>\n",
       "<style scoped>\n",
       "    .dataframe tbody tr th:only-of-type {\n",
       "        vertical-align: middle;\n",
       "    }\n",
       "\n",
       "    .dataframe tbody tr th {\n",
       "        vertical-align: top;\n",
       "    }\n",
       "\n",
       "    .dataframe thead th {\n",
       "        text-align: right;\n",
       "    }\n",
       "</style>\n",
       "<table border=\"1\" class=\"dataframe\">\n",
       "  <thead>\n",
       "    <tr style=\"text-align: right;\">\n",
       "      <th></th>\n",
       "      <th>model</th>\n",
       "      <th>accuracy</th>\n",
       "    </tr>\n",
       "  </thead>\n",
       "  <tbody>\n",
       "    <tr>\n",
       "      <th>0</th>\n",
       "      <td>Dummy</td>\n",
       "      <td>0.291961</td>\n",
       "    </tr>\n",
       "  </tbody>\n",
       "</table>\n",
       "</div>"
      ],
      "text/plain": [
       "   model  accuracy\n",
       "0  Dummy  0.291961"
      ]
     },
     "execution_count": 26,
     "metadata": {},
     "output_type": "execute_result"
    }
   ],
   "source": [
    "new_row = {'model': 'Dummy', 'accuracy': .291961}\n",
    "results = results.append(new_row, ignore_index=True)\n",
    "results"
   ]
  },
  {
   "cell_type": "markdown",
   "metadata": {},
   "source": [
    "------------"
   ]
  },
  {
   "cell_type": "code",
   "execution_count": 27,
   "metadata": {},
   "outputs": [],
   "source": [
    "from sklearn.calibration import CalibratedClassifierCV"
   ]
  },
  {
   "cell_type": "code",
   "execution_count": 28,
   "metadata": {},
   "outputs": [
    {
     "name": "stdout",
     "output_type": "stream",
     "text": [
      "[LibLinear][LibLinear][LibLinear][LibLinear][LibLinear]"
     ]
    },
    {
     "data": {
      "text/html": [
       "<div>\n",
       "<style scoped>\n",
       "    .dataframe tbody tr th:only-of-type {\n",
       "        vertical-align: middle;\n",
       "    }\n",
       "\n",
       "    .dataframe tbody tr th {\n",
       "        vertical-align: top;\n",
       "    }\n",
       "\n",
       "    .dataframe thead th {\n",
       "        text-align: right;\n",
       "    }\n",
       "</style>\n",
       "<table border=\"1\" class=\"dataframe\">\n",
       "  <thead>\n",
       "    <tr style=\"text-align: right;\">\n",
       "      <th></th>\n",
       "      <th>model</th>\n",
       "      <th>accuracy</th>\n",
       "    </tr>\n",
       "  </thead>\n",
       "  <tbody>\n",
       "    <tr>\n",
       "      <th>0</th>\n",
       "      <td>Dummy</td>\n",
       "      <td>0.291961</td>\n",
       "    </tr>\n",
       "    <tr>\n",
       "      <th>1</th>\n",
       "      <td>SVM</td>\n",
       "      <td>0.892104</td>\n",
       "    </tr>\n",
       "  </tbody>\n",
       "</table>\n",
       "</div>"
      ],
      "text/plain": [
       "   model  accuracy\n",
       "0  Dummy  0.291961\n",
       "1    SVM  0.892104"
      ]
     },
     "execution_count": 28,
     "metadata": {},
     "output_type": "execute_result"
    }
   ],
   "source": [
    "#Linear Support Vector Machines\n",
    "lin_svc = LinearSVC(C=1, class_weight='balanced', multi_class='ovr', random_state=40,verbose=3) \n",
    "svc_cal = CalibratedClassifierCV(lin_svc) \n",
    "\n",
    "svc_cal.fit(train_vec, y_train)\n",
    "test_preds = svc_cal.predict(test_vec)\n",
    "\n",
    "accuracy = accuracy_score(y_test, test_preds)\n",
    "\n",
    "new_row = {'model': 'SVM', 'accuracy': accuracy}\n",
    "results = results.append(new_row, ignore_index=True)\n",
    "results"
   ]
  },
  {
   "cell_type": "code",
   "execution_count": 29,
   "metadata": {},
   "outputs": [
    {
     "data": {
      "image/png": "[encoded data removed]",
      "text/plain": [
       "<Figure size 432x288 with 2 Axes>"
      ]
     },
     "metadata": {
      "needs_background": "light"
     },
     "output_type": "display_data"
    }
   ],
   "source": [
    "plot_confusion_matrix(svc_cal,test_vec,y_test, labels=['far_left','left','center','right','far_right'])\n",
    "plt.savefig('/Users/alecmccabe/Desktop/Flatiron/Projects/final_project_ideas/web_articles_spin/Pics/svm_confusion.png')\n"
   ]
  },
  {
   "cell_type": "code",
   "execution_count": 30,
   "metadata": {},
   "outputs": [],
   "source": [
    "with open('model.pickle', 'wb') as f:\n",
    "    pickle.dump(svc_cal, f)"
   ]
  },
  {
   "cell_type": "markdown",
   "metadata": {},
   "source": [
    "------------"
   ]
  },
  {
   "cell_type": "code",
   "execution_count": 31,
   "metadata": {},
   "outputs": [
    {
     "name": "stderr",
     "output_type": "stream",
     "text": [
      "[Parallel(n_jobs=-1)]: Using backend ThreadingBackend with 8 concurrent workers.\n",
      "[Parallel(n_jobs=-1)]: Done  34 tasks      | elapsed:    5.2s\n",
      "[Parallel(n_jobs=-1)]: Done 184 tasks      | elapsed:   24.1s\n",
      "[Parallel(n_jobs=-1)]: Done 200 out of 200 | elapsed:   26.0s finished\n",
      "[Parallel(n_jobs=8)]: Using backend ThreadingBackend with 8 concurrent workers.\n",
      "[Parallel(n_jobs=8)]: Done  34 tasks      | elapsed:    0.1s\n",
      "[Parallel(n_jobs=8)]: Done 184 tasks      | elapsed:    0.6s\n",
      "[Parallel(n_jobs=8)]: Done 200 out of 200 | elapsed:    0.6s finished\n"
     ]
    },
    {
     "data": {
      "text/html": [
       "<div>\n",
       "<style scoped>\n",
       "    .dataframe tbody tr th:only-of-type {\n",
       "        vertical-align: middle;\n",
       "    }\n",
       "\n",
       "    .dataframe tbody tr th {\n",
       "        vertical-align: top;\n",
       "    }\n",
       "\n",
       "    .dataframe thead th {\n",
       "        text-align: right;\n",
       "    }\n",
       "</style>\n",
       "<table border=\"1\" class=\"dataframe\">\n",
       "  <thead>\n",
       "    <tr style=\"text-align: right;\">\n",
       "      <th></th>\n",
       "      <th>model</th>\n",
       "      <th>accuracy</th>\n",
       "    </tr>\n",
       "  </thead>\n",
       "  <tbody>\n",
       "    <tr>\n",
       "      <th>0</th>\n",
       "      <td>Dummy</td>\n",
       "      <td>0.291961</td>\n",
       "    </tr>\n",
       "    <tr>\n",
       "      <th>1</th>\n",
       "      <td>SVM</td>\n",
       "      <td>0.892104</td>\n",
       "    </tr>\n",
       "    <tr>\n",
       "      <th>2</th>\n",
       "      <td>RFC</td>\n",
       "      <td>0.829192</td>\n",
       "    </tr>\n",
       "  </tbody>\n",
       "</table>\n",
       "</div>"
      ],
      "text/plain": [
       "   model  accuracy\n",
       "0  Dummy  0.291961\n",
       "1    SVM  0.892104\n",
       "2    RFC  0.829192"
      ]
     },
     "execution_count": 31,
     "metadata": {},
     "output_type": "execute_result"
    }
   ],
   "source": [
    "#Random Forest - best so far is 500 trees with sqrt max features\n",
    "rfc_clf = RandomForestClassifier(n_estimators=200,max_features='sqrt',random_state=0,n_jobs=-1,verbose=1)\n",
    "rfc_clf.fit(train_vec, y_train)\n",
    "test_preds = rfc_clf.predict(test_vec)\n",
    "\n",
    "accuracy = accuracy_score(y_test, test_preds)\n",
    "\n",
    "new_row = {'model': 'RFC', 'accuracy': accuracy}\n",
    "results = results.append(new_row, ignore_index=True)\n",
    "results"
   ]
  },
  {
   "cell_type": "code",
   "execution_count": 32,
   "metadata": {},
   "outputs": [
    {
     "name": "stderr",
     "output_type": "stream",
     "text": [
      "[Parallel(n_jobs=8)]: Using backend ThreadingBackend with 8 concurrent workers.\n",
      "[Parallel(n_jobs=8)]: Done  34 tasks      | elapsed:    0.1s\n",
      "[Parallel(n_jobs=8)]: Done 184 tasks      | elapsed:    0.6s\n",
      "[Parallel(n_jobs=8)]: Done 200 out of 200 | elapsed:    0.6s finished\n"
     ]
    },
    {
     "data": {
      "text/plain": [
       "<sklearn.metrics._plot.confusion_matrix.ConfusionMatrixDisplay at 0x2b3151af0>"
      ]
     },
     "execution_count": 32,
     "metadata": {},
     "output_type": "execute_result"
    },
    {
     "data": {
      "image/png": "[encoded data removed]",
      "text/plain": [
       "<Figure size 432x288 with 2 Axes>"
      ]
     },
     "metadata": {
      "needs_background": "light"
     },
     "output_type": "display_data"
    }
   ],
   "source": [
    "plot_confusion_matrix(rfc_clf,test_vec,y_test, labels=['far_left','left','center','right','far_right'])"
   ]
  },
  {
   "cell_type": "markdown",
   "metadata": {},
   "source": [
    "------------"
   ]
  },
  {
   "cell_type": "code",
   "execution_count": 33,
   "metadata": {},
   "outputs": [
    {
     "data": {
      "text/html": [
       "<div>\n",
       "<style scoped>\n",
       "    .dataframe tbody tr th:only-of-type {\n",
       "        vertical-align: middle;\n",
       "    }\n",
       "\n",
       "    .dataframe tbody tr th {\n",
       "        vertical-align: top;\n",
       "    }\n",
       "\n",
       "    .dataframe thead th {\n",
       "        text-align: right;\n",
       "    }\n",
       "</style>\n",
       "<table border=\"1\" class=\"dataframe\">\n",
       "  <thead>\n",
       "    <tr style=\"text-align: right;\">\n",
       "      <th></th>\n",
       "      <th>model</th>\n",
       "      <th>accuracy</th>\n",
       "    </tr>\n",
       "  </thead>\n",
       "  <tbody>\n",
       "    <tr>\n",
       "      <th>0</th>\n",
       "      <td>Dummy</td>\n",
       "      <td>0.291961</td>\n",
       "    </tr>\n",
       "    <tr>\n",
       "      <th>1</th>\n",
       "      <td>SVM</td>\n",
       "      <td>0.892104</td>\n",
       "    </tr>\n",
       "    <tr>\n",
       "      <th>2</th>\n",
       "      <td>RFC</td>\n",
       "      <td>0.829192</td>\n",
       "    </tr>\n",
       "    <tr>\n",
       "      <th>3</th>\n",
       "      <td>MNB</td>\n",
       "      <td>0.772570</td>\n",
       "    </tr>\n",
       "  </tbody>\n",
       "</table>\n",
       "</div>"
      ],
      "text/plain": [
       "   model  accuracy\n",
       "0  Dummy  0.291961\n",
       "1    SVM  0.892104\n",
       "2    RFC  0.829192\n",
       "3    MNB  0.772570"
      ]
     },
     "execution_count": 33,
     "metadata": {},
     "output_type": "execute_result"
    }
   ],
   "source": [
    "#Multinomial Bayes\n",
    "mnb_lemma = MultinomialNB(alpha = 0.0000001)\n",
    "mnb_lemma.fit(train_vec, y_train)\n",
    "test_preds = mnb_lemma.predict(test_vec)\n",
    "\n",
    "accuracy = accuracy_score(y_test, test_preds)\n",
    "\n",
    "new_row = {'model': 'MNB', 'accuracy': accuracy}\n",
    "results = results.append(new_row, ignore_index=True)\n",
    "results"
   ]
  },
  {
   "cell_type": "code",
   "execution_count": 34,
   "metadata": {},
   "outputs": [
    {
     "data": {
      "text/plain": [
       "<sklearn.metrics._plot.confusion_matrix.ConfusionMatrixDisplay at 0x2b7782bb0>"
      ]
     },
     "execution_count": 34,
     "metadata": {},
     "output_type": "execute_result"
    },
    {
     "data": {
      "image/png": "[encoded data removed]",
      "text/plain": [
       "<Figure size 432x288 with 2 Axes>"
      ]
     },
     "metadata": {
      "needs_background": "light"
     },
     "output_type": "display_data"
    }
   ],
   "source": [
    "plot_confusion_matrix(mnb_lemma,test_vec,y_test, labels=['far_left','left','center','right','far_right'])"
   ]
  },
  {
   "cell_type": "markdown",
   "metadata": {},
   "source": [
    "----------"
   ]
  },
  {
   "cell_type": "code",
   "execution_count": 35,
   "metadata": {},
   "outputs": [
    {
     "data": {
      "text/html": [
       "<div>\n",
       "<style scoped>\n",
       "    .dataframe tbody tr th:only-of-type {\n",
       "        vertical-align: middle;\n",
       "    }\n",
       "\n",
       "    .dataframe tbody tr th {\n",
       "        vertical-align: top;\n",
       "    }\n",
       "\n",
       "    .dataframe thead th {\n",
       "        text-align: right;\n",
       "    }\n",
       "</style>\n",
       "<table border=\"1\" class=\"dataframe\">\n",
       "  <thead>\n",
       "    <tr style=\"text-align: right;\">\n",
       "      <th></th>\n",
       "      <th>model</th>\n",
       "      <th>accuracy</th>\n",
       "    </tr>\n",
       "  </thead>\n",
       "  <tbody>\n",
       "    <tr>\n",
       "      <th>0</th>\n",
       "      <td>Dummy</td>\n",
       "      <td>0.291961</td>\n",
       "    </tr>\n",
       "    <tr>\n",
       "      <th>1</th>\n",
       "      <td>SVM</td>\n",
       "      <td>0.892104</td>\n",
       "    </tr>\n",
       "    <tr>\n",
       "      <th>2</th>\n",
       "      <td>RFC</td>\n",
       "      <td>0.829192</td>\n",
       "    </tr>\n",
       "    <tr>\n",
       "      <th>3</th>\n",
       "      <td>MNB</td>\n",
       "      <td>0.772570</td>\n",
       "    </tr>\n",
       "    <tr>\n",
       "      <th>4</th>\n",
       "      <td>PAC</td>\n",
       "      <td>0.892734</td>\n",
       "    </tr>\n",
       "  </tbody>\n",
       "</table>\n",
       "</div>"
      ],
      "text/plain": [
       "   model  accuracy\n",
       "0  Dummy  0.291961\n",
       "1    SVM  0.892104\n",
       "2    RFC  0.829192\n",
       "3    MNB  0.772570\n",
       "4    PAC  0.892734"
      ]
     },
     "execution_count": 35,
     "metadata": {},
     "output_type": "execute_result"
    }
   ],
   "source": [
    "#Passive Aggressive Classifier\n",
    "pac = PassiveAggressiveClassifier(C = 5, random_state=0, n_jobs=-1)\n",
    "\n",
    "pac.fit(train_vec, y_train)\n",
    "test_preds = pac.predict(test_vec)\n",
    "\n",
    "accuracy = accuracy_score(y_test, test_preds)\n",
    "\n",
    "new_row = {'model': 'PAC', 'accuracy': accuracy}\n",
    "results = results.append(new_row, ignore_index=True)\n",
    "results"
   ]
  },
  {
   "cell_type": "code",
   "execution_count": 36,
   "metadata": {},
   "outputs": [
    {
     "data": {
      "text/plain": [
       "<sklearn.metrics._plot.confusion_matrix.ConfusionMatrixDisplay at 0x2a345e640>"
      ]
     },
     "execution_count": 36,
     "metadata": {},
     "output_type": "execute_result"
    },
    {
     "data": {
      "image/png": "[encoded data removed]",
      "text/plain": [
       "<Figure size 432x288 with 2 Axes>"
      ]
     },
     "metadata": {
      "needs_background": "light"
     },
     "output_type": "display_data"
    }
   ],
   "source": [
    "plot_confusion_matrix(pac,test_vec,y_test,labels=['far_left','left','center','right','far_right'])"
   ]
  },
  {
   "cell_type": "markdown",
   "metadata": {},
   "source": [
    "-----"
   ]
  },
  {
   "cell_type": "code",
   "execution_count": 37,
   "metadata": {
    "scrolled": true
   },
   "outputs": [
    {
     "name": "stdout",
     "output_type": "stream",
     "text": [
      "[LibLinear][LibLinear][LibLinear][LibLinear][LibLinear][LibLinear][LibLinear][LibLinear][LibLinear][LibLinear]"
     ]
    },
    {
     "data": {
      "text/html": [
       "<div>\n",
       "<style scoped>\n",
       "    .dataframe tbody tr th:only-of-type {\n",
       "        vertical-align: middle;\n",
       "    }\n",
       "\n",
       "    .dataframe tbody tr th {\n",
       "        vertical-align: top;\n",
       "    }\n",
       "\n",
       "    .dataframe thead th {\n",
       "        text-align: right;\n",
       "    }\n",
       "</style>\n",
       "<table border=\"1\" class=\"dataframe\">\n",
       "  <thead>\n",
       "    <tr style=\"text-align: right;\">\n",
       "      <th></th>\n",
       "      <th>model</th>\n",
       "      <th>accuracy</th>\n",
       "    </tr>\n",
       "  </thead>\n",
       "  <tbody>\n",
       "    <tr>\n",
       "      <th>0</th>\n",
       "      <td>Dummy</td>\n",
       "      <td>0.291961</td>\n",
       "    </tr>\n",
       "    <tr>\n",
       "      <th>1</th>\n",
       "      <td>SVM</td>\n",
       "      <td>0.892104</td>\n",
       "    </tr>\n",
       "    <tr>\n",
       "      <th>2</th>\n",
       "      <td>RFC</td>\n",
       "      <td>0.829192</td>\n",
       "    </tr>\n",
       "    <tr>\n",
       "      <th>3</th>\n",
       "      <td>MNB</td>\n",
       "      <td>0.772570</td>\n",
       "    </tr>\n",
       "    <tr>\n",
       "      <th>4</th>\n",
       "      <td>PAC</td>\n",
       "      <td>0.892734</td>\n",
       "    </tr>\n",
       "    <tr>\n",
       "      <th>5</th>\n",
       "      <td>Bag</td>\n",
       "      <td>0.878893</td>\n",
       "    </tr>\n",
       "  </tbody>\n",
       "</table>\n",
       "</div>"
      ],
      "text/plain": [
       "   model  accuracy\n",
       "0  Dummy  0.291961\n",
       "1    SVM  0.892104\n",
       "2    RFC  0.829192\n",
       "3    MNB  0.772570\n",
       "4    PAC  0.892734\n",
       "5    Bag  0.878893"
      ]
     },
     "execution_count": 37,
     "metadata": {},
     "output_type": "execute_result"
    }
   ],
   "source": [
    "#bagging classifier\n",
    "bc_lr = BaggingClassifier(\n",
    "            base_estimator=LinearSVC(C=1, class_weight='balanced', multi_class='ovr', random_state=40,verbose=3))\n",
    "\n",
    "bc_lr.fit(train_vec, y_train)\n",
    "test_preds = bc_lr.predict(test_vec)\n",
    "\n",
    "accuracy = accuracy_score(y_test, test_preds)\n",
    "\n",
    "new_row = {'model': 'Bag', 'accuracy': accuracy}\n",
    "results = results.append(new_row, ignore_index=True)\n",
    "results\n"
   ]
  },
  {
   "cell_type": "code",
   "execution_count": 38,
   "metadata": {},
   "outputs": [
    {
     "data": {
      "text/plain": [
       "<sklearn.metrics._plot.confusion_matrix.ConfusionMatrixDisplay at 0x2a34309a0>"
      ]
     },
     "execution_count": 38,
     "metadata": {},
     "output_type": "execute_result"
    },
    {
     "data": {
      "image/png": "[encoded data removed]",
      "text/plain": [
       "<Figure size 432x288 with 2 Axes>"
      ]
     },
     "metadata": {
      "needs_background": "light"
     },
     "output_type": "display_data"
    }
   ],
   "source": [
    "plot_confusion_matrix(bc_lr,test_vec,y_test,labels=['far_left','left','center','right','far_right'])"
   ]
  },
  {
   "cell_type": "markdown",
   "metadata": {},
   "source": [
    "-----"
   ]
  },
  {
   "cell_type": "code",
   "execution_count": 108,
   "metadata": {},
   "outputs": [],
   "source": [
    "#XGBoost\n",
    "xg_clf = xgb.XGBClassifier(objective ='multi:softmax', \n",
    "                           booster='gbtree',\n",
    "                           colsample_bytree = .1,\n",
    "                           random_state=0,\n",
    "                          n_estimators=1000,\n",
    "                          n_jobs=-1)\n",
    "\n",
    "xg_clf.fit(train_vec, y_train)\n",
    "test_preds = xg_clf.predict(test_vec)\n",
    "\n",
    "accuracy = accuracy_score(y_test, test_preds)"
   ]
  },
  {
   "cell_type": "code",
   "execution_count": 109,
   "metadata": {},
   "outputs": [
    {
     "data": {
      "text/plain": [
       "0.897137464611513"
      ]
     },
     "execution_count": 109,
     "metadata": {},
     "output_type": "execute_result"
    }
   ],
   "source": [
    "accuracy"
   ]
  },
  {
   "cell_type": "code",
   "execution_count": 41,
   "metadata": {
    "scrolled": false
   },
   "outputs": [
    {
     "data": {
      "text/html": [
       "<div>\n",
       "<style scoped>\n",
       "    .dataframe tbody tr th:only-of-type {\n",
       "        vertical-align: middle;\n",
       "    }\n",
       "\n",
       "    .dataframe tbody tr th {\n",
       "        vertical-align: top;\n",
       "    }\n",
       "\n",
       "    .dataframe thead th {\n",
       "        text-align: right;\n",
       "    }\n",
       "</style>\n",
       "<table border=\"1\" class=\"dataframe\">\n",
       "  <thead>\n",
       "    <tr style=\"text-align: right;\">\n",
       "      <th></th>\n",
       "      <th>model</th>\n",
       "      <th>accuracy</th>\n",
       "    </tr>\n",
       "  </thead>\n",
       "  <tbody>\n",
       "    <tr>\n",
       "      <th>0</th>\n",
       "      <td>Dummy</td>\n",
       "      <td>0.291961</td>\n",
       "    </tr>\n",
       "    <tr>\n",
       "      <th>1</th>\n",
       "      <td>SVM</td>\n",
       "      <td>0.892104</td>\n",
       "    </tr>\n",
       "    <tr>\n",
       "      <th>2</th>\n",
       "      <td>RFC</td>\n",
       "      <td>0.829192</td>\n",
       "    </tr>\n",
       "    <tr>\n",
       "      <th>3</th>\n",
       "      <td>MNB</td>\n",
       "      <td>0.772570</td>\n",
       "    </tr>\n",
       "    <tr>\n",
       "      <th>4</th>\n",
       "      <td>PAC</td>\n",
       "      <td>0.892734</td>\n",
       "    </tr>\n",
       "    <tr>\n",
       "      <th>5</th>\n",
       "      <td>Bag</td>\n",
       "      <td>0.878893</td>\n",
       "    </tr>\n",
       "    <tr>\n",
       "      <th>6</th>\n",
       "      <td>XGB</td>\n",
       "      <td>0.897137</td>\n",
       "    </tr>\n",
       "  </tbody>\n",
       "</table>\n",
       "</div>"
      ],
      "text/plain": [
       "   model  accuracy\n",
       "0  Dummy  0.291961\n",
       "1    SVM  0.892104\n",
       "2    RFC  0.829192\n",
       "3    MNB  0.772570\n",
       "4    PAC  0.892734\n",
       "5    Bag  0.878893\n",
       "6    XGB  0.897137"
      ]
     },
     "execution_count": 41,
     "metadata": {},
     "output_type": "execute_result"
    }
   ],
   "source": [
    "new_row = {'model': 'XGB', 'accuracy': accuracy}\n",
    "results = results.append(new_row, ignore_index=True)\n",
    "results"
   ]
  },
  {
   "cell_type": "code",
   "execution_count": 42,
   "metadata": {},
   "outputs": [],
   "source": [
    "with open('model.pickle', 'wb') as f:\n",
    "    pickle.dump(xg_clf, f)"
   ]
  },
  {
   "cell_type": "code",
   "execution_count": 43,
   "metadata": {
    "scrolled": true
   },
   "outputs": [
    {
     "data": {
      "image/png": "[encoded data removed]",
      "text/plain": [
       "<Figure size 432x288 with 2 Axes>"
      ]
     },
     "metadata": {
      "needs_background": "light"
     },
     "output_type": "display_data"
    }
   ],
   "source": [
    "plot_confusion_matrix(xg_clf,test_vec,y_test, labels=['far_left','left','center','right','far_right'])\n",
    "plt.savefig('/Users/alecmccabe/Desktop/Flatiron/Projects/final_project_ideas/web_articles_spin/Pics/xgb_confusion.png')\n"
   ]
  },
  {
   "cell_type": "code",
   "execution_count": null,
   "metadata": {},
   "outputs": [],
   "source": []
  },
  {
   "cell_type": "code",
   "execution_count": 97,
   "metadata": {},
   "outputs": [
    {
     "data": {
      "text/plain": [
       "<bound method XGBModel.get_xgb_params of XGBClassifier(base_score=0.5, booster='gbtree', colsample_bylevel=1,\n",
       "              colsample_bynode=1, colsample_bytree=0.1, gamma=0, gpu_id=-1,\n",
       "              importance_type='gain', interaction_constraints='',\n",
       "              learning_rate=0.300000012, max_delta_step=0, max_depth=6,\n",
       "              min_child_weight=1, missing=nan, monotone_constraints='()',\n",
       "              n_estimators=1000, n_jobs=-1, num_parallel_tree=1,\n",
       "              objective='multi:softprob', random_state=0, reg_alpha=0,\n",
       "              reg_lambda=1, scale_pos_weight=None, subsample=1,\n",
       "              tree_method='exact', validate_parameters=1, verbosity=None)>"
      ]
     },
     "execution_count": 97,
     "metadata": {},
     "output_type": "execute_result"
    }
   ],
   "source": [
    "xg_clf."
   ]
  },
  {
   "cell_type": "markdown",
   "metadata": {},
   "source": [
    "--------"
   ]
  },
  {
   "cell_type": "markdown",
   "metadata": {},
   "source": [
    "**Test out Word2Vec**"
   ]
  },
  {
   "cell_type": "code",
   "execution_count": 44,
   "metadata": {},
   "outputs": [],
   "source": [
    "class SpacyVectorTransformer(BaseEstimator, TransformerMixin):\n",
    "    def __init__(self, nlp):\n",
    "        self.nlp = nlp\n",
    "        self.dim = 300\n",
    "\n",
    "    def fit(self, X, y):\n",
    "        return self\n",
    "\n",
    "    def transform(self, X):\n",
    "        # Doc.vector defaults to an average of the token vectors.\n",
    "        # https://spacy.io/api/doc#vector\n",
    "        \n",
    "        return [self.nlp(text).vector for text in X]"
   ]
  },
  {
   "cell_type": "code",
   "execution_count": 45,
   "metadata": {},
   "outputs": [],
   "source": [
    "X = data['predictor']\n",
    "y =data['target']\n",
    "encoder = LabelEncoder()\n",
    "y = encoder.fit_transform(y)\n",
    "x_train, x_test, y_train, y_test = train_test_split(X, y, test_size=0.2, random_state=seed, stratify=y)"
   ]
  },
  {
   "cell_type": "code",
   "execution_count": 46,
   "metadata": {},
   "outputs": [
    {
     "name": "stderr",
     "output_type": "stream",
     "text": [
      "[Parallel(n_jobs=-1)]: Using backend ThreadingBackend with 8 concurrent workers.\n",
      "[Parallel(n_jobs=-1)]: Done   2 out of   5 | elapsed:    0.1s remaining:    0.1s\n",
      "[Parallel(n_jobs=-1)]: Done   5 out of   5 | elapsed:    0.1s finished\n"
     ]
    },
    {
     "name": "stdout",
     "output_type": "stream",
     "text": [
      "-- Epoch 1-- Epoch 1\n",
      "-- Epoch 1-- Epoch 1\n",
      "\n",
      "\n",
      "-- Epoch 1\n",
      "Norm: 122.60, NNZs: 50, Bias: 1.010124, T: 12716, Avg. loss: 0.994460\n",
      "Total training time: 0.01 seconds.\n",
      "-- Epoch 2\n",
      "Norm: 104.66, NNZs: 50, Bias: 2.648298, T: 12716, Avg. loss: 1.106492\n",
      "Total training time: 0.00 seconds.\n",
      "-- Epoch 2\n",
      "Norm: 114.44, NNZs: 50, Bias: -1.796805, T: 12716, Avg. loss: 1.115509Norm: 154.91, NNZs: 50, Bias: -0.996315, T: 12716, Avg. loss: 0.822428\n",
      "Total training time: 0.00 seconds.\n",
      "-- Epoch 2\n",
      "\n",
      "Total training time: 0.01 seconds.\n",
      "-- Epoch 2\n",
      "Norm: 96.01, NNZs: 50, Bias: -14.280058, T: 12716, Avg. loss: 1.120977\n",
      "Total training time: 0.00 seconds.\n",
      "-- Epoch 2\n",
      "Norm: 152.12, NNZs: 50, Bias: -2.581856, T: 25432, Avg. loss: 1.040707Norm: 167.04, NNZs: 50, Bias: 0.218855, T: 25432, Avg. loss: 0.917771\n",
      "Total training time: 0.01 seconds.\n",
      "-- Epoch 3\n",
      "\n",
      "Total training time: 0.01 seconds.\n",
      "-- Epoch 3\n",
      "Norm: 210.52, NNZs: 50, Bias: 0.412185, T: 25432, Avg. loss: 0.555242Norm: 177.72, NNZs: 50, Bias: -1.489916, T: 25432, Avg. loss: 1.001402\n",
      "Total training time: 0.01 seconds.\n",
      "\n",
      "-- Epoch 3\n",
      "Total training time: 0.01 seconds.\n",
      "-- Epoch 3\n",
      "Norm: 135.74, NNZs: 50, Bias: -13.678867, T: 25432, Avg. loss: 1.103173\n",
      "Total training time: 0.01 seconds.\n",
      "-- Epoch 3\n",
      "Norm: 197.77, NNZs: 50, Bias: -5.142094, T: 38148, Avg. loss: 0.873814Norm: 189.02, NNZs: 50, Bias: -1.974017, T: 38148, Avg. loss: 1.000133\n",
      "\n",
      "Total training time: 0.01 seconds.\n",
      "Total training time: 0.01 seconds.\n",
      "-- Epoch 4\n",
      "-- Epoch 4\n",
      "Norm: 225.59, NNZs: 50, Bias: -2.163249, T: 38148, Avg. loss: 0.944215\n",
      "Total training time: 0.01 seconds.\n",
      "-- Epoch 4\n",
      "Norm: 246.20, NNZs: 50, Bias: -6.728916, T: 38148, Avg. loss: 0.495570\n",
      "Total training time: 0.01 seconds.\n",
      "-- Epoch 4\n",
      "Norm: 169.90, NNZs: 50, Bias: -15.469528, T: 38148, Avg. loss: 1.096485\n",
      "Total training time: 0.01 seconds.\n",
      "-- Epoch 4\n",
      "Norm: 208.52, NNZs: 50, Bias: 3.022213, T: 50864, Avg. loss: 0.997055\n",
      "Total training time: 0.02 seconds.\n",
      "-- Epoch 5\n",
      "Norm: 219.97, NNZs: 50, Bias: -4.413647, T: 50864, Avg. loss: 0.875302\n",
      "Total training time: 0.02 seconds.\n",
      "-- Epoch 5\n",
      "Norm: 262.03, NNZs: 50, Bias: -0.491484, T: 50864, Avg. loss: 0.939233\n",
      "Norm: 268.78, NNZs: 50, Bias: -2.574349, T: 50864, Avg. loss: 0.469007Total training time: 0.02 seconds.\n",
      "-- Epoch 5\n",
      "\n",
      "Total training time: 0.02 seconds.\n",
      "-- Epoch 5\n",
      "Norm: 194.25, NNZs: 50, Bias: -15.026991, T: 50864, Avg. loss: 1.059322\n",
      "Total training time: 0.02 seconds.\n",
      "-- Epoch 5\n",
      "Norm: 228.42, NNZs: 50, Bias: 1.079640, T: 63580, Avg. loss: 0.987787\n",
      "Total training time: 0.02 seconds.\n",
      "-- Epoch 6\n",
      "Norm: 241.89, NNZs: 50, Bias: 2.157086, T: 63580, Avg. loss: 0.851325\n",
      "Total training time: 0.02 seconds.\n",
      "-- Epoch 6\n",
      "Norm: 287.86, NNZs: 50, Bias: -6.536085, T: 63580, Avg. loss: 0.458102\n",
      "Total training time: 0.02 seconds.\n",
      "-- Epoch 6\n",
      "Norm: 290.36, NNZs: 50, Bias: -4.485519, T: 63580, Avg. loss: 0.912668\n",
      "Total training time: 0.02 seconds.\n",
      "-- Epoch 6\n",
      "Norm: 216.74, NNZs: 50, Bias: -16.997207, T: 63580, Avg. loss: 1.062924\n",
      "Total training time: 0.02 seconds.\n",
      "-- Epoch 6\n",
      "Norm: 247.21, NNZs: 50, Bias: 2.746991, T: 76296, Avg. loss: 0.963210\n",
      "Total training time: 0.02 seconds.\n",
      "-- Epoch 7\n",
      "Norm: 258.69, NNZs: 50, Bias: -9.081788, T: 76296, Avg. loss: 0.847174\n",
      "Total training time: 0.02 seconds.\n",
      "-- Epoch 7\n",
      "Norm: 301.52, NNZs: 50, Bias: -5.295196, T: 76296, Avg. loss: 0.445782\n",
      "Total training time: 0.02 seconds.\n",
      "-- Epoch 7\n",
      "Norm: 315.14, NNZs: 50, Bias: 1.863052, T: 76296, Avg. loss: 0.913590\n",
      "Total training time: 0.02 seconds.\n",
      "-- Epoch 7\n",
      "Norm: 233.00, NNZs: 50, Bias: -14.067948, T: 76296, Avg. loss: 1.079913\n",
      "Total training time: 0.02 seconds.\n",
      "-- Epoch 7\n",
      "Norm: 262.40, NNZs: 50, Bias: -0.148921, T: 89012, Avg. loss: 0.973264\n",
      "Total training time: 0.02 seconds.\n",
      "-- Epoch 8\n",
      "Norm: 275.33, NNZs: 50, Bias: -5.151668, T: 89012, Avg. loss: 0.847864\n",
      "Total training time: 0.03 seconds.\n",
      "-- Epoch 8\n",
      "Norm: 315.46, NNZs: 50, Bias: -7.513120, T: 89012, Avg. loss: 0.455157\n",
      "Total training time: 0.03 seconds.\n",
      "-- Epoch 8\n",
      "Norm: 334.40, NNZs: 50, Bias: 0.405192, T: 89012, Avg. loss: 0.898972\n",
      "Total training time: 0.03 seconds.\n",
      "-- Epoch 8\n",
      "Norm: 275.88, NNZs: 50, Bias: 4.906880, T: 101728, Avg. loss: 0.963674\n",
      "Total training time: 0.03 seconds.\n",
      "-- Epoch 9\n",
      "Norm: 249.08, NNZs: 50, Bias: -19.000290, T: 89012, Avg. loss: 1.068567\n",
      "Total training time: 0.03 seconds.\n",
      "-- Epoch 8\n",
      "Norm: 327.83, NNZs: 50, Bias: -11.680393, T: 101728, Avg. loss: 0.446022Norm: 289.53, NNZs: 50, Bias: -6.233601, T: 101728, Avg. loss: 0.835875\n",
      "Total training time: 0.03 seconds.\n",
      "-- Epoch 9\n",
      "\n",
      "Total training time: 0.03 seconds.\n",
      "-- Epoch 9\n",
      "Norm: 353.44, NNZs: 50, Bias: 3.707797, T: 101728, Avg. loss: 0.898138\n",
      "Total training time: 0.03 seconds.\n",
      "-- Epoch 9\n",
      "Norm: 285.94, NNZs: 50, Bias: 3.926942, T: 114444, Avg. loss: 0.964823\n",
      "Total training time: 0.03 seconds.\n",
      "-- Epoch 10\n",
      "Norm: 263.92, NNZs: 50, Bias: -17.945470, T: 101728, Avg. loss: 1.079834\n",
      "Total training time: 0.03 seconds.\n",
      "-- Epoch 9\n",
      "Norm: 336.15, NNZs: 50, Bias: -5.797030, T: 114444, Avg. loss: 0.443286Norm: 298.10, NNZs: 50, Bias: -4.690141, T: 114444, Avg. loss: 0.840875\n",
      "Total training time: 0.03 seconds.\n",
      "-- Epoch 10\n",
      "\n",
      "Total training time: 0.04 seconds.\n",
      "-- Epoch 10\n",
      "Norm: 369.85, NNZs: 50, Bias: 1.403480, T: 114444, Avg. loss: 0.875045\n",
      "Total training time: 0.03 seconds.\n",
      "-- Epoch 10\n",
      "Norm: 293.90, NNZs: 50, Bias: -2.551375, T: 127160, Avg. loss: 0.968799\n",
      "Total training time: 0.03 seconds.\n",
      "-- Epoch 11\n",
      "Norm: 274.73, NNZs: 50, Bias: -12.868449, T: 114444, Avg. loss: 1.089920\n",
      "Total training time: 0.03 seconds.\n",
      "Convergence after 9 epochs took 0.03 seconds\n",
      "Norm: 308.70, NNZs: 50, Bias: -6.575453, T: 127160, Avg. loss: 0.841759Norm: 386.03, NNZs: 50, Bias: -2.498621, T: 127160, Avg. loss: 0.880277Norm: 304.72, NNZs: 50, Bias: 3.239728, T: 139876, Avg. loss: 0.972200Norm: 348.71, NNZs: 50, Bias: -7.164846, T: 127160, Avg. loss: 0.444947\n",
      "Total training time: 0.04 seconds.\n",
      "-- Epoch 11\n",
      "\n",
      "Total training time: 0.04 seconds.\n",
      "-- Epoch 11\n",
      "\n",
      "Total training time: 0.04 seconds.\n",
      "\n",
      "-- Epoch 11\n",
      "Total training time: 0.04 seconds.\n",
      "Convergence after 11 epochs took 0.04 seconds\n",
      "Norm: 355.27, NNZs: 50, Bias: -8.563329, T: 139876, Avg. loss: 0.441434Norm: 398.30, NNZs: 50, Bias: -1.568958, T: 139876, Avg. loss: 0.886533\n",
      "\n",
      "Total training time: 0.04 seconds.\n",
      "Norm: 321.23, NNZs: 50, Bias: -4.725838, T: 139876, Avg. loss: 0.839837Total training time: 0.04 seconds.\n",
      "-- Epoch 12\n",
      "\n",
      "Total training time: 0.05 seconds.\n",
      "-- Epoch 12\n",
      "-- Epoch 12\n",
      "Norm: 364.09, NNZs: 50, Bias: -6.821055, T: 152592, Avg. loss: 0.436542Norm: 330.08, NNZs: 50, Bias: -3.402364, T: 152592, Avg. loss: 0.851343\n",
      "Total training time: 0.05 seconds.\n",
      "-- Epoch 13\n",
      "\n",
      "Norm: 410.61, NNZs: 50, Bias: 2.325447, T: 152592, Avg. loss: 0.882105Total training time: 0.05 seconds.\n",
      "-- Epoch 13\n",
      "\n",
      "Total training time: 0.05 seconds.\n",
      "-- Epoch 13\n",
      "Norm: 369.48, NNZs: 50, Bias: -7.140629, T: 165308, Avg. loss: 0.435236\n",
      "Total training time: 0.05 seconds.\n",
      "-- Epoch 14\n",
      "Norm: 337.50, NNZs: 50, Bias: 3.618689, T: 165308, Avg. loss: 0.835466\n",
      "Total training time: 0.05 seconds.\n",
      "Convergence after 13 epochs took 0.05 seconds\n",
      "Norm: 421.20, NNZs: 50, Bias: 5.390574, T: 165308, Avg. loss: 0.893519\n",
      "Total training time: 0.05 seconds.\n",
      "-- Epoch 14\n",
      "Norm: 377.05, NNZs: 50, Bias: -5.131498, T: 178024, Avg. loss: 0.440061\n",
      "Total training time: 0.05 seconds.\n",
      "-- Epoch 15\n",
      "Norm: 432.67, NNZs: 50, Bias: 2.053776, T: 178024, Avg. loss: 0.869673\n",
      "Total training time: 0.05 seconds.\n",
      "-- Epoch 15\n",
      "Norm: 383.64, NNZs: 50, Bias: -7.240116, T: 190740, Avg. loss: 0.437671\n",
      "Total training time: 0.06 seconds.\n",
      "-- Epoch 16\n",
      "Norm: 440.85, NNZs: 50, Bias: -2.588806, T: 190740, Avg. loss: 0.881577\n",
      "Total training time: 0.06 seconds.\n",
      "-- Epoch 16\n",
      "Norm: 389.17, NNZs: 50, Bias: -9.062422, T: 203456, Avg. loss: 0.447910\n",
      "Total training time: 0.06 seconds.\n",
      "-- Epoch 17\n",
      "Norm: 449.86, NNZs: 50, Bias: 1.895405, T: 203456, Avg. loss: 0.876563\n",
      "Total training time: 0.06 seconds.\n",
      "-- Epoch 17\n",
      "Norm: 395.79, NNZs: 50, Bias: -7.952255, T: 216172, Avg. loss: 0.434739\n",
      "Total training time: 0.06 seconds.\n",
      "-- Epoch 18\n",
      "Norm: 456.83, NNZs: 50, Bias: 8.032143, T: 216172, Avg. loss: 0.884748\n",
      "Total training time: 0.06 seconds.\n",
      "-- Epoch 18\n",
      "Norm: 400.71, NNZs: 50, Bias: -10.300291, T: 228888, Avg. loss: 0.435730\n",
      "Total training time: 0.07 seconds.\n",
      "Convergence after 18 epochs took 0.07 seconds\n",
      "Norm: 464.33, NNZs: 50, Bias: 11.072259, T: 228888, Avg. loss: 0.882462\n",
      "Total training time: 0.07 seconds.\n",
      "-- Epoch 19\n",
      "Norm: 469.71, NNZs: 50, Bias: 5.987519, T: 241604, Avg. loss: 0.881022\n",
      "Total training time: 0.07 seconds.\n",
      "Convergence after 19 epochs took 0.07 seconds\n"
     ]
    },
    {
     "data": {
      "text/html": [
       "<div>\n",
       "<style scoped>\n",
       "    .dataframe tbody tr th:only-of-type {\n",
       "        vertical-align: middle;\n",
       "    }\n",
       "\n",
       "    .dataframe tbody tr th {\n",
       "        vertical-align: top;\n",
       "    }\n",
       "\n",
       "    .dataframe thead th {\n",
       "        text-align: right;\n",
       "    }\n",
       "</style>\n",
       "<table border=\"1\" class=\"dataframe\">\n",
       "  <thead>\n",
       "    <tr style=\"text-align: right;\">\n",
       "      <th></th>\n",
       "      <th>model</th>\n",
       "      <th>accuracy</th>\n",
       "    </tr>\n",
       "  </thead>\n",
       "  <tbody>\n",
       "    <tr>\n",
       "      <th>0</th>\n",
       "      <td>Dummy</td>\n",
       "      <td>0.291961</td>\n",
       "    </tr>\n",
       "    <tr>\n",
       "      <th>1</th>\n",
       "      <td>SVM</td>\n",
       "      <td>0.892104</td>\n",
       "    </tr>\n",
       "    <tr>\n",
       "      <th>2</th>\n",
       "      <td>RFC</td>\n",
       "      <td>0.829192</td>\n",
       "    </tr>\n",
       "    <tr>\n",
       "      <th>3</th>\n",
       "      <td>MNB</td>\n",
       "      <td>0.772570</td>\n",
       "    </tr>\n",
       "    <tr>\n",
       "      <th>4</th>\n",
       "      <td>PAC</td>\n",
       "      <td>0.892734</td>\n",
       "    </tr>\n",
       "    <tr>\n",
       "      <th>5</th>\n",
       "      <td>Bag</td>\n",
       "      <td>0.878893</td>\n",
       "    </tr>\n",
       "    <tr>\n",
       "      <th>6</th>\n",
       "      <td>XGB</td>\n",
       "      <td>0.897137</td>\n",
       "    </tr>\n",
       "    <tr>\n",
       "      <th>7</th>\n",
       "      <td>word2vec</td>\n",
       "      <td>0.486631</td>\n",
       "    </tr>\n",
       "  </tbody>\n",
       "</table>\n",
       "</div>"
      ],
      "text/plain": [
       "      model  accuracy\n",
       "0     Dummy  0.291961\n",
       "1       SVM  0.892104\n",
       "2       RFC  0.829192\n",
       "3       MNB  0.772570\n",
       "4       PAC  0.892734\n",
       "5       Bag  0.878893\n",
       "6       XGB  0.897137\n",
       "7  word2vec  0.486631"
      ]
     },
     "execution_count": 46,
     "metadata": {},
     "output_type": "execute_result"
    }
   ],
   "source": [
    "embeddings_pipeline = Pipeline(\n",
    "    steps=[\n",
    "        (\"mean_embeddings\", SpacyVectorTransformer(nlp)),\n",
    "        (\"reduce_dim\", TruncatedSVD(50)),\n",
    "        (\"classifier\", PassiveAggressiveClassifier(C=5,random_state=0,n_jobs=-1, verbose=1)),\n",
    "    ]\n",
    ")\n",
    "embeddings_pipeline.fit(x_train, y_train)\n",
    "y_pred = embeddings_pipeline.predict(x_test)\n",
    "\n",
    "accuracy = accuracy_score(y_test, y_pred)\n",
    "\n",
    "new_row = {'model': 'word2vec', 'accuracy': accuracy}\n",
    "results = results.append(new_row, ignore_index=True)\n",
    "results\n"
   ]
  },
  {
   "cell_type": "markdown",
   "metadata": {},
   "source": [
    "-----"
   ]
  },
  {
   "cell_type": "markdown",
   "metadata": {},
   "source": [
    "**Deep Learning, Spacy**"
   ]
  },
  {
   "cell_type": "code",
   "execution_count": 63,
   "metadata": {},
   "outputs": [],
   "source": [
    "from keras.preprocessing.text import Tokenizer\n",
    "from keras.models import Sequential\n",
    "from keras.layers import Activation, Dense, Dropout, LSTM, Embedding\n",
    "from sklearn.preprocessing import LabelBinarizer\n",
    "from keras.preprocessing.text import Tokenizer, text_to_word_sequence\n",
    "from keras.preprocessing.sequence import pad_sequences\n",
    "from keras.utils import np_utils\n",
    "from keras.layers import Dense, Input, LSTM, Bidirectional, Activation, Conv1D, GRU, TimeDistributed\n",
    "from keras.layers import Dropout, Embedding, GlobalMaxPooling1D, MaxPooling1D, Add, Flatten, SpatialDropout1D\n",
    "from keras.layers import GlobalAveragePooling1D, BatchNormalization, concatenate\n",
    "from keras.layers import Reshape, merge, Concatenate, Lambda, Average\n",
    "from keras import backend as K\n",
    "from keras.engine.topology import Layer\n",
    "from keras import initializers, regularizers, constraints"
   ]
  },
  {
   "cell_type": "code",
   "execution_count": 64,
   "metadata": {},
   "outputs": [],
   "source": [
    "from sklearn.model_selection import train_test_split\n",
    "import time\n",
    "X = data['predictor']\n",
    "y =data['target']\n",
    "encoder = LabelEncoder()\n",
    "y = encoder.fit_transform(y)\n",
    "Y = np_utils.to_categorical(y)\n",
    "##Create the tf-idf vector\n",
    "vectorizer = TfidfVectorizer( min_df =3, max_df=0.2, max_features=None, \n",
    "            strip_accents='unicode', analyzer='word',token_pattern=r'\\w{1,}',\n",
    "            use_idf=1,smooth_idf=1,sublinear_tf=1,\n",
    "            stop_words = None, preprocessor=clean_txt)"
   ]
  },
  {
   "cell_type": "code",
   "execution_count": 65,
   "metadata": {},
   "outputs": [
    {
     "data": {
      "text/plain": [
       "TfidfVectorizer(max_df=0.2, min_df=3,\n",
       "                preprocessor=<function clean_txt at 0x27e983040>, smooth_idf=1,\n",
       "                strip_accents='unicode', sublinear_tf=1,\n",
       "                token_pattern='\\\\w{1,}', use_idf=1)"
      ]
     },
     "execution_count": 65,
     "metadata": {},
     "output_type": "execute_result"
    }
   ],
   "source": [
    "seed = 40\n",
    "x_train, x_test, y_train, y_test = train_test_split(X, Y, test_size=0.2, random_state=seed, stratify =y)\n",
    "vectorizer.fit(x_train)"
   ]
  },
  {
   "cell_type": "code",
   "execution_count": 66,
   "metadata": {},
   "outputs": [
    {
     "name": "stdout",
     "output_type": "stream",
     "text": [
      "[24873, 4355, 987, 18881, 4335, 1520, 10099, 24874, 16012, 14033, 4355, 1660, 15741, 3168, 14033, 10828, 17184, 19028, 15663, 17477, 11750, 9090, 21866, 9035, 21684, 14033, 2682, 1742, 7051, 25082, 3384, 11867, 10871, 22343, 3668, 24873, 24874, 16012, 14033, 1842, 1520, 4335, 987, 10099, 2258, 18881, 18697, 3664, 21643, 13337, 1842, 8979, 14033, 10828, 16969, 2775, 17184, 19028, 15663, 2627, 5977, 15741, 3168, 23174, 11292, 8832, 2798, 824, 1744, 19920, 7911, 16027, 25079, 9728, 4612, 14033, 11972, 5461, 2682, 1742, 315, 15840, 4640, 6372, 12157, 24418, 9329, 4817, 12155, 6169, 18881, 14033, 18097, 14696, 8832, 25010, 5308, 10099, 22843, 18400, 956, 5998, 22651, 1742, 2258, 15796, 24876, 17979, 4339, 20790, 9035, 1520, 12885, 7486, 16728, 1749, 13178, 4335, 1520, 11226, 13910, 2457, 9090, 21866, 9035, 21684, 8935, 2182, 10005, 2431, 12544, 7348, 15115, 11971, 6500, 14033, 13529, 24873, 4355, 19722, 16582, 20963, 12182, 581, 14958, 824, 15115, 24873, 16582, 9653, 3664, 14033, 24873, 6153, 17885, 7398, 5663, 14034, 20241, 5727, 20966, 25320, 7535, 7210, 15801, 14924, 14033, 13490, 18072, 6482, 3556, 16740, 19126, 11621, 14033, 7231, 23738, 16447, 19869, 1520, 24873, 24418, 3042, 6714, 970, 10602, 23222, 7618, 3668, 6375, 19713, 19631, 1660, 4716, 7766, 8099, 8098, 13488, 1749, 6500, 4611, 16088, 19810, 16034, 15415, 961, 10544, 23291, 24308, 13743, 15912, 10544, 6801, 24873, 13357, 18015, 3664, 9278, 14615, 10544, 12544, 15663, 23564, 19018, 1820, 23286, 19018, 647, 24874, 16606, 13337, 12584, 10125, 16900, 14033, 10125, 6372, 16606, 13337, 16214, 22652, 18881, 10125, 15912, 9322, 647, 9090, 10005, 2431, 18709, 656, 24251, 16582, 8738, 24935, 4751, 2457, 356, 2798, 3713, 4516, 24873, 2798, 11798, 4974, 24874, 15771, 7350, 22651, 5932, 9316, 16566, 13182, 20327, 25201, 2798, 3713, 12236, 1564, 7637, 9316, 8322, 24874, 11292, 20996, 24385, 10319, 18474, 24976, 4458, 1842, 10329, 21151, 10319, 11226, 10136, 3658, 1200, 17142, 2150, 19861, 14033, 4703, 19124, 10068, 24873, 14033, 857, 1765, 9537, 23053, 25619, 23661, 23369, 1520, 22781, 1749, 1742, 11116, 16728, 3188, 22118, 4670, 24934, 4355, 16667, 6026, 18881, 4640, 16582, 19122, 10125, 4641, 9887, 16606, 17889, 1842, 22151, 22602, 14034, 857, 8357, 1628, 7186, 1756, 1912, 5452, 18366, 23169, 7348, 8738, 11716, 24874, 23260, 22065, 15115, 19195, 14696, 20790, 9035, 12522, 3868, 12132, 18627, 9265, 19789, 24874, 1501, 9537, 15693, 4062, 23750, 7166, 24876, 20790, 9035, 20772, 3555, 11864, 15840, 4640, 9789, 15443, 5691, 2900, 18881, 14034, 1520, 19645, 18941, 5196]\n"
     ]
    }
   ],
   "source": [
    "word2idx = {word: idx for idx, word in enumerate(vectorizer.get_feature_names())}\n",
    "tokenize = vectorizer.build_tokenizer()\n",
    "preprocess = vectorizer.build_preprocessor()\n",
    " \n",
    "def to_sequence(tokenizer, preprocessor, index, text):\n",
    "    words = tokenizer(preprocessor(text))\n",
    "    indexes = [index[word] for word in words if word in index]\n",
    "    return indexes\n",
    "\n",
    "X_train_sequences = [to_sequence(tokenize, preprocess, word2idx, x) for x in x_train]\n",
    "print(X_train_sequences[0])"
   ]
  },
  {
   "cell_type": "code",
   "execution_count": 72,
   "metadata": {},
   "outputs": [
    {
     "name": "stdout",
     "output_type": "stream",
     "text": [
      "[26082 26082 26082 26082 26082 26082 26082 26082 26082 26082 26082 26082\n",
      " 26082 26082 26082 26082 26082 26082 26082 26082 26082 26082 26082 26082\n",
      " 26082 26082 26082 26082 26082 26082 26082 26082 26082 26082 26082 26082\n",
      " 26082 26082 26082 26082 26082 26082 26082 26082 26082 26082 26082 26082\n",
      " 26082 26082 26082 26082 26082 26082 26082 26082 26082 26082 26082 26082\n",
      " 26082 26082 26082 26082 26082 26082 26082 26082 26082 26082 26082 26082\n",
      " 26082 26082 26082 26082 26082 26082 26082 26082 26082 26082 26082 26082\n",
      " 26082 26082 26082 26082 26082 26082 26082 26082 26082 26082 26082 26082\n",
      " 26082 26082 26082 26082 26082 26082 26082 26082 26082 26082 26082 26082\n",
      " 26082 24873  4355   987 18881  4335  1520 10099 24874 16012 14033  4355\n",
      "  1660 15741  3168 14033 10828 17184 19028 15663 17477 11750  9090 21866\n",
      "  9035 21684 14033  2682  1742  7051 25082  3384 11867 10871 22343  3668\n",
      " 24873 24874 16012 14033  1842  1520  4335   987 10099  2258 18881 18697\n",
      "  3664 21643 13337  1842  8979 14033 10828 16969  2775 17184 19028 15663\n",
      "  2627  5977 15741  3168 23174 11292  8832  2798   824  1744 19920  7911\n",
      " 16027 25079  9728  4612 14033 11972  5461  2682  1742   315 15840  4640\n",
      "  6372 12157 24418  9329  4817 12155  6169 18881 14033 18097 14696  8832\n",
      " 25010  5308 10099 22843 18400   956  5998 22651  1742  2258 15796 24876\n",
      " 17979  4339 20790  9035  1520 12885  7486 16728  1749 13178  4335  1520\n",
      " 11226 13910  2457  9090 21866  9035 21684  8935  2182 10005  2431 12544\n",
      "  7348 15115 11971  6500 14033 13529 24873  4355 19722 16582 20963 12182\n",
      "   581 14958   824 15115 24873 16582  9653  3664 14033 24873  6153 17885\n",
      "  7398  5663 14034 20241  5727 20966 25320  7535  7210 15801 14924 14033\n",
      " 13490 18072  6482  3556 16740 19126 11621 14033  7231 23738 16447 19869\n",
      "  1520 24873 24418  3042  6714   970 10602 23222  7618  3668  6375 19713\n",
      " 19631  1660  4716  7766  8099  8098 13488  1749  6500  4611 16088 19810\n",
      " 16034 15415   961 10544 23291 24308 13743 15912 10544  6801 24873 13357\n",
      " 18015  3664  9278 14615 10544 12544 15663 23564 19018  1820 23286 19018\n",
      "   647 24874 16606 13337 12584 10125 16900 14033 10125  6372 16606 13337\n",
      " 16214 22652 18881 10125 15912  9322   647  9090 10005  2431 18709   656\n",
      " 24251 16582  8738 24935  4751  2457   356  2798  3713  4516 24873  2798\n",
      " 11798  4974 24874 15771  7350 22651  5932  9316 16566 13182 20327 25201\n",
      "  2798  3713 12236  1564  7637  9316  8322 24874 11292 20996 24385 10319\n",
      " 18474 24976  4458  1842 10329 21151 10319 11226 10136  3658  1200 17142\n",
      "  2150 19861 14033  4703 19124 10068 24873 14033   857  1765  9537 23053\n",
      " 25619 23661 23369  1520 22781  1749  1742 11116 16728  3188 22118  4670\n",
      " 24934  4355 16667  6026 18881  4640 16582 19122 10125  4641  9887 16606\n",
      " 17889  1842 22151 22602 14034   857  8357  1628  7186  1756  1912  5452\n",
      " 18366 23169  7348  8738 11716 24874 23260 22065 15115 19195 14696 20790\n",
      "  9035 12522  3868 12132 18627  9265 19789 24874  1501  9537 15693  4062\n",
      " 23750  7166 24876 20790  9035 20772  3555 11864 15840  4640  9789 15443\n",
      "  5691  2900 18881 14034  1520 19645 18941  5196]\n"
     ]
    }
   ],
   "source": [
    "# Compute the max lenght of a text\n",
    "\n",
    "MAX_SEQ_LENGHT=500\n",
    "\n",
    "N_FEATURES = len(vectorizer.get_feature_names())\n",
    "X_train_sequences = pad_sequences(X_train_sequences, maxlen=MAX_SEQ_LENGHT, value=N_FEATURES)\n",
    "print(X_train_sequences[0])"
   ]
  },
  {
   "cell_type": "code",
   "execution_count": 73,
   "metadata": {},
   "outputs": [],
   "source": [
    "X_test_sequences = [to_sequence(tokenize, preprocess, word2idx, x) for x in x_test]\n",
    "X_test_sequences = pad_sequences(X_test_sequences, maxlen=MAX_SEQ_LENGHT, value=N_FEATURES)"
   ]
  },
  {
   "cell_type": "code",
   "execution_count": 74,
   "metadata": {},
   "outputs": [
    {
     "name": "stdout",
     "output_type": "stream",
     "text": [
      "EMBEDDINGS_LEN= 300\n"
     ]
    }
   ],
   "source": [
    "EMBEDDINGS_LEN = 300\n",
    "\n",
    "embeddings_index = np.zeros((len(vectorizer.get_feature_names()) + 1, EMBEDDINGS_LEN))\n",
    "for word, idx in word2idx.items():\n",
    "    try:\n",
    "        embedding = nlp.vocab[word].vector\n",
    "        embeddings_index[idx] = embedding\n",
    "    except:\n",
    "        pass\n",
    "      \n",
    "print(\"EMBEDDINGS_LEN=\", EMBEDDINGS_LEN)"
   ]
  },
  {
   "cell_type": "code",
   "execution_count": 76,
   "metadata": {},
   "outputs": [
    {
     "name": "stdout",
     "output_type": "stream",
     "text": [
      "Model: \"sequential_3\"\n",
      "_________________________________________________________________\n",
      "Layer (type)                 Output Shape              Param #   \n",
      "=================================================================\n",
      "embedding_4 (Embedding)      (None, 500, 300)          7824900   \n",
      "_________________________________________________________________\n",
      "lstm_4 (LSTM)                (None, 300)               721200    \n",
      "_________________________________________________________________\n",
      "dense_5 (Dense)              (None, 5)                 1505      \n",
      "=================================================================\n",
      "Total params: 8,547,605\n",
      "Trainable params: 722,705\n",
      "Non-trainable params: 7,824,900\n",
      "_________________________________________________________________\n",
      "None\n"
     ]
    }
   ],
   "source": [
    "model = Sequential()\n",
    "model.add(Embedding(len(vectorizer.get_feature_names()) + 1,\n",
    "                    EMBEDDINGS_LEN,  # Embedding size\n",
    "                    weights=[embeddings_index],\n",
    "                    input_length=MAX_SEQ_LENGHT,\n",
    "                    trainable=False))\n",
    "model.add(LSTM(300, dropout=0.2))\n",
    "model.add(Dense(len(set(y)), activation='softmax'))\n",
    " \n",
    "model.compile(loss='categorical_crossentropy', optimizer='adam', metrics=['accuracy'])\n",
    "print(model.summary())"
   ]
  },
  {
   "cell_type": "code",
   "execution_count": 77,
   "metadata": {},
   "outputs": [
    {
     "name": "stdout",
     "output_type": "stream",
     "text": [
      "Epoch 1/5\n",
      "24/90 [=======>......................] - ETA: 1:58 - loss: 1.5667 - accuracy: 0.3011"
     ]
    },
    {
     "ename": "KeyboardInterrupt",
     "evalue": "",
     "output_type": "error",
     "traceback": [
      "\u001b[0;31m---------------------------------------------------------------------------\u001b[0m",
      "\u001b[0;31mKeyboardInterrupt\u001b[0m                         Traceback (most recent call last)",
      "\u001b[0;32m<ipython-input-77-0b26c42bbab9>\u001b[0m in \u001b[0;36m<module>\u001b[0;34m\u001b[0m\n\u001b[0;32m----> 1\u001b[0;31m model.fit(X_train_sequences, y_train, \n\u001b[0m\u001b[1;32m      2\u001b[0m           \u001b[0mepochs\u001b[0m\u001b[0;34m=\u001b[0m\u001b[0;36m5\u001b[0m\u001b[0;34m,\u001b[0m \u001b[0mbatch_size\u001b[0m\u001b[0;34m=\u001b[0m\u001b[0;36m128\u001b[0m\u001b[0;34m,\u001b[0m \u001b[0mverbose\u001b[0m\u001b[0;34m=\u001b[0m\u001b[0;36m1\u001b[0m\u001b[0;34m,\u001b[0m\u001b[0;34m\u001b[0m\u001b[0;34m\u001b[0m\u001b[0m\n\u001b[1;32m      3\u001b[0m           validation_split=0.1)\n\u001b[1;32m      4\u001b[0m \u001b[0;34m\u001b[0m\u001b[0m\n\u001b[1;32m      5\u001b[0m \u001b[0mscores\u001b[0m \u001b[0;34m=\u001b[0m \u001b[0mmodel\u001b[0m\u001b[0;34m.\u001b[0m\u001b[0mevaluate\u001b[0m\u001b[0;34m(\u001b[0m\u001b[0mX_test_sequences\u001b[0m\u001b[0;34m,\u001b[0m \u001b[0my_test\u001b[0m\u001b[0;34m,\u001b[0m \u001b[0mverbose\u001b[0m\u001b[0;34m=\u001b[0m\u001b[0;36m1\u001b[0m\u001b[0;34m)\u001b[0m\u001b[0;34m\u001b[0m\u001b[0;34m\u001b[0m\u001b[0m\n",
      "\u001b[0;32m~/opt/anaconda3/lib/python3.8/site-packages/tensorflow/python/keras/engine/training.py\u001b[0m in \u001b[0;36m_method_wrapper\u001b[0;34m(self, *args, **kwargs)\u001b[0m\n\u001b[1;32m    106\u001b[0m   \u001b[0;32mdef\u001b[0m \u001b[0m_method_wrapper\u001b[0m\u001b[0;34m(\u001b[0m\u001b[0mself\u001b[0m\u001b[0;34m,\u001b[0m \u001b[0;34m*\u001b[0m\u001b[0margs\u001b[0m\u001b[0;34m,\u001b[0m \u001b[0;34m**\u001b[0m\u001b[0mkwargs\u001b[0m\u001b[0;34m)\u001b[0m\u001b[0;34m:\u001b[0m\u001b[0;34m\u001b[0m\u001b[0;34m\u001b[0m\u001b[0m\n\u001b[1;32m    107\u001b[0m     \u001b[0;32mif\u001b[0m \u001b[0;32mnot\u001b[0m \u001b[0mself\u001b[0m\u001b[0;34m.\u001b[0m\u001b[0m_in_multi_worker_mode\u001b[0m\u001b[0;34m(\u001b[0m\u001b[0;34m)\u001b[0m\u001b[0;34m:\u001b[0m  \u001b[0;31m# pylint: disable=protected-access\u001b[0m\u001b[0;34m\u001b[0m\u001b[0;34m\u001b[0m\u001b[0m\n\u001b[0;32m--> 108\u001b[0;31m       \u001b[0;32mreturn\u001b[0m \u001b[0mmethod\u001b[0m\u001b[0;34m(\u001b[0m\u001b[0mself\u001b[0m\u001b[0;34m,\u001b[0m \u001b[0;34m*\u001b[0m\u001b[0margs\u001b[0m\u001b[0;34m,\u001b[0m \u001b[0;34m**\u001b[0m\u001b[0mkwargs\u001b[0m\u001b[0;34m)\u001b[0m\u001b[0;34m\u001b[0m\u001b[0;34m\u001b[0m\u001b[0m\n\u001b[0m\u001b[1;32m    109\u001b[0m \u001b[0;34m\u001b[0m\u001b[0m\n\u001b[1;32m    110\u001b[0m     \u001b[0;31m# Running inside `run_distribute_coordinator` already.\u001b[0m\u001b[0;34m\u001b[0m\u001b[0;34m\u001b[0m\u001b[0;34m\u001b[0m\u001b[0m\n",
      "\u001b[0;32m~/opt/anaconda3/lib/python3.8/site-packages/tensorflow/python/keras/engine/training.py\u001b[0m in \u001b[0;36mfit\u001b[0;34m(self, x, y, batch_size, epochs, verbose, callbacks, validation_split, validation_data, shuffle, class_weight, sample_weight, initial_epoch, steps_per_epoch, validation_steps, validation_batch_size, validation_freq, max_queue_size, workers, use_multiprocessing)\u001b[0m\n\u001b[1;32m   1096\u001b[0m                 batch_size=batch_size):\n\u001b[1;32m   1097\u001b[0m               \u001b[0mcallbacks\u001b[0m\u001b[0;34m.\u001b[0m\u001b[0mon_train_batch_begin\u001b[0m\u001b[0;34m(\u001b[0m\u001b[0mstep\u001b[0m\u001b[0;34m)\u001b[0m\u001b[0;34m\u001b[0m\u001b[0;34m\u001b[0m\u001b[0m\n\u001b[0;32m-> 1098\u001b[0;31m               \u001b[0mtmp_logs\u001b[0m \u001b[0;34m=\u001b[0m \u001b[0mtrain_function\u001b[0m\u001b[0;34m(\u001b[0m\u001b[0miterator\u001b[0m\u001b[0;34m)\u001b[0m\u001b[0;34m\u001b[0m\u001b[0;34m\u001b[0m\u001b[0m\n\u001b[0m\u001b[1;32m   1099\u001b[0m               \u001b[0;32mif\u001b[0m \u001b[0mdata_handler\u001b[0m\u001b[0;34m.\u001b[0m\u001b[0mshould_sync\u001b[0m\u001b[0;34m:\u001b[0m\u001b[0;34m\u001b[0m\u001b[0;34m\u001b[0m\u001b[0m\n\u001b[1;32m   1100\u001b[0m                 \u001b[0mcontext\u001b[0m\u001b[0;34m.\u001b[0m\u001b[0masync_wait\u001b[0m\u001b[0;34m(\u001b[0m\u001b[0;34m)\u001b[0m\u001b[0;34m\u001b[0m\u001b[0;34m\u001b[0m\u001b[0m\n",
      "\u001b[0;32m~/opt/anaconda3/lib/python3.8/site-packages/tensorflow/python/eager/def_function.py\u001b[0m in \u001b[0;36m__call__\u001b[0;34m(self, *args, **kwds)\u001b[0m\n\u001b[1;32m    778\u001b[0m       \u001b[0;32melse\u001b[0m\u001b[0;34m:\u001b[0m\u001b[0;34m\u001b[0m\u001b[0;34m\u001b[0m\u001b[0m\n\u001b[1;32m    779\u001b[0m         \u001b[0mcompiler\u001b[0m \u001b[0;34m=\u001b[0m \u001b[0;34m\"nonXla\"\u001b[0m\u001b[0;34m\u001b[0m\u001b[0;34m\u001b[0m\u001b[0m\n\u001b[0;32m--> 780\u001b[0;31m         \u001b[0mresult\u001b[0m \u001b[0;34m=\u001b[0m \u001b[0mself\u001b[0m\u001b[0;34m.\u001b[0m\u001b[0m_call\u001b[0m\u001b[0;34m(\u001b[0m\u001b[0;34m*\u001b[0m\u001b[0margs\u001b[0m\u001b[0;34m,\u001b[0m \u001b[0;34m**\u001b[0m\u001b[0mkwds\u001b[0m\u001b[0;34m)\u001b[0m\u001b[0;34m\u001b[0m\u001b[0;34m\u001b[0m\u001b[0m\n\u001b[0m\u001b[1;32m    781\u001b[0m \u001b[0;34m\u001b[0m\u001b[0m\n\u001b[1;32m    782\u001b[0m       \u001b[0mnew_tracing_count\u001b[0m \u001b[0;34m=\u001b[0m \u001b[0mself\u001b[0m\u001b[0;34m.\u001b[0m\u001b[0m_get_tracing_count\u001b[0m\u001b[0;34m(\u001b[0m\u001b[0;34m)\u001b[0m\u001b[0;34m\u001b[0m\u001b[0;34m\u001b[0m\u001b[0m\n",
      "\u001b[0;32m~/opt/anaconda3/lib/python3.8/site-packages/tensorflow/python/eager/def_function.py\u001b[0m in \u001b[0;36m_call\u001b[0;34m(self, *args, **kwds)\u001b[0m\n\u001b[1;32m    805\u001b[0m       \u001b[0;31m# In this case we have created variables on the first call, so we run the\u001b[0m\u001b[0;34m\u001b[0m\u001b[0;34m\u001b[0m\u001b[0;34m\u001b[0m\u001b[0m\n\u001b[1;32m    806\u001b[0m       \u001b[0;31m# defunned version which is guaranteed to never create variables.\u001b[0m\u001b[0;34m\u001b[0m\u001b[0;34m\u001b[0m\u001b[0;34m\u001b[0m\u001b[0m\n\u001b[0;32m--> 807\u001b[0;31m       \u001b[0;32mreturn\u001b[0m \u001b[0mself\u001b[0m\u001b[0;34m.\u001b[0m\u001b[0m_stateless_fn\u001b[0m\u001b[0;34m(\u001b[0m\u001b[0;34m*\u001b[0m\u001b[0margs\u001b[0m\u001b[0;34m,\u001b[0m \u001b[0;34m**\u001b[0m\u001b[0mkwds\u001b[0m\u001b[0;34m)\u001b[0m  \u001b[0;31m# pylint: disable=not-callable\u001b[0m\u001b[0;34m\u001b[0m\u001b[0;34m\u001b[0m\u001b[0m\n\u001b[0m\u001b[1;32m    808\u001b[0m     \u001b[0;32melif\u001b[0m \u001b[0mself\u001b[0m\u001b[0;34m.\u001b[0m\u001b[0m_stateful_fn\u001b[0m \u001b[0;32mis\u001b[0m \u001b[0;32mnot\u001b[0m \u001b[0;32mNone\u001b[0m\u001b[0;34m:\u001b[0m\u001b[0;34m\u001b[0m\u001b[0;34m\u001b[0m\u001b[0m\n\u001b[1;32m    809\u001b[0m       \u001b[0;31m# Release the lock early so that multiple threads can perform the call\u001b[0m\u001b[0;34m\u001b[0m\u001b[0;34m\u001b[0m\u001b[0;34m\u001b[0m\u001b[0m\n",
      "\u001b[0;32m~/opt/anaconda3/lib/python3.8/site-packages/tensorflow/python/eager/function.py\u001b[0m in \u001b[0;36m__call__\u001b[0;34m(self, *args, **kwargs)\u001b[0m\n\u001b[1;32m   2827\u001b[0m     \u001b[0;32mwith\u001b[0m \u001b[0mself\u001b[0m\u001b[0;34m.\u001b[0m\u001b[0m_lock\u001b[0m\u001b[0;34m:\u001b[0m\u001b[0;34m\u001b[0m\u001b[0;34m\u001b[0m\u001b[0m\n\u001b[1;32m   2828\u001b[0m       \u001b[0mgraph_function\u001b[0m\u001b[0;34m,\u001b[0m \u001b[0margs\u001b[0m\u001b[0;34m,\u001b[0m \u001b[0mkwargs\u001b[0m \u001b[0;34m=\u001b[0m \u001b[0mself\u001b[0m\u001b[0;34m.\u001b[0m\u001b[0m_maybe_define_function\u001b[0m\u001b[0;34m(\u001b[0m\u001b[0margs\u001b[0m\u001b[0;34m,\u001b[0m \u001b[0mkwargs\u001b[0m\u001b[0;34m)\u001b[0m\u001b[0;34m\u001b[0m\u001b[0;34m\u001b[0m\u001b[0m\n\u001b[0;32m-> 2829\u001b[0;31m     \u001b[0;32mreturn\u001b[0m \u001b[0mgraph_function\u001b[0m\u001b[0;34m.\u001b[0m\u001b[0m_filtered_call\u001b[0m\u001b[0;34m(\u001b[0m\u001b[0margs\u001b[0m\u001b[0;34m,\u001b[0m \u001b[0mkwargs\u001b[0m\u001b[0;34m)\u001b[0m  \u001b[0;31m# pylint: disable=protected-access\u001b[0m\u001b[0;34m\u001b[0m\u001b[0;34m\u001b[0m\u001b[0m\n\u001b[0m\u001b[1;32m   2830\u001b[0m \u001b[0;34m\u001b[0m\u001b[0m\n\u001b[1;32m   2831\u001b[0m   \u001b[0;34m@\u001b[0m\u001b[0mproperty\u001b[0m\u001b[0;34m\u001b[0m\u001b[0;34m\u001b[0m\u001b[0m\n",
      "\u001b[0;32m~/opt/anaconda3/lib/python3.8/site-packages/tensorflow/python/eager/function.py\u001b[0m in \u001b[0;36m_filtered_call\u001b[0;34m(self, args, kwargs, cancellation_manager)\u001b[0m\n\u001b[1;32m   1841\u001b[0m       \u001b[0;31m`\u001b[0m\u001b[0margs\u001b[0m\u001b[0;31m`\u001b[0m \u001b[0;32mand\u001b[0m\u001b[0;31m \u001b[0m\u001b[0;31m`\u001b[0m\u001b[0mkwargs\u001b[0m\u001b[0;31m`\u001b[0m\u001b[0;34m.\u001b[0m\u001b[0;34m\u001b[0m\u001b[0;34m\u001b[0m\u001b[0m\n\u001b[1;32m   1842\u001b[0m     \"\"\"\n\u001b[0;32m-> 1843\u001b[0;31m     return self._call_flat(\n\u001b[0m\u001b[1;32m   1844\u001b[0m         [t for t in nest.flatten((args, kwargs), expand_composites=True)\n\u001b[1;32m   1845\u001b[0m          if isinstance(t, (ops.Tensor,\n",
      "\u001b[0;32m~/opt/anaconda3/lib/python3.8/site-packages/tensorflow/python/eager/function.py\u001b[0m in \u001b[0;36m_call_flat\u001b[0;34m(self, args, captured_inputs, cancellation_manager)\u001b[0m\n\u001b[1;32m   1921\u001b[0m         and executing_eagerly):\n\u001b[1;32m   1922\u001b[0m       \u001b[0;31m# No tape is watching; skip to running the function.\u001b[0m\u001b[0;34m\u001b[0m\u001b[0;34m\u001b[0m\u001b[0;34m\u001b[0m\u001b[0m\n\u001b[0;32m-> 1923\u001b[0;31m       return self._build_call_outputs(self._inference_function.call(\n\u001b[0m\u001b[1;32m   1924\u001b[0m           ctx, args, cancellation_manager=cancellation_manager))\n\u001b[1;32m   1925\u001b[0m     forward_backward = self._select_forward_and_backward_functions(\n",
      "\u001b[0;32m~/opt/anaconda3/lib/python3.8/site-packages/tensorflow/python/eager/function.py\u001b[0m in \u001b[0;36mcall\u001b[0;34m(self, ctx, args, cancellation_manager)\u001b[0m\n\u001b[1;32m    543\u001b[0m       \u001b[0;32mwith\u001b[0m \u001b[0m_InterpolateFunctionError\u001b[0m\u001b[0;34m(\u001b[0m\u001b[0mself\u001b[0m\u001b[0;34m)\u001b[0m\u001b[0;34m:\u001b[0m\u001b[0;34m\u001b[0m\u001b[0;34m\u001b[0m\u001b[0m\n\u001b[1;32m    544\u001b[0m         \u001b[0;32mif\u001b[0m \u001b[0mcancellation_manager\u001b[0m \u001b[0;32mis\u001b[0m \u001b[0;32mNone\u001b[0m\u001b[0;34m:\u001b[0m\u001b[0;34m\u001b[0m\u001b[0;34m\u001b[0m\u001b[0m\n\u001b[0;32m--> 545\u001b[0;31m           outputs = execute.execute(\n\u001b[0m\u001b[1;32m    546\u001b[0m               \u001b[0mstr\u001b[0m\u001b[0;34m(\u001b[0m\u001b[0mself\u001b[0m\u001b[0;34m.\u001b[0m\u001b[0msignature\u001b[0m\u001b[0;34m.\u001b[0m\u001b[0mname\u001b[0m\u001b[0;34m)\u001b[0m\u001b[0;34m,\u001b[0m\u001b[0;34m\u001b[0m\u001b[0;34m\u001b[0m\u001b[0m\n\u001b[1;32m    547\u001b[0m               \u001b[0mnum_outputs\u001b[0m\u001b[0;34m=\u001b[0m\u001b[0mself\u001b[0m\u001b[0;34m.\u001b[0m\u001b[0m_num_outputs\u001b[0m\u001b[0;34m,\u001b[0m\u001b[0;34m\u001b[0m\u001b[0;34m\u001b[0m\u001b[0m\n",
      "\u001b[0;32m~/opt/anaconda3/lib/python3.8/site-packages/tensorflow/python/eager/execute.py\u001b[0m in \u001b[0;36mquick_execute\u001b[0;34m(op_name, num_outputs, inputs, attrs, ctx, name)\u001b[0m\n\u001b[1;32m     57\u001b[0m   \u001b[0;32mtry\u001b[0m\u001b[0;34m:\u001b[0m\u001b[0;34m\u001b[0m\u001b[0;34m\u001b[0m\u001b[0m\n\u001b[1;32m     58\u001b[0m     \u001b[0mctx\u001b[0m\u001b[0;34m.\u001b[0m\u001b[0mensure_initialized\u001b[0m\u001b[0;34m(\u001b[0m\u001b[0;34m)\u001b[0m\u001b[0;34m\u001b[0m\u001b[0;34m\u001b[0m\u001b[0m\n\u001b[0;32m---> 59\u001b[0;31m     tensors = pywrap_tfe.TFE_Py_Execute(ctx._handle, device_name, op_name,\n\u001b[0m\u001b[1;32m     60\u001b[0m                                         inputs, attrs, num_outputs)\n\u001b[1;32m     61\u001b[0m   \u001b[0;32mexcept\u001b[0m \u001b[0mcore\u001b[0m\u001b[0;34m.\u001b[0m\u001b[0m_NotOkStatusException\u001b[0m \u001b[0;32mas\u001b[0m \u001b[0me\u001b[0m\u001b[0;34m:\u001b[0m\u001b[0;34m\u001b[0m\u001b[0;34m\u001b[0m\u001b[0m\n",
      "\u001b[0;31mKeyboardInterrupt\u001b[0m: "
     ]
    }
   ],
   "source": [
    "model.fit(X_train_sequences, y_train, \n",
    "          epochs=5, batch_size=128, verbose=1, \n",
    "          validation_split=0.1)\n",
    " \n",
    "scores = model.evaluate(X_test_sequences, y_test, verbose=1)\n",
    "print(\"Accuracy:\", scores[1])\n"
   ]
  },
  {
   "cell_type": "code",
   "execution_count": 56,
   "metadata": {},
   "outputs": [
    {
     "data": {
      "text/html": [
       "<div>\n",
       "<style scoped>\n",
       "    .dataframe tbody tr th:only-of-type {\n",
       "        vertical-align: middle;\n",
       "    }\n",
       "\n",
       "    .dataframe tbody tr th {\n",
       "        vertical-align: top;\n",
       "    }\n",
       "\n",
       "    .dataframe thead th {\n",
       "        text-align: right;\n",
       "    }\n",
       "</style>\n",
       "<table border=\"1\" class=\"dataframe\">\n",
       "  <thead>\n",
       "    <tr style=\"text-align: right;\">\n",
       "      <th></th>\n",
       "      <th>model</th>\n",
       "      <th>accuracy</th>\n",
       "    </tr>\n",
       "  </thead>\n",
       "  <tbody>\n",
       "    <tr>\n",
       "      <th>0</th>\n",
       "      <td>Dummy</td>\n",
       "      <td>0.291961</td>\n",
       "    </tr>\n",
       "    <tr>\n",
       "      <th>1</th>\n",
       "      <td>SVM</td>\n",
       "      <td>0.892104</td>\n",
       "    </tr>\n",
       "    <tr>\n",
       "      <th>2</th>\n",
       "      <td>RFC</td>\n",
       "      <td>0.829192</td>\n",
       "    </tr>\n",
       "    <tr>\n",
       "      <th>3</th>\n",
       "      <td>MNB</td>\n",
       "      <td>0.772570</td>\n",
       "    </tr>\n",
       "    <tr>\n",
       "      <th>4</th>\n",
       "      <td>PAC</td>\n",
       "      <td>0.892734</td>\n",
       "    </tr>\n",
       "    <tr>\n",
       "      <th>5</th>\n",
       "      <td>Bag</td>\n",
       "      <td>0.878893</td>\n",
       "    </tr>\n",
       "    <tr>\n",
       "      <th>6</th>\n",
       "      <td>XGB</td>\n",
       "      <td>0.897137</td>\n",
       "    </tr>\n",
       "    <tr>\n",
       "      <th>7</th>\n",
       "      <td>word2vec</td>\n",
       "      <td>0.486631</td>\n",
       "    </tr>\n",
       "    <tr>\n",
       "      <th>8</th>\n",
       "      <td>LSTM-Simple</td>\n",
       "      <td>0.532557</td>\n",
       "    </tr>\n",
       "  </tbody>\n",
       "</table>\n",
       "</div>"
      ],
      "text/plain": [
       "         model  accuracy\n",
       "0        Dummy  0.291961\n",
       "1          SVM  0.892104\n",
       "2          RFC  0.829192\n",
       "3          MNB  0.772570\n",
       "4          PAC  0.892734\n",
       "5          Bag  0.878893\n",
       "6          XGB  0.897137\n",
       "7     word2vec  0.486631\n",
       "8  LSTM-Simple  0.532557"
      ]
     },
     "execution_count": 56,
     "metadata": {},
     "output_type": "execute_result"
    }
   ],
   "source": [
    "accuracy = scores[1]\n",
    "\n",
    "new_row = {'model': 'LSTM-Simple', 'accuracy': accuracy}\n",
    "results = results.append(new_row, ignore_index=True)\n",
    "results"
   ]
  },
  {
   "cell_type": "markdown",
   "metadata": {},
   "source": [
    "------"
   ]
  },
  {
   "cell_type": "markdown",
   "metadata": {},
   "source": [
    "**LSTM with new features**"
   ]
  },
  {
   "cell_type": "code",
   "execution_count": 57,
   "metadata": {},
   "outputs": [
    {
     "name": "stdout",
     "output_type": "stream",
     "text": [
      "Model: \"functional_1\"\n",
      "__________________________________________________________________________________________________\n",
      "Layer (type)                    Output Shape         Param #     Connected to                     \n",
      "==================================================================================================\n",
      "text (InputLayer)               [(None, 60)]         0                                            \n",
      "__________________________________________________________________________________________________\n",
      "embedding_1 (Embedding)         (None, 60, 300)      7824900     text[0][0]                       \n",
      "__________________________________________________________________________________________________\n",
      "lstm_1 (LSTM)                   (None, 300)          721200      embedding_1[0][0]                \n",
      "__________________________________________________________________________________________________\n",
      "meta (InputLayer)               [(None, 10)]         0                                            \n",
      "__________________________________________________________________________________________________\n",
      "concatenate (Concatenate)       (None, 310)          0           lstm_1[0][0]                     \n",
      "                                                                 meta[0][0]                       \n",
      "__________________________________________________________________________________________________\n",
      "dense_1 (Dense)                 (None, 150)          46650       concatenate[0][0]                \n",
      "__________________________________________________________________________________________________\n",
      "dropout (Dropout)               (None, 150)          0           dense_1[0][0]                    \n",
      "__________________________________________________________________________________________________\n",
      "batch_normalization (BatchNorma (None, 150)          600         dropout[0][0]                    \n",
      "__________________________________________________________________________________________________\n",
      "dense_2 (Dense)                 (None, 5)            755         batch_normalization[0][0]        \n",
      "==================================================================================================\n",
      "Total params: 8,594,105\n",
      "Trainable params: 768,905\n",
      "Non-trainable params: 7,825,200\n",
      "__________________________________________________________________________________________________\n",
      "None\n"
     ]
    }
   ],
   "source": [
    "from keras.models import Model\n",
    "from keras.layers import Dense ,LSTM,concatenate,Input,Flatten,BatchNormalization, GRU\n",
    "\n",
    "text_data = Input(shape=(MAX_SEQ_LENGHT,), name='text')\n",
    "meta_data = Input(shape=(10,), name = 'meta')\n",
    "x=(Embedding(len(vectorizer.get_feature_names()) + 1,\n",
    "                    EMBEDDINGS_LEN,  # Embedding size\n",
    "                    weights=[embeddings_index],\n",
    "                    input_length=MAX_SEQ_LENGHT,\n",
    "                    trainable=False))(text_data)\n",
    "x2 = ((LSTM(300, dropout=0.2, recurrent_dropout=0.2)))(x)\n",
    "x4 = concatenate([x2, meta_data])\n",
    "x5 = Dense(150, activation='relu')(x4)\n",
    "x6 = Dropout(0.25)(x5)\n",
    "x7 = BatchNormalization()(x6)\n",
    "out=(Dense(len(set(y)), activation=\"softmax\"))(x7)\n",
    "model = Model(inputs=[text_data, meta_data ], outputs=out)\n",
    "model.compile(loss='categorical_crossentropy', optimizer='adam', metrics=['accuracy'])\n",
    "print(model.summary())"
   ]
  },
  {
   "cell_type": "code",
   "execution_count": 58,
   "metadata": {},
   "outputs": [],
   "source": [
    "df_cat_train = data.iloc[x_train.index][['polarity', 'subjectivity', 'topic_0',\n",
    "                                        'topic_1',\n",
    "                                        'topic_2',\n",
    "                                        'topic_3',\n",
    "                                        'topic_4',\n",
    "                                        'topic_5',\n",
    "                                        'topic_6',\n",
    "                                        'topic_7']]\n",
    "df_cat_test = data.iloc[x_test.index][['polarity', 'subjectivity', 'topic_0',\n",
    "                                        'topic_1',\n",
    "                                        'topic_2',\n",
    "                                        'topic_3',\n",
    "                                        'topic_4',\n",
    "                                        'topic_5',\n",
    "                                        'topic_6',\n",
    "                                        'topic_7']]"
   ]
  },
  {
   "cell_type": "code",
   "execution_count": 59,
   "metadata": {},
   "outputs": [
    {
     "name": "stdout",
     "output_type": "stream",
     "text": [
      "Epoch 1/12\n",
      "90/90 [==============================] - 46s 510ms/step - loss: 1.4132 - accuracy: 0.4249 - val_loss: 1.5395 - val_accuracy: 0.3734\n",
      "Epoch 2/12\n",
      "90/90 [==============================] - 45s 501ms/step - loss: 1.1826 - accuracy: 0.5282 - val_loss: 1.4668 - val_accuracy: 0.3994\n",
      "Epoch 3/12\n",
      "90/90 [==============================] - 43s 482ms/step - loss: 1.1082 - accuracy: 0.5622 - val_loss: 1.3918 - val_accuracy: 0.4756\n",
      "Epoch 4/12\n",
      "90/90 [==============================] - 46s 509ms/step - loss: 1.0306 - accuracy: 0.5938 - val_loss: 1.2488 - val_accuracy: 0.5660\n",
      "Epoch 5/12\n",
      "90/90 [==============================] - 45s 499ms/step - loss: 0.9896 - accuracy: 0.6134 - val_loss: 1.1775 - val_accuracy: 0.5354\n",
      "Epoch 6/12\n",
      "90/90 [==============================] - 45s 501ms/step - loss: 0.9302 - accuracy: 0.6408 - val_loss: 1.1116 - val_accuracy: 0.5401\n",
      "Epoch 7/12\n",
      "90/90 [==============================] - 44s 491ms/step - loss: 0.8923 - accuracy: 0.6559 - val_loss: 1.1182 - val_accuracy: 0.5582\n",
      "Epoch 8/12\n",
      "90/90 [==============================] - 46s 514ms/step - loss: 0.8508 - accuracy: 0.6742 - val_loss: 0.9961 - val_accuracy: 0.6085\n",
      "Epoch 9/12\n",
      "90/90 [==============================] - 43s 478ms/step - loss: 0.7833 - accuracy: 0.7012 - val_loss: 0.9998 - val_accuracy: 0.6211\n",
      "Epoch 10/12\n",
      "90/90 [==============================] - 43s 481ms/step - loss: 0.7578 - accuracy: 0.7113 - val_loss: 0.9815 - val_accuracy: 0.6211\n",
      "Epoch 11/12\n",
      "90/90 [==============================] - 54s 602ms/step - loss: 0.7092 - accuracy: 0.7293 - val_loss: 0.9679 - val_accuracy: 0.6376\n",
      "Epoch 12/12\n",
      "90/90 [==============================] - 49s 548ms/step - loss: 0.6761 - accuracy: 0.7473 - val_loss: 1.0108 - val_accuracy: 0.6274\n",
      "100/100 [==============================] - 7s 72ms/step - loss: 0.9647 - accuracy: 0.6452\n",
      "Accuracy: 0.6451714634895325\n"
     ]
    }
   ],
   "source": [
    "model.fit([X_train_sequences, df_cat_train], y_train, \n",
    "          epochs=12, batch_size=128, verbose=1, \n",
    "          validation_split=0.1)\n",
    " \n",
    "scores = model.evaluate([X_test_sequences, df_cat_test],y_test, verbose=1)\n",
    "print(\"Accuracy:\", scores[1])  "
   ]
  },
  {
   "cell_type": "code",
   "execution_count": 60,
   "metadata": {},
   "outputs": [
    {
     "data": {
      "text/html": [
       "<div>\n",
       "<style scoped>\n",
       "    .dataframe tbody tr th:only-of-type {\n",
       "        vertical-align: middle;\n",
       "    }\n",
       "\n",
       "    .dataframe tbody tr th {\n",
       "        vertical-align: top;\n",
       "    }\n",
       "\n",
       "    .dataframe thead th {\n",
       "        text-align: right;\n",
       "    }\n",
       "</style>\n",
       "<table border=\"1\" class=\"dataframe\">\n",
       "  <thead>\n",
       "    <tr style=\"text-align: right;\">\n",
       "      <th></th>\n",
       "      <th>model</th>\n",
       "      <th>accuracy</th>\n",
       "    </tr>\n",
       "  </thead>\n",
       "  <tbody>\n",
       "    <tr>\n",
       "      <th>0</th>\n",
       "      <td>Dummy</td>\n",
       "      <td>0.291961</td>\n",
       "    </tr>\n",
       "    <tr>\n",
       "      <th>1</th>\n",
       "      <td>SVM</td>\n",
       "      <td>0.892104</td>\n",
       "    </tr>\n",
       "    <tr>\n",
       "      <th>2</th>\n",
       "      <td>RFC</td>\n",
       "      <td>0.829192</td>\n",
       "    </tr>\n",
       "    <tr>\n",
       "      <th>3</th>\n",
       "      <td>MNB</td>\n",
       "      <td>0.772570</td>\n",
       "    </tr>\n",
       "    <tr>\n",
       "      <th>4</th>\n",
       "      <td>PAC</td>\n",
       "      <td>0.892734</td>\n",
       "    </tr>\n",
       "    <tr>\n",
       "      <th>5</th>\n",
       "      <td>Bag</td>\n",
       "      <td>0.878893</td>\n",
       "    </tr>\n",
       "    <tr>\n",
       "      <th>6</th>\n",
       "      <td>XGB</td>\n",
       "      <td>0.897137</td>\n",
       "    </tr>\n",
       "    <tr>\n",
       "      <th>7</th>\n",
       "      <td>word2vec</td>\n",
       "      <td>0.486631</td>\n",
       "    </tr>\n",
       "    <tr>\n",
       "      <th>8</th>\n",
       "      <td>LSTM-Simple</td>\n",
       "      <td>0.532557</td>\n",
       "    </tr>\n",
       "    <tr>\n",
       "      <th>9</th>\n",
       "      <td>LSTM-MetaFeatures</td>\n",
       "      <td>0.645171</td>\n",
       "    </tr>\n",
       "  </tbody>\n",
       "</table>\n",
       "</div>"
      ],
      "text/plain": [
       "               model  accuracy\n",
       "0              Dummy  0.291961\n",
       "1                SVM  0.892104\n",
       "2                RFC  0.829192\n",
       "3                MNB  0.772570\n",
       "4                PAC  0.892734\n",
       "5                Bag  0.878893\n",
       "6                XGB  0.897137\n",
       "7           word2vec  0.486631\n",
       "8        LSTM-Simple  0.532557\n",
       "9  LSTM-MetaFeatures  0.645171"
      ]
     },
     "execution_count": 60,
     "metadata": {},
     "output_type": "execute_result"
    }
   ],
   "source": [
    "accuracy = scores[1]\n",
    "\n",
    "new_row = {'model': 'LSTM-MetaFeatures', 'accuracy': accuracy}\n",
    "results = results.append(new_row, ignore_index=True)\n",
    "results"
   ]
  },
  {
   "cell_type": "code",
   "execution_count": 61,
   "metadata": {},
   "outputs": [],
   "source": [
    "results = results.sort_values(by='accuracy', ascending=True)\n",
    "results.reset_index(drop=True, inplace=True)"
   ]
  },
  {
   "cell_type": "code",
   "execution_count": 62,
   "metadata": {},
   "outputs": [
    {
     "data": {
      "image/png": "[encoded data removed]",
      "text/plain": [
       "<Figure size 720x360 with 1 Axes>"
      ]
     },
     "metadata": {
      "needs_background": "light"
     },
     "output_type": "display_data"
    }
   ],
   "source": [
    "plt.figure(figsize=(10,5))\n",
    "ax = sns.barplot(x=results.model, y=results.accuracy, data=results)\n",
    "l = ax.set_xticklabels(ax.get_xticklabels(), rotation=60)\n",
    "plt.savefig('/Users/alecmccabe/Desktop/Flatiron/Projects/final_project_ideas/web_articles_spin/Pics/model_evaluation.png')\n",
    "\n",
    "plt.show()"
   ]
  },
  {
   "cell_type": "code",
   "execution_count": null,
   "metadata": {},
   "outputs": [],
   "source": []
  }
 ],
 "metadata": {
  "kernelspec": {
   "display_name": "Python 3",
   "language": "python",
   "name": "python3"
  },
  "language_info": {
   "codemirror_mode": {
    "name": "ipython",
    "version": 3
   },
   "file_extension": ".py",
   "mimetype": "text/x-python",
   "name": "python",
   "nbconvert_exporter": "python",
   "pygments_lexer": "ipython3",
   "version": "3.8.3"
  }
 },
 "nbformat": 4,
 "nbformat_minor": 4
}
