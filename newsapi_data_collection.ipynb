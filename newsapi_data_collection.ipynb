{
 "cells": [
  {
   "cell_type": "code",
   "execution_count": 160,
   "metadata": {},
   "outputs": [
    {
     "name": "stderr",
     "output_type": "stream",
     "text": [
      "[nltk_data] Downloading package punkt to\n",
      "[nltk_data]     /Users/alecmccabe/nltk_data...\n",
      "[nltk_data]   Package punkt is already up-to-date!\n"
     ]
    },
    {
     "data": {
      "text/plain": [
       "True"
      ]
     },
     "execution_count": 160,
     "metadata": {},
     "output_type": "execute_result"
    }
   ],
   "source": [
    "from GoogleNews import GoogleNews\n",
    "from newspaper import Article\n",
    "from newspaper import Config\n",
    "import pandas as pd\n",
    "import nltk\n",
    "#config will allow us to access the specified url for which we are #not authorized. Sometimes we may get 403 client error while parsing #the link to download the article.\n",
    "nltk.download('punkt')"
   ]
  },
  {
   "cell_type": "code",
   "execution_count": 161,
   "metadata": {},
   "outputs": [],
   "source": [
    "import pandas as pd\n",
    "import numpy as np\n",
    "import matplotlib.pyplot as plt\n",
    "import requests"
   ]
  },
  {
   "cell_type": "code",
   "execution_count": 3,
   "metadata": {},
   "outputs": [],
   "source": [
    "user_agent = 'Mozilla/5.0 (Macintosh; Intel Mac OS X 10_11_5) AppleWebKit/537.36 (KHTML, like Gecko) Chrome/50.0.2661.102 Safari/537.36'\n",
    "config = Config()\n",
    "config.browser_user_agent = user_agent"
   ]
  },
  {
   "cell_type": "code",
   "execution_count": 130,
   "metadata": {},
   "outputs": [],
   "source": [
    "right_wing = ['fox-news', 'breitbart-news','national-review','the-washington-times','the-wall-street-journal',\n",
    "             'the-american-conservative']\n",
    "\n",
    "center = ['associated-press','bbc-news','reuters','business-insider','fortune']\n",
    "\n",
    "\n",
    "left_wing = ['abc-news','nbc-news','independent','cnn-news','politico','vice-news','the-hill']"
   ]
  },
  {
   "cell_type": "code",
   "execution_count": 131,
   "metadata": {},
   "outputs": [],
   "source": [
    "master_key = 'a30b2d04fd3c4d6aa0863cffa772c05b'"
   ]
  },
  {
   "cell_type": "code",
   "execution_count": 132,
   "metadata": {},
   "outputs": [],
   "source": [
    "from newsapi import NewsApiClient\n",
    "\n",
    "# Init\n",
    "master = NewsApiClient(api_key=master_key)"
   ]
  },
  {
   "cell_type": "code",
   "execution_count": 84,
   "metadata": {},
   "outputs": [
    {
     "data": {
      "text/plain": [
       "[('abc-news', 'ABC News'),\n",
       " ('abc-news-au', 'ABC News (AU)'),\n",
       " ('aftenposten', 'Aftenposten'),\n",
       " ('al-jazeera-english', 'Al Jazeera English'),\n",
       " ('ansa', 'ANSA.it'),\n",
       " ('argaam', 'Argaam'),\n",
       " ('ars-technica', 'Ars Technica'),\n",
       " ('ary-news', 'Ary News'),\n",
       " ('associated-press', 'Associated Press'),\n",
       " ('australian-financial-review', 'Australian Financial Review'),\n",
       " ('axios', 'Axios'),\n",
       " ('bbc-news', 'BBC News'),\n",
       " ('bbc-sport', 'BBC Sport'),\n",
       " ('bild', 'Bild'),\n",
       " ('blasting-news-br', 'Blasting News (BR)'),\n",
       " ('bleacher-report', 'Bleacher Report'),\n",
       " ('bloomberg', 'Bloomberg'),\n",
       " ('breitbart-news', 'Breitbart News'),\n",
       " ('business-insider', 'Business Insider'),\n",
       " ('business-insider-uk', 'Business Insider (UK)'),\n",
       " ('buzzfeed', 'Buzzfeed'),\n",
       " ('cbc-news', 'CBC News'),\n",
       " ('cbs-news', 'CBS News'),\n",
       " ('cnn', 'CNN'),\n",
       " ('cnn-es', 'CNN Spanish'),\n",
       " ('crypto-coins-news', 'Crypto Coins News'),\n",
       " ('der-tagesspiegel', 'Der Tagesspiegel'),\n",
       " ('die-zeit', 'Die Zeit'),\n",
       " ('el-mundo', 'El Mundo'),\n",
       " ('engadget', 'Engadget'),\n",
       " ('entertainment-weekly', 'Entertainment Weekly'),\n",
       " ('espn', 'ESPN'),\n",
       " ('espn-cric-info', 'ESPN Cric Info'),\n",
       " ('financial-post', 'Financial Post'),\n",
       " ('focus', 'Focus'),\n",
       " ('football-italia', 'Football Italia'),\n",
       " ('fortune', 'Fortune'),\n",
       " ('four-four-two', 'FourFourTwo'),\n",
       " ('fox-news', 'Fox News'),\n",
       " ('fox-sports', 'Fox Sports'),\n",
       " ('globo', 'Globo'),\n",
       " ('google-news', 'Google News'),\n",
       " ('google-news-ar', 'Google News (Argentina)'),\n",
       " ('google-news-au', 'Google News (Australia)'),\n",
       " ('google-news-br', 'Google News (Brasil)'),\n",
       " ('google-news-ca', 'Google News (Canada)'),\n",
       " ('google-news-fr', 'Google News (France)'),\n",
       " ('google-news-in', 'Google News (India)'),\n",
       " ('google-news-is', 'Google News (Israel)'),\n",
       " ('google-news-it', 'Google News (Italy)'),\n",
       " ('google-news-ru', 'Google News (Russia)'),\n",
       " ('google-news-sa', 'Google News (Saudi Arabia)'),\n",
       " ('google-news-uk', 'Google News (UK)'),\n",
       " ('goteborgs-posten', 'Göteborgs-Posten'),\n",
       " ('gruenderszene', 'Gruenderszene'),\n",
       " ('hacker-news', 'Hacker News'),\n",
       " ('handelsblatt', 'Handelsblatt'),\n",
       " ('ign', 'IGN'),\n",
       " ('il-sole-24-ore', 'Il Sole 24 Ore'),\n",
       " ('independent', 'Independent'),\n",
       " ('infobae', 'Infobae'),\n",
       " ('info-money', 'InfoMoney'),\n",
       " ('la-gaceta', 'La Gaceta'),\n",
       " ('la-nacion', 'La Nacion'),\n",
       " ('la-repubblica', 'La Repubblica'),\n",
       " ('le-monde', 'Le Monde'),\n",
       " ('lenta', 'Lenta'),\n",
       " ('lequipe', \"L'equipe\"),\n",
       " ('les-echos', 'Les Echos'),\n",
       " ('liberation', 'Libération'),\n",
       " ('marca', 'Marca'),\n",
       " ('mashable', 'Mashable'),\n",
       " ('medical-news-today', 'Medical News Today'),\n",
       " ('msnbc', 'MSNBC'),\n",
       " ('mtv-news', 'MTV News'),\n",
       " ('mtv-news-uk', 'MTV News (UK)'),\n",
       " ('national-geographic', 'National Geographic'),\n",
       " ('national-review', 'National Review'),\n",
       " ('nbc-news', 'NBC News'),\n",
       " ('news24', 'News24'),\n",
       " ('new-scientist', 'New Scientist'),\n",
       " ('news-com-au', 'News.com.au'),\n",
       " ('newsweek', 'Newsweek'),\n",
       " ('new-york-magazine', 'New York Magazine'),\n",
       " ('next-big-future', 'Next Big Future'),\n",
       " ('nfl-news', 'NFL News'),\n",
       " ('nhl-news', 'NHL News'),\n",
       " ('nrk', 'NRK'),\n",
       " ('politico', 'Politico'),\n",
       " ('polygon', 'Polygon'),\n",
       " ('rbc', 'RBC'),\n",
       " ('recode', 'Recode'),\n",
       " ('reddit-r-all', 'Reddit /r/all'),\n",
       " ('reuters', 'Reuters'),\n",
       " ('rt', 'RT'),\n",
       " ('rte', 'RTE'),\n",
       " ('rtl-nieuws', 'RTL Nieuws'),\n",
       " ('sabq', 'SABQ'),\n",
       " ('spiegel-online', 'Spiegel Online'),\n",
       " ('svenska-dagbladet', 'Svenska Dagbladet'),\n",
       " ('t3n', 'T3n'),\n",
       " ('talksport', 'TalkSport'),\n",
       " ('techcrunch', 'TechCrunch'),\n",
       " ('techcrunch-cn', 'TechCrunch (CN)'),\n",
       " ('techradar', 'TechRadar'),\n",
       " ('the-american-conservative', 'The American Conservative'),\n",
       " ('the-globe-and-mail', 'The Globe And Mail'),\n",
       " ('the-hill', 'The Hill'),\n",
       " ('the-hindu', 'The Hindu'),\n",
       " ('the-huffington-post', 'The Huffington Post'),\n",
       " ('the-irish-times', 'The Irish Times'),\n",
       " ('the-jerusalem-post', 'The Jerusalem Post'),\n",
       " ('the-lad-bible', 'The Lad Bible'),\n",
       " ('the-next-web', 'The Next Web'),\n",
       " ('the-sport-bible', 'The Sport Bible'),\n",
       " ('the-times-of-india', 'The Times of India'),\n",
       " ('the-verge', 'The Verge'),\n",
       " ('the-wall-street-journal', 'The Wall Street Journal'),\n",
       " ('the-washington-post', 'The Washington Post'),\n",
       " ('the-washington-times', 'The Washington Times'),\n",
       " ('time', 'Time'),\n",
       " ('usa-today', 'USA Today'),\n",
       " ('vice-news', 'Vice News'),\n",
       " ('wired', 'Wired'),\n",
       " ('wired-de', 'Wired.de'),\n",
       " ('wirtschafts-woche', 'Wirtschafts Woche'),\n",
       " ('xinhua-net', 'Xinhua Net'),\n",
       " ('ynet', 'Ynet')]"
      ]
     },
     "execution_count": 84,
     "metadata": {},
     "output_type": "execute_result"
    }
   ],
   "source": [
    "[(source['id'], source['name']) for source in newsapi_5.get_sources()['sources']]"
   ]
  },
  {
   "cell_type": "code",
   "execution_count": 93,
   "metadata": {},
   "outputs": [],
   "source": [
    "news_list = master.get_everything(q='coronavirus',\n",
    "                                    sources='fox-news',\n",
    "                                    language='en',\n",
    "                                    sort_by='relevancy',\n",
    "                                    from_param= '2020-09-01',\n",
    "                                    to = '2020-09-31',\n",
    "                                    page_size=2,\n",
    "                                    page=1)\n",
    "\n",
    "articles = news_list['articles']"
   ]
  },
  {
   "cell_type": "code",
   "execution_count": 96,
   "metadata": {},
   "outputs": [],
   "source": [
    "test = pd.DataFrame(articles)"
   ]
  },
  {
   "cell_type": "code",
   "execution_count": null,
   "metadata": {},
   "outputs": [],
   "source": [
    "temp = pd.DataFrame(articles)\n",
    "temp['target'] = leanings\n",
    "temp['source'] = temp['source'].map(lambda x: x['id'])"
   ]
  },
  {
   "cell_type": "code",
   "execution_count": 134,
   "metadata": {},
   "outputs": [],
   "source": [
    "def generate_news(sources, newsapi, from_date, to_date, leanings, dataframe=None):\n",
    "    if type(dataframe) != type(None):\n",
    "        data = dataframe\n",
    "        print('provided dataframe')\n",
    "    else:\n",
    "        data = pd.DataFrame(columns=['source','author','title','description','url','urlToImage',\n",
    "                                     'publishedAt','content','target'])\n",
    "        print('no provided dataframe')\n",
    "    \n",
    "    for source in sources:\n",
    "        try:\n",
    "            print('looking for {}'.format(source))\n",
    "            for i in range(1,11):\n",
    "                try:\n",
    "                    news_list = newsapi.get_everything(q='coronavirus',\n",
    "                                                       sources=source,\n",
    "                                                       language='en',\n",
    "                                                       sort_by='relevancy',\n",
    "                                                       from_param= from_date,\n",
    "                                                       to = to_date,\n",
    "                                                       page_size=100,\n",
    "                                                       page=i)\n",
    "\n",
    "                    articles = news_list['articles']\n",
    "                    temp = pd.DataFrame(articles)\n",
    "                    temp['target'] = leanings\n",
    "                    temp['source'] = temp['source'].map(lambda x: x['id'])\n",
    "                    temp['publishedAt'] = pd.to_datetime(temp['publishedAt'])\n",
    "                    temp['month'] = temp['publishedAt'].map(lambda x: x.month)\n",
    "                    data = pd.concat([data,temp])\n",
    "                except:\n",
    "                    pass\n",
    "        except:\n",
    "            pass\n",
    "    \n",
    "    data = data.reset_index(drop=True)\n",
    "    \n",
    "    return data"
   ]
  },
  {
   "cell_type": "code",
   "execution_count": 8,
   "metadata": {},
   "outputs": [],
   "source": [
    "def test(d=None):\n",
    "    if d:\n",
    "        print('hi')\n",
    "    else:\n",
    "        print('bye')"
   ]
  },
  {
   "cell_type": "code",
   "execution_count": 11,
   "metadata": {},
   "outputs": [
    {
     "name": "stdout",
     "output_type": "stream",
     "text": [
      "hi\n"
     ]
    }
   ],
   "source": [
    "test(10)"
   ]
  },
  {
   "cell_type": "code",
   "execution_count": 33,
   "metadata": {},
   "outputs": [],
   "source": [
    "news_list = newsapi_4.get_everything(q='coronavirus',\n",
    "                                    sources='fox-news',\n",
    "                                    language='en',\n",
    "                                    sort_by='relevancy',\n",
    "                                    from_param= '2020-09-29',\n",
    "                                    to = '2020-09-31',\n",
    "                                    page_size=1,\n",
    "                                    page=1)"
   ]
  },
  {
   "cell_type": "code",
   "execution_count": 34,
   "metadata": {},
   "outputs": [
    {
     "data": {
      "text/plain": [
       "{'status': 'ok',\n",
       " 'totalResults': 2189,\n",
       " 'articles': [{'source': {'id': 'fox-news', 'name': 'Fox News'},\n",
       "   'author': 'Morgan Phillips',\n",
       "   'title': \"Trump can return to 'public engagements' this weekend, White House physician says - Fox News\",\n",
       "   'description': \"<ol><li>Trump can return to 'public engagements' this weekend, White House physician says\\xa0\\xa0Fox News\\r\\n</li><li>Democrats rip Trump for suggesting Gold Star families could have given him Covid-19\\xa0\\xa0POLITICO\\r\\n</li><li>Covid antibody treatments on track for FDA au…\",\n",
       "   'url': 'https://www.foxnews.com/politics/trump-public-engagements-covid-this-weekend-physician',\n",
       "   'urlToImage': 'https://cf-images.us-east-1.prod.boltdns.net/v1/static/694940094001/4ecc20d7-7866-4baf-909b-8dfa96bdb3e4/8336188e-a1b3-4dde-a9c1-36dc5d28ca4f/1280x720/match/image.jpg',\n",
       "   'publishedAt': '2020-10-08T23:28:12Z',\n",
       "   'content': 'White House physician Dr. Sean Conley sent out a memorandum on Thursday stating that President Trump will be able to return to public engagements this weekend.\\r\\nNoting that it will be ten days since … [+3649 chars]'}]}"
      ]
     },
     "execution_count": 34,
     "metadata": {},
     "output_type": "execute_result"
    }
   ],
   "source": [
    "news_list"
   ]
  },
  {
   "cell_type": "code",
   "execution_count": null,
   "metadata": {},
   "outputs": [],
   "source": []
  },
  {
   "cell_type": "code",
   "execution_count": 135,
   "metadata": {},
   "outputs": [
    {
     "name": "stdout",
     "output_type": "stream",
     "text": [
      "no provided dataframe\n",
      "looking for abc-news\n",
      "looking for nbc-news\n",
      "looking for independent\n",
      "looking for cnn-news\n",
      "looking for politico\n",
      "looking for vice-news\n",
      "looking for the-hill\n"
     ]
    }
   ],
   "source": [
    "add_left = generate_news(sources = left_wing, newsapi = master, \n",
    "                            from_date = '2020-03-01', to_date = '2020-09-31',\n",
    "                            leanings = 'left', dataframe = None)"
   ]
  },
  {
   "cell_type": "code",
   "execution_count": 99,
   "metadata": {},
   "outputs": [
    {
     "data": {
      "text/plain": [
       "'The risk of COVID-19 transmission onboard a plane is \"reduced to very low levels,\" Harvard researchers concluded. The onboard ventilation systems coupled with measures such as masks, frequent cabin c… [+2876 chars]'"
      ]
     },
     "execution_count": 99,
     "metadata": {},
     "output_type": "execute_result"
    }
   ],
   "source": [
    "test_script['content'][0]"
   ]
  },
  {
   "cell_type": "code",
   "execution_count": 136,
   "metadata": {},
   "outputs": [
    {
     "name": "stdout",
     "output_type": "stream",
     "text": [
      "provided dataframe\n",
      "looking for fox-news\n",
      "looking for breitbart-news\n",
      "looking for national-review\n",
      "looking for the-washington-times\n",
      "looking for the-wall-street-journal\n",
      "looking for the-american-conservative\n"
     ]
    }
   ],
   "source": [
    "add_right = generate_news(sources = right_wing, newsapi = master, \n",
    "                            from_date = '2020-03-01', to_date = '2020-09-31',\n",
    "                            leanings = 'right', dataframe = add_left)"
   ]
  },
  {
   "cell_type": "code",
   "execution_count": null,
   "metadata": {},
   "outputs": [],
   "source": [
    "test['content']"
   ]
  },
  {
   "cell_type": "code",
   "execution_count": 107,
   "metadata": {},
   "outputs": [
    {
     "data": {
      "text/html": [
       "<div>\n",
       "<style scoped>\n",
       "    .dataframe tbody tr th:only-of-type {\n",
       "        vertical-align: middle;\n",
       "    }\n",
       "\n",
       "    .dataframe tbody tr th {\n",
       "        vertical-align: top;\n",
       "    }\n",
       "\n",
       "    .dataframe thead th {\n",
       "        text-align: right;\n",
       "    }\n",
       "</style>\n",
       "<table border=\"1\" class=\"dataframe\">\n",
       "  <thead>\n",
       "    <tr style=\"text-align: right;\">\n",
       "      <th></th>\n",
       "      <th>source</th>\n",
       "      <th>author</th>\n",
       "      <th>title</th>\n",
       "      <th>description</th>\n",
       "      <th>url</th>\n",
       "      <th>urlToImage</th>\n",
       "      <th>publishedAt</th>\n",
       "      <th>content</th>\n",
       "      <th>target</th>\n",
       "    </tr>\n",
       "  </thead>\n",
       "  <tbody>\n",
       "    <tr>\n",
       "      <th>0</th>\n",
       "      <td>abc-news</td>\n",
       "      <td>Mina Kaji, Amanda Maile</td>\n",
       "      <td>COVID-19 risk on planes 'very low' with proper...</td>\n",
       "      <td>&lt;ol&gt;&lt;li&gt;COVID-19 risk on planes 'very low' wit...</td>\n",
       "      <td>https://abcnews.go.com/Politics/covid-19-risk-...</td>\n",
       "      <td>https://s.abcnews.com/images/Health/plane-ma_h...</td>\n",
       "      <td>2020-10-27T18:39:39Z</td>\n",
       "      <td>The risk of COVID-19 transmission onboard a pl...</td>\n",
       "      <td>left</td>\n",
       "    </tr>\n",
       "    <tr>\n",
       "      <th>1</th>\n",
       "      <td>abc-news</td>\n",
       "      <td>Kelly Cannon</td>\n",
       "      <td>Election officials scrambling to address coron...</td>\n",
       "      <td>Concerns have sprouted for election officials,...</td>\n",
       "      <td>https://abcnews.go.com/Politics/election-offic...</td>\n",
       "      <td>https://s.abcnews.com/images/Politics/sc-prima...</td>\n",
       "      <td>2020-03-01T09:33:45Z</td>\n",
       "      <td>With fears of the novel coronavirus spreading ...</td>\n",
       "      <td>left</td>\n",
       "    </tr>\n",
       "    <tr>\n",
       "      <th>2</th>\n",
       "      <td>abc-news</td>\n",
       "      <td>Julia Jacobo</td>\n",
       "      <td>Global death toll of coronavirus reaches nearl...</td>\n",
       "      <td>The global death toll of coronavirus has reach...</td>\n",
       "      <td>https://abcnews.go.com/US/global-death-toll-co...</td>\n",
       "      <td>https://s.abcnews.com/images/International/cor...</td>\n",
       "      <td>2020-03-01T15:08:53Z</td>\n",
       "      <td>The global death toll of coronavirus has reach...</td>\n",
       "      <td>left</td>\n",
       "    </tr>\n",
       "    <tr>\n",
       "      <th>3</th>\n",
       "      <td>abc-news</td>\n",
       "      <td>The Associated Press</td>\n",
       "      <td>Can I get the coronavirus twice?</td>\n",
       "      <td>It seems possible, though how often it happens...</td>\n",
       "      <td>https://abcnews.go.com/Lifestyle/wireStory/cor...</td>\n",
       "      <td>https://s.abcnews.com/images/Lifestyle/WireAP_...</td>\n",
       "      <td>2020-09-03T13:35:12Z</td>\n",
       "      <td>Can I get the coronavirus twice?\\r\\nIt seems p...</td>\n",
       "      <td>left</td>\n",
       "    </tr>\n",
       "    <tr>\n",
       "      <th>4</th>\n",
       "      <td>abc-news</td>\n",
       "      <td>ABC News</td>\n",
       "      <td>WATCH: Pence and Harris address coronavirus re...</td>\n",
       "      <td>Sen. Kamala Harris says Trump's team still doe...</td>\n",
       "      <td>https://abcnews.go.com/Politics/video/pence-ha...</td>\n",
       "      <td>https://s.abcnews.com/images/Politics/201007_a...</td>\n",
       "      <td>2020-10-08T03:18:22Z</td>\n",
       "      <td>&lt;li&gt;Now Playing: What to watch for during the ...</td>\n",
       "      <td>left</td>\n",
       "    </tr>\n",
       "    <tr>\n",
       "      <th>...</th>\n",
       "      <td>...</td>\n",
       "      <td>...</td>\n",
       "      <td>...</td>\n",
       "      <td>...</td>\n",
       "      <td>...</td>\n",
       "      <td>...</td>\n",
       "      <td>...</td>\n",
       "      <td>...</td>\n",
       "      <td>...</td>\n",
       "    </tr>\n",
       "    <tr>\n",
       "      <th>595</th>\n",
       "      <td>the-hill</td>\n",
       "      <td>Joseph Guzman</td>\n",
       "      <td>Kids with no coronavirus symptoms may shed vir...</td>\n",
       "      <td>&lt;ol&gt;&lt;li&gt;Kids with no coronavirus symptoms may ...</td>\n",
       "      <td>https://thehill.com/changing-america/well-bein...</td>\n",
       "      <td>https://thehill.com/sites/default/files/ca_chi...</td>\n",
       "      <td>2020-08-31T18:35:18Z</td>\n",
       "      <td>New research suggests children infected with t...</td>\n",
       "      <td>left</td>\n",
       "    </tr>\n",
       "    <tr>\n",
       "      <th>596</th>\n",
       "      <td>the-hill</td>\n",
       "      <td>Gabriela Schulte</td>\n",
       "      <td>Poll: Plurality of voters choose Trump over Bi...</td>\n",
       "      <td>&lt;ol&gt;&lt;li&gt;Poll: Plurality of voters choose Trump...</td>\n",
       "      <td>https://thehill.com/hilltv/what-americas-think...</td>\n",
       "      <td>https://thehill.com/sites/default/files/trumpd...</td>\n",
       "      <td>2020-07-23T21:40:22Z</td>\n",
       "      <td>More voters say President TrumpDonald John Tru...</td>\n",
       "      <td>left</td>\n",
       "    </tr>\n",
       "    <tr>\n",
       "      <th>597</th>\n",
       "      <td>the-hill</td>\n",
       "      <td>Joseph Guzman</td>\n",
       "      <td>Architect of Florida's COVID-19 dashboard clai...</td>\n",
       "      <td>&lt;ol&gt;&lt;li&gt;Architect of Florida's COVID-19 dashbo...</td>\n",
       "      <td>https://thehill.com/changing-america/well-bein...</td>\n",
       "      <td>https://thehill.com/sites/default/files/ca_fld...</td>\n",
       "      <td>2020-05-19T18:17:15Z</td>\n",
       "      <td>The architect and manager of Floridas COVID-19...</td>\n",
       "      <td>left</td>\n",
       "    </tr>\n",
       "    <tr>\n",
       "      <th>598</th>\n",
       "      <td>the-hill</td>\n",
       "      <td>Anagha Srikanth</td>\n",
       "      <td>NASA astronaut Kate Rubins votes from space in...</td>\n",
       "      <td>&lt;ol&gt;&lt;li&gt;NASA astronaut Kate Rubins votes from ...</td>\n",
       "      <td>https://thehill.com/changing-america/respect/a...</td>\n",
       "      <td>https://thehill.com/sites/default/files/ca_kat...</td>\n",
       "      <td>2020-10-23T18:59:48Z</td>\n",
       "      <td>How do you postmark a ballot from space? \\r\\nN...</td>\n",
       "      <td>left</td>\n",
       "    </tr>\n",
       "    <tr>\n",
       "      <th>599</th>\n",
       "      <td>the-hill</td>\n",
       "      <td>Joseph Guzman</td>\n",
       "      <td>Fauci: Recovered coronavirus patients will lik...</td>\n",
       "      <td>Fauci: Recovered coronavirus patients will lik...</td>\n",
       "      <td>https://thehill.com/changing-america/well-bein...</td>\n",
       "      <td>https://thehill.com/sites/default/files/ca_fau...</td>\n",
       "      <td>2020-04-09T15:35:18Z</td>\n",
       "      <td>Think fast! Add Changing America to your Faceb...</td>\n",
       "      <td>left</td>\n",
       "    </tr>\n",
       "  </tbody>\n",
       "</table>\n",
       "<p>600 rows × 9 columns</p>\n",
       "</div>"
      ],
      "text/plain": [
       "       source                   author  \\\n",
       "0    abc-news  Mina Kaji, Amanda Maile   \n",
       "1    abc-news             Kelly Cannon   \n",
       "2    abc-news             Julia Jacobo   \n",
       "3    abc-news     The Associated Press   \n",
       "4    abc-news                 ABC News   \n",
       "..        ...                      ...   \n",
       "595  the-hill            Joseph Guzman   \n",
       "596  the-hill         Gabriela Schulte   \n",
       "597  the-hill            Joseph Guzman   \n",
       "598  the-hill          Anagha Srikanth   \n",
       "599  the-hill            Joseph Guzman   \n",
       "\n",
       "                                                 title  \\\n",
       "0    COVID-19 risk on planes 'very low' with proper...   \n",
       "1    Election officials scrambling to address coron...   \n",
       "2    Global death toll of coronavirus reaches nearl...   \n",
       "3                     Can I get the coronavirus twice?   \n",
       "4    WATCH: Pence and Harris address coronavirus re...   \n",
       "..                                                 ...   \n",
       "595  Kids with no coronavirus symptoms may shed vir...   \n",
       "596  Poll: Plurality of voters choose Trump over Bi...   \n",
       "597  Architect of Florida's COVID-19 dashboard clai...   \n",
       "598  NASA astronaut Kate Rubins votes from space in...   \n",
       "599  Fauci: Recovered coronavirus patients will lik...   \n",
       "\n",
       "                                           description  \\\n",
       "0    <ol><li>COVID-19 risk on planes 'very low' wit...   \n",
       "1    Concerns have sprouted for election officials,...   \n",
       "2    The global death toll of coronavirus has reach...   \n",
       "3    It seems possible, though how often it happens...   \n",
       "4    Sen. Kamala Harris says Trump's team still doe...   \n",
       "..                                                 ...   \n",
       "595  <ol><li>Kids with no coronavirus symptoms may ...   \n",
       "596  <ol><li>Poll: Plurality of voters choose Trump...   \n",
       "597  <ol><li>Architect of Florida's COVID-19 dashbo...   \n",
       "598  <ol><li>NASA astronaut Kate Rubins votes from ...   \n",
       "599  Fauci: Recovered coronavirus patients will lik...   \n",
       "\n",
       "                                                   url  \\\n",
       "0    https://abcnews.go.com/Politics/covid-19-risk-...   \n",
       "1    https://abcnews.go.com/Politics/election-offic...   \n",
       "2    https://abcnews.go.com/US/global-death-toll-co...   \n",
       "3    https://abcnews.go.com/Lifestyle/wireStory/cor...   \n",
       "4    https://abcnews.go.com/Politics/video/pence-ha...   \n",
       "..                                                 ...   \n",
       "595  https://thehill.com/changing-america/well-bein...   \n",
       "596  https://thehill.com/hilltv/what-americas-think...   \n",
       "597  https://thehill.com/changing-america/well-bein...   \n",
       "598  https://thehill.com/changing-america/respect/a...   \n",
       "599  https://thehill.com/changing-america/well-bein...   \n",
       "\n",
       "                                            urlToImage           publishedAt  \\\n",
       "0    https://s.abcnews.com/images/Health/plane-ma_h...  2020-10-27T18:39:39Z   \n",
       "1    https://s.abcnews.com/images/Politics/sc-prima...  2020-03-01T09:33:45Z   \n",
       "2    https://s.abcnews.com/images/International/cor...  2020-03-01T15:08:53Z   \n",
       "3    https://s.abcnews.com/images/Lifestyle/WireAP_...  2020-09-03T13:35:12Z   \n",
       "4    https://s.abcnews.com/images/Politics/201007_a...  2020-10-08T03:18:22Z   \n",
       "..                                                 ...                   ...   \n",
       "595  https://thehill.com/sites/default/files/ca_chi...  2020-08-31T18:35:18Z   \n",
       "596  https://thehill.com/sites/default/files/trumpd...  2020-07-23T21:40:22Z   \n",
       "597  https://thehill.com/sites/default/files/ca_fld...  2020-05-19T18:17:15Z   \n",
       "598  https://thehill.com/sites/default/files/ca_kat...  2020-10-23T18:59:48Z   \n",
       "599  https://thehill.com/sites/default/files/ca_fau...  2020-04-09T15:35:18Z   \n",
       "\n",
       "                                               content target  \n",
       "0    The risk of COVID-19 transmission onboard a pl...   left  \n",
       "1    With fears of the novel coronavirus spreading ...   left  \n",
       "2    The global death toll of coronavirus has reach...   left  \n",
       "3    Can I get the coronavirus twice?\\r\\nIt seems p...   left  \n",
       "4    <li>Now Playing: What to watch for during the ...   left  \n",
       "..                                                 ...    ...  \n",
       "595  New research suggests children infected with t...   left  \n",
       "596  More voters say President TrumpDonald John Tru...   left  \n",
       "597  The architect and manager of Floridas COVID-19...   left  \n",
       "598  How do you postmark a ballot from space? \\r\\nN...   left  \n",
       "599  Think fast! Add Changing America to your Faceb...   left  \n",
       "\n",
       "[600 rows x 9 columns]"
      ]
     },
     "execution_count": 107,
     "metadata": {},
     "output_type": "execute_result"
    }
   ],
   "source": [
    "add_right"
   ]
  },
  {
   "cell_type": "code",
   "execution_count": 137,
   "metadata": {},
   "outputs": [
    {
     "name": "stdout",
     "output_type": "stream",
     "text": [
      "provided dataframe\n",
      "looking for associated-press\n",
      "looking for bbc-news\n",
      "looking for reuters\n",
      "looking for business-insider\n",
      "looking for fortune\n"
     ]
    }
   ],
   "source": [
    "add_center = generate_news(sources = center, newsapi = master, \n",
    "                            from_date = '2020-03-01', to_date = '2020-09-31',\n",
    "                            leanings = 'center', dataframe = add_right)"
   ]
  },
  {
   "cell_type": "code",
   "execution_count": 138,
   "metadata": {},
   "outputs": [],
   "source": [
    "first_df = add_center"
   ]
  },
  {
   "cell_type": "code",
   "execution_count": 139,
   "metadata": {},
   "outputs": [
    {
     "data": {
      "text/plain": [
       "left      6000\n",
       "center    5000\n",
       "right     4471\n",
       "Name: target, dtype: int64"
      ]
     },
     "execution_count": 139,
     "metadata": {},
     "output_type": "execute_result"
    }
   ],
   "source": [
    "first_df.target.value_counts()"
   ]
  },
  {
   "cell_type": "code",
   "execution_count": 122,
   "metadata": {},
   "outputs": [],
   "source": [
    "first_df['publishedAt'] = pd.to_datetime(first_df['publishedAt'])"
   ]
  },
  {
   "cell_type": "code",
   "execution_count": 126,
   "metadata": {},
   "outputs": [],
   "source": [
    "first_df['month'] = first_df['publishedAt'].map(lambda x: x.month)"
   ]
  },
  {
   "cell_type": "code",
   "execution_count": 140,
   "metadata": {},
   "outputs": [
    {
     "data": {
      "text/plain": [
       "4.0     2697\n",
       "3.0     2597\n",
       "10.0    2449\n",
       "5.0     2032\n",
       "9.0     1891\n",
       "8.0     1387\n",
       "7.0     1321\n",
       "6.0     1097\n",
       "Name: month, dtype: int64"
      ]
     },
     "execution_count": 140,
     "metadata": {},
     "output_type": "execute_result"
    }
   ],
   "source": [
    "first_df.month.value_counts()"
   ]
  },
  {
   "cell_type": "code",
   "execution_count": 142,
   "metadata": {},
   "outputs": [
    {
     "data": {
      "text/plain": [
       "national-review              1000\n",
       "the-hill                     1000\n",
       "reuters                      1000\n",
       "nbc-news                     1000\n",
       "abc-news                     1000\n",
       "business-insider             1000\n",
       "associated-press             1000\n",
       "fox-news                     1000\n",
       "vice-news                    1000\n",
       "fortune                      1000\n",
       "breitbart-news               1000\n",
       "politico                     1000\n",
       "bbc-news                     1000\n",
       "independent                  1000\n",
       "the-wall-street-journal      1000\n",
       "the-american-conservative     299\n",
       "the-washington-times          172\n",
       "Name: source, dtype: int64"
      ]
     },
     "execution_count": 142,
     "metadata": {},
     "output_type": "execute_result"
    }
   ],
   "source": [
    "first_df.source.value_counts()"
   ]
  },
  {
   "cell_type": "code",
   "execution_count": 143,
   "metadata": {},
   "outputs": [],
   "source": [
    "first_df.to_csv('initial_data.csv')"
   ]
  },
  {
   "cell_type": "code",
   "execution_count": 144,
   "metadata": {},
   "outputs": [
    {
     "data": {
      "text/plain": [
       "0     The risk of COVID-19 transmission onboard a pl...\n",
       "1     With fears of the novel coronavirus spreading ...\n",
       "2     The global death toll of coronavirus has reach...\n",
       "3     Can I get the coronavirus twice?\\r\\nIt seems p...\n",
       "4     <li>Now Playing: What to watch for during the ...\n",
       "5     <li>Now Playing: Voters go to the polls in Sou...\n",
       "6     A novel coronavirus pandemic has now killed mo...\n",
       "7     California was hit with the coronavirus emerge...\n",
       "8     A pandemic of the novel coronavirus has now ki...\n",
       "9     A pandemic of the novel coronavirus has now ki...\n",
       "10    The Latest on the effects of the coronavirus o...\n",
       "11    Wisconsin recorded more coronavirus infections...\n",
       "12    With the windows of his ambulance rolled down ...\n",
       "13    BISMARCK, N.D. -- James Yantzer strode into a ...\n",
       "14    The U.S. death toll from the novel coronavirus...\n",
       "Name: content, dtype: object"
      ]
     },
     "execution_count": 144,
     "metadata": {},
     "output_type": "execute_result"
    }
   ],
   "source": [
    "first_df.content[0:15]"
   ]
  },
  {
   "cell_type": "code",
   "execution_count": 151,
   "metadata": {},
   "outputs": [
    {
     "data": {
      "text/plain": [
       "'COVID-19 risk on planes \\'very low\\' with proper measures, Harvard review says Mask wearing and frequent cleaning in planes help keep the virus from spreading.\\n\\nThe risk of COVID-19 transmission onboard a plane is \"reduced to very low levels,\" Harvard researchers concluded. The onboard ventilation systems coupled with measures such as masks, frequent cabin cleaning, and distancing during boarding and deplaning help keep the virus from spreading.\\n\\n\"This layered approach reduces the risk of SARS-CoV-2 transmission onboard aircraft below that of other routine activities during the pandemic, such as grocery shopping or eating out,\" the report stated.\\n\\nThe Aviation Public Health Initiative (APHI), comprised of faculty and scientists at the Harvard T.H. Chan School of Public Health, published its Phase One report Tuesday, analyzing \"gate-to-gate travel\" onboard planes. It has not been peer-reviewed.\\n\\nThe initiative is sponsored by major U.S. airline lobbying group Airlines for America, along with other aircraft and equipment manufacturers, airline and airport operators. But the APHI insists its findings and recommendations are the \"independent conclusions\" of the Harvard researchers.\\n\\nThere have only been 13 peer-reviewed studies surrounding COVID-19 transmission on aircrafts.\\n\\n\"While investigation of the virus and its transmission is ongoing,\" researchers said, \"the research to date indicates a relatively very low risk of acquiring SARS-CoV-2 while flying.\"\\n\\nThree studies published in the Centers for Disease Control and Prevention\\'s journal of Emerging Infectious Diseases found likely cases of COVID-19 transmission onboard international flights, but they occurred before airlines implemented mandatory mask requirements.\\n\\nThe virus\\' long incubation period combined with the lack of contact tracing limits the amount of data researchers can analyze surrounding transmission on planes.\\n\\n\"Until there has been widespread vaccination, there remains the risk of infection in all walks of public life,\" the report said. \"As with any activity during this pandemic, the choice to fly is a personal one and depends on a traveler\\'s health assessment, individual risk tolerance and the potential consequences of becoming infected.\"\\n\\nThe APHI plans to release its Phase Two report in two months, which looks at \"curb-to-curb\" travel and analyzes risks associated with one\\'s time spent at the airport.\\n\\nABC News\\' Dr. Leah Croll contributed to this report.'"
      ]
     },
     "execution_count": 151,
     "metadata": {},
     "output_type": "execute_result"
    }
   ],
   "source": [
    "article = Article(first_df['url'][0])\n",
    "article.download()\n",
    "article.parse()\n",
    "article.nlp()\n",
    "\n",
    "article.text"
   ]
  },
  {
   "cell_type": "code",
   "execution_count": 155,
   "metadata": {},
   "outputs": [],
   "source": [
    "def get_full_text(url):\n",
    "    try:\n",
    "        article = Article(url)\n",
    "        article.download()\n",
    "        article.parse()\n",
    "        article.nlp()\n",
    "\n",
    "        return article.text\n",
    "    \n",
    "    except:\n",
    "        return '401 Error'"
   ]
  },
  {
   "cell_type": "code",
   "execution_count": 156,
   "metadata": {},
   "outputs": [],
   "source": [
    "first_df['full_text'] = first_df['url'].apply(get_full_text)"
   ]
  },
  {
   "cell_type": "code",
   "execution_count": 159,
   "metadata": {},
   "outputs": [],
   "source": [
    "first_df.to_csv('initial_data.csv')"
   ]
  },
  {
   "cell_type": "code",
   "execution_count": null,
   "metadata": {},
   "outputs": [],
   "source": []
  }
 ],
 "metadata": {
  "kernelspec": {
   "display_name": "Python 3",
   "language": "python",
   "name": "python3"
  },
  "language_info": {
   "codemirror_mode": {
    "name": "ipython",
    "version": 3
   },
   "file_extension": ".py",
   "mimetype": "text/x-python",
   "name": "python",
   "nbconvert_exporter": "python",
   "pygments_lexer": "ipython3",
   "version": "3.8.3"
  }
 },
 "nbformat": 4,
 "nbformat_minor": 4
}
